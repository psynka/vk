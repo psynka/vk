{
 "cells": [
  {
   "cell_type": "code",
   "execution_count": 1,
   "id": "0cbc1173",
   "metadata": {
    "_cell_guid": "b1076dfc-b9ad-4769-8c92-a6c4dae69d19",
    "_uuid": "8f2839f25d086af736a60e9eeb907d3b93b6e0e5",
    "execution": {
     "iopub.execute_input": "2023-12-13T19:02:46.615514Z",
     "iopub.status.busy": "2023-12-13T19:02:46.614581Z",
     "iopub.status.idle": "2023-12-13T19:02:47.573322Z",
     "shell.execute_reply": "2023-12-13T19:02:47.571801Z"
    },
    "papermill": {
     "duration": 0.987847,
     "end_time": "2023-12-13T19:02:47.576257",
     "exception": false,
     "start_time": "2023-12-13T19:02:46.588410",
     "status": "completed"
    },
    "tags": []
   },
   "outputs": [
    {
     "name": "stdout",
     "output_type": "stream",
     "text": [
      "/kaggle/input/kkbox-music-recommendation-challenge/test.csv.7z\n",
      "/kaggle/input/kkbox-music-recommendation-challenge/train.csv.7z\n",
      "/kaggle/input/kkbox-music-recommendation-challenge/songs.csv.7z\n",
      "/kaggle/input/kkbox-music-recommendation-challenge/members.csv.7z\n",
      "/kaggle/input/kkbox-music-recommendation-challenge/song_extra_info.csv.7z\n",
      "/kaggle/input/kkbox-music-recommendation-challenge/sample_submission.csv.7z\n"
     ]
    }
   ],
   "source": [
    "# This Python 3 environment comes with many helpful analytics libraries installed\n",
    "# It is defined by the kaggle/python Docker image: https://github.com/kaggle/docker-python\n",
    "# For example, here's several helpful packages to load\n",
    "\n",
    "import numpy as np # linear algebra\n",
    "import pandas as pd # data processing, CSV file I/O (e.g. pd.read_csv)\n",
    "\n",
    "# Input data files are available in the read-only \"../input/\" directory\n",
    "# For example, running this (by clicking run or pressing Shift+Enter) will list all files under the input directory\n",
    "\n",
    "import os\n",
    "for dirname, _, filenames in os.walk('/kaggle/input'):\n",
    "    for filename in filenames:\n",
    "        print(os.path.join(dirname, filename))\n",
    "\n",
    "# You can write up to 20GB to the current directory (/kaggle/working/) that gets preserved as output when you create a version using \"Save & Run All\" \n",
    "# You can also write temporary files to /kaggle/temp/, but they won't be saved outside of the current session"
   ]
  },
  {
   "cell_type": "markdown",
   "id": "822800a3",
   "metadata": {
    "papermill": {
     "duration": 0.023437,
     "end_time": "2023-12-13T19:02:47.624242",
     "exception": false,
     "start_time": "2023-12-13T19:02:47.600805",
     "status": "completed"
    },
    "tags": []
   },
   "source": [
    "# Import necessary libraries"
   ]
  },
  {
   "cell_type": "code",
   "execution_count": 2,
   "id": "4986b5d3",
   "metadata": {
    "execution": {
     "iopub.execute_input": "2023-12-13T19:02:47.674924Z",
     "iopub.status.busy": "2023-12-13T19:02:47.674349Z",
     "iopub.status.idle": "2023-12-13T19:02:47.690575Z",
     "shell.execute_reply": "2023-12-13T19:02:47.689323Z"
    },
    "papermill": {
     "duration": 0.044075,
     "end_time": "2023-12-13T19:02:47.692994",
     "exception": false,
     "start_time": "2023-12-13T19:02:47.648919",
     "status": "completed"
    },
    "tags": []
   },
   "outputs": [],
   "source": [
    "def reduce_mem_usage(df):\n",
    "    \"\"\" iterate through all the columns of a dataframe and modify the data type\n",
    "        to reduce memory usage.        \n",
    "    \"\"\"\n",
    "    start_mem = df.memory_usage().sum() / 1024**2\n",
    "    print('Memory usage of dataframe is {:.2f} MB'.format(start_mem))\n",
    "    \n",
    "    for col in df.columns:\n",
    "        col_type = df[col].dtype\n",
    "        \n",
    "        if col_type != object:\n",
    "            c_min = df[col].min()\n",
    "            c_max = df[col].max()\n",
    "            if str(col_type)[:3] == 'int':\n",
    "                if c_min > np.iinfo(np.int8).min and c_max < np.iinfo(np.int8).max:\n",
    "                    df[col] = df[col].astype(np.int8)\n",
    "                elif c_min > np.iinfo(np.int16).min and c_max < np.iinfo(np.int16).max:\n",
    "                    df[col] = df[col].astype(np.int16)\n",
    "                elif c_min > np.iinfo(np.int32).min and c_max < np.iinfo(np.int32).max:\n",
    "                    df[col] = df[col].astype(np.int32)\n",
    "                elif c_min > np.iinfo(np.int64).min and c_max < np.iinfo(np.int64).max:\n",
    "                    df[col] = df[col].astype(np.int64)  \n",
    "            else:\n",
    "                if c_min > np.finfo(np.float16).min and c_max < np.finfo(np.float16).max:\n",
    "                    df[col] = df[col].astype(np.float16)\n",
    "                elif c_min > np.finfo(np.float32).min and c_max < np.finfo(np.float32).max:\n",
    "                    df[col] = df[col].astype(np.float32)\n",
    "                else:\n",
    "                    df[col] = df[col].astype(np.float64)\n",
    "        else:\n",
    "            df[col] = df[col].astype('category')\n",
    "\n",
    "    end_mem = df.memory_usage().sum() / 1024**2\n",
    "    print('Memory usage after optimization is: {:.2f} MB'.format(end_mem))\n",
    "    print('Decreased by {:.1f}%'.format(100 * (start_mem - end_mem) / start_mem))\n",
    "    \n",
    "    return df"
   ]
  },
  {
   "cell_type": "markdown",
   "id": "c382e698",
   "metadata": {
    "papermill": {
     "duration": 0.024933,
     "end_time": "2023-12-13T19:02:47.742172",
     "exception": false,
     "start_time": "2023-12-13T19:02:47.717239",
     "status": "completed"
    },
    "tags": []
   },
   "source": [
    "# Load the dataset"
   ]
  },
  {
   "cell_type": "code",
   "execution_count": 3,
   "id": "cddea959",
   "metadata": {
    "execution": {
     "iopub.execute_input": "2023-12-13T19:02:47.792665Z",
     "iopub.status.busy": "2023-12-13T19:02:47.792030Z",
     "iopub.status.idle": "2023-12-13T19:07:28.069211Z",
     "shell.execute_reply": "2023-12-13T19:07:28.067978Z"
    },
    "papermill": {
     "duration": 280.30636,
     "end_time": "2023-12-13T19:07:28.072306",
     "exception": false,
     "start_time": "2023-12-13T19:02:47.765946",
     "status": "completed"
    },
    "tags": []
   },
   "outputs": [
    {
     "name": "stdout",
     "output_type": "stream",
     "text": [
      "Collecting datatable\r\n",
      "  Downloading datatable-1.1.0.tar.gz (1.3 MB)\r\n",
      "\u001b[2K     \u001b[90m━━━━━━━━━━━━━━━━━━━━━━━━━━━━━━━━━━━━━━━━\u001b[0m \u001b[32m1.3/1.3 MB\u001b[0m \u001b[31m20.4 MB/s\u001b[0m eta \u001b[36m0:00:00\u001b[0m\r\n",
      "\u001b[?25h  Getting requirements to build wheel ... \u001b[?25ldone\r\n",
      "\u001b[?25h  Preparing metadata (pyproject.toml) ... \u001b[?25l-\b \b\\\b \b|\b \b/\b \b-\b \b\\\b \b|\b \b/\b \b-\b \b\\\b \b|\b \b/\b \b-\b \b\\\b \b|\b \bdone\r\n",
      "\u001b[?25hBuilding wheels for collected packages: datatable\r\n",
      "  Building wheel for datatable (pyproject.toml) ... \u001b[?25ldone\r\n",
      "\u001b[?25h  Created wheel for datatable: filename=datatable-1.1.0-cp310-cp310-linux_x86_64.whl size=101202140 sha256=cd55a0d9db3b0d5b23817603b322dab7c9fc768f02719d296de0fc0b3e8370c8\r\n",
      "  Stored in directory: /root/.cache/pip/wheels/97/6f/64/c4af89fa29e48f7ec5a8e90bc08946bf04b7f0b6ddad8e20ed\r\n",
      "Successfully built datatable\r\n",
      "Installing collected packages: datatable\r\n",
      "Successfully installed datatable-1.1.0\r\n"
     ]
    }
   ],
   "source": [
    "!pip install datatable"
   ]
  },
  {
   "cell_type": "code",
   "execution_count": 4,
   "id": "e8076f57",
   "metadata": {
    "execution": {
     "iopub.execute_input": "2023-12-13T19:07:28.127981Z",
     "iopub.status.busy": "2023-12-13T19:07:28.127552Z",
     "iopub.status.idle": "2023-12-13T19:09:20.058443Z",
     "shell.execute_reply": "2023-12-13T19:09:20.055894Z"
    },
    "papermill": {
     "duration": 111.999073,
     "end_time": "2023-12-13T19:09:20.097591",
     "exception": false,
     "start_time": "2023-12-13T19:07:28.098518",
     "status": "completed"
    },
    "tags": []
   },
   "outputs": [
    {
     "name": "stdout",
     "output_type": "stream",
     "text": [
      "Collecting pyunpack\r\n",
      "  Downloading pyunpack-0.3-py2.py3-none-any.whl (4.1 kB)\r\n",
      "Collecting patool\r\n",
      "  Obtaining dependency information for patool from https://files.pythonhosted.org/packages/ae/2d/7780e97ca4b9c6309f0df70a8c5ae93d894e8e233421e9268a17e11f19e6/patool-2.0.0-py2.py3-none-any.whl.metadata\r\n",
      "  Downloading patool-2.0.0-py2.py3-none-any.whl.metadata (4.0 kB)\r\n",
      "Collecting easyprocess (from pyunpack)\r\n",
      "  Downloading EasyProcess-1.1-py3-none-any.whl (8.7 kB)\r\n",
      "Collecting entrypoint2 (from pyunpack)\r\n",
      "  Downloading entrypoint2-1.1-py2.py3-none-any.whl (9.9 kB)\r\n",
      "Downloading patool-2.0.0-py2.py3-none-any.whl (93 kB)\r\n",
      "\u001b[2K   \u001b[90m━━━━━━━━━━━━━━━━━━━━━━━━━━━━━━━━━━━━━━━━\u001b[0m \u001b[32m93.7/93.7 kB\u001b[0m \u001b[31m4.2 MB/s\u001b[0m eta \u001b[36m0:00:00\u001b[0m\r\n",
      "\u001b[?25hInstalling collected packages: entrypoint2, easyprocess, pyunpack, patool\r\n",
      "Successfully installed easyprocess-1.1 entrypoint2-1.1 patool-2.0.0 pyunpack-0.3\r\n",
      "Reading package lists...\n",
      "Building dependency tree...\n",
      "Reading state information...\n",
      "p7zip is already the newest version (16.02+dfsg-7build1).\n",
      "p7zip set to manually installed.\n",
      "0 upgraded, 0 newly installed, 0 to remove and 64 not upgraded.\n",
      "/kaggle/working\n"
     ]
    },
    {
     "data": {
      "text/html": [
       "<style type='text/css'>\n",
       ".datatable table.frame { margin-bottom: 0; }\n",
       ".datatable table.frame thead { border-bottom: none; }\n",
       ".datatable table.frame tr.coltypes td {  color: #FFFFFF;  line-height: 6px;  padding: 0 0.5em;}\n",
       ".datatable .bool    { background: #DDDD99; }\n",
       ".datatable .object  { background: #565656; }\n",
       ".datatable .int     { background: #5D9E5D; }\n",
       ".datatable .float   { background: #4040CC; }\n",
       ".datatable .str     { background: #CC4040; }\n",
       ".datatable .time    { background: #40CC40; }\n",
       ".datatable .row_index {  background: var(--jp-border-color3);  border-right: 1px solid var(--jp-border-color0);  color: var(--jp-ui-font-color3);  font-size: 9px;}\n",
       ".datatable .frame tbody td { text-align: left; }\n",
       ".datatable .frame tr.coltypes .row_index {  background: var(--jp-border-color0);}\n",
       ".datatable th:nth-child(2) { padding-left: 12px; }\n",
       ".datatable .hellipsis {  color: var(--jp-cell-editor-border-color);}\n",
       ".datatable .vellipsis {  background: var(--jp-layout-color0);  color: var(--jp-cell-editor-border-color);}\n",
       ".datatable .na {  color: var(--jp-cell-editor-border-color);  font-size: 80%;}\n",
       ".datatable .sp {  opacity: 0.25;}\n",
       ".datatable .footer { font-size: 9px; }\n",
       ".datatable .frame_dimensions {  background: var(--jp-border-color3);  border-top: 1px solid var(--jp-border-color0);  color: var(--jp-ui-font-color3);  display: inline-block;  opacity: 0.6;  padding: 1px 10px 1px 5px;}\n",
       ".datatable .frame thead tr.colnames {  background-image: url('data:image/png;base64,iVBORw0KGgoAAAANSUhEUgAAABwAAAA4CAYAAADuMJi0AAAGR0lEQVR42rVZ21IbRxBtCbQrkIR2dQVjsLmDLBsET3nTQ8ouYRkQVf6e/E9+Im958qMfkgoXAaKSSj6C9Jnd2R2NeiRSRaZqitVOT5+Z6dNnWoKGlN94JFp8Ipofkb/7SOXjGyp8wF+z35K3f0uUp/GW4XfLQ8v2gefj3ZCCzojoNfue+43o1Q3l3xB/yA3JO7jnF2pCLnI+pNyx/qw7L+SQ7T2N9p2f8c60QcfcK6KGXsAd+ZvA4LlZYuSSAoOhMs5vwJkEGDlbPMaJoA+FcQ0IH38QLWkbAFLkOOhoMF5tU6/eBRhNjro0ZgKiPRAt3FLhCO/vqdgmNTm32LkmKpvBmQY4q5uAaAgbwDBG2BVv3bfI8KKAMWj2kfw9+pkZREIbEql4ST1x7hgHIANkbJ//MF8mAH/ilTCJ2tIi4ASr1IC3VNqXHKOxjy34mgoImnOQtx1g81fkqTiMOBVGcTogNhiT5iBHET8R8C+iApJUmgim3SQAXhsLQz7ee2G8gOAQNtJckBEplADiAxtX+G9NmhDl0qJKnTvyWlAMPYZnvIviGXRg6/Dh824DBXhP/tbfREXJEIvQ+aaPGjG7pvw6r3xdx+9hqb4dgZaP2XmdHO2K/B0c1+oUph6k8kShBryl/Ft0DYgjTlOieOACHFFpVyUl72T9V3cM1jUoYvxIC2vpCSys/ck70mDYuYvdvKjlMdKAUThneWVU1aAsyjv6PURDiwNsHGBZzY+JtAAgE2TFxdRHJdyIp/f+zqu09M5cDP2F08Ukkpj4YNSdX950HY2pNCCUK/Hhx5ZMBfjNSEzdsIihVzzAMdn9dz4eDYhnyQb9SSCiAryiJcQk82LiTbJ4x2FZJaUenpKnzP95WyDf4Y+QN9EFHHSeDLGdBjjKNQ5vKHf4XMA7KrY0y0GEObBOO/8e1ywuQExOHXktuQyJALEBpcEqhwtHqgiDuCK5b6i0p2MQpcckIIoh+6hYgTZtO8xlMi6O4tKCF/kOGHEg/W0UUpHW0ZoGNZ1ExZWcn7EErgwt4uj50E/sFBjXXIayWvh7WryjasxarZKssXon0zxvvkc32Q0bqbBCuZiKt9dWFysfQefeL29JYFaeztX6tePaZdz5mYx8+6Zq3Mk0wXECQxlhdzgS2wjBHju3j1RIgKyOMdNUE8X0+RAdbSapS11MRCv1SzUXmO6wGZe2SQYrv2MvCSWEv2VODE6DN7bz8ufypgQKW7uQskFTQHULLKyaEyrnlZbgOGLrV5qrn9U79jjm2HJmgkaVN98AfBub91lGPLZBqdroN5LYgjSu4zYZDDHXZOIPC691HqrWI1900I8qLzgKP4ft8DxEWigprPfrO+KcXno9gZz4jjGewWdUcpGCj0qVFuGPYbl2VturndZ2qRvlL8acDO6lF/DY/VjsFesiUK+ypJ+r/ep+cJkSQxEK4PG4WozgA75TYrDDqStE69K8/mzGEM+JXTeqvmedEElMmwCMm2SLd6bNNF9su02zEtoW6nAQtpMj5Gd7fKa//wqonF7UdtHFsVn+6hf1o7AfriPH7M6EeIUEF5zKVxXbYo7kS/OEtOqDYZKPoBsETIixn0uYrasThmzDkhdKPkz2EnaX0HdQbIgr59vAdGYDqjHrxkjS7WOxkTD8sqEqhiwcJETgBYigrBqF08KyDaje9SZ/I1A7MzaTzMGDEulPtZUkuKcyIRAjxEJPVrnVlb/9wkfij31D/pQt1IN+iL8bGJcstBIO7Y5VI/cwDqURbXhMuJxBqD0KLoK3esWFs0Jz5i5ZvJUAfFJMFb9XmGIOnzGpijpcWYCaMqXSQWp8EnCABepQ0Elyi4wfKfsw78ikIqif1pe1AGPlLmojl1SKxHHXp1L+Ut7AmDQHvhI5xHGi4EooO2BR7k78PEkJOdL7cAxQUZ/Tyclu9gnfwGgOmm2lNHGNmZXsq4Pqgc1EG1ATrvKl8s4R9ywwnqulGUnaRLVhxy8v3ieUwy2hbooT68uscW++DCDH0WSzuoyN2D4LUJ/tLECbcSKznwMIFs0ChF4mRTCnQbIIfk4SHJo6A9BMuTnXTs3Ku/KxsgZWqzuSe+Os8cEUfnMBY6UF5gi3SUbd5K7vDjq5WW0UENJlRsWn4sy21Er/E/AvPQSFHy1p4fgAAAAASUVORK5CYII=');  background-repeat: repeat-x;  background-size: 14px;  height: 28px;}\n",
       "</style>\n"
      ],
      "text/plain": [
       "<IPython.core.display.HTML object>"
      ]
     },
     "metadata": {},
     "output_type": "display_data"
    },
    {
     "name": "stdout",
     "output_type": "stream",
     "text": [
      "Memory usage of dataframe is 288.46 MB\n",
      "Memory usage after optimization is: 89.45 MB\n",
      "Decreased by 69.0%\n",
      "Memory usage of dataframe is 107.29 MB\n",
      "Memory usage after optimization is: 42.17 MB\n",
      "Decreased by 60.7%\n",
      "Memory usage of dataframe is 113.88 MB\n",
      "Memory usage after optimization is: 159.83 MB\n",
      "Decreased by -40.4%\n",
      "Memory usage of dataframe is 1.18 MB\n",
      "Memory usage after optimization is: 1.83 MB\n",
      "Decreased by -54.8%\n"
     ]
    }
   ],
   "source": [
    "!pip install pyunpack patool\n",
    "\n",
    "import os , sys\n",
    "from pyunpack.cli import Archive\n",
    "\n",
    "os.system('apt-get install p7zip')\n",
    "print(os.getcwd()) #/kaggle/working\n",
    "import datatable as dt\n",
    "\n",
    "directory = '/kaggle/working/'\n",
    "Archive('/kaggle/input/kkbox-music-recommendation-challenge/train.csv.7z').extractall(directory)\n",
    "Archive('/kaggle/input/kkbox-music-recommendation-challenge/test.csv.7z').extractall(directory)\n",
    "Archive('/kaggle/input/kkbox-music-recommendation-challenge/songs.csv.7z').extractall(directory)\n",
    "Archive('/kaggle/input/kkbox-music-recommendation-challenge/members.csv.7z').extractall(directory)\n",
    "Archive('/kaggle/input/kkbox-music-recommendation-challenge/song_extra_info.csv.7z').extractall(directory)\n",
    "\n",
    "#sys.exit(\"Error message\")\n",
    "train_df = reduce_mem_usage(dt.fread('./train.csv').to_pandas())\n",
    "test_df = reduce_mem_usage(dt.fread('./test.csv').to_pandas())\n",
    "songs_df = reduce_mem_usage(dt.fread('./songs.csv').to_pandas()) #'composer', 'lyricist'\n",
    "members_df = reduce_mem_usage(dt.fread('./members.csv').to_pandas())"
   ]
  },
  {
   "cell_type": "markdown",
   "id": "7b1a383b",
   "metadata": {
    "papermill": {
     "duration": 0.028744,
     "end_time": "2023-12-13T19:09:20.155203",
     "exception": false,
     "start_time": "2023-12-13T19:09:20.126459",
     "status": "completed"
    },
    "tags": []
   },
   "source": [
    "Assuming train_df, test_df, songs_df, and members_df are already defined"
   ]
  },
  {
   "cell_type": "code",
   "execution_count": 5,
   "id": "5bd5b916",
   "metadata": {
    "execution": {
     "iopub.execute_input": "2023-12-13T19:09:20.216388Z",
     "iopub.status.busy": "2023-12-13T19:09:20.215853Z",
     "iopub.status.idle": "2023-12-13T19:09:20.223909Z",
     "shell.execute_reply": "2023-12-13T19:09:20.222611Z"
    },
    "papermill": {
     "duration": 0.042964,
     "end_time": "2023-12-13T19:09:20.226613",
     "exception": false,
     "start_time": "2023-12-13T19:09:20.183649",
     "status": "completed"
    },
    "tags": []
   },
   "outputs": [
    {
     "name": "stdout",
     "output_type": "stream",
     "text": [
      "Data loading completed!\n",
      "(7377418, 6) (2556790, 6) (2296320, 7) (34403, 7)\n"
     ]
    }
   ],
   "source": [
    "print('Data loading completed!')\n",
    "print(train_df.shape, test_df.shape, songs_df.shape, members_df.shape)"
   ]
  },
  {
   "cell_type": "markdown",
   "id": "96dfa040",
   "metadata": {
    "papermill": {
     "duration": 0.028138,
     "end_time": "2023-12-13T19:09:20.283294",
     "exception": false,
     "start_time": "2023-12-13T19:09:20.255156",
     "status": "completed"
    },
    "tags": []
   },
   "source": [
    "Displaying the first few rows of the 'train_df' DataFrame to get a quick overview of the data"
   ]
  },
  {
   "cell_type": "code",
   "execution_count": 6,
   "id": "bd15e362",
   "metadata": {
    "execution": {
     "iopub.execute_input": "2023-12-13T19:09:20.343415Z",
     "iopub.status.busy": "2023-12-13T19:09:20.342895Z",
     "iopub.status.idle": "2023-12-13T19:09:20.373698Z",
     "shell.execute_reply": "2023-12-13T19:09:20.372337Z"
    },
    "papermill": {
     "duration": 0.06436,
     "end_time": "2023-12-13T19:09:20.376313",
     "exception": false,
     "start_time": "2023-12-13T19:09:20.311953",
     "status": "completed"
    },
    "tags": []
   },
   "outputs": [
    {
     "data": {
      "text/html": [
       "<div>\n",
       "<style scoped>\n",
       "    .dataframe tbody tr th:only-of-type {\n",
       "        vertical-align: middle;\n",
       "    }\n",
       "\n",
       "    .dataframe tbody tr th {\n",
       "        vertical-align: top;\n",
       "    }\n",
       "\n",
       "    .dataframe thead th {\n",
       "        text-align: right;\n",
       "    }\n",
       "</style>\n",
       "<table border=\"1\" class=\"dataframe\">\n",
       "  <thead>\n",
       "    <tr style=\"text-align: right;\">\n",
       "      <th></th>\n",
       "      <th>msno</th>\n",
       "      <th>song_id</th>\n",
       "      <th>source_system_tab</th>\n",
       "      <th>source_screen_name</th>\n",
       "      <th>source_type</th>\n",
       "      <th>target</th>\n",
       "    </tr>\n",
       "  </thead>\n",
       "  <tbody>\n",
       "    <tr>\n",
       "      <th>0</th>\n",
       "      <td>FGtllVqz18RPiwJj/edr2gV78zirAiY/9SmYvia+kCg=</td>\n",
       "      <td>BBzumQNXUHKdEBOB7mAJuzok+IJA1c2Ryg/yzTF6tik=</td>\n",
       "      <td>explore</td>\n",
       "      <td>Explore</td>\n",
       "      <td>online-playlist</td>\n",
       "      <td>1.0</td>\n",
       "    </tr>\n",
       "    <tr>\n",
       "      <th>1</th>\n",
       "      <td>Xumu+NIjS6QYVxDS4/t3SawvJ7viT9hPKXmf0RtLNx8=</td>\n",
       "      <td>bhp/MpSNoqoxOIB+/l8WPqu6jldth4DIpCm3ayXnJqM=</td>\n",
       "      <td>my library</td>\n",
       "      <td>Local playlist more</td>\n",
       "      <td>local-playlist</td>\n",
       "      <td>1.0</td>\n",
       "    </tr>\n",
       "    <tr>\n",
       "      <th>2</th>\n",
       "      <td>Xumu+NIjS6QYVxDS4/t3SawvJ7viT9hPKXmf0RtLNx8=</td>\n",
       "      <td>JNWfrrC7zNN7BdMpsISKa4Mw+xVJYNnxXh3/Epw7QgY=</td>\n",
       "      <td>my library</td>\n",
       "      <td>Local playlist more</td>\n",
       "      <td>local-playlist</td>\n",
       "      <td>1.0</td>\n",
       "    </tr>\n",
       "    <tr>\n",
       "      <th>3</th>\n",
       "      <td>Xumu+NIjS6QYVxDS4/t3SawvJ7viT9hPKXmf0RtLNx8=</td>\n",
       "      <td>2A87tzfnJTSWqD7gIZHisolhe4DMdzkbd6LzO1KHjNs=</td>\n",
       "      <td>my library</td>\n",
       "      <td>Local playlist more</td>\n",
       "      <td>local-playlist</td>\n",
       "      <td>1.0</td>\n",
       "    </tr>\n",
       "    <tr>\n",
       "      <th>4</th>\n",
       "      <td>FGtllVqz18RPiwJj/edr2gV78zirAiY/9SmYvia+kCg=</td>\n",
       "      <td>3qm6XTZ6MOCU11x8FIVbAGH5l5uMkT3/ZalWG1oo2Gc=</td>\n",
       "      <td>explore</td>\n",
       "      <td>Explore</td>\n",
       "      <td>online-playlist</td>\n",
       "      <td>1.0</td>\n",
       "    </tr>\n",
       "  </tbody>\n",
       "</table>\n",
       "</div>"
      ],
      "text/plain": [
       "                                           msno  \\\n",
       "0  FGtllVqz18RPiwJj/edr2gV78zirAiY/9SmYvia+kCg=   \n",
       "1  Xumu+NIjS6QYVxDS4/t3SawvJ7viT9hPKXmf0RtLNx8=   \n",
       "2  Xumu+NIjS6QYVxDS4/t3SawvJ7viT9hPKXmf0RtLNx8=   \n",
       "3  Xumu+NIjS6QYVxDS4/t3SawvJ7viT9hPKXmf0RtLNx8=   \n",
       "4  FGtllVqz18RPiwJj/edr2gV78zirAiY/9SmYvia+kCg=   \n",
       "\n",
       "                                        song_id source_system_tab  \\\n",
       "0  BBzumQNXUHKdEBOB7mAJuzok+IJA1c2Ryg/yzTF6tik=           explore   \n",
       "1  bhp/MpSNoqoxOIB+/l8WPqu6jldth4DIpCm3ayXnJqM=        my library   \n",
       "2  JNWfrrC7zNN7BdMpsISKa4Mw+xVJYNnxXh3/Epw7QgY=        my library   \n",
       "3  2A87tzfnJTSWqD7gIZHisolhe4DMdzkbd6LzO1KHjNs=        my library   \n",
       "4  3qm6XTZ6MOCU11x8FIVbAGH5l5uMkT3/ZalWG1oo2Gc=           explore   \n",
       "\n",
       "    source_screen_name      source_type  target  \n",
       "0              Explore  online-playlist     1.0  \n",
       "1  Local playlist more   local-playlist     1.0  \n",
       "2  Local playlist more   local-playlist     1.0  \n",
       "3  Local playlist more   local-playlist     1.0  \n",
       "4              Explore  online-playlist     1.0  "
      ]
     },
     "execution_count": 6,
     "metadata": {},
     "output_type": "execute_result"
    }
   ],
   "source": [
    "train_df.head()"
   ]
  },
  {
   "cell_type": "markdown",
   "id": "0ba9058e",
   "metadata": {
    "papermill": {
     "duration": 0.028763,
     "end_time": "2023-12-13T19:09:20.434018",
     "exception": false,
     "start_time": "2023-12-13T19:09:20.405255",
     "status": "completed"
    },
    "tags": []
   },
   "source": [
    "The code `train_df.isnull().sum()` is used to count the number of missing values (null values) in each column of the DataFrame called `train_df`."
   ]
  },
  {
   "cell_type": "code",
   "execution_count": 7,
   "id": "8e209281",
   "metadata": {
    "execution": {
     "iopub.execute_input": "2023-12-13T19:09:20.494918Z",
     "iopub.status.busy": "2023-12-13T19:09:20.494476Z",
     "iopub.status.idle": "2023-12-13T19:09:20.613985Z",
     "shell.execute_reply": "2023-12-13T19:09:20.612654Z"
    },
    "papermill": {
     "duration": 0.153328,
     "end_time": "2023-12-13T19:09:20.616595",
     "exception": false,
     "start_time": "2023-12-13T19:09:20.463267",
     "status": "completed"
    },
    "tags": []
   },
   "outputs": [
    {
     "data": {
      "text/plain": [
       "msno                  0\n",
       "song_id               0\n",
       "source_system_tab     0\n",
       "source_screen_name    0\n",
       "source_type           0\n",
       "target                0\n",
       "dtype: int64"
      ]
     },
     "execution_count": 7,
     "metadata": {},
     "output_type": "execute_result"
    }
   ],
   "source": [
    "train_df.isnull().sum()"
   ]
  },
  {
   "cell_type": "markdown",
   "id": "bf92710c",
   "metadata": {
    "papermill": {
     "duration": 0.029295,
     "end_time": "2023-12-13T19:09:20.675653",
     "exception": false,
     "start_time": "2023-12-13T19:09:20.646358",
     "status": "completed"
    },
    "tags": []
   },
   "source": [
    "Displaying the first few rows of the 'test_df' DataFrame to inspect the data structure and values"
   ]
  },
  {
   "cell_type": "code",
   "execution_count": 8,
   "id": "d57a0bd4",
   "metadata": {
    "execution": {
     "iopub.execute_input": "2023-12-13T19:09:20.735904Z",
     "iopub.status.busy": "2023-12-13T19:09:20.735462Z",
     "iopub.status.idle": "2023-12-13T19:09:20.750847Z",
     "shell.execute_reply": "2023-12-13T19:09:20.749609Z"
    },
    "papermill": {
     "duration": 0.04894,
     "end_time": "2023-12-13T19:09:20.753530",
     "exception": false,
     "start_time": "2023-12-13T19:09:20.704590",
     "status": "completed"
    },
    "tags": []
   },
   "outputs": [
    {
     "data": {
      "text/html": [
       "<div>\n",
       "<style scoped>\n",
       "    .dataframe tbody tr th:only-of-type {\n",
       "        vertical-align: middle;\n",
       "    }\n",
       "\n",
       "    .dataframe tbody tr th {\n",
       "        vertical-align: top;\n",
       "    }\n",
       "\n",
       "    .dataframe thead th {\n",
       "        text-align: right;\n",
       "    }\n",
       "</style>\n",
       "<table border=\"1\" class=\"dataframe\">\n",
       "  <thead>\n",
       "    <tr style=\"text-align: right;\">\n",
       "      <th></th>\n",
       "      <th>id</th>\n",
       "      <th>msno</th>\n",
       "      <th>song_id</th>\n",
       "      <th>source_system_tab</th>\n",
       "      <th>source_screen_name</th>\n",
       "      <th>source_type</th>\n",
       "    </tr>\n",
       "  </thead>\n",
       "  <tbody>\n",
       "    <tr>\n",
       "      <th>0</th>\n",
       "      <td>0</td>\n",
       "      <td>V8ruy7SGk7tDm3zA51DPpn6qutt+vmKMBKa21dp54uM=</td>\n",
       "      <td>WmHKgKMlp1lQMecNdNvDMkvIycZYHnFwDT72I5sIssc=</td>\n",
       "      <td>my library</td>\n",
       "      <td>Local playlist more</td>\n",
       "      <td>local-library</td>\n",
       "    </tr>\n",
       "    <tr>\n",
       "      <th>1</th>\n",
       "      <td>1</td>\n",
       "      <td>V8ruy7SGk7tDm3zA51DPpn6qutt+vmKMBKa21dp54uM=</td>\n",
       "      <td>y/rsZ9DC7FwK5F2PK2D5mj+aOBUJAjuu3dZ14NgE0vM=</td>\n",
       "      <td>my library</td>\n",
       "      <td>Local playlist more</td>\n",
       "      <td>local-library</td>\n",
       "    </tr>\n",
       "    <tr>\n",
       "      <th>2</th>\n",
       "      <td>2</td>\n",
       "      <td>/uQAlrAkaczV+nWCd2sPF2ekvXPRipV7q0l+gbLuxjw=</td>\n",
       "      <td>8eZLFOdGVdXBSqoAv5nsLigeH2BvKXzTQYtUM53I0k4=</td>\n",
       "      <td>discover</td>\n",
       "      <td></td>\n",
       "      <td>song-based-playlist</td>\n",
       "    </tr>\n",
       "    <tr>\n",
       "      <th>3</th>\n",
       "      <td>3</td>\n",
       "      <td>1a6oo/iXKatxQx4eS9zTVD+KlSVaAFbTIqVvwLC1Y0k=</td>\n",
       "      <td>ztCf8thYsS4YN3GcIL/bvoxLm/T5mYBVKOO4C9NiVfQ=</td>\n",
       "      <td>radio</td>\n",
       "      <td>Radio</td>\n",
       "      <td>radio</td>\n",
       "    </tr>\n",
       "    <tr>\n",
       "      <th>4</th>\n",
       "      <td>4</td>\n",
       "      <td>1a6oo/iXKatxQx4eS9zTVD+KlSVaAFbTIqVvwLC1Y0k=</td>\n",
       "      <td>MKVMpslKcQhMaFEgcEQhEfi5+RZhMYlU3eRDpySrH8Y=</td>\n",
       "      <td>radio</td>\n",
       "      <td>Radio</td>\n",
       "      <td>radio</td>\n",
       "    </tr>\n",
       "  </tbody>\n",
       "</table>\n",
       "</div>"
      ],
      "text/plain": [
       "   id                                          msno  \\\n",
       "0   0  V8ruy7SGk7tDm3zA51DPpn6qutt+vmKMBKa21dp54uM=   \n",
       "1   1  V8ruy7SGk7tDm3zA51DPpn6qutt+vmKMBKa21dp54uM=   \n",
       "2   2  /uQAlrAkaczV+nWCd2sPF2ekvXPRipV7q0l+gbLuxjw=   \n",
       "3   3  1a6oo/iXKatxQx4eS9zTVD+KlSVaAFbTIqVvwLC1Y0k=   \n",
       "4   4  1a6oo/iXKatxQx4eS9zTVD+KlSVaAFbTIqVvwLC1Y0k=   \n",
       "\n",
       "                                        song_id source_system_tab  \\\n",
       "0  WmHKgKMlp1lQMecNdNvDMkvIycZYHnFwDT72I5sIssc=        my library   \n",
       "1  y/rsZ9DC7FwK5F2PK2D5mj+aOBUJAjuu3dZ14NgE0vM=        my library   \n",
       "2  8eZLFOdGVdXBSqoAv5nsLigeH2BvKXzTQYtUM53I0k4=          discover   \n",
       "3  ztCf8thYsS4YN3GcIL/bvoxLm/T5mYBVKOO4C9NiVfQ=             radio   \n",
       "4  MKVMpslKcQhMaFEgcEQhEfi5+RZhMYlU3eRDpySrH8Y=             radio   \n",
       "\n",
       "    source_screen_name          source_type  \n",
       "0  Local playlist more        local-library  \n",
       "1  Local playlist more        local-library  \n",
       "2                       song-based-playlist  \n",
       "3                Radio                radio  \n",
       "4                Radio                radio  "
      ]
     },
     "execution_count": 8,
     "metadata": {},
     "output_type": "execute_result"
    }
   ],
   "source": [
    "test_df.head()"
   ]
  },
  {
   "cell_type": "markdown",
   "id": "2868226b",
   "metadata": {
    "papermill": {
     "duration": 0.029122,
     "end_time": "2023-12-13T19:09:20.813055",
     "exception": false,
     "start_time": "2023-12-13T19:09:20.783933",
     "status": "completed"
    },
    "tags": []
   },
   "source": [
    "# Preparing and improving the members dataset by cleaning and enhancing its features"
   ]
  },
  {
   "cell_type": "markdown",
   "id": "b44f705c",
   "metadata": {
    "papermill": {
     "duration": 0.029163,
     "end_time": "2023-12-13T19:09:20.872150",
     "exception": false,
     "start_time": "2023-12-13T19:09:20.842987",
     "status": "completed"
    },
    "tags": []
   },
   "source": [
    "Count the number of missing values in each column of the 'songs_df' DataFrame"
   ]
  },
  {
   "cell_type": "code",
   "execution_count": 9,
   "id": "d49e2cc7",
   "metadata": {
    "execution": {
     "iopub.execute_input": "2023-12-13T19:09:20.934942Z",
     "iopub.status.busy": "2023-12-13T19:09:20.934098Z",
     "iopub.status.idle": "2023-12-13T19:09:20.968274Z",
     "shell.execute_reply": "2023-12-13T19:09:20.967392Z"
    },
    "papermill": {
     "duration": 0.068142,
     "end_time": "2023-12-13T19:09:20.970483",
     "exception": false,
     "start_time": "2023-12-13T19:09:20.902341",
     "status": "completed"
    },
    "tags": []
   },
   "outputs": [
    {
     "data": {
      "text/plain": [
       "song_id        0\n",
       "song_length    0\n",
       "genre_ids      0\n",
       "artist_name    0\n",
       "composer       0\n",
       "lyricist       0\n",
       "language       1\n",
       "dtype: int64"
      ]
     },
     "execution_count": 9,
     "metadata": {},
     "output_type": "execute_result"
    }
   ],
   "source": [
    "songs_df.isnull().sum()"
   ]
  },
  {
   "cell_type": "markdown",
   "id": "94de88e6",
   "metadata": {
    "papermill": {
     "duration": 0.032663,
     "end_time": "2023-12-13T19:09:21.033293",
     "exception": false,
     "start_time": "2023-12-13T19:09:21.000630",
     "status": "completed"
    },
    "tags": []
   },
   "source": [
    "Displaying the first few rows of the 'songs_df' DataFrame to quickly inspect its contents"
   ]
  },
  {
   "cell_type": "code",
   "execution_count": 10,
   "id": "cd6504ad",
   "metadata": {
    "execution": {
     "iopub.execute_input": "2023-12-13T19:09:21.095278Z",
     "iopub.status.busy": "2023-12-13T19:09:21.094096Z",
     "iopub.status.idle": "2023-12-13T19:09:21.110733Z",
     "shell.execute_reply": "2023-12-13T19:09:21.109599Z"
    },
    "papermill": {
     "duration": 0.05002,
     "end_time": "2023-12-13T19:09:21.113293",
     "exception": false,
     "start_time": "2023-12-13T19:09:21.063273",
     "status": "completed"
    },
    "tags": []
   },
   "outputs": [
    {
     "data": {
      "text/html": [
       "<div>\n",
       "<style scoped>\n",
       "    .dataframe tbody tr th:only-of-type {\n",
       "        vertical-align: middle;\n",
       "    }\n",
       "\n",
       "    .dataframe tbody tr th {\n",
       "        vertical-align: top;\n",
       "    }\n",
       "\n",
       "    .dataframe thead th {\n",
       "        text-align: right;\n",
       "    }\n",
       "</style>\n",
       "<table border=\"1\" class=\"dataframe\">\n",
       "  <thead>\n",
       "    <tr style=\"text-align: right;\">\n",
       "      <th></th>\n",
       "      <th>song_id</th>\n",
       "      <th>song_length</th>\n",
       "      <th>genre_ids</th>\n",
       "      <th>artist_name</th>\n",
       "      <th>composer</th>\n",
       "      <th>lyricist</th>\n",
       "      <th>language</th>\n",
       "    </tr>\n",
       "  </thead>\n",
       "  <tbody>\n",
       "    <tr>\n",
       "      <th>0</th>\n",
       "      <td>CXoTN1eb7AI+DntdU1vbcwGRV4SCIDxZu+YD8JP8r4E=</td>\n",
       "      <td>247640</td>\n",
       "      <td>465</td>\n",
       "      <td>張信哲 (Jeff Chang)</td>\n",
       "      <td>董貞</td>\n",
       "      <td>何啟弘</td>\n",
       "      <td>3.0</td>\n",
       "    </tr>\n",
       "    <tr>\n",
       "      <th>1</th>\n",
       "      <td>o0kFgae9QtnYgRkVPqLJwa05zIhRlUjfF7O1tDw0ZDU=</td>\n",
       "      <td>197328</td>\n",
       "      <td>444</td>\n",
       "      <td>BLACKPINK</td>\n",
       "      <td>TEDDY|  FUTURE BOUNCE|  Bekuh BOOM</td>\n",
       "      <td>TEDDY</td>\n",
       "      <td>31.0</td>\n",
       "    </tr>\n",
       "    <tr>\n",
       "      <th>2</th>\n",
       "      <td>DwVvVurfpuz+XPuFvucclVQEyPqcpUkHR0ne1RQzPs0=</td>\n",
       "      <td>231781</td>\n",
       "      <td>465</td>\n",
       "      <td>SUPER JUNIOR</td>\n",
       "      <td></td>\n",
       "      <td></td>\n",
       "      <td>31.0</td>\n",
       "    </tr>\n",
       "    <tr>\n",
       "      <th>3</th>\n",
       "      <td>dKMBWoZyScdxSkihKG+Vf47nc18N9q4m58+b4e7dSSE=</td>\n",
       "      <td>273554</td>\n",
       "      <td>465</td>\n",
       "      <td>S.H.E</td>\n",
       "      <td>湯小康</td>\n",
       "      <td>徐世珍</td>\n",
       "      <td>3.0</td>\n",
       "    </tr>\n",
       "    <tr>\n",
       "      <th>4</th>\n",
       "      <td>W3bqWd3T+VeHFzHAUfARgW9AvVRaF4N5Yzm4Mr6Eo/o=</td>\n",
       "      <td>140329</td>\n",
       "      <td>726</td>\n",
       "      <td>貴族精選</td>\n",
       "      <td>Traditional</td>\n",
       "      <td>Traditional</td>\n",
       "      <td>52.0</td>\n",
       "    </tr>\n",
       "  </tbody>\n",
       "</table>\n",
       "</div>"
      ],
      "text/plain": [
       "                                        song_id  song_length genre_ids  \\\n",
       "0  CXoTN1eb7AI+DntdU1vbcwGRV4SCIDxZu+YD8JP8r4E=       247640       465   \n",
       "1  o0kFgae9QtnYgRkVPqLJwa05zIhRlUjfF7O1tDw0ZDU=       197328       444   \n",
       "2  DwVvVurfpuz+XPuFvucclVQEyPqcpUkHR0ne1RQzPs0=       231781       465   \n",
       "3  dKMBWoZyScdxSkihKG+Vf47nc18N9q4m58+b4e7dSSE=       273554       465   \n",
       "4  W3bqWd3T+VeHFzHAUfARgW9AvVRaF4N5Yzm4Mr6Eo/o=       140329       726   \n",
       "\n",
       "        artist_name                            composer     lyricist  language  \n",
       "0  張信哲 (Jeff Chang)                                  董貞          何啟弘       3.0  \n",
       "1         BLACKPINK  TEDDY|  FUTURE BOUNCE|  Bekuh BOOM        TEDDY      31.0  \n",
       "2      SUPER JUNIOR                                                       31.0  \n",
       "3             S.H.E                                 湯小康          徐世珍       3.0  \n",
       "4              貴族精選                         Traditional  Traditional      52.0  "
      ]
     },
     "execution_count": 10,
     "metadata": {},
     "output_type": "execute_result"
    }
   ],
   "source": [
    "songs_df.head()"
   ]
  },
  {
   "cell_type": "markdown",
   "id": "c3d1ee05",
   "metadata": {
    "papermill": {
     "duration": 0.029598,
     "end_time": "2023-12-13T19:09:21.174647",
     "exception": false,
     "start_time": "2023-12-13T19:09:21.145049",
     "status": "completed"
    },
    "tags": []
   },
   "source": [
    "Count the occurrences of each unique value in the 'genre_ids' column of the 'songs_df' DataFrame"
   ]
  },
  {
   "cell_type": "code",
   "execution_count": 11,
   "id": "ee5bd3de",
   "metadata": {
    "execution": {
     "iopub.execute_input": "2023-12-13T19:09:21.236974Z",
     "iopub.status.busy": "2023-12-13T19:09:21.236225Z",
     "iopub.status.idle": "2023-12-13T19:09:21.266638Z",
     "shell.execute_reply": "2023-12-13T19:09:21.265447Z"
    },
    "papermill": {
     "duration": 0.064849,
     "end_time": "2023-12-13T19:09:21.269433",
     "exception": false,
     "start_time": "2023-12-13T19:09:21.204584",
     "status": "completed"
    },
    "tags": []
   },
   "outputs": [
    {
     "data": {
      "text/plain": [
       "genre_ids\n",
       "465         567911\n",
       "958         176349\n",
       "2022        168870\n",
       "1609        166457\n",
       "2122        139938\n",
       "             ...  \n",
       "465|1007         1\n",
       "1138|430         1\n",
       "458|698          1\n",
       "1208|139         1\n",
       "423|531          1\n",
       "Name: count, Length: 1046, dtype: int64"
      ]
     },
     "execution_count": 11,
     "metadata": {},
     "output_type": "execute_result"
    }
   ],
   "source": [
    "songs_df.genre_ids.value_counts()"
   ]
  },
  {
   "cell_type": "markdown",
   "id": "67808b1b",
   "metadata": {
    "papermill": {
     "duration": 0.030775,
     "end_time": "2023-12-13T19:09:21.332361",
     "exception": false,
     "start_time": "2023-12-13T19:09:21.301586",
     "status": "completed"
    },
    "tags": []
   },
   "source": [
    "Splitting the values in the 'genre_ids' column of the 'songs_df' DataFrame using the '|' delimiter"
   ]
  },
  {
   "cell_type": "code",
   "execution_count": 12,
   "id": "57a595e5",
   "metadata": {
    "execution": {
     "iopub.execute_input": "2023-12-13T19:09:21.395718Z",
     "iopub.status.busy": "2023-12-13T19:09:21.395286Z",
     "iopub.status.idle": "2023-12-13T19:09:21.428998Z",
     "shell.execute_reply": "2023-12-13T19:09:21.427592Z"
    },
    "papermill": {
     "duration": 0.069509,
     "end_time": "2023-12-13T19:09:21.431926",
     "exception": false,
     "start_time": "2023-12-13T19:09:21.362417",
     "status": "completed"
    },
    "tags": []
   },
   "outputs": [],
   "source": [
    "df_idx = songs_df[\"genre_ids\"].str.split('|')"
   ]
  },
  {
   "cell_type": "code",
   "execution_count": 13,
   "id": "53f9b10a",
   "metadata": {
    "execution": {
     "iopub.execute_input": "2023-12-13T19:09:21.495602Z",
     "iopub.status.busy": "2023-12-13T19:09:21.495203Z",
     "iopub.status.idle": "2023-12-13T19:19:19.789959Z",
     "shell.execute_reply": "2023-12-13T19:19:19.788586Z"
    },
    "papermill": {
     "duration": 598.361481,
     "end_time": "2023-12-13T19:19:19.823951",
     "exception": false,
     "start_time": "2023-12-13T19:09:21.462470",
     "status": "completed"
    },
    "tags": []
   },
   "outputs": [
    {
     "name": "stdout",
     "output_type": "stream",
     "text": [
      "598.2868440151215\n"
     ]
    }
   ],
   "source": [
    "import time\n",
    "\n",
    "start = time.time()\n",
    "\n",
    "songs_df = pd.concat([songs_df.drop('genre_ids', axis = 1 ), df_idx.apply(pd.Series)], axis=1)\n",
    "\n",
    "end = time.time()\n",
    "print(end - start)"
   ]
  },
  {
   "cell_type": "markdown",
   "id": "c1da0352",
   "metadata": {
    "papermill": {
     "duration": 0.03118,
     "end_time": "2023-12-13T19:19:19.888651",
     "exception": false,
     "start_time": "2023-12-13T19:19:19.857471",
     "status": "completed"
    },
    "tags": []
   },
   "source": [
    "# Completing the one empty space"
   ]
  },
  {
   "cell_type": "code",
   "execution_count": 14,
   "id": "d94862f2",
   "metadata": {
    "execution": {
     "iopub.execute_input": "2023-12-13T19:19:19.953445Z",
     "iopub.status.busy": "2023-12-13T19:19:19.951864Z",
     "iopub.status.idle": "2023-12-13T19:19:20.287879Z",
     "shell.execute_reply": "2023-12-13T19:19:20.286668Z"
    },
    "papermill": {
     "duration": 0.371938,
     "end_time": "2023-12-13T19:19:20.290775",
     "exception": false,
     "start_time": "2023-12-13T19:19:19.918837",
     "status": "completed"
    },
    "tags": []
   },
   "outputs": [
    {
     "data": {
      "text/plain": [
       "language\n",
       "31.0    125\n",
       "3.0      27\n",
       "52.0      2\n",
       "Name: count, dtype: int64"
      ]
     },
     "execution_count": 14,
     "metadata": {},
     "output_type": "execute_result"
    }
   ],
   "source": [
    "songs_df[songs_df['composer'].str.startswith('Korean')].language.value_counts()"
   ]
  },
  {
   "cell_type": "code",
   "execution_count": 15,
   "id": "15c4800c",
   "metadata": {
    "execution": {
     "iopub.execute_input": "2023-12-13T19:19:20.354817Z",
     "iopub.status.busy": "2023-12-13T19:19:20.354381Z",
     "iopub.status.idle": "2023-12-13T19:19:20.369546Z",
     "shell.execute_reply": "2023-12-13T19:19:20.367922Z"
    },
    "papermill": {
     "duration": 0.050307,
     "end_time": "2023-12-13T19:19:20.372566",
     "exception": false,
     "start_time": "2023-12-13T19:19:20.322259",
     "status": "completed"
    },
    "tags": []
   },
   "outputs": [],
   "source": [
    "songs_df.loc[songs_df['language'].isnull(),'language'] = 31.0"
   ]
  },
  {
   "cell_type": "markdown",
   "id": "37daea28",
   "metadata": {
    "papermill": {
     "duration": 0.030186,
     "end_time": "2023-12-13T19:19:20.433233",
     "exception": false,
     "start_time": "2023-12-13T19:19:20.403047",
     "status": "completed"
    },
    "tags": []
   },
   "source": [
    "# Preparing and improving the members data by cleaning and enhancing its features"
   ]
  },
  {
   "cell_type": "markdown",
   "id": "67537b84",
   "metadata": {
    "papermill": {
     "duration": 0.031224,
     "end_time": "2023-12-13T19:19:20.495689",
     "exception": false,
     "start_time": "2023-12-13T19:19:20.464465",
     "status": "completed"
    },
    "tags": []
   },
   "source": [
    "Displaying the first few rows of the members dataframe to get a quick overview of the data"
   ]
  },
  {
   "cell_type": "code",
   "execution_count": 16,
   "id": "e58feb68",
   "metadata": {
    "execution": {
     "iopub.execute_input": "2023-12-13T19:19:20.560607Z",
     "iopub.status.busy": "2023-12-13T19:19:20.559814Z",
     "iopub.status.idle": "2023-12-13T19:19:20.574334Z",
     "shell.execute_reply": "2023-12-13T19:19:20.573059Z"
    },
    "papermill": {
     "duration": 0.050552,
     "end_time": "2023-12-13T19:19:20.577177",
     "exception": false,
     "start_time": "2023-12-13T19:19:20.526625",
     "status": "completed"
    },
    "tags": []
   },
   "outputs": [
    {
     "data": {
      "text/html": [
       "<div>\n",
       "<style scoped>\n",
       "    .dataframe tbody tr th:only-of-type {\n",
       "        vertical-align: middle;\n",
       "    }\n",
       "\n",
       "    .dataframe tbody tr th {\n",
       "        vertical-align: top;\n",
       "    }\n",
       "\n",
       "    .dataframe thead th {\n",
       "        text-align: right;\n",
       "    }\n",
       "</style>\n",
       "<table border=\"1\" class=\"dataframe\">\n",
       "  <thead>\n",
       "    <tr style=\"text-align: right;\">\n",
       "      <th></th>\n",
       "      <th>msno</th>\n",
       "      <th>city</th>\n",
       "      <th>bd</th>\n",
       "      <th>gender</th>\n",
       "      <th>registered_via</th>\n",
       "      <th>registration_init_time</th>\n",
       "      <th>expiration_date</th>\n",
       "    </tr>\n",
       "  </thead>\n",
       "  <tbody>\n",
       "    <tr>\n",
       "      <th>0</th>\n",
       "      <td>XQxgAYj3klVKjR3oxPPXYYFp4soD4TuBghkhMTD4oTw=</td>\n",
       "      <td>1</td>\n",
       "      <td>0</td>\n",
       "      <td></td>\n",
       "      <td>7</td>\n",
       "      <td>20110820</td>\n",
       "      <td>20170920</td>\n",
       "    </tr>\n",
       "    <tr>\n",
       "      <th>1</th>\n",
       "      <td>UizsfmJb9mV54qE9hCYyU07Va97c0lCRLEQX3ae+ztM=</td>\n",
       "      <td>1</td>\n",
       "      <td>0</td>\n",
       "      <td></td>\n",
       "      <td>7</td>\n",
       "      <td>20150628</td>\n",
       "      <td>20170622</td>\n",
       "    </tr>\n",
       "    <tr>\n",
       "      <th>2</th>\n",
       "      <td>D8nEhsIOBSoE6VthTaqDX8U6lqjJ7dLdr72mOyLya2A=</td>\n",
       "      <td>1</td>\n",
       "      <td>0</td>\n",
       "      <td></td>\n",
       "      <td>4</td>\n",
       "      <td>20160411</td>\n",
       "      <td>20170712</td>\n",
       "    </tr>\n",
       "    <tr>\n",
       "      <th>3</th>\n",
       "      <td>mCuD+tZ1hERA/o5GPqk38e041J8ZsBaLcu7nGoIIvhI=</td>\n",
       "      <td>1</td>\n",
       "      <td>0</td>\n",
       "      <td></td>\n",
       "      <td>9</td>\n",
       "      <td>20150906</td>\n",
       "      <td>20150907</td>\n",
       "    </tr>\n",
       "    <tr>\n",
       "      <th>4</th>\n",
       "      <td>q4HRBfVSssAFS9iRfxWrohxuk9kCYMKjHOEagUMV6rQ=</td>\n",
       "      <td>1</td>\n",
       "      <td>0</td>\n",
       "      <td></td>\n",
       "      <td>4</td>\n",
       "      <td>20170126</td>\n",
       "      <td>20170613</td>\n",
       "    </tr>\n",
       "  </tbody>\n",
       "</table>\n",
       "</div>"
      ],
      "text/plain": [
       "                                           msno  city  bd gender  \\\n",
       "0  XQxgAYj3klVKjR3oxPPXYYFp4soD4TuBghkhMTD4oTw=     1   0          \n",
       "1  UizsfmJb9mV54qE9hCYyU07Va97c0lCRLEQX3ae+ztM=     1   0          \n",
       "2  D8nEhsIOBSoE6VthTaqDX8U6lqjJ7dLdr72mOyLya2A=     1   0          \n",
       "3  mCuD+tZ1hERA/o5GPqk38e041J8ZsBaLcu7nGoIIvhI=     1   0          \n",
       "4  q4HRBfVSssAFS9iRfxWrohxuk9kCYMKjHOEagUMV6rQ=     1   0          \n",
       "\n",
       "   registered_via  registration_init_time  expiration_date  \n",
       "0               7                20110820         20170920  \n",
       "1               7                20150628         20170622  \n",
       "2               4                20160411         20170712  \n",
       "3               9                20150906         20150907  \n",
       "4               4                20170126         20170613  "
      ]
     },
     "execution_count": 16,
     "metadata": {},
     "output_type": "execute_result"
    }
   ],
   "source": [
    "members_df.head()"
   ]
  },
  {
   "cell_type": "code",
   "execution_count": 17,
   "id": "2ef24df3",
   "metadata": {
    "execution": {
     "iopub.execute_input": "2023-12-13T19:19:20.641541Z",
     "iopub.status.busy": "2023-12-13T19:19:20.641063Z",
     "iopub.status.idle": "2023-12-13T19:19:20.726268Z",
     "shell.execute_reply": "2023-12-13T19:19:20.724924Z"
    },
    "papermill": {
     "duration": 0.120818,
     "end_time": "2023-12-13T19:19:20.729124",
     "exception": false,
     "start_time": "2023-12-13T19:19:20.608306",
     "status": "completed"
    },
    "tags": []
   },
   "outputs": [],
   "source": [
    "members_df['registration_init_time'] = pd.to_datetime(members_df['registration_init_time'], format='%Y%m%d')\n",
    "members_df['reg_year'] = members_df['registration_init_time'].dt.year\n",
    "members_df['reg_month'] = members_df['registration_init_time'].dt.month\n",
    "members_df['reg_day'] = members_df['registration_init_time'].dt.day\n",
    "\n",
    "# expiration_date\n",
    "members_df['expiration_date'] = pd.to_datetime(members_df['expiration_date'],  format='%Y%m%d')\n",
    "members_df['exp_year'] = members_df['expiration_date'].dt.year\n",
    "members_df['exp_month'] = members_df['expiration_date'].dt.month\n",
    "members_df['exp_day'] = members_df['expiration_date'].dt.day"
   ]
  },
  {
   "cell_type": "markdown",
   "id": "cf324bb8",
   "metadata": {
    "papermill": {
     "duration": 0.030424,
     "end_time": "2023-12-13T19:19:20.792679",
     "exception": false,
     "start_time": "2023-12-13T19:19:20.762255",
     "status": "completed"
    },
    "tags": []
   },
   "source": [
    "This code snippet removes the specified columns ('registration_init_time' and 'expiration_date') from the 'members_df' DataFrame."
   ]
  },
  {
   "cell_type": "code",
   "execution_count": 18,
   "id": "b52ec011",
   "metadata": {
    "execution": {
     "iopub.execute_input": "2023-12-13T19:19:20.857690Z",
     "iopub.status.busy": "2023-12-13T19:19:20.857255Z",
     "iopub.status.idle": "2023-12-13T19:19:20.865842Z",
     "shell.execute_reply": "2023-12-13T19:19:20.864592Z"
    },
    "papermill": {
     "duration": 0.044196,
     "end_time": "2023-12-13T19:19:20.868260",
     "exception": false,
     "start_time": "2023-12-13T19:19:20.824064",
     "status": "completed"
    },
    "tags": []
   },
   "outputs": [],
   "source": [
    "members_df.drop(['registration_init_time','expiration_date'] , axis = 1 , inplace= True)"
   ]
  },
  {
   "cell_type": "markdown",
   "id": "58a2fce5",
   "metadata": {
    "papermill": {
     "duration": 0.030835,
     "end_time": "2023-12-13T19:19:20.930266",
     "exception": false,
     "start_time": "2023-12-13T19:19:20.899431",
     "status": "completed"
    },
    "tags": []
   },
   "source": [
    "Displaying the first few rows of the members DataFrame to inspect its structure and data"
   ]
  },
  {
   "cell_type": "code",
   "execution_count": 19,
   "id": "48b2f7d0",
   "metadata": {
    "execution": {
     "iopub.execute_input": "2023-12-13T19:19:20.994697Z",
     "iopub.status.busy": "2023-12-13T19:19:20.994274Z",
     "iopub.status.idle": "2023-12-13T19:19:21.010709Z",
     "shell.execute_reply": "2023-12-13T19:19:21.009550Z"
    },
    "papermill": {
     "duration": 0.051218,
     "end_time": "2023-12-13T19:19:21.013505",
     "exception": false,
     "start_time": "2023-12-13T19:19:20.962287",
     "status": "completed"
    },
    "tags": []
   },
   "outputs": [
    {
     "data": {
      "text/html": [
       "<div>\n",
       "<style scoped>\n",
       "    .dataframe tbody tr th:only-of-type {\n",
       "        vertical-align: middle;\n",
       "    }\n",
       "\n",
       "    .dataframe tbody tr th {\n",
       "        vertical-align: top;\n",
       "    }\n",
       "\n",
       "    .dataframe thead th {\n",
       "        text-align: right;\n",
       "    }\n",
       "</style>\n",
       "<table border=\"1\" class=\"dataframe\">\n",
       "  <thead>\n",
       "    <tr style=\"text-align: right;\">\n",
       "      <th></th>\n",
       "      <th>msno</th>\n",
       "      <th>city</th>\n",
       "      <th>bd</th>\n",
       "      <th>gender</th>\n",
       "      <th>registered_via</th>\n",
       "      <th>reg_year</th>\n",
       "      <th>reg_month</th>\n",
       "      <th>reg_day</th>\n",
       "      <th>exp_year</th>\n",
       "      <th>exp_month</th>\n",
       "      <th>exp_day</th>\n",
       "    </tr>\n",
       "  </thead>\n",
       "  <tbody>\n",
       "    <tr>\n",
       "      <th>0</th>\n",
       "      <td>XQxgAYj3klVKjR3oxPPXYYFp4soD4TuBghkhMTD4oTw=</td>\n",
       "      <td>1</td>\n",
       "      <td>0</td>\n",
       "      <td></td>\n",
       "      <td>7</td>\n",
       "      <td>2011</td>\n",
       "      <td>8</td>\n",
       "      <td>20</td>\n",
       "      <td>2017</td>\n",
       "      <td>9</td>\n",
       "      <td>20</td>\n",
       "    </tr>\n",
       "    <tr>\n",
       "      <th>1</th>\n",
       "      <td>UizsfmJb9mV54qE9hCYyU07Va97c0lCRLEQX3ae+ztM=</td>\n",
       "      <td>1</td>\n",
       "      <td>0</td>\n",
       "      <td></td>\n",
       "      <td>7</td>\n",
       "      <td>2015</td>\n",
       "      <td>6</td>\n",
       "      <td>28</td>\n",
       "      <td>2017</td>\n",
       "      <td>6</td>\n",
       "      <td>22</td>\n",
       "    </tr>\n",
       "    <tr>\n",
       "      <th>2</th>\n",
       "      <td>D8nEhsIOBSoE6VthTaqDX8U6lqjJ7dLdr72mOyLya2A=</td>\n",
       "      <td>1</td>\n",
       "      <td>0</td>\n",
       "      <td></td>\n",
       "      <td>4</td>\n",
       "      <td>2016</td>\n",
       "      <td>4</td>\n",
       "      <td>11</td>\n",
       "      <td>2017</td>\n",
       "      <td>7</td>\n",
       "      <td>12</td>\n",
       "    </tr>\n",
       "    <tr>\n",
       "      <th>3</th>\n",
       "      <td>mCuD+tZ1hERA/o5GPqk38e041J8ZsBaLcu7nGoIIvhI=</td>\n",
       "      <td>1</td>\n",
       "      <td>0</td>\n",
       "      <td></td>\n",
       "      <td>9</td>\n",
       "      <td>2015</td>\n",
       "      <td>9</td>\n",
       "      <td>6</td>\n",
       "      <td>2015</td>\n",
       "      <td>9</td>\n",
       "      <td>7</td>\n",
       "    </tr>\n",
       "    <tr>\n",
       "      <th>4</th>\n",
       "      <td>q4HRBfVSssAFS9iRfxWrohxuk9kCYMKjHOEagUMV6rQ=</td>\n",
       "      <td>1</td>\n",
       "      <td>0</td>\n",
       "      <td></td>\n",
       "      <td>4</td>\n",
       "      <td>2017</td>\n",
       "      <td>1</td>\n",
       "      <td>26</td>\n",
       "      <td>2017</td>\n",
       "      <td>6</td>\n",
       "      <td>13</td>\n",
       "    </tr>\n",
       "  </tbody>\n",
       "</table>\n",
       "</div>"
      ],
      "text/plain": [
       "                                           msno  city  bd gender  \\\n",
       "0  XQxgAYj3klVKjR3oxPPXYYFp4soD4TuBghkhMTD4oTw=     1   0          \n",
       "1  UizsfmJb9mV54qE9hCYyU07Va97c0lCRLEQX3ae+ztM=     1   0          \n",
       "2  D8nEhsIOBSoE6VthTaqDX8U6lqjJ7dLdr72mOyLya2A=     1   0          \n",
       "3  mCuD+tZ1hERA/o5GPqk38e041J8ZsBaLcu7nGoIIvhI=     1   0          \n",
       "4  q4HRBfVSssAFS9iRfxWrohxuk9kCYMKjHOEagUMV6rQ=     1   0          \n",
       "\n",
       "   registered_via  reg_year  reg_month  reg_day  exp_year  exp_month  exp_day  \n",
       "0               7      2011          8       20      2017          9       20  \n",
       "1               7      2015          6       28      2017          6       22  \n",
       "2               4      2016          4       11      2017          7       12  \n",
       "3               9      2015          9        6      2015          9        7  \n",
       "4               4      2017          1       26      2017          6       13  "
      ]
     },
     "execution_count": 19,
     "metadata": {},
     "output_type": "execute_result"
    }
   ],
   "source": [
    "members_df.head()"
   ]
  },
  {
   "cell_type": "markdown",
   "id": "c76db4ce",
   "metadata": {
    "papermill": {
     "duration": 0.030678,
     "end_time": "2023-12-13T19:19:21.077146",
     "exception": false,
     "start_time": "2023-12-13T19:19:21.046468",
     "status": "completed"
    },
    "tags": []
   },
   "source": [
    "# Removing unnecessary information from 'bd' (birthdate) and 'gender' in the data cleaning process"
   ]
  },
  {
   "cell_type": "code",
   "execution_count": 20,
   "id": "0b360a84",
   "metadata": {
    "execution": {
     "iopub.execute_input": "2023-12-13T19:19:21.143102Z",
     "iopub.status.busy": "2023-12-13T19:19:21.142621Z",
     "iopub.status.idle": "2023-12-13T19:19:21.179256Z",
     "shell.execute_reply": "2023-12-13T19:19:21.177957Z"
    },
    "papermill": {
     "duration": 0.072137,
     "end_time": "2023-12-13T19:19:21.182093",
     "exception": false,
     "start_time": "2023-12-13T19:19:21.109956",
     "status": "completed"
    },
    "tags": []
   },
   "outputs": [],
   "source": [
    "members_df['bd'] = members_df['bd'].apply(lambda x : 0 if x > 100 else abs(x) )"
   ]
  },
  {
   "cell_type": "code",
   "execution_count": 21,
   "id": "4b25fc93",
   "metadata": {
    "execution": {
     "iopub.execute_input": "2023-12-13T19:19:21.246587Z",
     "iopub.status.busy": "2023-12-13T19:19:21.246146Z",
     "iopub.status.idle": "2023-12-13T19:19:21.252986Z",
     "shell.execute_reply": "2023-12-13T19:19:21.251839Z"
    },
    "papermill": {
     "duration": 0.04221,
     "end_time": "2023-12-13T19:19:21.255840",
     "exception": false,
     "start_time": "2023-12-13T19:19:21.213630",
     "status": "completed"
    },
    "tags": []
   },
   "outputs": [],
   "source": [
    "members_df['gender'] = members_df['gender'].astype(\"category\").cat.codes"
   ]
  },
  {
   "cell_type": "code",
   "execution_count": 22,
   "id": "e8d0e6f9",
   "metadata": {
    "execution": {
     "iopub.execute_input": "2023-12-13T19:19:21.321617Z",
     "iopub.status.busy": "2023-12-13T19:19:21.321143Z",
     "iopub.status.idle": "2023-12-13T19:19:21.338323Z",
     "shell.execute_reply": "2023-12-13T19:19:21.337356Z"
    },
    "papermill": {
     "duration": 0.053287,
     "end_time": "2023-12-13T19:19:21.341001",
     "exception": false,
     "start_time": "2023-12-13T19:19:21.287714",
     "status": "completed"
    },
    "tags": []
   },
   "outputs": [],
   "source": [
    "train_age = members_df[members_df['bd'] != 0].copy() \n",
    "y_train_age  = train_age['bd']\n",
    "train_age.drop(['msno' ,'bd','gender'],axis = 1 , inplace = True )\n",
    "test_age =  members_df[members_df['bd'] == 0].copy() \n",
    "y_test_age  = test_age['bd']\n",
    "test_age.drop(['msno' ,'bd','gender'],axis = 1 , inplace = True )"
   ]
  },
  {
   "cell_type": "code",
   "execution_count": 23,
   "id": "fcffb6f3",
   "metadata": {
    "execution": {
     "iopub.execute_input": "2023-12-13T19:19:21.406864Z",
     "iopub.status.busy": "2023-12-13T19:19:21.406169Z",
     "iopub.status.idle": "2023-12-13T19:19:21.419427Z",
     "shell.execute_reply": "2023-12-13T19:19:21.418048Z"
    },
    "papermill": {
     "duration": 0.049224,
     "end_time": "2023-12-13T19:19:21.422075",
     "exception": false,
     "start_time": "2023-12-13T19:19:21.372851",
     "status": "completed"
    },
    "tags": []
   },
   "outputs": [
    {
     "data": {
      "text/html": [
       "<div>\n",
       "<style scoped>\n",
       "    .dataframe tbody tr th:only-of-type {\n",
       "        vertical-align: middle;\n",
       "    }\n",
       "\n",
       "    .dataframe tbody tr th {\n",
       "        vertical-align: top;\n",
       "    }\n",
       "\n",
       "    .dataframe thead th {\n",
       "        text-align: right;\n",
       "    }\n",
       "</style>\n",
       "<table border=\"1\" class=\"dataframe\">\n",
       "  <thead>\n",
       "    <tr style=\"text-align: right;\">\n",
       "      <th></th>\n",
       "      <th>city</th>\n",
       "      <th>registered_via</th>\n",
       "      <th>reg_year</th>\n",
       "      <th>reg_month</th>\n",
       "      <th>reg_day</th>\n",
       "      <th>exp_year</th>\n",
       "      <th>exp_month</th>\n",
       "      <th>exp_day</th>\n",
       "    </tr>\n",
       "  </thead>\n",
       "  <tbody>\n",
       "    <tr>\n",
       "      <th>5</th>\n",
       "      <td>13</td>\n",
       "      <td>9</td>\n",
       "      <td>2012</td>\n",
       "      <td>7</td>\n",
       "      <td>3</td>\n",
       "      <td>2017</td>\n",
       "      <td>10</td>\n",
       "      <td>6</td>\n",
       "    </tr>\n",
       "    <tr>\n",
       "      <th>10</th>\n",
       "      <td>12</td>\n",
       "      <td>9</td>\n",
       "      <td>2006</td>\n",
       "      <td>5</td>\n",
       "      <td>31</td>\n",
       "      <td>2017</td>\n",
       "      <td>8</td>\n",
       "      <td>16</td>\n",
       "    </tr>\n",
       "    <tr>\n",
       "      <th>13</th>\n",
       "      <td>15</td>\n",
       "      <td>3</td>\n",
       "      <td>2015</td>\n",
       "      <td>9</td>\n",
       "      <td>15</td>\n",
       "      <td>2017</td>\n",
       "      <td>10</td>\n",
       "      <td>19</td>\n",
       "    </tr>\n",
       "    <tr>\n",
       "      <th>15</th>\n",
       "      <td>13</td>\n",
       "      <td>3</td>\n",
       "      <td>2014</td>\n",
       "      <td>4</td>\n",
       "      <td>10</td>\n",
       "      <td>2017</td>\n",
       "      <td>4</td>\n",
       "      <td>27</td>\n",
       "    </tr>\n",
       "    <tr>\n",
       "      <th>16</th>\n",
       "      <td>13</td>\n",
       "      <td>9</td>\n",
       "      <td>2007</td>\n",
       "      <td>3</td>\n",
       "      <td>30</td>\n",
       "      <td>2017</td>\n",
       "      <td>6</td>\n",
       "      <td>12</td>\n",
       "    </tr>\n",
       "  </tbody>\n",
       "</table>\n",
       "</div>"
      ],
      "text/plain": [
       "    city  registered_via  reg_year  reg_month  reg_day  exp_year  exp_month  \\\n",
       "5     13               9      2012          7        3      2017         10   \n",
       "10    12               9      2006          5       31      2017          8   \n",
       "13    15               3      2015          9       15      2017         10   \n",
       "15    13               3      2014          4       10      2017          4   \n",
       "16    13               9      2007          3       30      2017          6   \n",
       "\n",
       "    exp_day  \n",
       "5         6  \n",
       "10       16  \n",
       "13       19  \n",
       "15       27  \n",
       "16       12  "
      ]
     },
     "execution_count": 23,
     "metadata": {},
     "output_type": "execute_result"
    }
   ],
   "source": [
    "train_age.head()"
   ]
  },
  {
   "cell_type": "markdown",
   "id": "cc8730f5",
   "metadata": {
    "papermill": {
     "duration": 0.032053,
     "end_time": "2023-12-13T19:19:21.485868",
     "exception": false,
     "start_time": "2023-12-13T19:19:21.453815",
     "status": "completed"
    },
    "tags": []
   },
   "source": [
    "# Sorting or categorizing individuals based on their age and gender, especially when there are many instances where the values are 0"
   ]
  },
  {
   "cell_type": "code",
   "execution_count": 24,
   "id": "0d1df994",
   "metadata": {
    "execution": {
     "iopub.execute_input": "2023-12-13T19:19:21.551670Z",
     "iopub.status.busy": "2023-12-13T19:19:21.551261Z",
     "iopub.status.idle": "2023-12-13T19:19:26.449337Z",
     "shell.execute_reply": "2023-12-13T19:19:26.446795Z"
    },
    "papermill": {
     "duration": 4.937223,
     "end_time": "2023-12-13T19:19:26.454964",
     "exception": false,
     "start_time": "2023-12-13T19:19:21.517741",
     "status": "completed"
    },
    "tags": []
   },
   "outputs": [],
   "source": [
    "from lightgbm import LGBMClassifier , LGBMRegressor\n",
    "from catboost import CatBoostClassifier ,CatBoostRegressor\n",
    "\n",
    "from sklearn.model_selection import GridSearchCV , cross_val_score\n",
    "from sklearn.metrics import mean_absolute_error as MAE\n",
    "from sklearn.metrics import mean_squared_error as MSE"
   ]
  },
  {
   "cell_type": "code",
   "execution_count": 25,
   "id": "8443e8c3",
   "metadata": {
    "execution": {
     "iopub.execute_input": "2023-12-13T19:19:26.657766Z",
     "iopub.status.busy": "2023-12-13T19:19:26.655003Z",
     "iopub.status.idle": "2023-12-13T19:19:44.167248Z",
     "shell.execute_reply": "2023-12-13T19:19:44.166222Z"
    },
    "papermill": {
     "duration": 17.617238,
     "end_time": "2023-12-13T19:19:44.171185",
     "exception": false,
     "start_time": "2023-12-13T19:19:26.553947",
     "status": "completed"
    },
    "tags": []
   },
   "outputs": [
    {
     "data": {
      "text/plain": [
       "8.873272710866614"
      ]
     },
     "execution_count": 25,
     "metadata": {},
     "output_type": "execute_result"
    }
   ],
   "source": [
    "model = CatBoostRegressor(verbose = 0)\n",
    "model.fit(train_age.values, y_train_age.values.ravel())\n",
    "cv_score = np.sqrt(- cross_val_score(model, train_age.values,y_train_age.values.ravel(), cv=3 ,scoring='neg_mean_squared_error').mean())\n",
    "cv_score"
   ]
  },
  {
   "cell_type": "code",
   "execution_count": 26,
   "id": "638be998",
   "metadata": {
    "execution": {
     "iopub.execute_input": "2023-12-13T19:19:44.248977Z",
     "iopub.status.busy": "2023-12-13T19:19:44.248430Z",
     "iopub.status.idle": "2023-12-13T19:19:44.289123Z",
     "shell.execute_reply": "2023-12-13T19:19:44.287861Z"
    },
    "papermill": {
     "duration": 0.082828,
     "end_time": "2023-12-13T19:19:44.292009",
     "exception": false,
     "start_time": "2023-12-13T19:19:44.209181",
     "status": "completed"
    },
    "tags": []
   },
   "outputs": [
    {
     "data": {
      "text/plain": [
       "array([38., 25., 24., ..., 28., 28., 27.])"
      ]
     },
     "execution_count": 26,
     "metadata": {},
     "output_type": "execute_result"
    }
   ],
   "source": [
    "preds_age = model.predict(test_age.values)\n",
    "preds_age = preds_age.round()\n",
    "preds_age"
   ]
  },
  {
   "cell_type": "code",
   "execution_count": 27,
   "id": "f26f8a53",
   "metadata": {
    "execution": {
     "iopub.execute_input": "2023-12-13T19:19:44.358867Z",
     "iopub.status.busy": "2023-12-13T19:19:44.357780Z",
     "iopub.status.idle": "2023-12-13T19:19:44.369858Z",
     "shell.execute_reply": "2023-12-13T19:19:44.368526Z"
    },
    "papermill": {
     "duration": 0.048286,
     "end_time": "2023-12-13T19:19:44.372745",
     "exception": false,
     "start_time": "2023-12-13T19:19:44.324459",
     "status": "completed"
    },
    "tags": []
   },
   "outputs": [
    {
     "data": {
      "text/plain": [
       "bd\n",
       "0     19954\n",
       "22      751\n",
       "27      750\n",
       "24      740\n",
       "26      719\n",
       "      ...  \n",
       "90        1\n",
       "2         1\n",
       "70        1\n",
       "3         1\n",
       "10        1\n",
       "Name: count, Length: 80, dtype: int64"
      ]
     },
     "execution_count": 27,
     "metadata": {},
     "output_type": "execute_result"
    }
   ],
   "source": [
    "members_df['bd'].value_counts()"
   ]
  },
  {
   "cell_type": "code",
   "execution_count": 28,
   "id": "f96fd290",
   "metadata": {
    "execution": {
     "iopub.execute_input": "2023-12-13T19:19:44.448159Z",
     "iopub.status.busy": "2023-12-13T19:19:44.447635Z",
     "iopub.status.idle": "2023-12-13T19:19:45.235958Z",
     "shell.execute_reply": "2023-12-13T19:19:45.234697Z"
    },
    "papermill": {
     "duration": 0.82905,
     "end_time": "2023-12-13T19:19:45.238750",
     "exception": false,
     "start_time": "2023-12-13T19:19:44.409700",
     "status": "completed"
    },
    "tags": []
   },
   "outputs": [
    {
     "data": {
      "image/png": "[encoded data removed]",
      "text/plain": [
       "<Figure size 800x600 with 1 Axes>"
      ]
     },
     "metadata": {},
     "output_type": "display_data"
    }
   ],
   "source": [
    "import matplotlib.pyplot as plt\n",
    "import seaborn as sns\n",
    "\n",
    "# Assuming 'bd' is a column in your 'members_df' DataFrame\n",
    "sns.set(style=\"whitegrid\")  # Optional: Set a style for the plot\n",
    "fig, ax = plt.subplots(figsize=(8, 6))\n",
    "\n",
    "# Plotting the histogram with red color\n",
    "sns.histplot(x='bd', data=members_df, bins=10, color='red', ax=ax)\n",
    "\n",
    "# Adding a title to the plot\n",
    "ax.set_title('Histogram of bd', fontsize=16)\n",
    "\n",
    "plt.show()\n"
   ]
  },
  {
   "cell_type": "code",
   "execution_count": 29,
   "id": "865a7aaa",
   "metadata": {
    "execution": {
     "iopub.execute_input": "2023-12-13T19:19:45.317220Z",
     "iopub.status.busy": "2023-12-13T19:19:45.316713Z",
     "iopub.status.idle": "2023-12-13T19:19:47.719651Z",
     "shell.execute_reply": "2023-12-13T19:19:47.718407Z"
    },
    "papermill": {
     "duration": 2.445297,
     "end_time": "2023-12-13T19:19:47.722618",
     "exception": false,
     "start_time": "2023-12-13T19:19:45.277321",
     "status": "completed"
    },
    "tags": []
   },
   "outputs": [],
   "source": [
    "age_nulls_indexes = members_df[members_df['bd'] == 0].index\n",
    "j = 0\n",
    "for i in age_nulls_indexes : \n",
    "    members_df.loc[i , 'bd'] = preds_age[j]\n",
    "    j += 1"
   ]
  },
  {
   "cell_type": "code",
   "execution_count": 30,
   "id": "84670902",
   "metadata": {
    "execution": {
     "iopub.execute_input": "2023-12-13T19:19:47.799287Z",
     "iopub.status.busy": "2023-12-13T19:19:47.798773Z",
     "iopub.status.idle": "2023-12-13T19:19:47.809963Z",
     "shell.execute_reply": "2023-12-13T19:19:47.808806Z"
    },
    "papermill": {
     "duration": 0.053269,
     "end_time": "2023-12-13T19:19:47.813193",
     "exception": false,
     "start_time": "2023-12-13T19:19:47.759924",
     "status": "completed"
    },
    "tags": []
   },
   "outputs": [
    {
     "data": {
      "text/plain": [
       "bd\n",
       "26    3537\n",
       "27    3410\n",
       "28    2884\n",
       "25    2813\n",
       "29    2671\n",
       "      ... \n",
       "90       1\n",
       "76       1\n",
       "2        1\n",
       "97       1\n",
       "10       1\n",
       "Name: count, Length: 79, dtype: int64"
      ]
     },
     "execution_count": 30,
     "metadata": {},
     "output_type": "execute_result"
    }
   ],
   "source": [
    "members_df['bd'].value_counts()"
   ]
  },
  {
   "cell_type": "code",
   "execution_count": 31,
   "id": "611404bc",
   "metadata": {
    "execution": {
     "iopub.execute_input": "2023-12-13T19:19:47.904245Z",
     "iopub.status.busy": "2023-12-13T19:19:47.903769Z",
     "iopub.status.idle": "2023-12-13T19:19:48.349507Z",
     "shell.execute_reply": "2023-12-13T19:19:48.347981Z"
    },
    "papermill": {
     "duration": 0.499897,
     "end_time": "2023-12-13T19:19:48.352913",
     "exception": false,
     "start_time": "2023-12-13T19:19:47.853016",
     "status": "completed"
    },
    "tags": []
   },
   "outputs": [
    {
     "data": {
      "image/png": "[encoded data removed]",
      "text/plain": [
       "<Figure size 640x480 with 1 Axes>"
      ]
     },
     "metadata": {},
     "output_type": "display_data"
    }
   ],
   "source": [
    "import seaborn as sns\n",
    "import matplotlib.pyplot as plt\n",
    "\n",
    "# Assuming members_df is your DataFrame and 'bd' is a column in it\n",
    "sns.set(style=\"whitegrid\")  # Optional: Set the style if needed\n",
    "\n",
    "# Create the histogram with red color\n",
    "sns.histplot(x='bd', data=members_df, bins=10, color='red')\n",
    "\n",
    "# Set the title of the figure\n",
    "plt.title('Histogram of bd')\n",
    "\n",
    "# Show the plot\n",
    "plt.show()\n"
   ]
  },
  {
   "cell_type": "code",
   "execution_count": 32,
   "id": "f369dd89",
   "metadata": {
    "execution": {
     "iopub.execute_input": "2023-12-13T19:19:48.436635Z",
     "iopub.status.busy": "2023-12-13T19:19:48.436222Z",
     "iopub.status.idle": "2023-12-13T19:19:48.455275Z",
     "shell.execute_reply": "2023-12-13T19:19:48.454093Z"
    },
    "papermill": {
     "duration": 0.063762,
     "end_time": "2023-12-13T19:19:48.458742",
     "exception": false,
     "start_time": "2023-12-13T19:19:48.394980",
     "status": "completed"
    },
    "tags": []
   },
   "outputs": [],
   "source": [
    "train_gender =  members_df[members_df['gender'] != 0].copy() \n",
    "y_train_gender  = train_gender['gender']\n",
    "train_gender.drop(['msno','gender'],axis = 1 , inplace = True )\n",
    "test_gender =  members_df[members_df['gender'] == 0].copy() \n",
    "y_test_gender  = test_gender['gender']\n",
    "test_gender.drop(['msno' ,'gender'],axis = 1 , inplace = True )"
   ]
  },
  {
   "cell_type": "code",
   "execution_count": 33,
   "id": "11278cbf",
   "metadata": {
    "execution": {
     "iopub.execute_input": "2023-12-13T19:19:48.542146Z",
     "iopub.status.busy": "2023-12-13T19:19:48.541643Z",
     "iopub.status.idle": "2023-12-13T19:20:06.440588Z",
     "shell.execute_reply": "2023-12-13T19:20:06.439437Z"
    },
    "papermill": {
     "duration": 17.94394,
     "end_time": "2023-12-13T19:20:06.443653",
     "exception": false,
     "start_time": "2023-12-13T19:19:48.499713",
     "status": "completed"
    },
    "tags": []
   },
   "outputs": [
    {
     "data": {
      "text/plain": [
       "0.5258948136836681"
      ]
     },
     "execution_count": 33,
     "metadata": {},
     "output_type": "execute_result"
    }
   ],
   "source": [
    "model = CatBoostClassifier(verbose = 0 )\n",
    "model.fit(train_gender.values, y_train_gender.values.ravel())\n",
    "cv_score = cross_val_score(model, train_gender.values,y_train_gender.values.ravel(), cv=3 ,scoring='accuracy').mean()\n",
    "cv_score"
   ]
  },
  {
   "cell_type": "code",
   "execution_count": 34,
   "id": "1285a79c",
   "metadata": {
    "execution": {
     "iopub.execute_input": "2023-12-13T19:20:06.511647Z",
     "iopub.status.busy": "2023-12-13T19:20:06.511225Z",
     "iopub.status.idle": "2023-12-13T19:20:06.543454Z",
     "shell.execute_reply": "2023-12-13T19:20:06.542161Z"
    },
    "papermill": {
     "duration": 0.069857,
     "end_time": "2023-12-13T19:20:06.546754",
     "exception": false,
     "start_time": "2023-12-13T19:20:06.476897",
     "status": "completed"
    },
    "tags": []
   },
   "outputs": [],
   "source": [
    "predictions = model.predict(test_gender.values)"
   ]
  },
  {
   "cell_type": "code",
   "execution_count": 35,
   "id": "ec6af558",
   "metadata": {
    "execution": {
     "iopub.execute_input": "2023-12-13T19:20:06.616467Z",
     "iopub.status.busy": "2023-12-13T19:20:06.615702Z",
     "iopub.status.idle": "2023-12-13T19:20:06.627780Z",
     "shell.execute_reply": "2023-12-13T19:20:06.626609Z"
    },
    "papermill": {
     "duration": 0.050085,
     "end_time": "2023-12-13T19:20:06.630450",
     "exception": false,
     "start_time": "2023-12-13T19:20:06.580365",
     "status": "completed"
    },
    "tags": []
   },
   "outputs": [
    {
     "data": {
      "text/plain": [
       "gender\n",
       "0    19902\n",
       "2     7405\n",
       "1     7096\n",
       "Name: count, dtype: int64"
      ]
     },
     "execution_count": 35,
     "metadata": {},
     "output_type": "execute_result"
    }
   ],
   "source": [
    "members_df['gender'].value_counts()"
   ]
  },
  {
   "cell_type": "code",
   "execution_count": 36,
   "id": "791f906c",
   "metadata": {
    "execution": {
     "iopub.execute_input": "2023-12-13T19:20:06.698710Z",
     "iopub.status.busy": "2023-12-13T19:20:06.698256Z",
     "iopub.status.idle": "2023-12-13T19:20:08.661174Z",
     "shell.execute_reply": "2023-12-13T19:20:08.659873Z"
    },
    "papermill": {
     "duration": 2.000557,
     "end_time": "2023-12-13T19:20:08.664049",
     "exception": false,
     "start_time": "2023-12-13T19:20:06.663492",
     "status": "completed"
    },
    "tags": []
   },
   "outputs": [],
   "source": [
    "gender_nulls_indexes = members_df[members_df['gender'] == 0].index\n",
    "j = 0\n",
    "for i in gender_nulls_indexes : \n",
    "    members_df.loc[i , 'gender'] = predictions[j]\n",
    "    j += 1"
   ]
  },
  {
   "cell_type": "code",
   "execution_count": 37,
   "id": "fa84c91f",
   "metadata": {
    "execution": {
     "iopub.execute_input": "2023-12-13T19:20:08.734991Z",
     "iopub.status.busy": "2023-12-13T19:20:08.733659Z",
     "iopub.status.idle": "2023-12-13T19:20:08.743808Z",
     "shell.execute_reply": "2023-12-13T19:20:08.742684Z"
    },
    "papermill": {
     "duration": 0.048629,
     "end_time": "2023-12-13T19:20:08.746344",
     "exception": false,
     "start_time": "2023-12-13T19:20:08.697715",
     "status": "completed"
    },
    "tags": []
   },
   "outputs": [
    {
     "data": {
      "text/plain": [
       "gender\n",
       "1    17802\n",
       "2    16601\n",
       "Name: count, dtype: int64"
      ]
     },
     "execution_count": 37,
     "metadata": {},
     "output_type": "execute_result"
    }
   ],
   "source": [
    "members_df['gender'].value_counts()"
   ]
  },
  {
   "cell_type": "code",
   "execution_count": 38,
   "id": "fdd69c8d",
   "metadata": {
    "execution": {
     "iopub.execute_input": "2023-12-13T19:20:08.815393Z",
     "iopub.status.busy": "2023-12-13T19:20:08.814838Z",
     "iopub.status.idle": "2023-12-13T19:20:08.831384Z",
     "shell.execute_reply": "2023-12-13T19:20:08.830161Z"
    },
    "papermill": {
     "duration": 0.053511,
     "end_time": "2023-12-13T19:20:08.833777",
     "exception": false,
     "start_time": "2023-12-13T19:20:08.780266",
     "status": "completed"
    },
    "tags": []
   },
   "outputs": [
    {
     "data": {
      "text/html": [
       "<div>\n",
       "<style scoped>\n",
       "    .dataframe tbody tr th:only-of-type {\n",
       "        vertical-align: middle;\n",
       "    }\n",
       "\n",
       "    .dataframe tbody tr th {\n",
       "        vertical-align: top;\n",
       "    }\n",
       "\n",
       "    .dataframe thead th {\n",
       "        text-align: right;\n",
       "    }\n",
       "</style>\n",
       "<table border=\"1\" class=\"dataframe\">\n",
       "  <thead>\n",
       "    <tr style=\"text-align: right;\">\n",
       "      <th></th>\n",
       "      <th>msno</th>\n",
       "      <th>city</th>\n",
       "      <th>bd</th>\n",
       "      <th>gender</th>\n",
       "      <th>registered_via</th>\n",
       "      <th>reg_year</th>\n",
       "      <th>reg_month</th>\n",
       "      <th>reg_day</th>\n",
       "      <th>exp_year</th>\n",
       "      <th>exp_month</th>\n",
       "      <th>exp_day</th>\n",
       "    </tr>\n",
       "  </thead>\n",
       "  <tbody>\n",
       "    <tr>\n",
       "      <th>0</th>\n",
       "      <td>XQxgAYj3klVKjR3oxPPXYYFp4soD4TuBghkhMTD4oTw=</td>\n",
       "      <td>1</td>\n",
       "      <td>38</td>\n",
       "      <td>1</td>\n",
       "      <td>7</td>\n",
       "      <td>2011</td>\n",
       "      <td>8</td>\n",
       "      <td>20</td>\n",
       "      <td>2017</td>\n",
       "      <td>9</td>\n",
       "      <td>20</td>\n",
       "    </tr>\n",
       "    <tr>\n",
       "      <th>1</th>\n",
       "      <td>UizsfmJb9mV54qE9hCYyU07Va97c0lCRLEQX3ae+ztM=</td>\n",
       "      <td>1</td>\n",
       "      <td>25</td>\n",
       "      <td>1</td>\n",
       "      <td>7</td>\n",
       "      <td>2015</td>\n",
       "      <td>6</td>\n",
       "      <td>28</td>\n",
       "      <td>2017</td>\n",
       "      <td>6</td>\n",
       "      <td>22</td>\n",
       "    </tr>\n",
       "    <tr>\n",
       "      <th>2</th>\n",
       "      <td>D8nEhsIOBSoE6VthTaqDX8U6lqjJ7dLdr72mOyLya2A=</td>\n",
       "      <td>1</td>\n",
       "      <td>24</td>\n",
       "      <td>1</td>\n",
       "      <td>4</td>\n",
       "      <td>2016</td>\n",
       "      <td>4</td>\n",
       "      <td>11</td>\n",
       "      <td>2017</td>\n",
       "      <td>7</td>\n",
       "      <td>12</td>\n",
       "    </tr>\n",
       "    <tr>\n",
       "      <th>3</th>\n",
       "      <td>mCuD+tZ1hERA/o5GPqk38e041J8ZsBaLcu7nGoIIvhI=</td>\n",
       "      <td>1</td>\n",
       "      <td>33</td>\n",
       "      <td>1</td>\n",
       "      <td>9</td>\n",
       "      <td>2015</td>\n",
       "      <td>9</td>\n",
       "      <td>6</td>\n",
       "      <td>2015</td>\n",
       "      <td>9</td>\n",
       "      <td>7</td>\n",
       "    </tr>\n",
       "    <tr>\n",
       "      <th>4</th>\n",
       "      <td>q4HRBfVSssAFS9iRfxWrohxuk9kCYMKjHOEagUMV6rQ=</td>\n",
       "      <td>1</td>\n",
       "      <td>25</td>\n",
       "      <td>1</td>\n",
       "      <td>4</td>\n",
       "      <td>2017</td>\n",
       "      <td>1</td>\n",
       "      <td>26</td>\n",
       "      <td>2017</td>\n",
       "      <td>6</td>\n",
       "      <td>13</td>\n",
       "    </tr>\n",
       "  </tbody>\n",
       "</table>\n",
       "</div>"
      ],
      "text/plain": [
       "                                           msno  city  bd  gender  \\\n",
       "0  XQxgAYj3klVKjR3oxPPXYYFp4soD4TuBghkhMTD4oTw=     1  38       1   \n",
       "1  UizsfmJb9mV54qE9hCYyU07Va97c0lCRLEQX3ae+ztM=     1  25       1   \n",
       "2  D8nEhsIOBSoE6VthTaqDX8U6lqjJ7dLdr72mOyLya2A=     1  24       1   \n",
       "3  mCuD+tZ1hERA/o5GPqk38e041J8ZsBaLcu7nGoIIvhI=     1  33       1   \n",
       "4  q4HRBfVSssAFS9iRfxWrohxuk9kCYMKjHOEagUMV6rQ=     1  25       1   \n",
       "\n",
       "   registered_via  reg_year  reg_month  reg_day  exp_year  exp_month  exp_day  \n",
       "0               7      2011          8       20      2017          9       20  \n",
       "1               7      2015          6       28      2017          6       22  \n",
       "2               4      2016          4       11      2017          7       12  \n",
       "3               9      2015          9        6      2015          9        7  \n",
       "4               4      2017          1       26      2017          6       13  "
      ]
     },
     "execution_count": 38,
     "metadata": {},
     "output_type": "execute_result"
    }
   ],
   "source": [
    "members_df.head()"
   ]
  },
  {
   "cell_type": "markdown",
   "id": "b3b74fbe",
   "metadata": {
    "papermill": {
     "duration": 0.033415,
     "end_time": "2023-12-13T19:20:08.901016",
     "exception": false,
     "start_time": "2023-12-13T19:20:08.867601",
     "status": "completed"
    },
    "tags": []
   },
   "source": [
    "# Combining the train and test datasets to get them ready for preparation steps"
   ]
  },
  {
   "cell_type": "code",
   "execution_count": 39,
   "id": "9582bfe0",
   "metadata": {
    "execution": {
     "iopub.execute_input": "2023-12-13T19:20:08.970956Z",
     "iopub.status.busy": "2023-12-13T19:20:08.970541Z",
     "iopub.status.idle": "2023-12-13T19:20:14.012203Z",
     "shell.execute_reply": "2023-12-13T19:20:14.010375Z"
    },
    "papermill": {
     "duration": 5.080036,
     "end_time": "2023-12-13T19:20:14.014808",
     "exception": false,
     "start_time": "2023-12-13T19:20:08.934772",
     "status": "completed"
    },
    "tags": []
   },
   "outputs": [
    {
     "name": "stdout",
     "output_type": "stream",
     "text": [
      "all_data size is : (9934208, 6)\n"
     ]
    }
   ],
   "source": [
    "ntrain = train_df.shape[0]\n",
    "ntest = test_df.shape[0]\n",
    "y_train = train_df['target'].values\n",
    "test_IDs = test_df['msno'].copy()\n",
    "all_data = pd.concat((train_df.drop('target',axis =1), test_df)).reset_index(drop=True)\n",
    "print(\"all_data size is : {}\".format(all_data.shape))"
   ]
  },
  {
   "cell_type": "code",
   "execution_count": 40,
   "id": "8c4590fb",
   "metadata": {
    "execution": {
     "iopub.execute_input": "2023-12-13T19:20:14.085047Z",
     "iopub.status.busy": "2023-12-13T19:20:14.084610Z",
     "iopub.status.idle": "2023-12-13T19:20:14.770638Z",
     "shell.execute_reply": "2023-12-13T19:20:14.769411Z"
    },
    "papermill": {
     "duration": 0.724984,
     "end_time": "2023-12-13T19:20:14.773559",
     "exception": false,
     "start_time": "2023-12-13T19:20:14.048575",
     "status": "completed"
    },
    "tags": []
   },
   "outputs": [],
   "source": [
    "all_data.drop('id', axis =1 , inplace = True)"
   ]
  },
  {
   "cell_type": "code",
   "execution_count": 41,
   "id": "1a1549ee",
   "metadata": {
    "execution": {
     "iopub.execute_input": "2023-12-13T19:20:14.843664Z",
     "iopub.status.busy": "2023-12-13T19:20:14.842687Z",
     "iopub.status.idle": "2023-12-13T19:20:36.661260Z",
     "shell.execute_reply": "2023-12-13T19:20:36.660064Z"
    },
    "papermill": {
     "duration": 21.856932,
     "end_time": "2023-12-13T19:20:36.664184",
     "exception": false,
     "start_time": "2023-12-13T19:20:14.807252",
     "status": "completed"
    },
    "tags": []
   },
   "outputs": [],
   "source": [
    "all_data = all_data.merge(members_df, on='msno', how='left')\n",
    "\n",
    "all_data = all_data.merge(songs_df, on = 'song_id', how = 'left')"
   ]
  },
  {
   "cell_type": "code",
   "execution_count": 42,
   "id": "eb1849e2",
   "metadata": {
    "execution": {
     "iopub.execute_input": "2023-12-13T19:20:36.734784Z",
     "iopub.status.busy": "2023-12-13T19:20:36.733938Z",
     "iopub.status.idle": "2023-12-13T19:20:36.941349Z",
     "shell.execute_reply": "2023-12-13T19:20:36.940503Z"
    },
    "papermill": {
     "duration": 0.24527,
     "end_time": "2023-12-13T19:20:36.943942",
     "exception": false,
     "start_time": "2023-12-13T19:20:36.698672",
     "status": "completed"
    },
    "tags": []
   },
   "outputs": [
    {
     "data": {
      "text/plain": [
       "261"
      ]
     },
     "execution_count": 42,
     "metadata": {},
     "output_type": "execute_result"
    }
   ],
   "source": [
    "del [[members_df,songs_df]]\n",
    "import gc\n",
    "gc.collect()"
   ]
  },
  {
   "cell_type": "code",
   "execution_count": 43,
   "id": "e296eed7",
   "metadata": {
    "execution": {
     "iopub.execute_input": "2023-12-13T19:20:37.014387Z",
     "iopub.status.busy": "2023-12-13T19:20:37.013592Z",
     "iopub.status.idle": "2023-12-13T19:20:44.162040Z",
     "shell.execute_reply": "2023-12-13T19:20:44.160490Z"
    },
    "papermill": {
     "duration": 7.187345,
     "end_time": "2023-12-13T19:20:44.165119",
     "exception": false,
     "start_time": "2023-12-13T19:20:36.977774",
     "status": "completed"
    },
    "tags": []
   },
   "outputs": [],
   "source": [
    "for i in range(0,8):\n",
    "    all_data[i] = all_data[i].fillna(0)"
   ]
  },
  {
   "cell_type": "code",
   "execution_count": 44,
   "id": "e938fb62",
   "metadata": {
    "execution": {
     "iopub.execute_input": "2023-12-13T19:20:44.234992Z",
     "iopub.status.busy": "2023-12-13T19:20:44.234586Z",
     "iopub.status.idle": "2023-12-13T19:20:45.512215Z",
     "shell.execute_reply": "2023-12-13T19:20:45.510968Z"
    },
    "papermill": {
     "duration": 1.315389,
     "end_time": "2023-12-13T19:20:45.514861",
     "exception": false,
     "start_time": "2023-12-13T19:20:44.199472",
     "status": "completed"
    },
    "tags": []
   },
   "outputs": [
    {
     "data": {
      "text/plain": [
       "0\n",
       "465     5062629\n",
       "458     1651779\n",
       "921      610930\n",
       "1609     450948\n",
       "444      378968\n",
       "         ...   \n",
       "87            1\n",
       "2015          1\n",
       "1579          1\n",
       "751           1\n",
       "303           1\n",
       "Name: count, Length: 166, dtype: int64"
      ]
     },
     "execution_count": 44,
     "metadata": {},
     "output_type": "execute_result"
    }
   ],
   "source": [
    "all_data[0].value_counts()"
   ]
  },
  {
   "cell_type": "code",
   "execution_count": 45,
   "id": "fff867ae",
   "metadata": {
    "execution": {
     "iopub.execute_input": "2023-12-13T19:20:45.585639Z",
     "iopub.status.busy": "2023-12-13T19:20:45.585238Z",
     "iopub.status.idle": "2023-12-13T19:20:57.436021Z",
     "shell.execute_reply": "2023-12-13T19:20:57.434902Z"
    },
    "papermill": {
     "duration": 11.889991,
     "end_time": "2023-12-13T19:20:57.438981",
     "exception": false,
     "start_time": "2023-12-13T19:20:45.548990",
     "status": "completed"
    },
    "tags": []
   },
   "outputs": [],
   "source": [
    "for i in range(0,8):\n",
    "    all_data[i] = all_data[i].astype('category').cat.codes"
   ]
  },
  {
   "cell_type": "code",
   "execution_count": 46,
   "id": "333b796f",
   "metadata": {
    "execution": {
     "iopub.execute_input": "2023-12-13T19:20:57.511038Z",
     "iopub.status.busy": "2023-12-13T19:20:57.510573Z",
     "iopub.status.idle": "2023-12-13T19:20:57.594796Z",
     "shell.execute_reply": "2023-12-13T19:20:57.593363Z"
    },
    "papermill": {
     "duration": 0.122287,
     "end_time": "2023-12-13T19:20:57.597356",
     "exception": false,
     "start_time": "2023-12-13T19:20:57.475069",
     "status": "completed"
    },
    "tags": []
   },
   "outputs": [
    {
     "data": {
      "text/plain": [
       "0\n",
       "119    5062629\n",
       "118    1651779\n",
       "155     610930\n",
       "47      450948\n",
       "116     378968\n",
       "        ...   \n",
       "149          1\n",
       "65           1\n",
       "44           1\n",
       "138          1\n",
       "102          1\n",
       "Name: count, Length: 166, dtype: int64"
      ]
     },
     "execution_count": 46,
     "metadata": {},
     "output_type": "execute_result"
    }
   ],
   "source": [
    "all_data[0].value_counts()"
   ]
  },
  {
   "cell_type": "code",
   "execution_count": 47,
   "id": "afcd60b5",
   "metadata": {
    "execution": {
     "iopub.execute_input": "2023-12-13T19:20:57.667769Z",
     "iopub.status.busy": "2023-12-13T19:20:57.667280Z",
     "iopub.status.idle": "2023-12-13T19:21:01.409942Z",
     "shell.execute_reply": "2023-12-13T19:21:01.409007Z"
    },
    "papermill": {
     "duration": 3.780904,
     "end_time": "2023-12-13T19:21:01.412558",
     "exception": false,
     "start_time": "2023-12-13T19:20:57.631654",
     "status": "completed"
    },
    "tags": []
   },
   "outputs": [
    {
     "data": {
      "text/plain": [
       "['song_length', 'artist_name', 'composer', 'lyricist', 'language']"
      ]
     },
     "execution_count": 47,
     "metadata": {},
     "output_type": "execute_result"
    }
   ],
   "source": [
    "nulls_cols = all_data.isnull().sum()\n",
    "nulls_cols = nulls_cols[nulls_cols != 0]\n",
    "list(nulls_cols.keys())"
   ]
  },
  {
   "cell_type": "code",
   "execution_count": 48,
   "id": "bd757237",
   "metadata": {
    "execution": {
     "iopub.execute_input": "2023-12-13T19:21:01.485923Z",
     "iopub.status.busy": "2023-12-13T19:21:01.485136Z",
     "iopub.status.idle": "2023-12-13T19:21:02.944938Z",
     "shell.execute_reply": "2023-12-13T19:21:02.943588Z"
    },
    "papermill": {
     "duration": 1.50052,
     "end_time": "2023-12-13T19:21:02.948138",
     "exception": false,
     "start_time": "2023-12-13T19:21:01.447618",
     "status": "completed"
    },
    "tags": []
   },
   "outputs": [],
   "source": [
    "for col in list(nulls_cols.keys()): \n",
    "    all_data[col] = all_data[col].fillna(all_data[col].mode()[0])"
   ]
  },
  {
   "cell_type": "code",
   "execution_count": 49,
   "id": "b0f777c9",
   "metadata": {
    "execution": {
     "iopub.execute_input": "2023-12-13T19:21:03.023447Z",
     "iopub.status.busy": "2023-12-13T19:21:03.023017Z",
     "iopub.status.idle": "2023-12-13T19:21:06.732619Z",
     "shell.execute_reply": "2023-12-13T19:21:06.731441Z"
    },
    "papermill": {
     "duration": 3.751135,
     "end_time": "2023-12-13T19:21:06.735312",
     "exception": false,
     "start_time": "2023-12-13T19:21:02.984177",
     "status": "completed"
    },
    "tags": []
   },
   "outputs": [
    {
     "data": {
      "text/plain": [
       "msno                  0\n",
       "song_id               0\n",
       "source_system_tab     0\n",
       "source_screen_name    0\n",
       "source_type           0\n",
       "city                  0\n",
       "bd                    0\n",
       "gender                0\n",
       "registered_via        0\n",
       "reg_year              0\n",
       "reg_month             0\n",
       "reg_day               0\n",
       "exp_year              0\n",
       "exp_month             0\n",
       "exp_day               0\n",
       "song_length           0\n",
       "artist_name           0\n",
       "composer              0\n",
       "lyricist              0\n",
       "language              0\n",
       "0                     0\n",
       "1                     0\n",
       "2                     0\n",
       "3                     0\n",
       "4                     0\n",
       "5                     0\n",
       "6                     0\n",
       "7                     0\n",
       "dtype: int64"
      ]
     },
     "execution_count": 49,
     "metadata": {},
     "output_type": "execute_result"
    }
   ],
   "source": [
    "all_data.isnull().sum()"
   ]
  },
  {
   "cell_type": "code",
   "execution_count": 50,
   "id": "705036cd",
   "metadata": {
    "execution": {
     "iopub.execute_input": "2023-12-13T19:21:06.807572Z",
     "iopub.status.busy": "2023-12-13T19:21:06.806609Z",
     "iopub.status.idle": "2023-12-13T19:21:06.832325Z",
     "shell.execute_reply": "2023-12-13T19:21:06.831175Z"
    },
    "papermill": {
     "duration": 0.064275,
     "end_time": "2023-12-13T19:21:06.834820",
     "exception": false,
     "start_time": "2023-12-13T19:21:06.770545",
     "status": "completed"
    },
    "tags": []
   },
   "outputs": [
    {
     "data": {
      "text/html": [
       "<div>\n",
       "<style scoped>\n",
       "    .dataframe tbody tr th:only-of-type {\n",
       "        vertical-align: middle;\n",
       "    }\n",
       "\n",
       "    .dataframe tbody tr th {\n",
       "        vertical-align: top;\n",
       "    }\n",
       "\n",
       "    .dataframe thead th {\n",
       "        text-align: right;\n",
       "    }\n",
       "</style>\n",
       "<table border=\"1\" class=\"dataframe\">\n",
       "  <thead>\n",
       "    <tr style=\"text-align: right;\">\n",
       "      <th></th>\n",
       "      <th>msno</th>\n",
       "      <th>song_id</th>\n",
       "      <th>source_system_tab</th>\n",
       "      <th>source_screen_name</th>\n",
       "      <th>source_type</th>\n",
       "      <th>city</th>\n",
       "      <th>bd</th>\n",
       "      <th>gender</th>\n",
       "      <th>registered_via</th>\n",
       "      <th>reg_year</th>\n",
       "      <th>...</th>\n",
       "      <th>lyricist</th>\n",
       "      <th>language</th>\n",
       "      <th>0</th>\n",
       "      <th>1</th>\n",
       "      <th>2</th>\n",
       "      <th>3</th>\n",
       "      <th>4</th>\n",
       "      <th>5</th>\n",
       "      <th>6</th>\n",
       "      <th>7</th>\n",
       "    </tr>\n",
       "  </thead>\n",
       "  <tbody>\n",
       "    <tr>\n",
       "      <th>0</th>\n",
       "      <td>FGtllVqz18RPiwJj/edr2gV78zirAiY/9SmYvia+kCg=</td>\n",
       "      <td>BBzumQNXUHKdEBOB7mAJuzok+IJA1c2Ryg/yzTF6tik=</td>\n",
       "      <td>explore</td>\n",
       "      <td>Explore</td>\n",
       "      <td>online-playlist</td>\n",
       "      <td>1</td>\n",
       "      <td>30</td>\n",
       "      <td>2</td>\n",
       "      <td>7</td>\n",
       "      <td>2012</td>\n",
       "      <td>...</td>\n",
       "      <td></td>\n",
       "      <td>52.0</td>\n",
       "      <td>106</td>\n",
       "      <td>0</td>\n",
       "      <td>0</td>\n",
       "      <td>0</td>\n",
       "      <td>0</td>\n",
       "      <td>0</td>\n",
       "      <td>0</td>\n",
       "      <td>0</td>\n",
       "    </tr>\n",
       "    <tr>\n",
       "      <th>1</th>\n",
       "      <td>Xumu+NIjS6QYVxDS4/t3SawvJ7viT9hPKXmf0RtLNx8=</td>\n",
       "      <td>bhp/MpSNoqoxOIB+/l8WPqu6jldth4DIpCm3ayXnJqM=</td>\n",
       "      <td>my library</td>\n",
       "      <td>Local playlist more</td>\n",
       "      <td>local-playlist</td>\n",
       "      <td>13</td>\n",
       "      <td>24</td>\n",
       "      <td>1</td>\n",
       "      <td>9</td>\n",
       "      <td>2011</td>\n",
       "      <td>...</td>\n",
       "      <td></td>\n",
       "      <td>52.0</td>\n",
       "      <td>35</td>\n",
       "      <td>0</td>\n",
       "      <td>0</td>\n",
       "      <td>0</td>\n",
       "      <td>0</td>\n",
       "      <td>0</td>\n",
       "      <td>0</td>\n",
       "      <td>0</td>\n",
       "    </tr>\n",
       "    <tr>\n",
       "      <th>2</th>\n",
       "      <td>Xumu+NIjS6QYVxDS4/t3SawvJ7viT9hPKXmf0RtLNx8=</td>\n",
       "      <td>JNWfrrC7zNN7BdMpsISKa4Mw+xVJYNnxXh3/Epw7QgY=</td>\n",
       "      <td>my library</td>\n",
       "      <td>Local playlist more</td>\n",
       "      <td>local-playlist</td>\n",
       "      <td>13</td>\n",
       "      <td>24</td>\n",
       "      <td>1</td>\n",
       "      <td>9</td>\n",
       "      <td>2011</td>\n",
       "      <td>...</td>\n",
       "      <td></td>\n",
       "      <td>52.0</td>\n",
       "      <td>35</td>\n",
       "      <td>0</td>\n",
       "      <td>0</td>\n",
       "      <td>0</td>\n",
       "      <td>0</td>\n",
       "      <td>0</td>\n",
       "      <td>0</td>\n",
       "      <td>0</td>\n",
       "    </tr>\n",
       "    <tr>\n",
       "      <th>3</th>\n",
       "      <td>Xumu+NIjS6QYVxDS4/t3SawvJ7viT9hPKXmf0RtLNx8=</td>\n",
       "      <td>2A87tzfnJTSWqD7gIZHisolhe4DMdzkbd6LzO1KHjNs=</td>\n",
       "      <td>my library</td>\n",
       "      <td>Local playlist more</td>\n",
       "      <td>local-playlist</td>\n",
       "      <td>13</td>\n",
       "      <td>24</td>\n",
       "      <td>1</td>\n",
       "      <td>9</td>\n",
       "      <td>2011</td>\n",
       "      <td>...</td>\n",
       "      <td></td>\n",
       "      <td>-1.0</td>\n",
       "      <td>5</td>\n",
       "      <td>0</td>\n",
       "      <td>0</td>\n",
       "      <td>0</td>\n",
       "      <td>0</td>\n",
       "      <td>0</td>\n",
       "      <td>0</td>\n",
       "      <td>0</td>\n",
       "    </tr>\n",
       "    <tr>\n",
       "      <th>4</th>\n",
       "      <td>FGtllVqz18RPiwJj/edr2gV78zirAiY/9SmYvia+kCg=</td>\n",
       "      <td>3qm6XTZ6MOCU11x8FIVbAGH5l5uMkT3/ZalWG1oo2Gc=</td>\n",
       "      <td>explore</td>\n",
       "      <td>Explore</td>\n",
       "      <td>online-playlist</td>\n",
       "      <td>1</td>\n",
       "      <td>30</td>\n",
       "      <td>2</td>\n",
       "      <td>7</td>\n",
       "      <td>2012</td>\n",
       "      <td>...</td>\n",
       "      <td></td>\n",
       "      <td>52.0</td>\n",
       "      <td>4</td>\n",
       "      <td>0</td>\n",
       "      <td>0</td>\n",
       "      <td>0</td>\n",
       "      <td>0</td>\n",
       "      <td>0</td>\n",
       "      <td>0</td>\n",
       "      <td>0</td>\n",
       "    </tr>\n",
       "  </tbody>\n",
       "</table>\n",
       "<p>5 rows × 28 columns</p>\n",
       "</div>"
      ],
      "text/plain": [
       "                                           msno  \\\n",
       "0  FGtllVqz18RPiwJj/edr2gV78zirAiY/9SmYvia+kCg=   \n",
       "1  Xumu+NIjS6QYVxDS4/t3SawvJ7viT9hPKXmf0RtLNx8=   \n",
       "2  Xumu+NIjS6QYVxDS4/t3SawvJ7viT9hPKXmf0RtLNx8=   \n",
       "3  Xumu+NIjS6QYVxDS4/t3SawvJ7viT9hPKXmf0RtLNx8=   \n",
       "4  FGtllVqz18RPiwJj/edr2gV78zirAiY/9SmYvia+kCg=   \n",
       "\n",
       "                                        song_id source_system_tab  \\\n",
       "0  BBzumQNXUHKdEBOB7mAJuzok+IJA1c2Ryg/yzTF6tik=           explore   \n",
       "1  bhp/MpSNoqoxOIB+/l8WPqu6jldth4DIpCm3ayXnJqM=        my library   \n",
       "2  JNWfrrC7zNN7BdMpsISKa4Mw+xVJYNnxXh3/Epw7QgY=        my library   \n",
       "3  2A87tzfnJTSWqD7gIZHisolhe4DMdzkbd6LzO1KHjNs=        my library   \n",
       "4  3qm6XTZ6MOCU11x8FIVbAGH5l5uMkT3/ZalWG1oo2Gc=           explore   \n",
       "\n",
       "    source_screen_name      source_type  city  bd  gender  registered_via  \\\n",
       "0              Explore  online-playlist     1  30       2               7   \n",
       "1  Local playlist more   local-playlist    13  24       1               9   \n",
       "2  Local playlist more   local-playlist    13  24       1               9   \n",
       "3  Local playlist more   local-playlist    13  24       1               9   \n",
       "4              Explore  online-playlist     1  30       2               7   \n",
       "\n",
       "   reg_year  ...  lyricist  language    0  1  2  3  4  5  6  7  \n",
       "0      2012  ...                52.0  106  0  0  0  0  0  0  0  \n",
       "1      2011  ...                52.0   35  0  0  0  0  0  0  0  \n",
       "2      2011  ...                52.0   35  0  0  0  0  0  0  0  \n",
       "3      2011  ...                -1.0    5  0  0  0  0  0  0  0  \n",
       "4      2012  ...                52.0    4  0  0  0  0  0  0  0  \n",
       "\n",
       "[5 rows x 28 columns]"
      ]
     },
     "execution_count": 50,
     "metadata": {},
     "output_type": "execute_result"
    }
   ],
   "source": [
    "all_data.head()"
   ]
  },
  {
   "cell_type": "code",
   "execution_count": 51,
   "id": "c24430f1",
   "metadata": {
    "execution": {
     "iopub.execute_input": "2023-12-13T19:21:06.907484Z",
     "iopub.status.busy": "2023-12-13T19:21:06.906425Z",
     "iopub.status.idle": "2023-12-13T19:21:06.993425Z",
     "shell.execute_reply": "2023-12-13T19:21:06.992227Z"
    },
    "papermill": {
     "duration": 0.126473,
     "end_time": "2023-12-13T19:21:06.996136",
     "exception": false,
     "start_time": "2023-12-13T19:21:06.869663",
     "status": "completed"
    },
    "tags": []
   },
   "outputs": [
    {
     "data": {
      "text/plain": [
       "composer    86203\n",
       "dtype: int64"
      ]
     },
     "execution_count": 51,
     "metadata": {},
     "output_type": "execute_result"
    }
   ],
   "source": [
    "all_data[['composer']].nunique()"
   ]
  },
  {
   "cell_type": "code",
   "execution_count": 52,
   "id": "98932c13",
   "metadata": {
    "execution": {
     "iopub.execute_input": "2023-12-13T19:21:07.070231Z",
     "iopub.status.busy": "2023-12-13T19:21:07.068926Z",
     "iopub.status.idle": "2023-12-13T19:21:12.828485Z",
     "shell.execute_reply": "2023-12-13T19:21:12.827319Z"
    },
    "papermill": {
     "duration": 5.799481,
     "end_time": "2023-12-13T19:21:12.831778",
     "exception": false,
     "start_time": "2023-12-13T19:21:07.032297",
     "status": "completed"
    },
    "tags": []
   },
   "outputs": [],
   "source": [
    "categorical_col = ['city','gender','registered_via','language','artist_name','composer','lyricist']\n",
    "for col in all_data.columns:\n",
    "    if all_data[col].dtype in [bool ,object, 'category'] and len(all_data[col].unique()) <= 50:\n",
    "        categorical_col.append(col)"
   ]
  },
  {
   "cell_type": "code",
   "execution_count": 53,
   "id": "d6553f6c",
   "metadata": {
    "execution": {
     "iopub.execute_input": "2023-12-13T19:21:12.912615Z",
     "iopub.status.busy": "2023-12-13T19:21:12.912057Z",
     "iopub.status.idle": "2023-12-13T19:21:12.920253Z",
     "shell.execute_reply": "2023-12-13T19:21:12.919053Z"
    },
    "papermill": {
     "duration": 0.048487,
     "end_time": "2023-12-13T19:21:12.922851",
     "exception": false,
     "start_time": "2023-12-13T19:21:12.874364",
     "status": "completed"
    },
    "tags": []
   },
   "outputs": [
    {
     "data": {
      "text/plain": [
       "['city',\n",
       " 'gender',\n",
       " 'registered_via',\n",
       " 'language',\n",
       " 'artist_name',\n",
       " 'composer',\n",
       " 'lyricist',\n",
       " 'source_system_tab',\n",
       " 'source_screen_name',\n",
       " 'source_type']"
      ]
     },
     "execution_count": 53,
     "metadata": {},
     "output_type": "execute_result"
    }
   ],
   "source": [
    "categorical_col"
   ]
  },
  {
   "cell_type": "code",
   "execution_count": 54,
   "id": "4e6aaaba",
   "metadata": {
    "execution": {
     "iopub.execute_input": "2023-12-13T19:21:13.004764Z",
     "iopub.status.busy": "2023-12-13T19:21:13.003910Z",
     "iopub.status.idle": "2023-12-13T19:21:14.657184Z",
     "shell.execute_reply": "2023-12-13T19:21:14.655899Z"
    },
    "papermill": {
     "duration": 1.696172,
     "end_time": "2023-12-13T19:21:14.660209",
     "exception": false,
     "start_time": "2023-12-13T19:21:12.964037",
     "status": "completed"
    },
    "tags": []
   },
   "outputs": [],
   "source": [
    "for col in categorical_col:\n",
    "    # Ensure the column is not of float16 type\n",
    "    if all_data[col].dtype == 'float16':\n",
    "        all_data[col] = all_data[col].astype('float32')  # or 'float64'\n",
    "\n",
    "    all_data[col] = all_data[col].astype('category').cat.codes\n"
   ]
  },
  {
   "cell_type": "code",
   "execution_count": 55,
   "id": "a6735d88",
   "metadata": {
    "execution": {
     "iopub.execute_input": "2023-12-13T19:21:14.732990Z",
     "iopub.status.busy": "2023-12-13T19:21:14.732594Z",
     "iopub.status.idle": "2023-12-13T19:21:14.756457Z",
     "shell.execute_reply": "2023-12-13T19:21:14.754983Z"
    },
    "papermill": {
     "duration": 0.063576,
     "end_time": "2023-12-13T19:21:14.759047",
     "exception": false,
     "start_time": "2023-12-13T19:21:14.695471",
     "status": "completed"
    },
    "tags": []
   },
   "outputs": [
    {
     "data": {
      "text/html": [
       "<div>\n",
       "<style scoped>\n",
       "    .dataframe tbody tr th:only-of-type {\n",
       "        vertical-align: middle;\n",
       "    }\n",
       "\n",
       "    .dataframe tbody tr th {\n",
       "        vertical-align: top;\n",
       "    }\n",
       "\n",
       "    .dataframe thead th {\n",
       "        text-align: right;\n",
       "    }\n",
       "</style>\n",
       "<table border=\"1\" class=\"dataframe\">\n",
       "  <thead>\n",
       "    <tr style=\"text-align: right;\">\n",
       "      <th></th>\n",
       "      <th>msno</th>\n",
       "      <th>song_id</th>\n",
       "      <th>source_system_tab</th>\n",
       "      <th>source_screen_name</th>\n",
       "      <th>source_type</th>\n",
       "      <th>city</th>\n",
       "      <th>bd</th>\n",
       "      <th>gender</th>\n",
       "      <th>registered_via</th>\n",
       "      <th>reg_year</th>\n",
       "      <th>...</th>\n",
       "      <th>lyricist</th>\n",
       "      <th>language</th>\n",
       "      <th>0</th>\n",
       "      <th>1</th>\n",
       "      <th>2</th>\n",
       "      <th>3</th>\n",
       "      <th>4</th>\n",
       "      <th>5</th>\n",
       "      <th>6</th>\n",
       "      <th>7</th>\n",
       "    </tr>\n",
       "  </thead>\n",
       "  <tbody>\n",
       "    <tr>\n",
       "      <th>0</th>\n",
       "      <td>FGtllVqz18RPiwJj/edr2gV78zirAiY/9SmYvia+kCg=</td>\n",
       "      <td>BBzumQNXUHKdEBOB7mAJuzok+IJA1c2Ryg/yzTF6tik=</td>\n",
       "      <td>2</td>\n",
       "      <td>8</td>\n",
       "      <td>7</td>\n",
       "      <td>0</td>\n",
       "      <td>30</td>\n",
       "      <td>1</td>\n",
       "      <td>2</td>\n",
       "      <td>2012</td>\n",
       "      <td>...</td>\n",
       "      <td>0</td>\n",
       "      <td>8</td>\n",
       "      <td>106</td>\n",
       "      <td>0</td>\n",
       "      <td>0</td>\n",
       "      <td>0</td>\n",
       "      <td>0</td>\n",
       "      <td>0</td>\n",
       "      <td>0</td>\n",
       "      <td>0</td>\n",
       "    </tr>\n",
       "    <tr>\n",
       "      <th>1</th>\n",
       "      <td>Xumu+NIjS6QYVxDS4/t3SawvJ7viT9hPKXmf0RtLNx8=</td>\n",
       "      <td>bhp/MpSNoqoxOIB+/l8WPqu6jldth4DIpCm3ayXnJqM=</td>\n",
       "      <td>4</td>\n",
       "      <td>9</td>\n",
       "      <td>5</td>\n",
       "      <td>11</td>\n",
       "      <td>24</td>\n",
       "      <td>0</td>\n",
       "      <td>3</td>\n",
       "      <td>2011</td>\n",
       "      <td>...</td>\n",
       "      <td>0</td>\n",
       "      <td>8</td>\n",
       "      <td>35</td>\n",
       "      <td>0</td>\n",
       "      <td>0</td>\n",
       "      <td>0</td>\n",
       "      <td>0</td>\n",
       "      <td>0</td>\n",
       "      <td>0</td>\n",
       "      <td>0</td>\n",
       "    </tr>\n",
       "    <tr>\n",
       "      <th>2</th>\n",
       "      <td>Xumu+NIjS6QYVxDS4/t3SawvJ7viT9hPKXmf0RtLNx8=</td>\n",
       "      <td>JNWfrrC7zNN7BdMpsISKa4Mw+xVJYNnxXh3/Epw7QgY=</td>\n",
       "      <td>4</td>\n",
       "      <td>9</td>\n",
       "      <td>5</td>\n",
       "      <td>11</td>\n",
       "      <td>24</td>\n",
       "      <td>0</td>\n",
       "      <td>3</td>\n",
       "      <td>2011</td>\n",
       "      <td>...</td>\n",
       "      <td>0</td>\n",
       "      <td>8</td>\n",
       "      <td>35</td>\n",
       "      <td>0</td>\n",
       "      <td>0</td>\n",
       "      <td>0</td>\n",
       "      <td>0</td>\n",
       "      <td>0</td>\n",
       "      <td>0</td>\n",
       "      <td>0</td>\n",
       "    </tr>\n",
       "    <tr>\n",
       "      <th>3</th>\n",
       "      <td>Xumu+NIjS6QYVxDS4/t3SawvJ7viT9hPKXmf0RtLNx8=</td>\n",
       "      <td>2A87tzfnJTSWqD7gIZHisolhe4DMdzkbd6LzO1KHjNs=</td>\n",
       "      <td>4</td>\n",
       "      <td>9</td>\n",
       "      <td>5</td>\n",
       "      <td>11</td>\n",
       "      <td>24</td>\n",
       "      <td>0</td>\n",
       "      <td>3</td>\n",
       "      <td>2011</td>\n",
       "      <td>...</td>\n",
       "      <td>0</td>\n",
       "      <td>0</td>\n",
       "      <td>5</td>\n",
       "      <td>0</td>\n",
       "      <td>0</td>\n",
       "      <td>0</td>\n",
       "      <td>0</td>\n",
       "      <td>0</td>\n",
       "      <td>0</td>\n",
       "      <td>0</td>\n",
       "    </tr>\n",
       "    <tr>\n",
       "      <th>4</th>\n",
       "      <td>FGtllVqz18RPiwJj/edr2gV78zirAiY/9SmYvia+kCg=</td>\n",
       "      <td>3qm6XTZ6MOCU11x8FIVbAGH5l5uMkT3/ZalWG1oo2Gc=</td>\n",
       "      <td>2</td>\n",
       "      <td>8</td>\n",
       "      <td>7</td>\n",
       "      <td>0</td>\n",
       "      <td>30</td>\n",
       "      <td>1</td>\n",
       "      <td>2</td>\n",
       "      <td>2012</td>\n",
       "      <td>...</td>\n",
       "      <td>0</td>\n",
       "      <td>8</td>\n",
       "      <td>4</td>\n",
       "      <td>0</td>\n",
       "      <td>0</td>\n",
       "      <td>0</td>\n",
       "      <td>0</td>\n",
       "      <td>0</td>\n",
       "      <td>0</td>\n",
       "      <td>0</td>\n",
       "    </tr>\n",
       "  </tbody>\n",
       "</table>\n",
       "<p>5 rows × 28 columns</p>\n",
       "</div>"
      ],
      "text/plain": [
       "                                           msno  \\\n",
       "0  FGtllVqz18RPiwJj/edr2gV78zirAiY/9SmYvia+kCg=   \n",
       "1  Xumu+NIjS6QYVxDS4/t3SawvJ7viT9hPKXmf0RtLNx8=   \n",
       "2  Xumu+NIjS6QYVxDS4/t3SawvJ7viT9hPKXmf0RtLNx8=   \n",
       "3  Xumu+NIjS6QYVxDS4/t3SawvJ7viT9hPKXmf0RtLNx8=   \n",
       "4  FGtllVqz18RPiwJj/edr2gV78zirAiY/9SmYvia+kCg=   \n",
       "\n",
       "                                        song_id  source_system_tab  \\\n",
       "0  BBzumQNXUHKdEBOB7mAJuzok+IJA1c2Ryg/yzTF6tik=                  2   \n",
       "1  bhp/MpSNoqoxOIB+/l8WPqu6jldth4DIpCm3ayXnJqM=                  4   \n",
       "2  JNWfrrC7zNN7BdMpsISKa4Mw+xVJYNnxXh3/Epw7QgY=                  4   \n",
       "3  2A87tzfnJTSWqD7gIZHisolhe4DMdzkbd6LzO1KHjNs=                  4   \n",
       "4  3qm6XTZ6MOCU11x8FIVbAGH5l5uMkT3/ZalWG1oo2Gc=                  2   \n",
       "\n",
       "   source_screen_name  source_type  city  bd  gender  registered_via  \\\n",
       "0                   8            7     0  30       1               2   \n",
       "1                   9            5    11  24       0               3   \n",
       "2                   9            5    11  24       0               3   \n",
       "3                   9            5    11  24       0               3   \n",
       "4                   8            7     0  30       1               2   \n",
       "\n",
       "   reg_year  ...  lyricist  language    0  1  2  3  4  5  6  7  \n",
       "0      2012  ...         0         8  106  0  0  0  0  0  0  0  \n",
       "1      2011  ...         0         8   35  0  0  0  0  0  0  0  \n",
       "2      2011  ...         0         8   35  0  0  0  0  0  0  0  \n",
       "3      2011  ...         0         0    5  0  0  0  0  0  0  0  \n",
       "4      2012  ...         0         8    4  0  0  0  0  0  0  0  \n",
       "\n",
       "[5 rows x 28 columns]"
      ]
     },
     "execution_count": 55,
     "metadata": {},
     "output_type": "execute_result"
    }
   ],
   "source": [
    "all_data.head()"
   ]
  },
  {
   "cell_type": "code",
   "execution_count": 56,
   "id": "c3d77086",
   "metadata": {
    "execution": {
     "iopub.execute_input": "2023-12-13T19:21:14.832958Z",
     "iopub.status.busy": "2023-12-13T19:21:14.832522Z",
     "iopub.status.idle": "2023-12-13T19:21:16.586622Z",
     "shell.execute_reply": "2023-12-13T19:21:16.585483Z"
    },
    "papermill": {
     "duration": 1.793968,
     "end_time": "2023-12-13T19:21:16.589126",
     "exception": false,
     "start_time": "2023-12-13T19:21:14.795158",
     "status": "completed"
    },
    "tags": []
   },
   "outputs": [
    {
     "data": {
      "text/plain": [
       "msno\n",
       "MXIMDXO0j3UpaT7FvOSGW6Y5zfhlh+xYjTqGoUdMzEE=    7894\n",
       "o+5RNlSWrzvrphgBNGIo1FLkGxBgyICns6qXj3nS7Pk=    7318\n",
       "FGtllVqz18RPiwJj/edr2gV78zirAiY/9SmYvia+kCg=    7075\n",
       "KGXNZ/H3VxvET/+rGxlrAe7Gpz2eKMXyuSg3xh8Ij1M=    6706\n",
       "cqjRBV/jWN2ujhc+z/4tz+Mj6xEfflAAt6qBXCqxKvw=    5446\n",
       "                                                ... \n",
       "U8+k0YmjY2aDIM7Wd9ejIF/XqZkoWbBlv+2booso86A=       1\n",
       "0Yby35OBCWJyG0HOTIx003npPQ8mMY51ZI+Q6JulBqI=       1\n",
       "YBw/FWdyTgpVStJFzPn0aVf3/dtQwxAiHmvAu3pxyoI=       1\n",
       "g0cf2zdSgmLeBAHJZJZc85VD4l6f6xKkNegrh8VEAms=       1\n",
       "q9mrx9lx8969hkkTf4h96PqKeeG0DTC5iMLuc/6VDSI=       1\n",
       "Name: count, Length: 34403, dtype: int64"
      ]
     },
     "execution_count": 56,
     "metadata": {},
     "output_type": "execute_result"
    }
   ],
   "source": [
    "all_data['msno'].value_counts()"
   ]
  },
  {
   "cell_type": "code",
   "execution_count": 57,
   "id": "9dc86ddd",
   "metadata": {
    "execution": {
     "iopub.execute_input": "2023-12-13T19:21:16.662999Z",
     "iopub.status.busy": "2023-12-13T19:21:16.662567Z",
     "iopub.status.idle": "2023-12-13T19:21:16.670471Z",
     "shell.execute_reply": "2023-12-13T19:21:16.669262Z"
    },
    "papermill": {
     "duration": 0.047843,
     "end_time": "2023-12-13T19:21:16.672997",
     "exception": false,
     "start_time": "2023-12-13T19:21:16.625154",
     "status": "completed"
    },
    "tags": []
   },
   "outputs": [
    {
     "name": "stdout",
     "output_type": "stream",
     "text": [
      "in Index([<class 'str'>, <class 'str'>, <class 'str'>, <class 'str'>,\n",
      "       <class 'str'>, <class 'str'>, <class 'str'>, <class 'str'>,\n",
      "       <class 'str'>, <class 'str'>, <class 'str'>, <class 'str'>,\n",
      "       <class 'str'>, <class 'str'>, <class 'str'>, <class 'str'>,\n",
      "       <class 'str'>, <class 'str'>, <class 'str'>, <class 'str'>,\n",
      "       <class 'int'>, <class 'int'>, <class 'int'>, <class 'int'>,\n",
      "       <class 'int'>, <class 'int'>, <class 'int'>, <class 'int'>],\n",
      "      dtype='object')\n",
      "out Index([<class 'str'>, <class 'str'>, <class 'str'>, <class 'str'>,\n",
      "       <class 'str'>, <class 'str'>, <class 'str'>, <class 'str'>,\n",
      "       <class 'str'>, <class 'str'>, <class 'str'>, <class 'str'>,\n",
      "       <class 'str'>, <class 'str'>, <class 'str'>, <class 'str'>,\n",
      "       <class 'str'>, <class 'str'>, <class 'str'>, <class 'str'>,\n",
      "       <class 'str'>, <class 'str'>, <class 'str'>, <class 'str'>,\n",
      "       <class 'str'>, <class 'str'>, <class 'str'>, <class 'str'>],\n",
      "      dtype='object')\n"
     ]
    }
   ],
   "source": [
    "print('in',all_data.columns.map(type))\n",
    "all_data.columns = all_data.columns.astype(str)\n",
    "print('out',all_data.columns.map(type))"
   ]
  },
  {
   "cell_type": "code",
   "execution_count": 58,
   "id": "eb7bc1f0",
   "metadata": {
    "execution": {
     "iopub.execute_input": "2023-12-13T19:21:16.746661Z",
     "iopub.status.busy": "2023-12-13T19:21:16.746218Z",
     "iopub.status.idle": "2023-12-13T19:21:18.314579Z",
     "shell.execute_reply": "2023-12-13T19:21:18.313418Z"
    },
    "papermill": {
     "duration": 1.608584,
     "end_time": "2023-12-13T19:21:18.317425",
     "exception": false,
     "start_time": "2023-12-13T19:21:16.708841",
     "status": "completed"
    },
    "tags": []
   },
   "outputs": [
    {
     "data": {
      "text/plain": [
       "((7377418, 29), (2556790, 28))"
      ]
     },
     "execution_count": 58,
     "metadata": {},
     "output_type": "execute_result"
    }
   ],
   "source": [
    "train_data = all_data[:ntrain].copy()\n",
    "test_data = all_data[ntrain:]\n",
    "train_data['target'] = y_train\n",
    "\n",
    "train_data.shape , test_data.shape"
   ]
  },
  {
   "cell_type": "code",
   "execution_count": 59,
   "id": "a488d6c8",
   "metadata": {
    "execution": {
     "iopub.execute_input": "2023-12-13T19:21:18.391495Z",
     "iopub.status.busy": "2023-12-13T19:21:18.391058Z",
     "iopub.status.idle": "2023-12-13T19:21:18.400433Z",
     "shell.execute_reply": "2023-12-13T19:21:18.399340Z"
    },
    "papermill": {
     "duration": 0.049297,
     "end_time": "2023-12-13T19:21:18.402951",
     "exception": false,
     "start_time": "2023-12-13T19:21:18.353654",
     "status": "completed"
    },
    "tags": []
   },
   "outputs": [
    {
     "data": {
      "text/plain": [
       "0    1.0\n",
       "1    1.0\n",
       "2    1.0\n",
       "3    1.0\n",
       "4    1.0\n",
       "Name: target, dtype: float16"
      ]
     },
     "execution_count": 59,
     "metadata": {},
     "output_type": "execute_result"
    }
   ],
   "source": [
    "train_data['target'].head()"
   ]
  },
  {
   "cell_type": "code",
   "execution_count": 60,
   "id": "34300bc3",
   "metadata": {
    "execution": {
     "iopub.execute_input": "2023-12-13T19:21:18.477940Z",
     "iopub.status.busy": "2023-12-13T19:21:18.477493Z",
     "iopub.status.idle": "2023-12-13T19:21:18.655325Z",
     "shell.execute_reply": "2023-12-13T19:21:18.654091Z"
    },
    "papermill": {
     "duration": 0.21834,
     "end_time": "2023-12-13T19:21:18.657866",
     "exception": false,
     "start_time": "2023-12-13T19:21:18.439526",
     "status": "completed"
    },
    "tags": []
   },
   "outputs": [
    {
     "name": "stdout",
     "output_type": "stream",
     "text": [
      "float16\n"
     ]
    }
   ],
   "source": [
    "# Check the data types of the 'target' column\n",
    "print(train_data['target'].dtype)\n",
    "\n",
    "# Convert the 'target' column to a different data type (e.g., int)\n",
    "train_data['target'] = train_data['target'].astype(int)\n",
    "\n",
    "# Now, you can proceed with the categorical conversion\n",
    "train_data['target'] = train_data['target'].astype(\"category\").cat.codes\n"
   ]
  },
  {
   "cell_type": "code",
   "execution_count": 61,
   "id": "df294920",
   "metadata": {
    "execution": {
     "iopub.execute_input": "2023-12-13T19:21:18.733782Z",
     "iopub.status.busy": "2023-12-13T19:21:18.733364Z",
     "iopub.status.idle": "2023-12-13T19:21:18.741886Z",
     "shell.execute_reply": "2023-12-13T19:21:18.740687Z"
    },
    "papermill": {
     "duration": 0.050197,
     "end_time": "2023-12-13T19:21:18.744501",
     "exception": false,
     "start_time": "2023-12-13T19:21:18.694304",
     "status": "completed"
    },
    "tags": []
   },
   "outputs": [
    {
     "data": {
      "text/plain": [
       "0    1\n",
       "1    1\n",
       "2    1\n",
       "3    1\n",
       "4    1\n",
       "Name: target, dtype: int8"
      ]
     },
     "execution_count": 61,
     "metadata": {},
     "output_type": "execute_result"
    }
   ],
   "source": [
    "train_data['target'].head()"
   ]
  },
  {
   "cell_type": "code",
   "execution_count": 62,
   "id": "b44d6b2c",
   "metadata": {
    "execution": {
     "iopub.execute_input": "2023-12-13T19:21:18.820875Z",
     "iopub.status.busy": "2023-12-13T19:21:18.820459Z",
     "iopub.status.idle": "2023-12-13T19:21:19.313135Z",
     "shell.execute_reply": "2023-12-13T19:21:19.311931Z"
    },
    "papermill": {
     "duration": 0.533917,
     "end_time": "2023-12-13T19:21:19.315793",
     "exception": false,
     "start_time": "2023-12-13T19:21:18.781876",
     "status": "completed"
    },
    "tags": []
   },
   "outputs": [
    {
     "data": {
      "text/plain": [
       "((7377418, 26), (7377418,))"
      ]
     },
     "execution_count": 62,
     "metadata": {},
     "output_type": "execute_result"
    }
   ],
   "source": [
    "X_train = train_data.drop(['target','msno','song_id'], axis = 1)\n",
    "test_data = test_data.drop(['msno','song_id'],axis = 1)\n",
    "y_train = train_data.target\n",
    "X_train.shape , y_train.shape"
   ]
  },
  {
   "cell_type": "code",
   "execution_count": 63,
   "id": "526834e6",
   "metadata": {
    "execution": {
     "iopub.execute_input": "2023-12-13T19:21:19.393062Z",
     "iopub.status.busy": "2023-12-13T19:21:19.392665Z",
     "iopub.status.idle": "2023-12-13T19:21:23.484270Z",
     "shell.execute_reply": "2023-12-13T19:21:23.482994Z"
    },
    "papermill": {
     "duration": 4.134009,
     "end_time": "2023-12-13T19:21:23.487292",
     "exception": false,
     "start_time": "2023-12-13T19:21:19.353283",
     "status": "completed"
    },
    "tags": []
   },
   "outputs": [],
   "source": [
    "from sklearn.model_selection import train_test_split, GridSearchCV, KFold, StratifiedKFold, RepeatedStratifiedKFold\n",
    "from sklearn.preprocessing import MinMaxScaler, StandardScaler, RobustScaler, Normalizer, PowerTransformer\n",
    "scaler = StandardScaler().fit(X_train)\n",
    "X_train_scaled = scaler.transform(X_train)\n",
    "test_data_scaled = scaler.transform(test_data)"
   ]
  },
  {
   "cell_type": "code",
   "execution_count": 64,
   "id": "8368095f",
   "metadata": {
    "execution": {
     "iopub.execute_input": "2023-12-13T19:21:23.564609Z",
     "iopub.status.busy": "2023-12-13T19:21:23.564196Z",
     "iopub.status.idle": "2023-12-13T19:21:23.571702Z",
     "shell.execute_reply": "2023-12-13T19:21:23.570313Z"
    },
    "papermill": {
     "duration": 0.049861,
     "end_time": "2023-12-13T19:21:23.574403",
     "exception": false,
     "start_time": "2023-12-13T19:21:23.524542",
     "status": "completed"
    },
    "tags": []
   },
   "outputs": [],
   "source": [
    "X_train = X_train_scaled\n",
    "test_data = test_data_scaled"
   ]
  },
  {
   "cell_type": "code",
   "execution_count": 65,
   "id": "d4fa1d51",
   "metadata": {
    "execution": {
     "iopub.execute_input": "2023-12-13T19:21:23.650687Z",
     "iopub.status.busy": "2023-12-13T19:21:23.650279Z",
     "iopub.status.idle": "2023-12-13T19:36:08.184252Z",
     "shell.execute_reply": "2023-12-13T19:36:08.182917Z"
    },
    "papermill": {
     "duration": 884.575517,
     "end_time": "2023-12-13T19:36:08.186936",
     "exception": false,
     "start_time": "2023-12-13T19:21:23.611419",
     "status": "completed"
    },
    "tags": []
   },
   "outputs": [
    {
     "name": "stderr",
     "output_type": "stream",
     "text": [
      "/opt/conda/lib/python3.10/site-packages/lightgbm/engine.py:177: UserWarning: Found `num_rounds` in params. Will use it instead of argument\n",
      "  _log_warning(f\"Found `{alias}` in params. Will use it instead of argument\")\n",
      "/opt/conda/lib/python3.10/site-packages/lightgbm/engine.py:239: UserWarning: 'verbose_eval' argument is deprecated and will be removed in a future release of LightGBM. Pass 'log_evaluation()' callback via 'callbacks' argument instead.\n",
      "  _log_warning(\"'verbose_eval' argument is deprecated and will be removed in a future release of LightGBM. \"\n"
     ]
    },
    {
     "name": "stdout",
     "output_type": "stream",
     "text": [
      "[LightGBM] [Warning] Auto-choosing row-wise multi-threading, the overhead of testing was 0.599715 seconds.\n",
      "You can set `force_row_wise=true` to remove the overhead.\n",
      "And if memory is not enough, you can set `force_col_wise=true`.\n",
      "[5]\ttraining's auc: 0.689416\n",
      "[10]\ttraining's auc: 0.700953\n",
      "[15]\ttraining's auc: 0.710045\n",
      "[20]\ttraining's auc: 0.716432\n",
      "[25]\ttraining's auc: 0.722384\n",
      "[30]\ttraining's auc: 0.726775\n",
      "[35]\ttraining's auc: 0.730963\n",
      "[40]\ttraining's auc: 0.734333\n",
      "[45]\ttraining's auc: 0.737629\n",
      "[50]\ttraining's auc: 0.740885\n",
      "[55]\ttraining's auc: 0.743809\n",
      "[60]\ttraining's auc: 0.746304\n",
      "[65]\ttraining's auc: 0.748518\n",
      "[70]\ttraining's auc: 0.750819\n",
      "[75]\ttraining's auc: 0.753333\n",
      "[80]\ttraining's auc: 0.755324\n",
      "[85]\ttraining's auc: 0.756772\n",
      "[90]\ttraining's auc: 0.758361\n",
      "[95]\ttraining's auc: 0.760253\n",
      "[100]\ttraining's auc: 0.761796\n",
      "[105]\ttraining's auc: 0.763141\n",
      "[110]\ttraining's auc: 0.764613\n",
      "[115]\ttraining's auc: 0.766564\n",
      "[120]\ttraining's auc: 0.76745\n",
      "[125]\ttraining's auc: 0.768466\n",
      "[130]\ttraining's auc: 0.769817\n",
      "[135]\ttraining's auc: 0.771046\n",
      "[140]\ttraining's auc: 0.772183\n",
      "[145]\ttraining's auc: 0.773047\n",
      "[150]\ttraining's auc: 0.774278\n",
      "[155]\ttraining's auc: 0.775262\n",
      "[160]\ttraining's auc: 0.776315\n",
      "[165]\ttraining's auc: 0.777003\n",
      "[170]\ttraining's auc: 0.777682\n",
      "[175]\ttraining's auc: 0.779154\n",
      "[180]\ttraining's auc: 0.780456\n",
      "[185]\ttraining's auc: 0.781008\n",
      "[190]\ttraining's auc: 0.782049\n",
      "[195]\ttraining's auc: 0.782964\n",
      "[200]\ttraining's auc: 0.783626\n",
      "[205]\ttraining's auc: 0.784347\n",
      "[210]\ttraining's auc: 0.785198\n",
      "[215]\ttraining's auc: 0.786037\n",
      "[220]\ttraining's auc: 0.786798\n",
      "[225]\ttraining's auc: 0.787797\n",
      "[230]\ttraining's auc: 0.788565\n",
      "[235]\ttraining's auc: 0.789134\n",
      "[240]\ttraining's auc: 0.789875\n",
      "[245]\ttraining's auc: 0.790651\n",
      "[250]\ttraining's auc: 0.791651\n",
      "[255]\ttraining's auc: 0.792295\n",
      "[260]\ttraining's auc: 0.793095\n",
      "[265]\ttraining's auc: 0.793889\n",
      "[270]\ttraining's auc: 0.794546\n",
      "[275]\ttraining's auc: 0.795034\n",
      "[280]\ttraining's auc: 0.795647\n",
      "[285]\ttraining's auc: 0.796305\n",
      "[290]\ttraining's auc: 0.796971\n",
      "[295]\ttraining's auc: 0.797622\n",
      "[300]\ttraining's auc: 0.798346\n",
      "[305]\ttraining's auc: 0.799095\n",
      "[310]\ttraining's auc: 0.799661\n",
      "[315]\ttraining's auc: 0.800189\n",
      "[320]\ttraining's auc: 0.80061\n",
      "[325]\ttraining's auc: 0.800985\n",
      "[330]\ttraining's auc: 0.80154\n",
      "[335]\ttraining's auc: 0.802177\n",
      "[340]\ttraining's auc: 0.802581\n",
      "[345]\ttraining's auc: 0.803073\n",
      "[350]\ttraining's auc: 0.803639\n",
      "[355]\ttraining's auc: 0.80413\n",
      "[360]\ttraining's auc: 0.804714\n",
      "[365]\ttraining's auc: 0.805193\n",
      "[370]\ttraining's auc: 0.805552\n",
      "[375]\ttraining's auc: 0.805975\n",
      "[380]\ttraining's auc: 0.806577\n",
      "[385]\ttraining's auc: 0.80703\n",
      "[390]\ttraining's auc: 0.807422\n",
      "[395]\ttraining's auc: 0.807808\n",
      "[400]\ttraining's auc: 0.808156\n",
      "[405]\ttraining's auc: 0.808481\n",
      "[410]\ttraining's auc: 0.808853\n",
      "[415]\ttraining's auc: 0.809286\n",
      "[420]\ttraining's auc: 0.80969\n",
      "[425]\ttraining's auc: 0.810088\n",
      "[430]\ttraining's auc: 0.810709\n",
      "[435]\ttraining's auc: 0.811055\n",
      "[440]\ttraining's auc: 0.811418\n",
      "[445]\ttraining's auc: 0.811821\n",
      "[450]\ttraining's auc: 0.812246\n",
      "[455]\ttraining's auc: 0.812661\n",
      "[460]\ttraining's auc: 0.813002\n",
      "[465]\ttraining's auc: 0.813575\n",
      "[470]\ttraining's auc: 0.814062\n",
      "[475]\ttraining's auc: 0.814473\n",
      "[480]\ttraining's auc: 0.814936\n",
      "[485]\ttraining's auc: 0.815453\n",
      "[490]\ttraining's auc: 0.815804\n",
      "[495]\ttraining's auc: 0.816222\n",
      "[500]\ttraining's auc: 0.816605\n",
      "CPU times: user 40min 5s, sys: 28.7 s, total: 40min 34s\n",
      "Wall time: 14min 44s\n",
      "884.523627281189\n"
     ]
    }
   ],
   "source": [
    "import lightgbm as lgb\n",
    "start = time.time()\n",
    "train_set = lgb.Dataset(X_train , y_train)\n",
    "params = {\n",
    "        'objective': 'binary',\n",
    "        'metric': 'binary_logloss',\n",
    "        'boosting': 'gbdt',\n",
    "        'learning_rate': 0.3 ,\n",
    "        'verbose': 0,\n",
    "        'num_leaves': 216,\n",
    "        'bagging_fraction': 0.95,\n",
    "        'bagging_freq': 1,\n",
    "        'bagging_seed': 1,\n",
    "        'feature_fraction': 0.9,\n",
    "        'feature_fraction_seed': 1,\n",
    "        'max_bin': 510,\n",
    "        'max_depth': 20,\n",
    "        'num_rounds': 500,\n",
    "        'metric' : 'auc'\n",
    "    }\n",
    "\n",
    "%time model_f1 = lgb.train(params, train_set=train_set,  valid_sets=train_set, verbose_eval=5)\n",
    "\n",
    "end = time.time()\n",
    "print(end - start)"
   ]
  },
  {
   "cell_type": "code",
   "execution_count": 66,
   "id": "690615d7",
   "metadata": {
    "execution": {
     "iopub.execute_input": "2023-12-13T19:36:08.281600Z",
     "iopub.status.busy": "2023-12-13T19:36:08.281181Z",
     "iopub.status.idle": "2023-12-13T19:36:53.351553Z",
     "shell.execute_reply": "2023-12-13T19:36:53.350409Z"
    },
    "papermill": {
     "duration": 45.167164,
     "end_time": "2023-12-13T19:36:53.400299",
     "exception": false,
     "start_time": "2023-12-13T19:36:08.233135",
     "status": "completed"
    },
    "tags": []
   },
   "outputs": [
    {
     "data": {
      "text/html": [
       "<div>\n",
       "<style scoped>\n",
       "    .dataframe tbody tr th:only-of-type {\n",
       "        vertical-align: middle;\n",
       "    }\n",
       "\n",
       "    .dataframe tbody tr th {\n",
       "        vertical-align: top;\n",
       "    }\n",
       "\n",
       "    .dataframe thead th {\n",
       "        text-align: right;\n",
       "    }\n",
       "</style>\n",
       "<table border=\"1\" class=\"dataframe\">\n",
       "  <thead>\n",
       "    <tr style=\"text-align: right;\">\n",
       "      <th></th>\n",
       "      <th>id</th>\n",
       "      <th>target</th>\n",
       "    </tr>\n",
       "  </thead>\n",
       "  <tbody>\n",
       "    <tr>\n",
       "      <th>0</th>\n",
       "      <td>0</td>\n",
       "      <td>0.548813</td>\n",
       "    </tr>\n",
       "    <tr>\n",
       "      <th>1</th>\n",
       "      <td>1</td>\n",
       "      <td>0.671198</td>\n",
       "    </tr>\n",
       "    <tr>\n",
       "      <th>2</th>\n",
       "      <td>2</td>\n",
       "      <td>0.166731</td>\n",
       "    </tr>\n",
       "    <tr>\n",
       "      <th>3</th>\n",
       "      <td>3</td>\n",
       "      <td>0.108912</td>\n",
       "    </tr>\n",
       "    <tr>\n",
       "      <th>4</th>\n",
       "      <td>4</td>\n",
       "      <td>0.147521</td>\n",
       "    </tr>\n",
       "  </tbody>\n",
       "</table>\n",
       "</div>"
      ],
      "text/plain": [
       "   id    target\n",
       "0   0  0.548813\n",
       "1   1  0.671198\n",
       "2   2  0.166731\n",
       "3   3  0.108912\n",
       "4   4  0.147521"
      ]
     },
     "execution_count": 66,
     "metadata": {},
     "output_type": "execute_result"
    }
   ],
   "source": [
    "predictions = model_f1.predict(pd.DataFrame(test_data).values)\n",
    "sub = pd.DataFrame()\n",
    "sub['id'] = test_df['id']\n",
    "sub['target'] = predictions\n",
    "sub.to_csv('submission.csv',index=False)\n",
    "sub.head()"
   ]
  }
 ],
 "metadata": {
  "kaggle": {
   "accelerator": "none",
   "dataSources": [
    {
     "databundleVersionId": 44320,
     "sourceId": 7162,
     "sourceType": "competition"
    }
   ],
   "dockerImageVersionId": 30615,
   "isGpuEnabled": false,
   "isInternetEnabled": true,
   "language": "python",
   "sourceType": "notebook"
  },
  "kernelspec": {
   "display_name": "Python 3",
   "language": "python",
   "name": "python3"
  },
  "language_info": {
   "codemirror_mode": {
    "name": "ipython",
    "version": 3
   },
   "file_extension": ".py",
   "mimetype": "text/x-python",
   "name": "python",
   "nbconvert_exporter": "python",
   "pygments_lexer": "ipython3",
   "version": "3.10.12"
  },
  "papermill": {
   "default_parameters": {},
   "duration": 2052.609369,
   "end_time": "2023-12-13T19:36:55.180389",
   "environment_variables": {},
   "exception": null,
   "input_path": "__notebook__.ipynb",
   "output_path": "__notebook__.ipynb",
   "parameters": {},
   "start_time": "2023-12-13T19:02:42.571020",
   "version": "2.4.0"
  }
 },
 "nbformat": 4,
 "nbformat_minor": 5
}
