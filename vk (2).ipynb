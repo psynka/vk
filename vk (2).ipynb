{
  "cells": [
    {
      "cell_type": "code",
      "execution_count": 2,
      "id": "0cbc1173",
      "metadata": {
        "_cell_guid": "b1076dfc-b9ad-4769-8c92-a6c4dae69d19",
        "_uuid": "8f2839f25d086af736a60e9eeb907d3b93b6e0e5",
        "execution": {
          "iopub.execute_input": "2023-12-13T19:02:46.615514Z",
          "iopub.status.busy": "2023-12-13T19:02:46.614581Z",
          "iopub.status.idle": "2023-12-13T19:02:47.573322Z",
          "shell.execute_reply": "2023-12-13T19:02:47.571801Z"
        },
        "papermill": {
          "duration": 0.987847,
          "end_time": "2023-12-13T19:02:47.576257",
          "exception": false,
          "start_time": "2023-12-13T19:02:46.588410",
          "status": "completed"
        },
        "tags": [],
        "id": "0cbc1173"
      },
      "outputs": [],
      "source": [
        "\n",
        "import matplotlib.pyplot as plt\n",
        "import numpy as np\n",
        "import pandas as pd\n",
        "\n",
        "\n",
        "\n",
        "import os\n",
        "for dirname, _, filenames in os.walk(''):\n",
        "    for filename in filenames:\n",
        "        print(os.path.join(dirname, filename))\n"
      ]
    },
    {
      "cell_type": "code",
      "execution_count": 3,
      "id": "4986b5d3",
      "metadata": {
        "execution": {
          "iopub.execute_input": "2023-12-13T19:02:47.674924Z",
          "iopub.status.busy": "2023-12-13T19:02:47.674349Z",
          "iopub.status.idle": "2023-12-13T19:02:47.690575Z",
          "shell.execute_reply": "2023-12-13T19:02:47.689323Z"
        },
        "papermill": {
          "duration": 0.044075,
          "end_time": "2023-12-13T19:02:47.692994",
          "exception": false,
          "start_time": "2023-12-13T19:02:47.648919",
          "status": "completed"
        },
        "tags": [],
        "id": "4986b5d3"
      },
      "outputs": [],
      "source": [
        "def reduce_mem_usage(df):\n",
        "\n",
        "    start_mem = df.memory_usage().sum() / 1024**2\n",
        "    print('Memory usage of dataframe is {:.2f} MB'.format(start_mem))\n",
        "\n",
        "    for col in df.columns:\n",
        "        col_type = df[col].dtype\n",
        "\n",
        "        if col_type != object:\n",
        "            c_min = df[col].min()\n",
        "            c_max = df[col].max()\n",
        "            if str(col_type)[:3] == 'int':\n",
        "                if c_min > np.iinfo(np.int8).min and c_max < np.iinfo(np.int8).max:\n",
        "                    df[col] = df[col].astype(np.int8)\n",
        "                elif c_min > np.iinfo(np.int16).min and c_max < np.iinfo(np.int16).max:\n",
        "                    df[col] = df[col].astype(np.int16)\n",
        "                elif c_min > np.iinfo(np.int32).min and c_max < np.iinfo(np.int32).max:\n",
        "                    df[col] = df[col].astype(np.int32)\n",
        "                elif c_min > np.iinfo(np.int64).min and c_max < np.iinfo(np.int64).max:\n",
        "                    df[col] = df[col].astype(np.int64)\n",
        "            else:\n",
        "                if c_min > np.finfo(np.float16).min and c_max < np.finfo(np.float16).max:\n",
        "                    df[col] = df[col].astype(np.float16)\n",
        "                elif c_min > np.finfo(np.float32).min and c_max < np.finfo(np.float32).max:\n",
        "                    df[col] = df[col].astype(np.float32)\n",
        "                else:\n",
        "                    df[col] = df[col].astype(np.float64)\n",
        "        else:\n",
        "            df[col] = df[col].astype('category')\n",
        "\n",
        "    end_mem = df.memory_usage().sum() / 1024**2\n",
        "    print('Memory usage after optimization is: {:.2f} MB'.format(end_mem))\n",
        "    print('Decreased by {:.1f}%'.format(100 * (start_mem - end_mem) / start_mem))\n",
        "\n",
        "    return df"
      ]
    },
    {
      "cell_type": "markdown",
      "id": "c382e698",
      "metadata": {
        "papermill": {
          "duration": 0.024933,
          "end_time": "2023-12-13T19:02:47.742172",
          "exception": false,
          "start_time": "2023-12-13T19:02:47.717239",
          "status": "completed"
        },
        "tags": [],
        "id": "c382e698"
      },
      "source": [
        "# Загрузка датасета\n"
      ]
    },
    {
      "cell_type": "code",
      "execution_count": 4,
      "id": "cddea959",
      "metadata": {
        "execution": {
          "iopub.execute_input": "2023-12-13T19:02:47.792665Z",
          "iopub.status.busy": "2023-12-13T19:02:47.792030Z",
          "iopub.status.idle": "2023-12-13T19:07:28.069211Z",
          "shell.execute_reply": "2023-12-13T19:07:28.067978Z"
        },
        "papermill": {
          "duration": 280.30636,
          "end_time": "2023-12-13T19:07:28.072306",
          "exception": false,
          "start_time": "2023-12-13T19:02:47.765946",
          "status": "completed"
        },
        "tags": [],
        "colab": {
          "base_uri": "https://localhost:8080/"
        },
        "id": "cddea959",
        "outputId": "b7dc6060-c180-42b8-9a45-f4992c1f90cb"
      },
      "outputs": [
        {
          "output_type": "stream",
          "name": "stdout",
          "text": [
            "Collecting datatable\n",
            "  Downloading datatable-1.1.0-cp310-cp310-manylinux_2_35_x86_64.whl (82.0 MB)\n",
            "\u001b[2K     \u001b[90m━━━━━━━━━━━━━━━━━━━━━━━━━━━━━━━━━━━━━━━━\u001b[0m \u001b[32m82.0/82.0 MB\u001b[0m \u001b[31m7.3 MB/s\u001b[0m eta \u001b[36m0:00:00\u001b[0m\n",
            "\u001b[?25hInstalling collected packages: datatable\n",
            "Successfully installed datatable-1.1.0\n"
          ]
        }
      ],
      "source": [
        "!pip install datatable"
      ]
    },
    {
      "cell_type": "code",
      "source": [
        "!pip install pyunpack patool\n",
        "\n",
        "import os , sys\n",
        "from pyunpack.cli import Archive\n",
        "\n",
        "os.system('apt-get install p7zip')\n",
        "print(os.getcwd())\n",
        "import datatable as dt"
      ],
      "metadata": {
        "colab": {
          "base_uri": "https://localhost:8080/",
          "height": 225
        },
        "id": "dh625eVQ0u_u",
        "outputId": "77028e9e-d151-4cca-9832-151659e4cb3a"
      },
      "id": "dh625eVQ0u_u",
      "execution_count": 5,
      "outputs": [
        {
          "output_type": "stream",
          "name": "stdout",
          "text": [
            "Collecting pyunpack\n",
            "  Downloading pyunpack-0.3-py2.py3-none-any.whl (4.1 kB)\n",
            "Collecting patool\n",
            "  Downloading patool-2.2.0-py2.py3-none-any.whl (96 kB)\n",
            "\u001b[2K     \u001b[90m━━━━━━━━━━━━━━━━━━━━━━━━━━━━━━━━━━━━━━━━\u001b[0m \u001b[32m96.0/96.0 kB\u001b[0m \u001b[31m1.0 MB/s\u001b[0m eta \u001b[36m0:00:00\u001b[0m\n",
            "\u001b[?25hCollecting easyprocess (from pyunpack)\n",
            "  Downloading EasyProcess-1.1-py3-none-any.whl (8.7 kB)\n",
            "Collecting entrypoint2 (from pyunpack)\n",
            "  Downloading entrypoint2-1.1-py2.py3-none-any.whl (9.9 kB)\n",
            "Installing collected packages: entrypoint2, easyprocess, pyunpack, patool\n",
            "Successfully installed easyprocess-1.1 entrypoint2-1.1 patool-2.2.0 pyunpack-0.3\n",
            "/content\n"
          ]
        },
        {
          "output_type": "display_data",
          "data": {
            "text/plain": [
              "<IPython.core.display.HTML object>"
            ],
            "text/html": [
              "<style type='text/css'>\n",
              ".datatable table.frame { margin-bottom: 0; }\n",
              ".datatable table.frame thead { border-bottom: none; }\n",
              ".datatable table.frame tr.coltypes td {  color: #FFFFFF;  line-height: 6px;  padding: 0 0.5em;}\n",
              ".datatable .bool    { background: #DDDD99; }\n",
              ".datatable .object  { background: #565656; }\n",
              ".datatable .int     { background: #5D9E5D; }\n",
              ".datatable .float   { background: #4040CC; }\n",
              ".datatable .str     { background: #CC4040; }\n",
              ".datatable .time    { background: #40CC40; }\n",
              ".datatable .row_index {  background: var(--jp-border-color3);  border-right: 1px solid var(--jp-border-color0);  color: var(--jp-ui-font-color3);  font-size: 9px;}\n",
              ".datatable .frame tbody td { text-align: left; }\n",
              ".datatable .frame tr.coltypes .row_index {  background: var(--jp-border-color0);}\n",
              ".datatable th:nth-child(2) { padding-left: 12px; }\n",
              ".datatable .hellipsis {  color: var(--jp-cell-editor-border-color);}\n",
              ".datatable .vellipsis {  background: var(--jp-layout-color0);  color: var(--jp-cell-editor-border-color);}\n",
              ".datatable .na {  color: var(--jp-cell-editor-border-color);  font-size: 80%;}\n",
              ".datatable .sp {  opacity: 0.25;}\n",
              ".datatable .footer { font-size: 9px; }\n",
              ".datatable .frame_dimensions {  background: var(--jp-border-color3);  border-top: 1px solid var(--jp-border-color0);  color: var(--jp-ui-font-color3);  display: inline-block;  opacity: 0.6;  padding: 1px 10px 1px 5px;}\n",
              "</style>\n"
            ]
          },
          "metadata": {}
        }
      ]
    },
    {
      "cell_type": "code",
      "execution_count": 6,
      "id": "e8076f57",
      "metadata": {
        "execution": {
          "iopub.execute_input": "2023-12-13T19:07:28.127981Z",
          "iopub.status.busy": "2023-12-13T19:07:28.127552Z",
          "iopub.status.idle": "2023-12-13T19:09:20.058443Z",
          "shell.execute_reply": "2023-12-13T19:09:20.055894Z"
        },
        "papermill": {
          "duration": 111.999073,
          "end_time": "2023-12-13T19:09:20.097591",
          "exception": false,
          "start_time": "2023-12-13T19:07:28.098518",
          "status": "completed"
        },
        "tags": [],
        "colab": {
          "base_uri": "https://localhost:8080/"
        },
        "id": "e8076f57",
        "outputId": "103468ef-49f7-444b-d427-2f57924c5438"
      },
      "outputs": [
        {
          "output_type": "stream",
          "name": "stdout",
          "text": [
            "Memory usage of dataframe is 288.46 MB\n",
            "Memory usage after optimization is: 89.45 MB\n",
            "Decreased by 69.0%\n",
            "Memory usage of dataframe is 107.29 MB\n",
            "Memory usage after optimization is: 42.17 MB\n",
            "Decreased by 60.7%\n",
            "Memory usage of dataframe is 113.88 MB\n",
            "Memory usage after optimization is: 159.83 MB\n",
            "Decreased by -40.4%\n",
            "Memory usage of dataframe is 1.18 MB\n",
            "Memory usage after optimization is: 1.83 MB\n",
            "Decreased by -54.8%\n"
          ]
        }
      ],
      "source": [
        "\n",
        "\n",
        "directory = ''\n",
        "Archive('train.csv.7z').extractall(directory)\n",
        "Archive('test.csv.7z').extractall(directory)\n",
        "#Archive('songs.csv.7z').extractall(directory)\n",
        "#Archive('members.csv.7z').extractall(directory)\n",
        "#Archive('song_extra_info.csv.7z').extractall(directory)\n",
        "\n",
        "train_df = reduce_mem_usage(dt.fread('./train.csv').to_pandas())\n",
        "test_df = reduce_mem_usage(dt.fread('./test.csv').to_pandas())\n",
        "songs_df = reduce_mem_usage(dt.fread('./songs.csv').to_pandas()) #'composer', 'lyricist'\n",
        "members_df = reduce_mem_usage(dt.fread('./members.csv').to_pandas())"
      ]
    },
    {
      "cell_type": "code",
      "execution_count": 7,
      "id": "5bd5b916",
      "metadata": {
        "execution": {
          "iopub.execute_input": "2023-12-13T19:09:20.216388Z",
          "iopub.status.busy": "2023-12-13T19:09:20.215853Z",
          "iopub.status.idle": "2023-12-13T19:09:20.223909Z",
          "shell.execute_reply": "2023-12-13T19:09:20.222611Z"
        },
        "papermill": {
          "duration": 0.042964,
          "end_time": "2023-12-13T19:09:20.226613",
          "exception": false,
          "start_time": "2023-12-13T19:09:20.183649",
          "status": "completed"
        },
        "tags": [],
        "colab": {
          "base_uri": "https://localhost:8080/"
        },
        "id": "5bd5b916",
        "outputId": "ecd30656-427e-412d-84c7-f9a01b46f896"
      },
      "outputs": [
        {
          "output_type": "stream",
          "name": "stdout",
          "text": [
            "(7377418, 6) (2556790, 6) (2296320, 7) (34403, 7)\n"
          ]
        }
      ],
      "source": [
        "print(train_df.shape, test_df.shape, songs_df.shape, members_df.shape)"
      ]
    },
    {
      "cell_type": "code",
      "execution_count": 8,
      "id": "bd15e362",
      "metadata": {
        "execution": {
          "iopub.execute_input": "2023-12-13T19:09:20.343415Z",
          "iopub.status.busy": "2023-12-13T19:09:20.342895Z",
          "iopub.status.idle": "2023-12-13T19:09:20.373698Z",
          "shell.execute_reply": "2023-12-13T19:09:20.372337Z"
        },
        "papermill": {
          "duration": 0.06436,
          "end_time": "2023-12-13T19:09:20.376313",
          "exception": false,
          "start_time": "2023-12-13T19:09:20.311953",
          "status": "completed"
        },
        "tags": [],
        "colab": {
          "base_uri": "https://localhost:8080/",
          "height": 261
        },
        "id": "bd15e362",
        "outputId": "4f9d5356-7031-4c88-93ba-0dd87ee70b69"
      },
      "outputs": [
        {
          "output_type": "execute_result",
          "data": {
            "text/plain": [
              "                                           msno  \\\n",
              "0  FGtllVqz18RPiwJj/edr2gV78zirAiY/9SmYvia+kCg=   \n",
              "1  Xumu+NIjS6QYVxDS4/t3SawvJ7viT9hPKXmf0RtLNx8=   \n",
              "2  Xumu+NIjS6QYVxDS4/t3SawvJ7viT9hPKXmf0RtLNx8=   \n",
              "3  Xumu+NIjS6QYVxDS4/t3SawvJ7viT9hPKXmf0RtLNx8=   \n",
              "4  FGtllVqz18RPiwJj/edr2gV78zirAiY/9SmYvia+kCg=   \n",
              "\n",
              "                                        song_id source_system_tab  \\\n",
              "0  BBzumQNXUHKdEBOB7mAJuzok+IJA1c2Ryg/yzTF6tik=           explore   \n",
              "1  bhp/MpSNoqoxOIB+/l8WPqu6jldth4DIpCm3ayXnJqM=        my library   \n",
              "2  JNWfrrC7zNN7BdMpsISKa4Mw+xVJYNnxXh3/Epw7QgY=        my library   \n",
              "3  2A87tzfnJTSWqD7gIZHisolhe4DMdzkbd6LzO1KHjNs=        my library   \n",
              "4  3qm6XTZ6MOCU11x8FIVbAGH5l5uMkT3/ZalWG1oo2Gc=           explore   \n",
              "\n",
              "    source_screen_name      source_type  target  \n",
              "0              Explore  online-playlist     1.0  \n",
              "1  Local playlist more   local-playlist     1.0  \n",
              "2  Local playlist more   local-playlist     1.0  \n",
              "3  Local playlist more   local-playlist     1.0  \n",
              "4              Explore  online-playlist     1.0  "
            ],
            "text/html": [
              "\n",
              "  <div id=\"df-b92aaf79-8ac1-4b95-9cc1-ab48cef164bd\" class=\"colab-df-container\">\n",
              "    <div>\n",
              "<style scoped>\n",
              "    .dataframe tbody tr th:only-of-type {\n",
              "        vertical-align: middle;\n",
              "    }\n",
              "\n",
              "    .dataframe tbody tr th {\n",
              "        vertical-align: top;\n",
              "    }\n",
              "\n",
              "    .dataframe thead th {\n",
              "        text-align: right;\n",
              "    }\n",
              "</style>\n",
              "<table border=\"1\" class=\"dataframe\">\n",
              "  <thead>\n",
              "    <tr style=\"text-align: right;\">\n",
              "      <th></th>\n",
              "      <th>msno</th>\n",
              "      <th>song_id</th>\n",
              "      <th>source_system_tab</th>\n",
              "      <th>source_screen_name</th>\n",
              "      <th>source_type</th>\n",
              "      <th>target</th>\n",
              "    </tr>\n",
              "  </thead>\n",
              "  <tbody>\n",
              "    <tr>\n",
              "      <th>0</th>\n",
              "      <td>FGtllVqz18RPiwJj/edr2gV78zirAiY/9SmYvia+kCg=</td>\n",
              "      <td>BBzumQNXUHKdEBOB7mAJuzok+IJA1c2Ryg/yzTF6tik=</td>\n",
              "      <td>explore</td>\n",
              "      <td>Explore</td>\n",
              "      <td>online-playlist</td>\n",
              "      <td>1.0</td>\n",
              "    </tr>\n",
              "    <tr>\n",
              "      <th>1</th>\n",
              "      <td>Xumu+NIjS6QYVxDS4/t3SawvJ7viT9hPKXmf0RtLNx8=</td>\n",
              "      <td>bhp/MpSNoqoxOIB+/l8WPqu6jldth4DIpCm3ayXnJqM=</td>\n",
              "      <td>my library</td>\n",
              "      <td>Local playlist more</td>\n",
              "      <td>local-playlist</td>\n",
              "      <td>1.0</td>\n",
              "    </tr>\n",
              "    <tr>\n",
              "      <th>2</th>\n",
              "      <td>Xumu+NIjS6QYVxDS4/t3SawvJ7viT9hPKXmf0RtLNx8=</td>\n",
              "      <td>JNWfrrC7zNN7BdMpsISKa4Mw+xVJYNnxXh3/Epw7QgY=</td>\n",
              "      <td>my library</td>\n",
              "      <td>Local playlist more</td>\n",
              "      <td>local-playlist</td>\n",
              "      <td>1.0</td>\n",
              "    </tr>\n",
              "    <tr>\n",
              "      <th>3</th>\n",
              "      <td>Xumu+NIjS6QYVxDS4/t3SawvJ7viT9hPKXmf0RtLNx8=</td>\n",
              "      <td>2A87tzfnJTSWqD7gIZHisolhe4DMdzkbd6LzO1KHjNs=</td>\n",
              "      <td>my library</td>\n",
              "      <td>Local playlist more</td>\n",
              "      <td>local-playlist</td>\n",
              "      <td>1.0</td>\n",
              "    </tr>\n",
              "    <tr>\n",
              "      <th>4</th>\n",
              "      <td>FGtllVqz18RPiwJj/edr2gV78zirAiY/9SmYvia+kCg=</td>\n",
              "      <td>3qm6XTZ6MOCU11x8FIVbAGH5l5uMkT3/ZalWG1oo2Gc=</td>\n",
              "      <td>explore</td>\n",
              "      <td>Explore</td>\n",
              "      <td>online-playlist</td>\n",
              "      <td>1.0</td>\n",
              "    </tr>\n",
              "  </tbody>\n",
              "</table>\n",
              "</div>\n",
              "    <div class=\"colab-df-buttons\">\n",
              "\n",
              "  <div class=\"colab-df-container\">\n",
              "    <button class=\"colab-df-convert\" onclick=\"convertToInteractive('df-b92aaf79-8ac1-4b95-9cc1-ab48cef164bd')\"\n",
              "            title=\"Convert this dataframe to an interactive table.\"\n",
              "            style=\"display:none;\">\n",
              "\n",
              "  <svg xmlns=\"http://www.w3.org/2000/svg\" height=\"24px\" viewBox=\"0 -960 960 960\">\n",
              "    <path d=\"M120-120v-720h720v720H120Zm60-500h600v-160H180v160Zm220 220h160v-160H400v160Zm0 220h160v-160H400v160ZM180-400h160v-160H180v160Zm440 0h160v-160H620v160ZM180-180h160v-160H180v160Zm440 0h160v-160H620v160Z\"/>\n",
              "  </svg>\n",
              "    </button>\n",
              "\n",
              "  <style>\n",
              "    .colab-df-container {\n",
              "      display:flex;\n",
              "      gap: 12px;\n",
              "    }\n",
              "\n",
              "    .colab-df-convert {\n",
              "      background-color: #E8F0FE;\n",
              "      border: none;\n",
              "      border-radius: 50%;\n",
              "      cursor: pointer;\n",
              "      display: none;\n",
              "      fill: #1967D2;\n",
              "      height: 32px;\n",
              "      padding: 0 0 0 0;\n",
              "      width: 32px;\n",
              "    }\n",
              "\n",
              "    .colab-df-convert:hover {\n",
              "      background-color: #E2EBFA;\n",
              "      box-shadow: 0px 1px 2px rgba(60, 64, 67, 0.3), 0px 1px 3px 1px rgba(60, 64, 67, 0.15);\n",
              "      fill: #174EA6;\n",
              "    }\n",
              "\n",
              "    .colab-df-buttons div {\n",
              "      margin-bottom: 4px;\n",
              "    }\n",
              "\n",
              "    [theme=dark] .colab-df-convert {\n",
              "      background-color: #3B4455;\n",
              "      fill: #D2E3FC;\n",
              "    }\n",
              "\n",
              "    [theme=dark] .colab-df-convert:hover {\n",
              "      background-color: #434B5C;\n",
              "      box-shadow: 0px 1px 3px 1px rgba(0, 0, 0, 0.15);\n",
              "      filter: drop-shadow(0px 1px 2px rgba(0, 0, 0, 0.3));\n",
              "      fill: #FFFFFF;\n",
              "    }\n",
              "  </style>\n",
              "\n",
              "    <script>\n",
              "      const buttonEl =\n",
              "        document.querySelector('#df-b92aaf79-8ac1-4b95-9cc1-ab48cef164bd button.colab-df-convert');\n",
              "      buttonEl.style.display =\n",
              "        google.colab.kernel.accessAllowed ? 'block' : 'none';\n",
              "\n",
              "      async function convertToInteractive(key) {\n",
              "        const element = document.querySelector('#df-b92aaf79-8ac1-4b95-9cc1-ab48cef164bd');\n",
              "        const dataTable =\n",
              "          await google.colab.kernel.invokeFunction('convertToInteractive',\n",
              "                                                    [key], {});\n",
              "        if (!dataTable) return;\n",
              "\n",
              "        const docLinkHtml = 'Like what you see? Visit the ' +\n",
              "          '<a target=\"_blank\" href=https://colab.research.google.com/notebooks/data_table.ipynb>data table notebook</a>'\n",
              "          + ' to learn more about interactive tables.';\n",
              "        element.innerHTML = '';\n",
              "        dataTable['output_type'] = 'display_data';\n",
              "        await google.colab.output.renderOutput(dataTable, element);\n",
              "        const docLink = document.createElement('div');\n",
              "        docLink.innerHTML = docLinkHtml;\n",
              "        element.appendChild(docLink);\n",
              "      }\n",
              "    </script>\n",
              "  </div>\n",
              "\n",
              "\n",
              "<div id=\"df-bb489d7f-9ae7-48cc-b3dd-ce3a73292da6\">\n",
              "  <button class=\"colab-df-quickchart\" onclick=\"quickchart('df-bb489d7f-9ae7-48cc-b3dd-ce3a73292da6')\"\n",
              "            title=\"Suggest charts\"\n",
              "            style=\"display:none;\">\n",
              "\n",
              "<svg xmlns=\"http://www.w3.org/2000/svg\" height=\"24px\"viewBox=\"0 0 24 24\"\n",
              "     width=\"24px\">\n",
              "    <g>\n",
              "        <path d=\"M19 3H5c-1.1 0-2 .9-2 2v14c0 1.1.9 2 2 2h14c1.1 0 2-.9 2-2V5c0-1.1-.9-2-2-2zM9 17H7v-7h2v7zm4 0h-2V7h2v10zm4 0h-2v-4h2v4z\"/>\n",
              "    </g>\n",
              "</svg>\n",
              "  </button>\n",
              "\n",
              "<style>\n",
              "  .colab-df-quickchart {\n",
              "      --bg-color: #E8F0FE;\n",
              "      --fill-color: #1967D2;\n",
              "      --hover-bg-color: #E2EBFA;\n",
              "      --hover-fill-color: #174EA6;\n",
              "      --disabled-fill-color: #AAA;\n",
              "      --disabled-bg-color: #DDD;\n",
              "  }\n",
              "\n",
              "  [theme=dark] .colab-df-quickchart {\n",
              "      --bg-color: #3B4455;\n",
              "      --fill-color: #D2E3FC;\n",
              "      --hover-bg-color: #434B5C;\n",
              "      --hover-fill-color: #FFFFFF;\n",
              "      --disabled-bg-color: #3B4455;\n",
              "      --disabled-fill-color: #666;\n",
              "  }\n",
              "\n",
              "  .colab-df-quickchart {\n",
              "    background-color: var(--bg-color);\n",
              "    border: none;\n",
              "    border-radius: 50%;\n",
              "    cursor: pointer;\n",
              "    display: none;\n",
              "    fill: var(--fill-color);\n",
              "    height: 32px;\n",
              "    padding: 0;\n",
              "    width: 32px;\n",
              "  }\n",
              "\n",
              "  .colab-df-quickchart:hover {\n",
              "    background-color: var(--hover-bg-color);\n",
              "    box-shadow: 0 1px 2px rgba(60, 64, 67, 0.3), 0 1px 3px 1px rgba(60, 64, 67, 0.15);\n",
              "    fill: var(--button-hover-fill-color);\n",
              "  }\n",
              "\n",
              "  .colab-df-quickchart-complete:disabled,\n",
              "  .colab-df-quickchart-complete:disabled:hover {\n",
              "    background-color: var(--disabled-bg-color);\n",
              "    fill: var(--disabled-fill-color);\n",
              "    box-shadow: none;\n",
              "  }\n",
              "\n",
              "  .colab-df-spinner {\n",
              "    border: 2px solid var(--fill-color);\n",
              "    border-color: transparent;\n",
              "    border-bottom-color: var(--fill-color);\n",
              "    animation:\n",
              "      spin 1s steps(1) infinite;\n",
              "  }\n",
              "\n",
              "  @keyframes spin {\n",
              "    0% {\n",
              "      border-color: transparent;\n",
              "      border-bottom-color: var(--fill-color);\n",
              "      border-left-color: var(--fill-color);\n",
              "    }\n",
              "    20% {\n",
              "      border-color: transparent;\n",
              "      border-left-color: var(--fill-color);\n",
              "      border-top-color: var(--fill-color);\n",
              "    }\n",
              "    30% {\n",
              "      border-color: transparent;\n",
              "      border-left-color: var(--fill-color);\n",
              "      border-top-color: var(--fill-color);\n",
              "      border-right-color: var(--fill-color);\n",
              "    }\n",
              "    40% {\n",
              "      border-color: transparent;\n",
              "      border-right-color: var(--fill-color);\n",
              "      border-top-color: var(--fill-color);\n",
              "    }\n",
              "    60% {\n",
              "      border-color: transparent;\n",
              "      border-right-color: var(--fill-color);\n",
              "    }\n",
              "    80% {\n",
              "      border-color: transparent;\n",
              "      border-right-color: var(--fill-color);\n",
              "      border-bottom-color: var(--fill-color);\n",
              "    }\n",
              "    90% {\n",
              "      border-color: transparent;\n",
              "      border-bottom-color: var(--fill-color);\n",
              "    }\n",
              "  }\n",
              "</style>\n",
              "\n",
              "  <script>\n",
              "    async function quickchart(key) {\n",
              "      const quickchartButtonEl =\n",
              "        document.querySelector('#' + key + ' button');\n",
              "      quickchartButtonEl.disabled = true;  // To prevent multiple clicks.\n",
              "      quickchartButtonEl.classList.add('colab-df-spinner');\n",
              "      try {\n",
              "        const charts = await google.colab.kernel.invokeFunction(\n",
              "            'suggestCharts', [key], {});\n",
              "      } catch (error) {\n",
              "        console.error('Error during call to suggestCharts:', error);\n",
              "      }\n",
              "      quickchartButtonEl.classList.remove('colab-df-spinner');\n",
              "      quickchartButtonEl.classList.add('colab-df-quickchart-complete');\n",
              "    }\n",
              "    (() => {\n",
              "      let quickchartButtonEl =\n",
              "        document.querySelector('#df-bb489d7f-9ae7-48cc-b3dd-ce3a73292da6 button');\n",
              "      quickchartButtonEl.style.display =\n",
              "        google.colab.kernel.accessAllowed ? 'block' : 'none';\n",
              "    })();\n",
              "  </script>\n",
              "</div>\n",
              "    </div>\n",
              "  </div>\n"
            ],
            "application/vnd.google.colaboratory.intrinsic+json": {
              "type": "dataframe",
              "variable_name": "train_df"
            }
          },
          "metadata": {},
          "execution_count": 8
        }
      ],
      "source": [
        "train_df.head()"
      ]
    },
    {
      "cell_type": "markdown",
      "id": "0ba9058e",
      "metadata": {
        "papermill": {
          "duration": 0.028763,
          "end_time": "2023-12-13T19:09:20.434018",
          "exception": false,
          "start_time": "2023-12-13T19:09:20.405255",
          "status": "completed"
        },
        "tags": [],
        "id": "0ba9058e"
      },
      "source": [
        "Проверяем dataframe на наличие пропусков."
      ]
    },
    {
      "cell_type": "code",
      "execution_count": 9,
      "id": "8e209281",
      "metadata": {
        "execution": {
          "iopub.execute_input": "2023-12-13T19:09:20.494918Z",
          "iopub.status.busy": "2023-12-13T19:09:20.494476Z",
          "iopub.status.idle": "2023-12-13T19:09:20.613985Z",
          "shell.execute_reply": "2023-12-13T19:09:20.612654Z"
        },
        "papermill": {
          "duration": 0.153328,
          "end_time": "2023-12-13T19:09:20.616595",
          "exception": false,
          "start_time": "2023-12-13T19:09:20.463267",
          "status": "completed"
        },
        "tags": [],
        "colab": {
          "base_uri": "https://localhost:8080/"
        },
        "id": "8e209281",
        "outputId": "a6eaa63b-cc81-401a-daf4-90abdca4125b"
      },
      "outputs": [
        {
          "output_type": "execute_result",
          "data": {
            "text/plain": [
              "msno                  0\n",
              "song_id               0\n",
              "source_system_tab     0\n",
              "source_screen_name    0\n",
              "source_type           0\n",
              "target                0\n",
              "dtype: int64"
            ]
          },
          "metadata": {},
          "execution_count": 9
        }
      ],
      "source": [
        "train_df.isnull().sum()"
      ]
    },
    {
      "cell_type": "code",
      "execution_count": 10,
      "id": "d57a0bd4",
      "metadata": {
        "execution": {
          "iopub.execute_input": "2023-12-13T19:09:20.735904Z",
          "iopub.status.busy": "2023-12-13T19:09:20.735462Z",
          "iopub.status.idle": "2023-12-13T19:09:20.750847Z",
          "shell.execute_reply": "2023-12-13T19:09:20.749609Z"
        },
        "papermill": {
          "duration": 0.04894,
          "end_time": "2023-12-13T19:09:20.753530",
          "exception": false,
          "start_time": "2023-12-13T19:09:20.704590",
          "status": "completed"
        },
        "tags": [],
        "colab": {
          "base_uri": "https://localhost:8080/",
          "height": 243
        },
        "id": "d57a0bd4",
        "outputId": "82e16c13-a924-480b-d86e-1f9456f05202"
      },
      "outputs": [
        {
          "output_type": "execute_result",
          "data": {
            "text/plain": [
              "   id                                          msno  \\\n",
              "0   0  V8ruy7SGk7tDm3zA51DPpn6qutt+vmKMBKa21dp54uM=   \n",
              "1   1  V8ruy7SGk7tDm3zA51DPpn6qutt+vmKMBKa21dp54uM=   \n",
              "2   2  /uQAlrAkaczV+nWCd2sPF2ekvXPRipV7q0l+gbLuxjw=   \n",
              "3   3  1a6oo/iXKatxQx4eS9zTVD+KlSVaAFbTIqVvwLC1Y0k=   \n",
              "4   4  1a6oo/iXKatxQx4eS9zTVD+KlSVaAFbTIqVvwLC1Y0k=   \n",
              "\n",
              "                                        song_id source_system_tab  \\\n",
              "0  WmHKgKMlp1lQMecNdNvDMkvIycZYHnFwDT72I5sIssc=        my library   \n",
              "1  y/rsZ9DC7FwK5F2PK2D5mj+aOBUJAjuu3dZ14NgE0vM=        my library   \n",
              "2  8eZLFOdGVdXBSqoAv5nsLigeH2BvKXzTQYtUM53I0k4=          discover   \n",
              "3  ztCf8thYsS4YN3GcIL/bvoxLm/T5mYBVKOO4C9NiVfQ=             radio   \n",
              "4  MKVMpslKcQhMaFEgcEQhEfi5+RZhMYlU3eRDpySrH8Y=             radio   \n",
              "\n",
              "    source_screen_name          source_type  \n",
              "0  Local playlist more        local-library  \n",
              "1  Local playlist more        local-library  \n",
              "2                       song-based-playlist  \n",
              "3                Radio                radio  \n",
              "4                Radio                radio  "
            ],
            "text/html": [
              "\n",
              "  <div id=\"df-d27ebae7-5751-4aef-b75e-c165be291a62\" class=\"colab-df-container\">\n",
              "    <div>\n",
              "<style scoped>\n",
              "    .dataframe tbody tr th:only-of-type {\n",
              "        vertical-align: middle;\n",
              "    }\n",
              "\n",
              "    .dataframe tbody tr th {\n",
              "        vertical-align: top;\n",
              "    }\n",
              "\n",
              "    .dataframe thead th {\n",
              "        text-align: right;\n",
              "    }\n",
              "</style>\n",
              "<table border=\"1\" class=\"dataframe\">\n",
              "  <thead>\n",
              "    <tr style=\"text-align: right;\">\n",
              "      <th></th>\n",
              "      <th>id</th>\n",
              "      <th>msno</th>\n",
              "      <th>song_id</th>\n",
              "      <th>source_system_tab</th>\n",
              "      <th>source_screen_name</th>\n",
              "      <th>source_type</th>\n",
              "    </tr>\n",
              "  </thead>\n",
              "  <tbody>\n",
              "    <tr>\n",
              "      <th>0</th>\n",
              "      <td>0</td>\n",
              "      <td>V8ruy7SGk7tDm3zA51DPpn6qutt+vmKMBKa21dp54uM=</td>\n",
              "      <td>WmHKgKMlp1lQMecNdNvDMkvIycZYHnFwDT72I5sIssc=</td>\n",
              "      <td>my library</td>\n",
              "      <td>Local playlist more</td>\n",
              "      <td>local-library</td>\n",
              "    </tr>\n",
              "    <tr>\n",
              "      <th>1</th>\n",
              "      <td>1</td>\n",
              "      <td>V8ruy7SGk7tDm3zA51DPpn6qutt+vmKMBKa21dp54uM=</td>\n",
              "      <td>y/rsZ9DC7FwK5F2PK2D5mj+aOBUJAjuu3dZ14NgE0vM=</td>\n",
              "      <td>my library</td>\n",
              "      <td>Local playlist more</td>\n",
              "      <td>local-library</td>\n",
              "    </tr>\n",
              "    <tr>\n",
              "      <th>2</th>\n",
              "      <td>2</td>\n",
              "      <td>/uQAlrAkaczV+nWCd2sPF2ekvXPRipV7q0l+gbLuxjw=</td>\n",
              "      <td>8eZLFOdGVdXBSqoAv5nsLigeH2BvKXzTQYtUM53I0k4=</td>\n",
              "      <td>discover</td>\n",
              "      <td></td>\n",
              "      <td>song-based-playlist</td>\n",
              "    </tr>\n",
              "    <tr>\n",
              "      <th>3</th>\n",
              "      <td>3</td>\n",
              "      <td>1a6oo/iXKatxQx4eS9zTVD+KlSVaAFbTIqVvwLC1Y0k=</td>\n",
              "      <td>ztCf8thYsS4YN3GcIL/bvoxLm/T5mYBVKOO4C9NiVfQ=</td>\n",
              "      <td>radio</td>\n",
              "      <td>Radio</td>\n",
              "      <td>radio</td>\n",
              "    </tr>\n",
              "    <tr>\n",
              "      <th>4</th>\n",
              "      <td>4</td>\n",
              "      <td>1a6oo/iXKatxQx4eS9zTVD+KlSVaAFbTIqVvwLC1Y0k=</td>\n",
              "      <td>MKVMpslKcQhMaFEgcEQhEfi5+RZhMYlU3eRDpySrH8Y=</td>\n",
              "      <td>radio</td>\n",
              "      <td>Radio</td>\n",
              "      <td>radio</td>\n",
              "    </tr>\n",
              "  </tbody>\n",
              "</table>\n",
              "</div>\n",
              "    <div class=\"colab-df-buttons\">\n",
              "\n",
              "  <div class=\"colab-df-container\">\n",
              "    <button class=\"colab-df-convert\" onclick=\"convertToInteractive('df-d27ebae7-5751-4aef-b75e-c165be291a62')\"\n",
              "            title=\"Convert this dataframe to an interactive table.\"\n",
              "            style=\"display:none;\">\n",
              "\n",
              "  <svg xmlns=\"http://www.w3.org/2000/svg\" height=\"24px\" viewBox=\"0 -960 960 960\">\n",
              "    <path d=\"M120-120v-720h720v720H120Zm60-500h600v-160H180v160Zm220 220h160v-160H400v160Zm0 220h160v-160H400v160ZM180-400h160v-160H180v160Zm440 0h160v-160H620v160ZM180-180h160v-160H180v160Zm440 0h160v-160H620v160Z\"/>\n",
              "  </svg>\n",
              "    </button>\n",
              "\n",
              "  <style>\n",
              "    .colab-df-container {\n",
              "      display:flex;\n",
              "      gap: 12px;\n",
              "    }\n",
              "\n",
              "    .colab-df-convert {\n",
              "      background-color: #E8F0FE;\n",
              "      border: none;\n",
              "      border-radius: 50%;\n",
              "      cursor: pointer;\n",
              "      display: none;\n",
              "      fill: #1967D2;\n",
              "      height: 32px;\n",
              "      padding: 0 0 0 0;\n",
              "      width: 32px;\n",
              "    }\n",
              "\n",
              "    .colab-df-convert:hover {\n",
              "      background-color: #E2EBFA;\n",
              "      box-shadow: 0px 1px 2px rgba(60, 64, 67, 0.3), 0px 1px 3px 1px rgba(60, 64, 67, 0.15);\n",
              "      fill: #174EA6;\n",
              "    }\n",
              "\n",
              "    .colab-df-buttons div {\n",
              "      margin-bottom: 4px;\n",
              "    }\n",
              "\n",
              "    [theme=dark] .colab-df-convert {\n",
              "      background-color: #3B4455;\n",
              "      fill: #D2E3FC;\n",
              "    }\n",
              "\n",
              "    [theme=dark] .colab-df-convert:hover {\n",
              "      background-color: #434B5C;\n",
              "      box-shadow: 0px 1px 3px 1px rgba(0, 0, 0, 0.15);\n",
              "      filter: drop-shadow(0px 1px 2px rgba(0, 0, 0, 0.3));\n",
              "      fill: #FFFFFF;\n",
              "    }\n",
              "  </style>\n",
              "\n",
              "    <script>\n",
              "      const buttonEl =\n",
              "        document.querySelector('#df-d27ebae7-5751-4aef-b75e-c165be291a62 button.colab-df-convert');\n",
              "      buttonEl.style.display =\n",
              "        google.colab.kernel.accessAllowed ? 'block' : 'none';\n",
              "\n",
              "      async function convertToInteractive(key) {\n",
              "        const element = document.querySelector('#df-d27ebae7-5751-4aef-b75e-c165be291a62');\n",
              "        const dataTable =\n",
              "          await google.colab.kernel.invokeFunction('convertToInteractive',\n",
              "                                                    [key], {});\n",
              "        if (!dataTable) return;\n",
              "\n",
              "        const docLinkHtml = 'Like what you see? Visit the ' +\n",
              "          '<a target=\"_blank\" href=https://colab.research.google.com/notebooks/data_table.ipynb>data table notebook</a>'\n",
              "          + ' to learn more about interactive tables.';\n",
              "        element.innerHTML = '';\n",
              "        dataTable['output_type'] = 'display_data';\n",
              "        await google.colab.output.renderOutput(dataTable, element);\n",
              "        const docLink = document.createElement('div');\n",
              "        docLink.innerHTML = docLinkHtml;\n",
              "        element.appendChild(docLink);\n",
              "      }\n",
              "    </script>\n",
              "  </div>\n",
              "\n",
              "\n",
              "<div id=\"df-814a3bbb-8cde-46cb-925d-89fa56af92cd\">\n",
              "  <button class=\"colab-df-quickchart\" onclick=\"quickchart('df-814a3bbb-8cde-46cb-925d-89fa56af92cd')\"\n",
              "            title=\"Suggest charts\"\n",
              "            style=\"display:none;\">\n",
              "\n",
              "<svg xmlns=\"http://www.w3.org/2000/svg\" height=\"24px\"viewBox=\"0 0 24 24\"\n",
              "     width=\"24px\">\n",
              "    <g>\n",
              "        <path d=\"M19 3H5c-1.1 0-2 .9-2 2v14c0 1.1.9 2 2 2h14c1.1 0 2-.9 2-2V5c0-1.1-.9-2-2-2zM9 17H7v-7h2v7zm4 0h-2V7h2v10zm4 0h-2v-4h2v4z\"/>\n",
              "    </g>\n",
              "</svg>\n",
              "  </button>\n",
              "\n",
              "<style>\n",
              "  .colab-df-quickchart {\n",
              "      --bg-color: #E8F0FE;\n",
              "      --fill-color: #1967D2;\n",
              "      --hover-bg-color: #E2EBFA;\n",
              "      --hover-fill-color: #174EA6;\n",
              "      --disabled-fill-color: #AAA;\n",
              "      --disabled-bg-color: #DDD;\n",
              "  }\n",
              "\n",
              "  [theme=dark] .colab-df-quickchart {\n",
              "      --bg-color: #3B4455;\n",
              "      --fill-color: #D2E3FC;\n",
              "      --hover-bg-color: #434B5C;\n",
              "      --hover-fill-color: #FFFFFF;\n",
              "      --disabled-bg-color: #3B4455;\n",
              "      --disabled-fill-color: #666;\n",
              "  }\n",
              "\n",
              "  .colab-df-quickchart {\n",
              "    background-color: var(--bg-color);\n",
              "    border: none;\n",
              "    border-radius: 50%;\n",
              "    cursor: pointer;\n",
              "    display: none;\n",
              "    fill: var(--fill-color);\n",
              "    height: 32px;\n",
              "    padding: 0;\n",
              "    width: 32px;\n",
              "  }\n",
              "\n",
              "  .colab-df-quickchart:hover {\n",
              "    background-color: var(--hover-bg-color);\n",
              "    box-shadow: 0 1px 2px rgba(60, 64, 67, 0.3), 0 1px 3px 1px rgba(60, 64, 67, 0.15);\n",
              "    fill: var(--button-hover-fill-color);\n",
              "  }\n",
              "\n",
              "  .colab-df-quickchart-complete:disabled,\n",
              "  .colab-df-quickchart-complete:disabled:hover {\n",
              "    background-color: var(--disabled-bg-color);\n",
              "    fill: var(--disabled-fill-color);\n",
              "    box-shadow: none;\n",
              "  }\n",
              "\n",
              "  .colab-df-spinner {\n",
              "    border: 2px solid var(--fill-color);\n",
              "    border-color: transparent;\n",
              "    border-bottom-color: var(--fill-color);\n",
              "    animation:\n",
              "      spin 1s steps(1) infinite;\n",
              "  }\n",
              "\n",
              "  @keyframes spin {\n",
              "    0% {\n",
              "      border-color: transparent;\n",
              "      border-bottom-color: var(--fill-color);\n",
              "      border-left-color: var(--fill-color);\n",
              "    }\n",
              "    20% {\n",
              "      border-color: transparent;\n",
              "      border-left-color: var(--fill-color);\n",
              "      border-top-color: var(--fill-color);\n",
              "    }\n",
              "    30% {\n",
              "      border-color: transparent;\n",
              "      border-left-color: var(--fill-color);\n",
              "      border-top-color: var(--fill-color);\n",
              "      border-right-color: var(--fill-color);\n",
              "    }\n",
              "    40% {\n",
              "      border-color: transparent;\n",
              "      border-right-color: var(--fill-color);\n",
              "      border-top-color: var(--fill-color);\n",
              "    }\n",
              "    60% {\n",
              "      border-color: transparent;\n",
              "      border-right-color: var(--fill-color);\n",
              "    }\n",
              "    80% {\n",
              "      border-color: transparent;\n",
              "      border-right-color: var(--fill-color);\n",
              "      border-bottom-color: var(--fill-color);\n",
              "    }\n",
              "    90% {\n",
              "      border-color: transparent;\n",
              "      border-bottom-color: var(--fill-color);\n",
              "    }\n",
              "  }\n",
              "</style>\n",
              "\n",
              "  <script>\n",
              "    async function quickchart(key) {\n",
              "      const quickchartButtonEl =\n",
              "        document.querySelector('#' + key + ' button');\n",
              "      quickchartButtonEl.disabled = true;  // To prevent multiple clicks.\n",
              "      quickchartButtonEl.classList.add('colab-df-spinner');\n",
              "      try {\n",
              "        const charts = await google.colab.kernel.invokeFunction(\n",
              "            'suggestCharts', [key], {});\n",
              "      } catch (error) {\n",
              "        console.error('Error during call to suggestCharts:', error);\n",
              "      }\n",
              "      quickchartButtonEl.classList.remove('colab-df-spinner');\n",
              "      quickchartButtonEl.classList.add('colab-df-quickchart-complete');\n",
              "    }\n",
              "    (() => {\n",
              "      let quickchartButtonEl =\n",
              "        document.querySelector('#df-814a3bbb-8cde-46cb-925d-89fa56af92cd button');\n",
              "      quickchartButtonEl.style.display =\n",
              "        google.colab.kernel.accessAllowed ? 'block' : 'none';\n",
              "    })();\n",
              "  </script>\n",
              "</div>\n",
              "    </div>\n",
              "  </div>\n"
            ],
            "application/vnd.google.colaboratory.intrinsic+json": {
              "type": "dataframe",
              "variable_name": "test_df"
            }
          },
          "metadata": {},
          "execution_count": 10
        }
      ],
      "source": [
        "test_df.head()"
      ]
    },
    {
      "cell_type": "markdown",
      "id": "2868226b",
      "metadata": {
        "papermill": {
          "duration": 0.029122,
          "end_time": "2023-12-13T19:09:20.813055",
          "exception": false,
          "start_time": "2023-12-13T19:09:20.783933",
          "status": "completed"
        },
        "tags": [],
        "id": "2868226b"
      },
      "source": [
        "# Feautere eng-ring"
      ]
    },
    {
      "cell_type": "markdown",
      "id": "b44f705c",
      "metadata": {
        "papermill": {
          "duration": 0.029163,
          "end_time": "2023-12-13T19:09:20.872150",
          "exception": false,
          "start_time": "2023-12-13T19:09:20.842987",
          "status": "completed"
        },
        "tags": [],
        "id": "b44f705c"
      },
      "source": [
        "Проверяем dataframe на наличие пропусков."
      ]
    },
    {
      "cell_type": "code",
      "execution_count": 11,
      "id": "d49e2cc7",
      "metadata": {
        "execution": {
          "iopub.execute_input": "2023-12-13T19:09:20.934942Z",
          "iopub.status.busy": "2023-12-13T19:09:20.934098Z",
          "iopub.status.idle": "2023-12-13T19:09:20.968274Z",
          "shell.execute_reply": "2023-12-13T19:09:20.967392Z"
        },
        "papermill": {
          "duration": 0.068142,
          "end_time": "2023-12-13T19:09:20.970483",
          "exception": false,
          "start_time": "2023-12-13T19:09:20.902341",
          "status": "completed"
        },
        "tags": [],
        "colab": {
          "base_uri": "https://localhost:8080/"
        },
        "id": "d49e2cc7",
        "outputId": "b989f749-c6c5-4c39-cf59-52c5844ce56d"
      },
      "outputs": [
        {
          "output_type": "execute_result",
          "data": {
            "text/plain": [
              "song_id        0\n",
              "song_length    0\n",
              "genre_ids      0\n",
              "artist_name    0\n",
              "composer       0\n",
              "lyricist       0\n",
              "language       1\n",
              "dtype: int64"
            ]
          },
          "metadata": {},
          "execution_count": 11
        }
      ],
      "source": [
        "songs_df.isnull().sum()"
      ]
    },
    {
      "cell_type": "code",
      "execution_count": 12,
      "id": "cd6504ad",
      "metadata": {
        "execution": {
          "iopub.execute_input": "2023-12-13T19:09:21.095278Z",
          "iopub.status.busy": "2023-12-13T19:09:21.094096Z",
          "iopub.status.idle": "2023-12-13T19:09:21.110733Z",
          "shell.execute_reply": "2023-12-13T19:09:21.109599Z"
        },
        "papermill": {
          "duration": 0.05002,
          "end_time": "2023-12-13T19:09:21.113293",
          "exception": false,
          "start_time": "2023-12-13T19:09:21.063273",
          "status": "completed"
        },
        "tags": [],
        "colab": {
          "base_uri": "https://localhost:8080/",
          "height": 241
        },
        "id": "cd6504ad",
        "outputId": "332b4fce-8da7-4c45-9430-09b11d174a8c"
      },
      "outputs": [
        {
          "output_type": "execute_result",
          "data": {
            "text/plain": [
              "                                        song_id  song_length genre_ids  \\\n",
              "0  CXoTN1eb7AI+DntdU1vbcwGRV4SCIDxZu+YD8JP8r4E=       247640       465   \n",
              "1  o0kFgae9QtnYgRkVPqLJwa05zIhRlUjfF7O1tDw0ZDU=       197328       444   \n",
              "2  DwVvVurfpuz+XPuFvucclVQEyPqcpUkHR0ne1RQzPs0=       231781       465   \n",
              "3  dKMBWoZyScdxSkihKG+Vf47nc18N9q4m58+b4e7dSSE=       273554       465   \n",
              "4  W3bqWd3T+VeHFzHAUfARgW9AvVRaF4N5Yzm4Mr6Eo/o=       140329       726   \n",
              "\n",
              "        artist_name                            composer     lyricist  language  \n",
              "0  張信哲 (Jeff Chang)                                  董貞          何啟弘       3.0  \n",
              "1         BLACKPINK  TEDDY|  FUTURE BOUNCE|  Bekuh BOOM        TEDDY      31.0  \n",
              "2      SUPER JUNIOR                                                       31.0  \n",
              "3             S.H.E                                 湯小康          徐世珍       3.0  \n",
              "4              貴族精選                         Traditional  Traditional      52.0  "
            ],
            "text/html": [
              "\n",
              "  <div id=\"df-30f22da6-e36a-4d82-81d1-5ac68e349017\" class=\"colab-df-container\">\n",
              "    <div>\n",
              "<style scoped>\n",
              "    .dataframe tbody tr th:only-of-type {\n",
              "        vertical-align: middle;\n",
              "    }\n",
              "\n",
              "    .dataframe tbody tr th {\n",
              "        vertical-align: top;\n",
              "    }\n",
              "\n",
              "    .dataframe thead th {\n",
              "        text-align: right;\n",
              "    }\n",
              "</style>\n",
              "<table border=\"1\" class=\"dataframe\">\n",
              "  <thead>\n",
              "    <tr style=\"text-align: right;\">\n",
              "      <th></th>\n",
              "      <th>song_id</th>\n",
              "      <th>song_length</th>\n",
              "      <th>genre_ids</th>\n",
              "      <th>artist_name</th>\n",
              "      <th>composer</th>\n",
              "      <th>lyricist</th>\n",
              "      <th>language</th>\n",
              "    </tr>\n",
              "  </thead>\n",
              "  <tbody>\n",
              "    <tr>\n",
              "      <th>0</th>\n",
              "      <td>CXoTN1eb7AI+DntdU1vbcwGRV4SCIDxZu+YD8JP8r4E=</td>\n",
              "      <td>247640</td>\n",
              "      <td>465</td>\n",
              "      <td>張信哲 (Jeff Chang)</td>\n",
              "      <td>董貞</td>\n",
              "      <td>何啟弘</td>\n",
              "      <td>3.0</td>\n",
              "    </tr>\n",
              "    <tr>\n",
              "      <th>1</th>\n",
              "      <td>o0kFgae9QtnYgRkVPqLJwa05zIhRlUjfF7O1tDw0ZDU=</td>\n",
              "      <td>197328</td>\n",
              "      <td>444</td>\n",
              "      <td>BLACKPINK</td>\n",
              "      <td>TEDDY|  FUTURE BOUNCE|  Bekuh BOOM</td>\n",
              "      <td>TEDDY</td>\n",
              "      <td>31.0</td>\n",
              "    </tr>\n",
              "    <tr>\n",
              "      <th>2</th>\n",
              "      <td>DwVvVurfpuz+XPuFvucclVQEyPqcpUkHR0ne1RQzPs0=</td>\n",
              "      <td>231781</td>\n",
              "      <td>465</td>\n",
              "      <td>SUPER JUNIOR</td>\n",
              "      <td></td>\n",
              "      <td></td>\n",
              "      <td>31.0</td>\n",
              "    </tr>\n",
              "    <tr>\n",
              "      <th>3</th>\n",
              "      <td>dKMBWoZyScdxSkihKG+Vf47nc18N9q4m58+b4e7dSSE=</td>\n",
              "      <td>273554</td>\n",
              "      <td>465</td>\n",
              "      <td>S.H.E</td>\n",
              "      <td>湯小康</td>\n",
              "      <td>徐世珍</td>\n",
              "      <td>3.0</td>\n",
              "    </tr>\n",
              "    <tr>\n",
              "      <th>4</th>\n",
              "      <td>W3bqWd3T+VeHFzHAUfARgW9AvVRaF4N5Yzm4Mr6Eo/o=</td>\n",
              "      <td>140329</td>\n",
              "      <td>726</td>\n",
              "      <td>貴族精選</td>\n",
              "      <td>Traditional</td>\n",
              "      <td>Traditional</td>\n",
              "      <td>52.0</td>\n",
              "    </tr>\n",
              "  </tbody>\n",
              "</table>\n",
              "</div>\n",
              "    <div class=\"colab-df-buttons\">\n",
              "\n",
              "  <div class=\"colab-df-container\">\n",
              "    <button class=\"colab-df-convert\" onclick=\"convertToInteractive('df-30f22da6-e36a-4d82-81d1-5ac68e349017')\"\n",
              "            title=\"Convert this dataframe to an interactive table.\"\n",
              "            style=\"display:none;\">\n",
              "\n",
              "  <svg xmlns=\"http://www.w3.org/2000/svg\" height=\"24px\" viewBox=\"0 -960 960 960\">\n",
              "    <path d=\"M120-120v-720h720v720H120Zm60-500h600v-160H180v160Zm220 220h160v-160H400v160Zm0 220h160v-160H400v160ZM180-400h160v-160H180v160Zm440 0h160v-160H620v160ZM180-180h160v-160H180v160Zm440 0h160v-160H620v160Z\"/>\n",
              "  </svg>\n",
              "    </button>\n",
              "\n",
              "  <style>\n",
              "    .colab-df-container {\n",
              "      display:flex;\n",
              "      gap: 12px;\n",
              "    }\n",
              "\n",
              "    .colab-df-convert {\n",
              "      background-color: #E8F0FE;\n",
              "      border: none;\n",
              "      border-radius: 50%;\n",
              "      cursor: pointer;\n",
              "      display: none;\n",
              "      fill: #1967D2;\n",
              "      height: 32px;\n",
              "      padding: 0 0 0 0;\n",
              "      width: 32px;\n",
              "    }\n",
              "\n",
              "    .colab-df-convert:hover {\n",
              "      background-color: #E2EBFA;\n",
              "      box-shadow: 0px 1px 2px rgba(60, 64, 67, 0.3), 0px 1px 3px 1px rgba(60, 64, 67, 0.15);\n",
              "      fill: #174EA6;\n",
              "    }\n",
              "\n",
              "    .colab-df-buttons div {\n",
              "      margin-bottom: 4px;\n",
              "    }\n",
              "\n",
              "    [theme=dark] .colab-df-convert {\n",
              "      background-color: #3B4455;\n",
              "      fill: #D2E3FC;\n",
              "    }\n",
              "\n",
              "    [theme=dark] .colab-df-convert:hover {\n",
              "      background-color: #434B5C;\n",
              "      box-shadow: 0px 1px 3px 1px rgba(0, 0, 0, 0.15);\n",
              "      filter: drop-shadow(0px 1px 2px rgba(0, 0, 0, 0.3));\n",
              "      fill: #FFFFFF;\n",
              "    }\n",
              "  </style>\n",
              "\n",
              "    <script>\n",
              "      const buttonEl =\n",
              "        document.querySelector('#df-30f22da6-e36a-4d82-81d1-5ac68e349017 button.colab-df-convert');\n",
              "      buttonEl.style.display =\n",
              "        google.colab.kernel.accessAllowed ? 'block' : 'none';\n",
              "\n",
              "      async function convertToInteractive(key) {\n",
              "        const element = document.querySelector('#df-30f22da6-e36a-4d82-81d1-5ac68e349017');\n",
              "        const dataTable =\n",
              "          await google.colab.kernel.invokeFunction('convertToInteractive',\n",
              "                                                    [key], {});\n",
              "        if (!dataTable) return;\n",
              "\n",
              "        const docLinkHtml = 'Like what you see? Visit the ' +\n",
              "          '<a target=\"_blank\" href=https://colab.research.google.com/notebooks/data_table.ipynb>data table notebook</a>'\n",
              "          + ' to learn more about interactive tables.';\n",
              "        element.innerHTML = '';\n",
              "        dataTable['output_type'] = 'display_data';\n",
              "        await google.colab.output.renderOutput(dataTable, element);\n",
              "        const docLink = document.createElement('div');\n",
              "        docLink.innerHTML = docLinkHtml;\n",
              "        element.appendChild(docLink);\n",
              "      }\n",
              "    </script>\n",
              "  </div>\n",
              "\n",
              "\n",
              "<div id=\"df-e7b66f8a-7c23-4af0-85c3-4cda3a5f3cf8\">\n",
              "  <button class=\"colab-df-quickchart\" onclick=\"quickchart('df-e7b66f8a-7c23-4af0-85c3-4cda3a5f3cf8')\"\n",
              "            title=\"Suggest charts\"\n",
              "            style=\"display:none;\">\n",
              "\n",
              "<svg xmlns=\"http://www.w3.org/2000/svg\" height=\"24px\"viewBox=\"0 0 24 24\"\n",
              "     width=\"24px\">\n",
              "    <g>\n",
              "        <path d=\"M19 3H5c-1.1 0-2 .9-2 2v14c0 1.1.9 2 2 2h14c1.1 0 2-.9 2-2V5c0-1.1-.9-2-2-2zM9 17H7v-7h2v7zm4 0h-2V7h2v10zm4 0h-2v-4h2v4z\"/>\n",
              "    </g>\n",
              "</svg>\n",
              "  </button>\n",
              "\n",
              "<style>\n",
              "  .colab-df-quickchart {\n",
              "      --bg-color: #E8F0FE;\n",
              "      --fill-color: #1967D2;\n",
              "      --hover-bg-color: #E2EBFA;\n",
              "      --hover-fill-color: #174EA6;\n",
              "      --disabled-fill-color: #AAA;\n",
              "      --disabled-bg-color: #DDD;\n",
              "  }\n",
              "\n",
              "  [theme=dark] .colab-df-quickchart {\n",
              "      --bg-color: #3B4455;\n",
              "      --fill-color: #D2E3FC;\n",
              "      --hover-bg-color: #434B5C;\n",
              "      --hover-fill-color: #FFFFFF;\n",
              "      --disabled-bg-color: #3B4455;\n",
              "      --disabled-fill-color: #666;\n",
              "  }\n",
              "\n",
              "  .colab-df-quickchart {\n",
              "    background-color: var(--bg-color);\n",
              "    border: none;\n",
              "    border-radius: 50%;\n",
              "    cursor: pointer;\n",
              "    display: none;\n",
              "    fill: var(--fill-color);\n",
              "    height: 32px;\n",
              "    padding: 0;\n",
              "    width: 32px;\n",
              "  }\n",
              "\n",
              "  .colab-df-quickchart:hover {\n",
              "    background-color: var(--hover-bg-color);\n",
              "    box-shadow: 0 1px 2px rgba(60, 64, 67, 0.3), 0 1px 3px 1px rgba(60, 64, 67, 0.15);\n",
              "    fill: var(--button-hover-fill-color);\n",
              "  }\n",
              "\n",
              "  .colab-df-quickchart-complete:disabled,\n",
              "  .colab-df-quickchart-complete:disabled:hover {\n",
              "    background-color: var(--disabled-bg-color);\n",
              "    fill: var(--disabled-fill-color);\n",
              "    box-shadow: none;\n",
              "  }\n",
              "\n",
              "  .colab-df-spinner {\n",
              "    border: 2px solid var(--fill-color);\n",
              "    border-color: transparent;\n",
              "    border-bottom-color: var(--fill-color);\n",
              "    animation:\n",
              "      spin 1s steps(1) infinite;\n",
              "  }\n",
              "\n",
              "  @keyframes spin {\n",
              "    0% {\n",
              "      border-color: transparent;\n",
              "      border-bottom-color: var(--fill-color);\n",
              "      border-left-color: var(--fill-color);\n",
              "    }\n",
              "    20% {\n",
              "      border-color: transparent;\n",
              "      border-left-color: var(--fill-color);\n",
              "      border-top-color: var(--fill-color);\n",
              "    }\n",
              "    30% {\n",
              "      border-color: transparent;\n",
              "      border-left-color: var(--fill-color);\n",
              "      border-top-color: var(--fill-color);\n",
              "      border-right-color: var(--fill-color);\n",
              "    }\n",
              "    40% {\n",
              "      border-color: transparent;\n",
              "      border-right-color: var(--fill-color);\n",
              "      border-top-color: var(--fill-color);\n",
              "    }\n",
              "    60% {\n",
              "      border-color: transparent;\n",
              "      border-right-color: var(--fill-color);\n",
              "    }\n",
              "    80% {\n",
              "      border-color: transparent;\n",
              "      border-right-color: var(--fill-color);\n",
              "      border-bottom-color: var(--fill-color);\n",
              "    }\n",
              "    90% {\n",
              "      border-color: transparent;\n",
              "      border-bottom-color: var(--fill-color);\n",
              "    }\n",
              "  }\n",
              "</style>\n",
              "\n",
              "  <script>\n",
              "    async function quickchart(key) {\n",
              "      const quickchartButtonEl =\n",
              "        document.querySelector('#' + key + ' button');\n",
              "      quickchartButtonEl.disabled = true;  // To prevent multiple clicks.\n",
              "      quickchartButtonEl.classList.add('colab-df-spinner');\n",
              "      try {\n",
              "        const charts = await google.colab.kernel.invokeFunction(\n",
              "            'suggestCharts', [key], {});\n",
              "      } catch (error) {\n",
              "        console.error('Error during call to suggestCharts:', error);\n",
              "      }\n",
              "      quickchartButtonEl.classList.remove('colab-df-spinner');\n",
              "      quickchartButtonEl.classList.add('colab-df-quickchart-complete');\n",
              "    }\n",
              "    (() => {\n",
              "      let quickchartButtonEl =\n",
              "        document.querySelector('#df-e7b66f8a-7c23-4af0-85c3-4cda3a5f3cf8 button');\n",
              "      quickchartButtonEl.style.display =\n",
              "        google.colab.kernel.accessAllowed ? 'block' : 'none';\n",
              "    })();\n",
              "  </script>\n",
              "</div>\n",
              "    </div>\n",
              "  </div>\n"
            ],
            "application/vnd.google.colaboratory.intrinsic+json": {
              "type": "dataframe",
              "variable_name": "songs_df"
            }
          },
          "metadata": {},
          "execution_count": 12
        }
      ],
      "source": [
        "songs_df.head()"
      ]
    },
    {
      "cell_type": "markdown",
      "id": "c3d1ee05",
      "metadata": {
        "papermill": {
          "duration": 0.029598,
          "end_time": "2023-12-13T19:09:21.174647",
          "exception": false,
          "start_time": "2023-12-13T19:09:21.145049",
          "status": "completed"
        },
        "tags": [],
        "id": "c3d1ee05"
      },
      "source": [
        "Выедем количество уникальных жанров."
      ]
    },
    {
      "cell_type": "code",
      "execution_count": 13,
      "id": "ee5bd3de",
      "metadata": {
        "execution": {
          "iopub.execute_input": "2023-12-13T19:09:21.236974Z",
          "iopub.status.busy": "2023-12-13T19:09:21.236225Z",
          "iopub.status.idle": "2023-12-13T19:09:21.266638Z",
          "shell.execute_reply": "2023-12-13T19:09:21.265447Z"
        },
        "papermill": {
          "duration": 0.064849,
          "end_time": "2023-12-13T19:09:21.269433",
          "exception": false,
          "start_time": "2023-12-13T19:09:21.204584",
          "status": "completed"
        },
        "tags": [],
        "colab": {
          "base_uri": "https://localhost:8080/"
        },
        "id": "ee5bd3de",
        "outputId": "8ce4d5a5-c6ba-4208-9cc0-cecad476f8b4"
      },
      "outputs": [
        {
          "output_type": "execute_result",
          "data": {
            "text/plain": [
              "465         567911\n",
              "958         176349\n",
              "2022        168870\n",
              "1609        166457\n",
              "2122        139938\n",
              "             ...  \n",
              "465|1007         1\n",
              "1138|430         1\n",
              "458|698          1\n",
              "1208|139         1\n",
              "423|531          1\n",
              "Name: genre_ids, Length: 1046, dtype: int64"
            ]
          },
          "metadata": {},
          "execution_count": 13
        }
      ],
      "source": [
        "songs_df.genre_ids.value_counts()"
      ]
    },
    {
      "cell_type": "markdown",
      "id": "67808b1b",
      "metadata": {
        "papermill": {
          "duration": 0.030775,
          "end_time": "2023-12-13T19:09:21.332361",
          "exception": false,
          "start_time": "2023-12-13T19:09:21.301586",
          "status": "completed"
        },
        "tags": [],
        "id": "67808b1b"
      },
      "source": [
        "Разделим названия жанров по \"|\""
      ]
    },
    {
      "cell_type": "code",
      "source": [
        "len(songs_df)"
      ],
      "metadata": {
        "colab": {
          "base_uri": "https://localhost:8080/"
        },
        "id": "l-5Ok7MACG31",
        "outputId": "e7ca62dc-a0f7-49ef-e625-791b07059f50"
      },
      "id": "l-5Ok7MACG31",
      "execution_count": 14,
      "outputs": [
        {
          "output_type": "execute_result",
          "data": {
            "text/plain": [
              "2296320"
            ]
          },
          "metadata": {},
          "execution_count": 14
        }
      ]
    },
    {
      "cell_type": "code",
      "execution_count": 15,
      "id": "57a595e5",
      "metadata": {
        "execution": {
          "iopub.execute_input": "2023-12-13T19:09:21.395718Z",
          "iopub.status.busy": "2023-12-13T19:09:21.395286Z",
          "iopub.status.idle": "2023-12-13T19:09:21.428998Z",
          "shell.execute_reply": "2023-12-13T19:09:21.427592Z"
        },
        "papermill": {
          "duration": 0.069509,
          "end_time": "2023-12-13T19:09:21.431926",
          "exception": false,
          "start_time": "2023-12-13T19:09:21.362417",
          "status": "completed"
        },
        "tags": [],
        "id": "57a595e5"
      },
      "outputs": [],
      "source": [
        "df_idx = songs_df[\"genre_ids\"].str.split('|')"
      ]
    },
    {
      "cell_type": "code",
      "source": [
        "df_idx"
      ],
      "metadata": {
        "colab": {
          "base_uri": "https://localhost:8080/"
        },
        "id": "Y_EJZL_oBxCX",
        "outputId": "4389b60d-4a33-4df4-f0c1-14db27e3944c"
      },
      "id": "Y_EJZL_oBxCX",
      "execution_count": 16,
      "outputs": [
        {
          "output_type": "execute_result",
          "data": {
            "text/plain": [
              "0           [465]\n",
              "1           [444]\n",
              "2           [465]\n",
              "3           [465]\n",
              "4           [726]\n",
              "            ...  \n",
              "2296315     [958]\n",
              "2296316     [465]\n",
              "2296317    [1609]\n",
              "2296318     [465]\n",
              "2296319     [829]\n",
              "Name: genre_ids, Length: 2296320, dtype: object"
            ]
          },
          "metadata": {},
          "execution_count": 16
        }
      ]
    },
    {
      "cell_type": "code",
      "execution_count": 17,
      "id": "53f9b10a",
      "metadata": {
        "execution": {
          "iopub.execute_input": "2023-12-13T19:09:21.495602Z",
          "iopub.status.busy": "2023-12-13T19:09:21.495203Z",
          "iopub.status.idle": "2023-12-13T19:19:19.789959Z",
          "shell.execute_reply": "2023-12-13T19:19:19.788586Z"
        },
        "papermill": {
          "duration": 598.361481,
          "end_time": "2023-12-13T19:19:19.823951",
          "exception": false,
          "start_time": "2023-12-13T19:09:21.462470",
          "status": "completed"
        },
        "tags": [],
        "id": "53f9b10a"
      },
      "outputs": [],
      "source": [
        "\n",
        "\n",
        "songs_df = pd.concat([songs_df.drop('genre_ids', axis = 1 ), df_idx.apply(pd.Series)], axis=1)\n",
        "\n"
      ]
    },
    {
      "cell_type": "code",
      "execution_count": 18,
      "id": "d94862f2",
      "metadata": {
        "execution": {
          "iopub.execute_input": "2023-12-13T19:19:19.953445Z",
          "iopub.status.busy": "2023-12-13T19:19:19.951864Z",
          "iopub.status.idle": "2023-12-13T19:19:20.287879Z",
          "shell.execute_reply": "2023-12-13T19:19:20.286668Z"
        },
        "papermill": {
          "duration": 0.371938,
          "end_time": "2023-12-13T19:19:20.290775",
          "exception": false,
          "start_time": "2023-12-13T19:19:19.918837",
          "status": "completed"
        },
        "tags": [],
        "colab": {
          "base_uri": "https://localhost:8080/"
        },
        "id": "d94862f2",
        "outputId": "88023622-24bc-41fd-9a22-9f55b06b1b33"
      },
      "outputs": [
        {
          "output_type": "execute_result",
          "data": {
            "text/plain": [
              "31.0    125\n",
              "3.0      27\n",
              "52.0      2\n",
              "Name: language, dtype: int64"
            ]
          },
          "metadata": {},
          "execution_count": 18
        }
      ],
      "source": [
        "songs_df[songs_df['composer'].str.startswith('Korean')].language.value_counts()"
      ]
    },
    {
      "cell_type": "code",
      "execution_count": 19,
      "id": "15c4800c",
      "metadata": {
        "execution": {
          "iopub.execute_input": "2023-12-13T19:19:20.354817Z",
          "iopub.status.busy": "2023-12-13T19:19:20.354381Z",
          "iopub.status.idle": "2023-12-13T19:19:20.369546Z",
          "shell.execute_reply": "2023-12-13T19:19:20.367922Z"
        },
        "papermill": {
          "duration": 0.050307,
          "end_time": "2023-12-13T19:19:20.372566",
          "exception": false,
          "start_time": "2023-12-13T19:19:20.322259",
          "status": "completed"
        },
        "tags": [],
        "id": "15c4800c"
      },
      "outputs": [],
      "source": [
        "songs_df.loc[songs_df['language'].isnull(),'language'] = 31.0"
      ]
    },
    {
      "cell_type": "code",
      "execution_count": 20,
      "id": "e58feb68",
      "metadata": {
        "execution": {
          "iopub.execute_input": "2023-12-13T19:19:20.560607Z",
          "iopub.status.busy": "2023-12-13T19:19:20.559814Z",
          "iopub.status.idle": "2023-12-13T19:19:20.574334Z",
          "shell.execute_reply": "2023-12-13T19:19:20.573059Z"
        },
        "papermill": {
          "duration": 0.050552,
          "end_time": "2023-12-13T19:19:20.577177",
          "exception": false,
          "start_time": "2023-12-13T19:19:20.526625",
          "status": "completed"
        },
        "tags": [],
        "colab": {
          "base_uri": "https://localhost:8080/",
          "height": 206
        },
        "id": "e58feb68",
        "outputId": "e36cb340-7445-4405-86a4-42b7b61d4534"
      },
      "outputs": [
        {
          "output_type": "execute_result",
          "data": {
            "text/plain": [
              "                                           msno  city  bd gender  \\\n",
              "0  XQxgAYj3klVKjR3oxPPXYYFp4soD4TuBghkhMTD4oTw=     1   0          \n",
              "1  UizsfmJb9mV54qE9hCYyU07Va97c0lCRLEQX3ae+ztM=     1   0          \n",
              "2  D8nEhsIOBSoE6VthTaqDX8U6lqjJ7dLdr72mOyLya2A=     1   0          \n",
              "3  mCuD+tZ1hERA/o5GPqk38e041J8ZsBaLcu7nGoIIvhI=     1   0          \n",
              "4  q4HRBfVSssAFS9iRfxWrohxuk9kCYMKjHOEagUMV6rQ=     1   0          \n",
              "\n",
              "   registered_via  registration_init_time  expiration_date  \n",
              "0               7                20110820         20170920  \n",
              "1               7                20150628         20170622  \n",
              "2               4                20160411         20170712  \n",
              "3               9                20150906         20150907  \n",
              "4               4                20170126         20170613  "
            ],
            "text/html": [
              "\n",
              "  <div id=\"df-a968febe-3ba7-4d31-9bc0-d43a00767d7b\" class=\"colab-df-container\">\n",
              "    <div>\n",
              "<style scoped>\n",
              "    .dataframe tbody tr th:only-of-type {\n",
              "        vertical-align: middle;\n",
              "    }\n",
              "\n",
              "    .dataframe tbody tr th {\n",
              "        vertical-align: top;\n",
              "    }\n",
              "\n",
              "    .dataframe thead th {\n",
              "        text-align: right;\n",
              "    }\n",
              "</style>\n",
              "<table border=\"1\" class=\"dataframe\">\n",
              "  <thead>\n",
              "    <tr style=\"text-align: right;\">\n",
              "      <th></th>\n",
              "      <th>msno</th>\n",
              "      <th>city</th>\n",
              "      <th>bd</th>\n",
              "      <th>gender</th>\n",
              "      <th>registered_via</th>\n",
              "      <th>registration_init_time</th>\n",
              "      <th>expiration_date</th>\n",
              "    </tr>\n",
              "  </thead>\n",
              "  <tbody>\n",
              "    <tr>\n",
              "      <th>0</th>\n",
              "      <td>XQxgAYj3klVKjR3oxPPXYYFp4soD4TuBghkhMTD4oTw=</td>\n",
              "      <td>1</td>\n",
              "      <td>0</td>\n",
              "      <td></td>\n",
              "      <td>7</td>\n",
              "      <td>20110820</td>\n",
              "      <td>20170920</td>\n",
              "    </tr>\n",
              "    <tr>\n",
              "      <th>1</th>\n",
              "      <td>UizsfmJb9mV54qE9hCYyU07Va97c0lCRLEQX3ae+ztM=</td>\n",
              "      <td>1</td>\n",
              "      <td>0</td>\n",
              "      <td></td>\n",
              "      <td>7</td>\n",
              "      <td>20150628</td>\n",
              "      <td>20170622</td>\n",
              "    </tr>\n",
              "    <tr>\n",
              "      <th>2</th>\n",
              "      <td>D8nEhsIOBSoE6VthTaqDX8U6lqjJ7dLdr72mOyLya2A=</td>\n",
              "      <td>1</td>\n",
              "      <td>0</td>\n",
              "      <td></td>\n",
              "      <td>4</td>\n",
              "      <td>20160411</td>\n",
              "      <td>20170712</td>\n",
              "    </tr>\n",
              "    <tr>\n",
              "      <th>3</th>\n",
              "      <td>mCuD+tZ1hERA/o5GPqk38e041J8ZsBaLcu7nGoIIvhI=</td>\n",
              "      <td>1</td>\n",
              "      <td>0</td>\n",
              "      <td></td>\n",
              "      <td>9</td>\n",
              "      <td>20150906</td>\n",
              "      <td>20150907</td>\n",
              "    </tr>\n",
              "    <tr>\n",
              "      <th>4</th>\n",
              "      <td>q4HRBfVSssAFS9iRfxWrohxuk9kCYMKjHOEagUMV6rQ=</td>\n",
              "      <td>1</td>\n",
              "      <td>0</td>\n",
              "      <td></td>\n",
              "      <td>4</td>\n",
              "      <td>20170126</td>\n",
              "      <td>20170613</td>\n",
              "    </tr>\n",
              "  </tbody>\n",
              "</table>\n",
              "</div>\n",
              "    <div class=\"colab-df-buttons\">\n",
              "\n",
              "  <div class=\"colab-df-container\">\n",
              "    <button class=\"colab-df-convert\" onclick=\"convertToInteractive('df-a968febe-3ba7-4d31-9bc0-d43a00767d7b')\"\n",
              "            title=\"Convert this dataframe to an interactive table.\"\n",
              "            style=\"display:none;\">\n",
              "\n",
              "  <svg xmlns=\"http://www.w3.org/2000/svg\" height=\"24px\" viewBox=\"0 -960 960 960\">\n",
              "    <path d=\"M120-120v-720h720v720H120Zm60-500h600v-160H180v160Zm220 220h160v-160H400v160Zm0 220h160v-160H400v160ZM180-400h160v-160H180v160Zm440 0h160v-160H620v160ZM180-180h160v-160H180v160Zm440 0h160v-160H620v160Z\"/>\n",
              "  </svg>\n",
              "    </button>\n",
              "\n",
              "  <style>\n",
              "    .colab-df-container {\n",
              "      display:flex;\n",
              "      gap: 12px;\n",
              "    }\n",
              "\n",
              "    .colab-df-convert {\n",
              "      background-color: #E8F0FE;\n",
              "      border: none;\n",
              "      border-radius: 50%;\n",
              "      cursor: pointer;\n",
              "      display: none;\n",
              "      fill: #1967D2;\n",
              "      height: 32px;\n",
              "      padding: 0 0 0 0;\n",
              "      width: 32px;\n",
              "    }\n",
              "\n",
              "    .colab-df-convert:hover {\n",
              "      background-color: #E2EBFA;\n",
              "      box-shadow: 0px 1px 2px rgba(60, 64, 67, 0.3), 0px 1px 3px 1px rgba(60, 64, 67, 0.15);\n",
              "      fill: #174EA6;\n",
              "    }\n",
              "\n",
              "    .colab-df-buttons div {\n",
              "      margin-bottom: 4px;\n",
              "    }\n",
              "\n",
              "    [theme=dark] .colab-df-convert {\n",
              "      background-color: #3B4455;\n",
              "      fill: #D2E3FC;\n",
              "    }\n",
              "\n",
              "    [theme=dark] .colab-df-convert:hover {\n",
              "      background-color: #434B5C;\n",
              "      box-shadow: 0px 1px 3px 1px rgba(0, 0, 0, 0.15);\n",
              "      filter: drop-shadow(0px 1px 2px rgba(0, 0, 0, 0.3));\n",
              "      fill: #FFFFFF;\n",
              "    }\n",
              "  </style>\n",
              "\n",
              "    <script>\n",
              "      const buttonEl =\n",
              "        document.querySelector('#df-a968febe-3ba7-4d31-9bc0-d43a00767d7b button.colab-df-convert');\n",
              "      buttonEl.style.display =\n",
              "        google.colab.kernel.accessAllowed ? 'block' : 'none';\n",
              "\n",
              "      async function convertToInteractive(key) {\n",
              "        const element = document.querySelector('#df-a968febe-3ba7-4d31-9bc0-d43a00767d7b');\n",
              "        const dataTable =\n",
              "          await google.colab.kernel.invokeFunction('convertToInteractive',\n",
              "                                                    [key], {});\n",
              "        if (!dataTable) return;\n",
              "\n",
              "        const docLinkHtml = 'Like what you see? Visit the ' +\n",
              "          '<a target=\"_blank\" href=https://colab.research.google.com/notebooks/data_table.ipynb>data table notebook</a>'\n",
              "          + ' to learn more about interactive tables.';\n",
              "        element.innerHTML = '';\n",
              "        dataTable['output_type'] = 'display_data';\n",
              "        await google.colab.output.renderOutput(dataTable, element);\n",
              "        const docLink = document.createElement('div');\n",
              "        docLink.innerHTML = docLinkHtml;\n",
              "        element.appendChild(docLink);\n",
              "      }\n",
              "    </script>\n",
              "  </div>\n",
              "\n",
              "\n",
              "<div id=\"df-73ba2bdd-176b-4186-b961-2a74d5fca5ad\">\n",
              "  <button class=\"colab-df-quickchart\" onclick=\"quickchart('df-73ba2bdd-176b-4186-b961-2a74d5fca5ad')\"\n",
              "            title=\"Suggest charts\"\n",
              "            style=\"display:none;\">\n",
              "\n",
              "<svg xmlns=\"http://www.w3.org/2000/svg\" height=\"24px\"viewBox=\"0 0 24 24\"\n",
              "     width=\"24px\">\n",
              "    <g>\n",
              "        <path d=\"M19 3H5c-1.1 0-2 .9-2 2v14c0 1.1.9 2 2 2h14c1.1 0 2-.9 2-2V5c0-1.1-.9-2-2-2zM9 17H7v-7h2v7zm4 0h-2V7h2v10zm4 0h-2v-4h2v4z\"/>\n",
              "    </g>\n",
              "</svg>\n",
              "  </button>\n",
              "\n",
              "<style>\n",
              "  .colab-df-quickchart {\n",
              "      --bg-color: #E8F0FE;\n",
              "      --fill-color: #1967D2;\n",
              "      --hover-bg-color: #E2EBFA;\n",
              "      --hover-fill-color: #174EA6;\n",
              "      --disabled-fill-color: #AAA;\n",
              "      --disabled-bg-color: #DDD;\n",
              "  }\n",
              "\n",
              "  [theme=dark] .colab-df-quickchart {\n",
              "      --bg-color: #3B4455;\n",
              "      --fill-color: #D2E3FC;\n",
              "      --hover-bg-color: #434B5C;\n",
              "      --hover-fill-color: #FFFFFF;\n",
              "      --disabled-bg-color: #3B4455;\n",
              "      --disabled-fill-color: #666;\n",
              "  }\n",
              "\n",
              "  .colab-df-quickchart {\n",
              "    background-color: var(--bg-color);\n",
              "    border: none;\n",
              "    border-radius: 50%;\n",
              "    cursor: pointer;\n",
              "    display: none;\n",
              "    fill: var(--fill-color);\n",
              "    height: 32px;\n",
              "    padding: 0;\n",
              "    width: 32px;\n",
              "  }\n",
              "\n",
              "  .colab-df-quickchart:hover {\n",
              "    background-color: var(--hover-bg-color);\n",
              "    box-shadow: 0 1px 2px rgba(60, 64, 67, 0.3), 0 1px 3px 1px rgba(60, 64, 67, 0.15);\n",
              "    fill: var(--button-hover-fill-color);\n",
              "  }\n",
              "\n",
              "  .colab-df-quickchart-complete:disabled,\n",
              "  .colab-df-quickchart-complete:disabled:hover {\n",
              "    background-color: var(--disabled-bg-color);\n",
              "    fill: var(--disabled-fill-color);\n",
              "    box-shadow: none;\n",
              "  }\n",
              "\n",
              "  .colab-df-spinner {\n",
              "    border: 2px solid var(--fill-color);\n",
              "    border-color: transparent;\n",
              "    border-bottom-color: var(--fill-color);\n",
              "    animation:\n",
              "      spin 1s steps(1) infinite;\n",
              "  }\n",
              "\n",
              "  @keyframes spin {\n",
              "    0% {\n",
              "      border-color: transparent;\n",
              "      border-bottom-color: var(--fill-color);\n",
              "      border-left-color: var(--fill-color);\n",
              "    }\n",
              "    20% {\n",
              "      border-color: transparent;\n",
              "      border-left-color: var(--fill-color);\n",
              "      border-top-color: var(--fill-color);\n",
              "    }\n",
              "    30% {\n",
              "      border-color: transparent;\n",
              "      border-left-color: var(--fill-color);\n",
              "      border-top-color: var(--fill-color);\n",
              "      border-right-color: var(--fill-color);\n",
              "    }\n",
              "    40% {\n",
              "      border-color: transparent;\n",
              "      border-right-color: var(--fill-color);\n",
              "      border-top-color: var(--fill-color);\n",
              "    }\n",
              "    60% {\n",
              "      border-color: transparent;\n",
              "      border-right-color: var(--fill-color);\n",
              "    }\n",
              "    80% {\n",
              "      border-color: transparent;\n",
              "      border-right-color: var(--fill-color);\n",
              "      border-bottom-color: var(--fill-color);\n",
              "    }\n",
              "    90% {\n",
              "      border-color: transparent;\n",
              "      border-bottom-color: var(--fill-color);\n",
              "    }\n",
              "  }\n",
              "</style>\n",
              "\n",
              "  <script>\n",
              "    async function quickchart(key) {\n",
              "      const quickchartButtonEl =\n",
              "        document.querySelector('#' + key + ' button');\n",
              "      quickchartButtonEl.disabled = true;  // To prevent multiple clicks.\n",
              "      quickchartButtonEl.classList.add('colab-df-spinner');\n",
              "      try {\n",
              "        const charts = await google.colab.kernel.invokeFunction(\n",
              "            'suggestCharts', [key], {});\n",
              "      } catch (error) {\n",
              "        console.error('Error during call to suggestCharts:', error);\n",
              "      }\n",
              "      quickchartButtonEl.classList.remove('colab-df-spinner');\n",
              "      quickchartButtonEl.classList.add('colab-df-quickchart-complete');\n",
              "    }\n",
              "    (() => {\n",
              "      let quickchartButtonEl =\n",
              "        document.querySelector('#df-73ba2bdd-176b-4186-b961-2a74d5fca5ad button');\n",
              "      quickchartButtonEl.style.display =\n",
              "        google.colab.kernel.accessAllowed ? 'block' : 'none';\n",
              "    })();\n",
              "  </script>\n",
              "</div>\n",
              "    </div>\n",
              "  </div>\n"
            ],
            "application/vnd.google.colaboratory.intrinsic+json": {
              "type": "dataframe",
              "variable_name": "members_df",
              "summary": "{\n  \"name\": \"members_df\",\n  \"rows\": 34403,\n  \"fields\": [\n    {\n      \"column\": \"msno\",\n      \"properties\": {\n        \"dtype\": \"category\",\n        \"num_unique_values\": 34403,\n        \"samples\": [\n          \"3psgxDUk5MbWBx1OBznTUafduIg3Q+gz5YlDepZfAr4=\",\n          \"eV+rKXB/wmr7MHrRyjEdnvISTFIigPtkcHn49cLB/LY=\",\n          \"sjzL4a6H0xqrqc/81AoGFqwElcyAM9nOkPjob/hjuSY=\"\n        ],\n        \"semantic_type\": \"\",\n        \"description\": \"\"\n      }\n    },\n    {\n      \"column\": \"city\",\n      \"properties\": {\n        \"dtype\": \"int8\",\n        \"num_unique_values\": 21,\n        \"samples\": [\n          1,\n          9,\n          10\n        ],\n        \"semantic_type\": \"\",\n        \"description\": \"\"\n      }\n    },\n    {\n      \"column\": \"bd\",\n      \"properties\": {\n        \"dtype\": \"int16\",\n        \"num_unique_values\": 95,\n        \"samples\": [\n          68,\n          27,\n          931\n        ],\n        \"semantic_type\": \"\",\n        \"description\": \"\"\n      }\n    },\n    {\n      \"column\": \"gender\",\n      \"properties\": {\n        \"dtype\": \"category\",\n        \"num_unique_values\": 3,\n        \"samples\": [\n          \"\",\n          \"female\",\n          \"male\"\n        ],\n        \"semantic_type\": \"\",\n        \"description\": \"\"\n      }\n    },\n    {\n      \"column\": \"registered_via\",\n      \"properties\": {\n        \"dtype\": \"int8\",\n        \"num_unique_values\": 6,\n        \"samples\": [\n          7,\n          4,\n          16\n        ],\n        \"semantic_type\": \"\",\n        \"description\": \"\"\n      }\n    },\n    {\n      \"column\": \"registration_init_time\",\n      \"properties\": {\n        \"dtype\": \"int32\",\n        \"num_unique_values\": 3862,\n        \"samples\": [\n          20090222,\n          20080625,\n          20060501\n        ],\n        \"semantic_type\": \"\",\n        \"description\": \"\"\n      }\n    },\n    {\n      \"column\": \"expiration_date\",\n      \"properties\": {\n        \"dtype\": \"int32\",\n        \"num_unique_values\": 1484,\n        \"samples\": [\n          20180323,\n          20151218,\n          20080305\n        ],\n        \"semantic_type\": \"\",\n        \"description\": \"\"\n      }\n    }\n  ]\n}"
            }
          },
          "metadata": {},
          "execution_count": 20
        }
      ],
      "source": [
        "members_df.head()"
      ]
    },
    {
      "cell_type": "code",
      "execution_count": 21,
      "id": "2ef24df3",
      "metadata": {
        "execution": {
          "iopub.execute_input": "2023-12-13T19:19:20.641541Z",
          "iopub.status.busy": "2023-12-13T19:19:20.641063Z",
          "iopub.status.idle": "2023-12-13T19:19:20.726268Z",
          "shell.execute_reply": "2023-12-13T19:19:20.724924Z"
        },
        "papermill": {
          "duration": 0.120818,
          "end_time": "2023-12-13T19:19:20.729124",
          "exception": false,
          "start_time": "2023-12-13T19:19:20.608306",
          "status": "completed"
        },
        "tags": [],
        "id": "2ef24df3"
      },
      "outputs": [],
      "source": [
        "members_df['registration_init_time'] = pd.to_datetime(members_df['registration_init_time'], format='%Y%m%d')\n",
        "members_df['reg_year'] = members_df['registration_init_time'].dt.year\n",
        "members_df['reg_month'] = members_df['registration_init_time'].dt.month\n",
        "members_df['reg_day'] = members_df['registration_init_time'].dt.day\n",
        "\n",
        "# expiration_date\n",
        "members_df['expiration_date'] = pd.to_datetime(members_df['expiration_date'],  format='%Y%m%d')\n",
        "members_df['exp_year'] = members_df['expiration_date'].dt.year\n",
        "members_df['exp_month'] = members_df['expiration_date'].dt.month\n",
        "members_df['exp_day'] = members_df['expiration_date'].dt.day"
      ]
    },
    {
      "cell_type": "markdown",
      "id": "cf324bb8",
      "metadata": {
        "papermill": {
          "duration": 0.030424,
          "end_time": "2023-12-13T19:19:20.792679",
          "exception": false,
          "start_time": "2023-12-13T19:19:20.762255",
          "status": "completed"
        },
        "tags": [],
        "id": "cf324bb8"
      },
      "source": [
        "This code snippet removes the specified columns ('registration_init_time' and 'expiration_date') from the 'members_df' DataFrame."
      ]
    },
    {
      "cell_type": "code",
      "execution_count": 22,
      "id": "b52ec011",
      "metadata": {
        "execution": {
          "iopub.execute_input": "2023-12-13T19:19:20.857690Z",
          "iopub.status.busy": "2023-12-13T19:19:20.857255Z",
          "iopub.status.idle": "2023-12-13T19:19:20.865842Z",
          "shell.execute_reply": "2023-12-13T19:19:20.864592Z"
        },
        "papermill": {
          "duration": 0.044196,
          "end_time": "2023-12-13T19:19:20.868260",
          "exception": false,
          "start_time": "2023-12-13T19:19:20.824064",
          "status": "completed"
        },
        "tags": [],
        "id": "b52ec011"
      },
      "outputs": [],
      "source": [
        "members_df.drop(['registration_init_time','expiration_date'] , axis = 1 , inplace= True)"
      ]
    },
    {
      "cell_type": "code",
      "execution_count": 23,
      "id": "48b2f7d0",
      "metadata": {
        "execution": {
          "iopub.execute_input": "2023-12-13T19:19:20.994697Z",
          "iopub.status.busy": "2023-12-13T19:19:20.994274Z",
          "iopub.status.idle": "2023-12-13T19:19:21.010709Z",
          "shell.execute_reply": "2023-12-13T19:19:21.009550Z"
        },
        "papermill": {
          "duration": 0.051218,
          "end_time": "2023-12-13T19:19:21.013505",
          "exception": false,
          "start_time": "2023-12-13T19:19:20.962287",
          "status": "completed"
        },
        "tags": [],
        "colab": {
          "base_uri": "https://localhost:8080/",
          "height": 226
        },
        "id": "48b2f7d0",
        "outputId": "42b93dab-a05d-4568-ab19-0477568e29cd"
      },
      "outputs": [
        {
          "output_type": "execute_result",
          "data": {
            "text/plain": [
              "                                           msno  city  bd gender  \\\n",
              "0  XQxgAYj3klVKjR3oxPPXYYFp4soD4TuBghkhMTD4oTw=     1   0          \n",
              "1  UizsfmJb9mV54qE9hCYyU07Va97c0lCRLEQX3ae+ztM=     1   0          \n",
              "2  D8nEhsIOBSoE6VthTaqDX8U6lqjJ7dLdr72mOyLya2A=     1   0          \n",
              "3  mCuD+tZ1hERA/o5GPqk38e041J8ZsBaLcu7nGoIIvhI=     1   0          \n",
              "4  q4HRBfVSssAFS9iRfxWrohxuk9kCYMKjHOEagUMV6rQ=     1   0          \n",
              "\n",
              "   registered_via  reg_year  reg_month  reg_day  exp_year  exp_month  exp_day  \n",
              "0               7      2011          8       20      2017          9       20  \n",
              "1               7      2015          6       28      2017          6       22  \n",
              "2               4      2016          4       11      2017          7       12  \n",
              "3               9      2015          9        6      2015          9        7  \n",
              "4               4      2017          1       26      2017          6       13  "
            ],
            "text/html": [
              "\n",
              "  <div id=\"df-13b5ff4c-dd09-49f8-b1d3-5d1eb5fa2a21\" class=\"colab-df-container\">\n",
              "    <div>\n",
              "<style scoped>\n",
              "    .dataframe tbody tr th:only-of-type {\n",
              "        vertical-align: middle;\n",
              "    }\n",
              "\n",
              "    .dataframe tbody tr th {\n",
              "        vertical-align: top;\n",
              "    }\n",
              "\n",
              "    .dataframe thead th {\n",
              "        text-align: right;\n",
              "    }\n",
              "</style>\n",
              "<table border=\"1\" class=\"dataframe\">\n",
              "  <thead>\n",
              "    <tr style=\"text-align: right;\">\n",
              "      <th></th>\n",
              "      <th>msno</th>\n",
              "      <th>city</th>\n",
              "      <th>bd</th>\n",
              "      <th>gender</th>\n",
              "      <th>registered_via</th>\n",
              "      <th>reg_year</th>\n",
              "      <th>reg_month</th>\n",
              "      <th>reg_day</th>\n",
              "      <th>exp_year</th>\n",
              "      <th>exp_month</th>\n",
              "      <th>exp_day</th>\n",
              "    </tr>\n",
              "  </thead>\n",
              "  <tbody>\n",
              "    <tr>\n",
              "      <th>0</th>\n",
              "      <td>XQxgAYj3klVKjR3oxPPXYYFp4soD4TuBghkhMTD4oTw=</td>\n",
              "      <td>1</td>\n",
              "      <td>0</td>\n",
              "      <td></td>\n",
              "      <td>7</td>\n",
              "      <td>2011</td>\n",
              "      <td>8</td>\n",
              "      <td>20</td>\n",
              "      <td>2017</td>\n",
              "      <td>9</td>\n",
              "      <td>20</td>\n",
              "    </tr>\n",
              "    <tr>\n",
              "      <th>1</th>\n",
              "      <td>UizsfmJb9mV54qE9hCYyU07Va97c0lCRLEQX3ae+ztM=</td>\n",
              "      <td>1</td>\n",
              "      <td>0</td>\n",
              "      <td></td>\n",
              "      <td>7</td>\n",
              "      <td>2015</td>\n",
              "      <td>6</td>\n",
              "      <td>28</td>\n",
              "      <td>2017</td>\n",
              "      <td>6</td>\n",
              "      <td>22</td>\n",
              "    </tr>\n",
              "    <tr>\n",
              "      <th>2</th>\n",
              "      <td>D8nEhsIOBSoE6VthTaqDX8U6lqjJ7dLdr72mOyLya2A=</td>\n",
              "      <td>1</td>\n",
              "      <td>0</td>\n",
              "      <td></td>\n",
              "      <td>4</td>\n",
              "      <td>2016</td>\n",
              "      <td>4</td>\n",
              "      <td>11</td>\n",
              "      <td>2017</td>\n",
              "      <td>7</td>\n",
              "      <td>12</td>\n",
              "    </tr>\n",
              "    <tr>\n",
              "      <th>3</th>\n",
              "      <td>mCuD+tZ1hERA/o5GPqk38e041J8ZsBaLcu7nGoIIvhI=</td>\n",
              "      <td>1</td>\n",
              "      <td>0</td>\n",
              "      <td></td>\n",
              "      <td>9</td>\n",
              "      <td>2015</td>\n",
              "      <td>9</td>\n",
              "      <td>6</td>\n",
              "      <td>2015</td>\n",
              "      <td>9</td>\n",
              "      <td>7</td>\n",
              "    </tr>\n",
              "    <tr>\n",
              "      <th>4</th>\n",
              "      <td>q4HRBfVSssAFS9iRfxWrohxuk9kCYMKjHOEagUMV6rQ=</td>\n",
              "      <td>1</td>\n",
              "      <td>0</td>\n",
              "      <td></td>\n",
              "      <td>4</td>\n",
              "      <td>2017</td>\n",
              "      <td>1</td>\n",
              "      <td>26</td>\n",
              "      <td>2017</td>\n",
              "      <td>6</td>\n",
              "      <td>13</td>\n",
              "    </tr>\n",
              "  </tbody>\n",
              "</table>\n",
              "</div>\n",
              "    <div class=\"colab-df-buttons\">\n",
              "\n",
              "  <div class=\"colab-df-container\">\n",
              "    <button class=\"colab-df-convert\" onclick=\"convertToInteractive('df-13b5ff4c-dd09-49f8-b1d3-5d1eb5fa2a21')\"\n",
              "            title=\"Convert this dataframe to an interactive table.\"\n",
              "            style=\"display:none;\">\n",
              "\n",
              "  <svg xmlns=\"http://www.w3.org/2000/svg\" height=\"24px\" viewBox=\"0 -960 960 960\">\n",
              "    <path d=\"M120-120v-720h720v720H120Zm60-500h600v-160H180v160Zm220 220h160v-160H400v160Zm0 220h160v-160H400v160ZM180-400h160v-160H180v160Zm440 0h160v-160H620v160ZM180-180h160v-160H180v160Zm440 0h160v-160H620v160Z\"/>\n",
              "  </svg>\n",
              "    </button>\n",
              "\n",
              "  <style>\n",
              "    .colab-df-container {\n",
              "      display:flex;\n",
              "      gap: 12px;\n",
              "    }\n",
              "\n",
              "    .colab-df-convert {\n",
              "      background-color: #E8F0FE;\n",
              "      border: none;\n",
              "      border-radius: 50%;\n",
              "      cursor: pointer;\n",
              "      display: none;\n",
              "      fill: #1967D2;\n",
              "      height: 32px;\n",
              "      padding: 0 0 0 0;\n",
              "      width: 32px;\n",
              "    }\n",
              "\n",
              "    .colab-df-convert:hover {\n",
              "      background-color: #E2EBFA;\n",
              "      box-shadow: 0px 1px 2px rgba(60, 64, 67, 0.3), 0px 1px 3px 1px rgba(60, 64, 67, 0.15);\n",
              "      fill: #174EA6;\n",
              "    }\n",
              "\n",
              "    .colab-df-buttons div {\n",
              "      margin-bottom: 4px;\n",
              "    }\n",
              "\n",
              "    [theme=dark] .colab-df-convert {\n",
              "      background-color: #3B4455;\n",
              "      fill: #D2E3FC;\n",
              "    }\n",
              "\n",
              "    [theme=dark] .colab-df-convert:hover {\n",
              "      background-color: #434B5C;\n",
              "      box-shadow: 0px 1px 3px 1px rgba(0, 0, 0, 0.15);\n",
              "      filter: drop-shadow(0px 1px 2px rgba(0, 0, 0, 0.3));\n",
              "      fill: #FFFFFF;\n",
              "    }\n",
              "  </style>\n",
              "\n",
              "    <script>\n",
              "      const buttonEl =\n",
              "        document.querySelector('#df-13b5ff4c-dd09-49f8-b1d3-5d1eb5fa2a21 button.colab-df-convert');\n",
              "      buttonEl.style.display =\n",
              "        google.colab.kernel.accessAllowed ? 'block' : 'none';\n",
              "\n",
              "      async function convertToInteractive(key) {\n",
              "        const element = document.querySelector('#df-13b5ff4c-dd09-49f8-b1d3-5d1eb5fa2a21');\n",
              "        const dataTable =\n",
              "          await google.colab.kernel.invokeFunction('convertToInteractive',\n",
              "                                                    [key], {});\n",
              "        if (!dataTable) return;\n",
              "\n",
              "        const docLinkHtml = 'Like what you see? Visit the ' +\n",
              "          '<a target=\"_blank\" href=https://colab.research.google.com/notebooks/data_table.ipynb>data table notebook</a>'\n",
              "          + ' to learn more about interactive tables.';\n",
              "        element.innerHTML = '';\n",
              "        dataTable['output_type'] = 'display_data';\n",
              "        await google.colab.output.renderOutput(dataTable, element);\n",
              "        const docLink = document.createElement('div');\n",
              "        docLink.innerHTML = docLinkHtml;\n",
              "        element.appendChild(docLink);\n",
              "      }\n",
              "    </script>\n",
              "  </div>\n",
              "\n",
              "\n",
              "<div id=\"df-ed27e7c2-e538-41cb-af76-a6bae9519427\">\n",
              "  <button class=\"colab-df-quickchart\" onclick=\"quickchart('df-ed27e7c2-e538-41cb-af76-a6bae9519427')\"\n",
              "            title=\"Suggest charts\"\n",
              "            style=\"display:none;\">\n",
              "\n",
              "<svg xmlns=\"http://www.w3.org/2000/svg\" height=\"24px\"viewBox=\"0 0 24 24\"\n",
              "     width=\"24px\">\n",
              "    <g>\n",
              "        <path d=\"M19 3H5c-1.1 0-2 .9-2 2v14c0 1.1.9 2 2 2h14c1.1 0 2-.9 2-2V5c0-1.1-.9-2-2-2zM9 17H7v-7h2v7zm4 0h-2V7h2v10zm4 0h-2v-4h2v4z\"/>\n",
              "    </g>\n",
              "</svg>\n",
              "  </button>\n",
              "\n",
              "<style>\n",
              "  .colab-df-quickchart {\n",
              "      --bg-color: #E8F0FE;\n",
              "      --fill-color: #1967D2;\n",
              "      --hover-bg-color: #E2EBFA;\n",
              "      --hover-fill-color: #174EA6;\n",
              "      --disabled-fill-color: #AAA;\n",
              "      --disabled-bg-color: #DDD;\n",
              "  }\n",
              "\n",
              "  [theme=dark] .colab-df-quickchart {\n",
              "      --bg-color: #3B4455;\n",
              "      --fill-color: #D2E3FC;\n",
              "      --hover-bg-color: #434B5C;\n",
              "      --hover-fill-color: #FFFFFF;\n",
              "      --disabled-bg-color: #3B4455;\n",
              "      --disabled-fill-color: #666;\n",
              "  }\n",
              "\n",
              "  .colab-df-quickchart {\n",
              "    background-color: var(--bg-color);\n",
              "    border: none;\n",
              "    border-radius: 50%;\n",
              "    cursor: pointer;\n",
              "    display: none;\n",
              "    fill: var(--fill-color);\n",
              "    height: 32px;\n",
              "    padding: 0;\n",
              "    width: 32px;\n",
              "  }\n",
              "\n",
              "  .colab-df-quickchart:hover {\n",
              "    background-color: var(--hover-bg-color);\n",
              "    box-shadow: 0 1px 2px rgba(60, 64, 67, 0.3), 0 1px 3px 1px rgba(60, 64, 67, 0.15);\n",
              "    fill: var(--button-hover-fill-color);\n",
              "  }\n",
              "\n",
              "  .colab-df-quickchart-complete:disabled,\n",
              "  .colab-df-quickchart-complete:disabled:hover {\n",
              "    background-color: var(--disabled-bg-color);\n",
              "    fill: var(--disabled-fill-color);\n",
              "    box-shadow: none;\n",
              "  }\n",
              "\n",
              "  .colab-df-spinner {\n",
              "    border: 2px solid var(--fill-color);\n",
              "    border-color: transparent;\n",
              "    border-bottom-color: var(--fill-color);\n",
              "    animation:\n",
              "      spin 1s steps(1) infinite;\n",
              "  }\n",
              "\n",
              "  @keyframes spin {\n",
              "    0% {\n",
              "      border-color: transparent;\n",
              "      border-bottom-color: var(--fill-color);\n",
              "      border-left-color: var(--fill-color);\n",
              "    }\n",
              "    20% {\n",
              "      border-color: transparent;\n",
              "      border-left-color: var(--fill-color);\n",
              "      border-top-color: var(--fill-color);\n",
              "    }\n",
              "    30% {\n",
              "      border-color: transparent;\n",
              "      border-left-color: var(--fill-color);\n",
              "      border-top-color: var(--fill-color);\n",
              "      border-right-color: var(--fill-color);\n",
              "    }\n",
              "    40% {\n",
              "      border-color: transparent;\n",
              "      border-right-color: var(--fill-color);\n",
              "      border-top-color: var(--fill-color);\n",
              "    }\n",
              "    60% {\n",
              "      border-color: transparent;\n",
              "      border-right-color: var(--fill-color);\n",
              "    }\n",
              "    80% {\n",
              "      border-color: transparent;\n",
              "      border-right-color: var(--fill-color);\n",
              "      border-bottom-color: var(--fill-color);\n",
              "    }\n",
              "    90% {\n",
              "      border-color: transparent;\n",
              "      border-bottom-color: var(--fill-color);\n",
              "    }\n",
              "  }\n",
              "</style>\n",
              "\n",
              "  <script>\n",
              "    async function quickchart(key) {\n",
              "      const quickchartButtonEl =\n",
              "        document.querySelector('#' + key + ' button');\n",
              "      quickchartButtonEl.disabled = true;  // To prevent multiple clicks.\n",
              "      quickchartButtonEl.classList.add('colab-df-spinner');\n",
              "      try {\n",
              "        const charts = await google.colab.kernel.invokeFunction(\n",
              "            'suggestCharts', [key], {});\n",
              "      } catch (error) {\n",
              "        console.error('Error during call to suggestCharts:', error);\n",
              "      }\n",
              "      quickchartButtonEl.classList.remove('colab-df-spinner');\n",
              "      quickchartButtonEl.classList.add('colab-df-quickchart-complete');\n",
              "    }\n",
              "    (() => {\n",
              "      let quickchartButtonEl =\n",
              "        document.querySelector('#df-ed27e7c2-e538-41cb-af76-a6bae9519427 button');\n",
              "      quickchartButtonEl.style.display =\n",
              "        google.colab.kernel.accessAllowed ? 'block' : 'none';\n",
              "    })();\n",
              "  </script>\n",
              "</div>\n",
              "    </div>\n",
              "  </div>\n"
            ],
            "application/vnd.google.colaboratory.intrinsic+json": {
              "type": "dataframe",
              "variable_name": "members_df",
              "summary": "{\n  \"name\": \"members_df\",\n  \"rows\": 34403,\n  \"fields\": [\n    {\n      \"column\": \"msno\",\n      \"properties\": {\n        \"dtype\": \"category\",\n        \"num_unique_values\": 34403,\n        \"samples\": [\n          \"3psgxDUk5MbWBx1OBznTUafduIg3Q+gz5YlDepZfAr4=\",\n          \"eV+rKXB/wmr7MHrRyjEdnvISTFIigPtkcHn49cLB/LY=\",\n          \"sjzL4a6H0xqrqc/81AoGFqwElcyAM9nOkPjob/hjuSY=\"\n        ],\n        \"semantic_type\": \"\",\n        \"description\": \"\"\n      }\n    },\n    {\n      \"column\": \"city\",\n      \"properties\": {\n        \"dtype\": \"int8\",\n        \"num_unique_values\": 21,\n        \"samples\": [\n          1,\n          9,\n          10\n        ],\n        \"semantic_type\": \"\",\n        \"description\": \"\"\n      }\n    },\n    {\n      \"column\": \"bd\",\n      \"properties\": {\n        \"dtype\": \"int16\",\n        \"num_unique_values\": 95,\n        \"samples\": [\n          68,\n          27,\n          931\n        ],\n        \"semantic_type\": \"\",\n        \"description\": \"\"\n      }\n    },\n    {\n      \"column\": \"gender\",\n      \"properties\": {\n        \"dtype\": \"category\",\n        \"num_unique_values\": 3,\n        \"samples\": [\n          \"\",\n          \"female\",\n          \"male\"\n        ],\n        \"semantic_type\": \"\",\n        \"description\": \"\"\n      }\n    },\n    {\n      \"column\": \"registered_via\",\n      \"properties\": {\n        \"dtype\": \"int8\",\n        \"num_unique_values\": 6,\n        \"samples\": [\n          7,\n          4,\n          16\n        ],\n        \"semantic_type\": \"\",\n        \"description\": \"\"\n      }\n    },\n    {\n      \"column\": \"reg_year\",\n      \"properties\": {\n        \"dtype\": \"number\",\n        \"std\": 2,\n        \"min\": 2004,\n        \"max\": 2017,\n        \"num_unique_values\": 14,\n        \"samples\": [\n          2005,\n          2008,\n          2011\n        ],\n        \"semantic_type\": \"\",\n        \"description\": \"\"\n      }\n    },\n    {\n      \"column\": \"reg_month\",\n      \"properties\": {\n        \"dtype\": \"number\",\n        \"std\": 3,\n        \"min\": 1,\n        \"max\": 12,\n        \"num_unique_values\": 12,\n        \"samples\": [\n          11,\n          12,\n          8\n        ],\n        \"semantic_type\": \"\",\n        \"description\": \"\"\n      }\n    },\n    {\n      \"column\": \"reg_day\",\n      \"properties\": {\n        \"dtype\": \"number\",\n        \"std\": 8,\n        \"min\": 1,\n        \"max\": 31,\n        \"num_unique_values\": 31,\n        \"samples\": [\n          19,\n          23,\n          25\n        ],\n        \"semantic_type\": \"\",\n        \"description\": \"\"\n      }\n    },\n    {\n      \"column\": \"exp_year\",\n      \"properties\": {\n        \"dtype\": \"number\",\n        \"std\": 0,\n        \"min\": 1970,\n        \"max\": 2020,\n        \"num_unique_values\": 18,\n        \"samples\": [\n          2017,\n          2015,\n          2019\n        ],\n        \"semantic_type\": \"\",\n        \"description\": \"\"\n      }\n    },\n    {\n      \"column\": \"exp_month\",\n      \"properties\": {\n        \"dtype\": \"number\",\n        \"std\": 3,\n        \"min\": 1,\n        \"max\": 12,\n        \"num_unique_values\": 12,\n        \"samples\": [\n          5,\n          11,\n          9\n        ],\n        \"semantic_type\": \"\",\n        \"description\": \"\"\n      }\n    },\n    {\n      \"column\": \"exp_day\",\n      \"properties\": {\n        \"dtype\": \"number\",\n        \"std\": 8,\n        \"min\": 1,\n        \"max\": 31,\n        \"num_unique_values\": 31,\n        \"samples\": [\n          10,\n          25,\n          5\n        ],\n        \"semantic_type\": \"\",\n        \"description\": \"\"\n      }\n    }\n  ]\n}"
            }
          },
          "metadata": {},
          "execution_count": 23
        }
      ],
      "source": [
        "members_df.head()"
      ]
    },
    {
      "cell_type": "code",
      "execution_count": 24,
      "id": "0b360a84",
      "metadata": {
        "execution": {
          "iopub.execute_input": "2023-12-13T19:19:21.143102Z",
          "iopub.status.busy": "2023-12-13T19:19:21.142621Z",
          "iopub.status.idle": "2023-12-13T19:19:21.179256Z",
          "shell.execute_reply": "2023-12-13T19:19:21.177957Z"
        },
        "papermill": {
          "duration": 0.072137,
          "end_time": "2023-12-13T19:19:21.182093",
          "exception": false,
          "start_time": "2023-12-13T19:19:21.109956",
          "status": "completed"
        },
        "tags": [],
        "id": "0b360a84"
      },
      "outputs": [],
      "source": [
        "members_df['bd'] = members_df['bd'].apply(lambda x : 0 if x > 100 else abs(x) )"
      ]
    },
    {
      "cell_type": "code",
      "execution_count": 25,
      "id": "4b25fc93",
      "metadata": {
        "execution": {
          "iopub.execute_input": "2023-12-13T19:19:21.246587Z",
          "iopub.status.busy": "2023-12-13T19:19:21.246146Z",
          "iopub.status.idle": "2023-12-13T19:19:21.252986Z",
          "shell.execute_reply": "2023-12-13T19:19:21.251839Z"
        },
        "papermill": {
          "duration": 0.04221,
          "end_time": "2023-12-13T19:19:21.255840",
          "exception": false,
          "start_time": "2023-12-13T19:19:21.213630",
          "status": "completed"
        },
        "tags": [],
        "id": "4b25fc93"
      },
      "outputs": [],
      "source": [
        "members_df['gender'] = members_df['gender'].astype(\"category\").cat.codes"
      ]
    },
    {
      "cell_type": "code",
      "execution_count": 26,
      "id": "e8d0e6f9",
      "metadata": {
        "execution": {
          "iopub.execute_input": "2023-12-13T19:19:21.321617Z",
          "iopub.status.busy": "2023-12-13T19:19:21.321143Z",
          "iopub.status.idle": "2023-12-13T19:19:21.338323Z",
          "shell.execute_reply": "2023-12-13T19:19:21.337356Z"
        },
        "papermill": {
          "duration": 0.053287,
          "end_time": "2023-12-13T19:19:21.341001",
          "exception": false,
          "start_time": "2023-12-13T19:19:21.287714",
          "status": "completed"
        },
        "tags": [],
        "id": "e8d0e6f9"
      },
      "outputs": [],
      "source": [
        "train_age = members_df[members_df['bd'] != 0].copy()\n",
        "y_train_age  = train_age['bd']\n",
        "train_age.drop(['msno' ,'bd','gender'],axis = 1 , inplace = True )\n",
        "test_age =  members_df[members_df['bd'] == 0].copy()\n",
        "y_test_age  = test_age['bd']\n",
        "test_age.drop(['msno' ,'bd','gender'],axis = 1 , inplace = True )"
      ]
    },
    {
      "cell_type": "code",
      "execution_count": 27,
      "id": "fcffb6f3",
      "metadata": {
        "execution": {
          "iopub.execute_input": "2023-12-13T19:19:21.406864Z",
          "iopub.status.busy": "2023-12-13T19:19:21.406169Z",
          "iopub.status.idle": "2023-12-13T19:19:21.419427Z",
          "shell.execute_reply": "2023-12-13T19:19:21.418048Z"
        },
        "papermill": {
          "duration": 0.049224,
          "end_time": "2023-12-13T19:19:21.422075",
          "exception": false,
          "start_time": "2023-12-13T19:19:21.372851",
          "status": "completed"
        },
        "tags": [],
        "colab": {
          "base_uri": "https://localhost:8080/",
          "height": 206
        },
        "id": "fcffb6f3",
        "outputId": "96ef020f-492c-4484-a107-d61136727f12"
      },
      "outputs": [
        {
          "output_type": "execute_result",
          "data": {
            "text/plain": [
              "    city  registered_via  reg_year  reg_month  reg_day  exp_year  exp_month  \\\n",
              "5     13               9      2012          7        3      2017         10   \n",
              "10    12               9      2006          5       31      2017          8   \n",
              "13    15               3      2015          9       15      2017         10   \n",
              "15    13               3      2014          4       10      2017          4   \n",
              "16    13               9      2007          3       30      2017          6   \n",
              "\n",
              "    exp_day  \n",
              "5         6  \n",
              "10       16  \n",
              "13       19  \n",
              "15       27  \n",
              "16       12  "
            ],
            "text/html": [
              "\n",
              "  <div id=\"df-71145802-1b7f-4b80-a37a-dbead7bd3b68\" class=\"colab-df-container\">\n",
              "    <div>\n",
              "<style scoped>\n",
              "    .dataframe tbody tr th:only-of-type {\n",
              "        vertical-align: middle;\n",
              "    }\n",
              "\n",
              "    .dataframe tbody tr th {\n",
              "        vertical-align: top;\n",
              "    }\n",
              "\n",
              "    .dataframe thead th {\n",
              "        text-align: right;\n",
              "    }\n",
              "</style>\n",
              "<table border=\"1\" class=\"dataframe\">\n",
              "  <thead>\n",
              "    <tr style=\"text-align: right;\">\n",
              "      <th></th>\n",
              "      <th>city</th>\n",
              "      <th>registered_via</th>\n",
              "      <th>reg_year</th>\n",
              "      <th>reg_month</th>\n",
              "      <th>reg_day</th>\n",
              "      <th>exp_year</th>\n",
              "      <th>exp_month</th>\n",
              "      <th>exp_day</th>\n",
              "    </tr>\n",
              "  </thead>\n",
              "  <tbody>\n",
              "    <tr>\n",
              "      <th>5</th>\n",
              "      <td>13</td>\n",
              "      <td>9</td>\n",
              "      <td>2012</td>\n",
              "      <td>7</td>\n",
              "      <td>3</td>\n",
              "      <td>2017</td>\n",
              "      <td>10</td>\n",
              "      <td>6</td>\n",
              "    </tr>\n",
              "    <tr>\n",
              "      <th>10</th>\n",
              "      <td>12</td>\n",
              "      <td>9</td>\n",
              "      <td>2006</td>\n",
              "      <td>5</td>\n",
              "      <td>31</td>\n",
              "      <td>2017</td>\n",
              "      <td>8</td>\n",
              "      <td>16</td>\n",
              "    </tr>\n",
              "    <tr>\n",
              "      <th>13</th>\n",
              "      <td>15</td>\n",
              "      <td>3</td>\n",
              "      <td>2015</td>\n",
              "      <td>9</td>\n",
              "      <td>15</td>\n",
              "      <td>2017</td>\n",
              "      <td>10</td>\n",
              "      <td>19</td>\n",
              "    </tr>\n",
              "    <tr>\n",
              "      <th>15</th>\n",
              "      <td>13</td>\n",
              "      <td>3</td>\n",
              "      <td>2014</td>\n",
              "      <td>4</td>\n",
              "      <td>10</td>\n",
              "      <td>2017</td>\n",
              "      <td>4</td>\n",
              "      <td>27</td>\n",
              "    </tr>\n",
              "    <tr>\n",
              "      <th>16</th>\n",
              "      <td>13</td>\n",
              "      <td>9</td>\n",
              "      <td>2007</td>\n",
              "      <td>3</td>\n",
              "      <td>30</td>\n",
              "      <td>2017</td>\n",
              "      <td>6</td>\n",
              "      <td>12</td>\n",
              "    </tr>\n",
              "  </tbody>\n",
              "</table>\n",
              "</div>\n",
              "    <div class=\"colab-df-buttons\">\n",
              "\n",
              "  <div class=\"colab-df-container\">\n",
              "    <button class=\"colab-df-convert\" onclick=\"convertToInteractive('df-71145802-1b7f-4b80-a37a-dbead7bd3b68')\"\n",
              "            title=\"Convert this dataframe to an interactive table.\"\n",
              "            style=\"display:none;\">\n",
              "\n",
              "  <svg xmlns=\"http://www.w3.org/2000/svg\" height=\"24px\" viewBox=\"0 -960 960 960\">\n",
              "    <path d=\"M120-120v-720h720v720H120Zm60-500h600v-160H180v160Zm220 220h160v-160H400v160Zm0 220h160v-160H400v160ZM180-400h160v-160H180v160Zm440 0h160v-160H620v160ZM180-180h160v-160H180v160Zm440 0h160v-160H620v160Z\"/>\n",
              "  </svg>\n",
              "    </button>\n",
              "\n",
              "  <style>\n",
              "    .colab-df-container {\n",
              "      display:flex;\n",
              "      gap: 12px;\n",
              "    }\n",
              "\n",
              "    .colab-df-convert {\n",
              "      background-color: #E8F0FE;\n",
              "      border: none;\n",
              "      border-radius: 50%;\n",
              "      cursor: pointer;\n",
              "      display: none;\n",
              "      fill: #1967D2;\n",
              "      height: 32px;\n",
              "      padding: 0 0 0 0;\n",
              "      width: 32px;\n",
              "    }\n",
              "\n",
              "    .colab-df-convert:hover {\n",
              "      background-color: #E2EBFA;\n",
              "      box-shadow: 0px 1px 2px rgba(60, 64, 67, 0.3), 0px 1px 3px 1px rgba(60, 64, 67, 0.15);\n",
              "      fill: #174EA6;\n",
              "    }\n",
              "\n",
              "    .colab-df-buttons div {\n",
              "      margin-bottom: 4px;\n",
              "    }\n",
              "\n",
              "    [theme=dark] .colab-df-convert {\n",
              "      background-color: #3B4455;\n",
              "      fill: #D2E3FC;\n",
              "    }\n",
              "\n",
              "    [theme=dark] .colab-df-convert:hover {\n",
              "      background-color: #434B5C;\n",
              "      box-shadow: 0px 1px 3px 1px rgba(0, 0, 0, 0.15);\n",
              "      filter: drop-shadow(0px 1px 2px rgba(0, 0, 0, 0.3));\n",
              "      fill: #FFFFFF;\n",
              "    }\n",
              "  </style>\n",
              "\n",
              "    <script>\n",
              "      const buttonEl =\n",
              "        document.querySelector('#df-71145802-1b7f-4b80-a37a-dbead7bd3b68 button.colab-df-convert');\n",
              "      buttonEl.style.display =\n",
              "        google.colab.kernel.accessAllowed ? 'block' : 'none';\n",
              "\n",
              "      async function convertToInteractive(key) {\n",
              "        const element = document.querySelector('#df-71145802-1b7f-4b80-a37a-dbead7bd3b68');\n",
              "        const dataTable =\n",
              "          await google.colab.kernel.invokeFunction('convertToInteractive',\n",
              "                                                    [key], {});\n",
              "        if (!dataTable) return;\n",
              "\n",
              "        const docLinkHtml = 'Like what you see? Visit the ' +\n",
              "          '<a target=\"_blank\" href=https://colab.research.google.com/notebooks/data_table.ipynb>data table notebook</a>'\n",
              "          + ' to learn more about interactive tables.';\n",
              "        element.innerHTML = '';\n",
              "        dataTable['output_type'] = 'display_data';\n",
              "        await google.colab.output.renderOutput(dataTable, element);\n",
              "        const docLink = document.createElement('div');\n",
              "        docLink.innerHTML = docLinkHtml;\n",
              "        element.appendChild(docLink);\n",
              "      }\n",
              "    </script>\n",
              "  </div>\n",
              "\n",
              "\n",
              "<div id=\"df-b5c5ed1e-80ca-49a5-9acb-b9bdb2e0a3e7\">\n",
              "  <button class=\"colab-df-quickchart\" onclick=\"quickchart('df-b5c5ed1e-80ca-49a5-9acb-b9bdb2e0a3e7')\"\n",
              "            title=\"Suggest charts\"\n",
              "            style=\"display:none;\">\n",
              "\n",
              "<svg xmlns=\"http://www.w3.org/2000/svg\" height=\"24px\"viewBox=\"0 0 24 24\"\n",
              "     width=\"24px\">\n",
              "    <g>\n",
              "        <path d=\"M19 3H5c-1.1 0-2 .9-2 2v14c0 1.1.9 2 2 2h14c1.1 0 2-.9 2-2V5c0-1.1-.9-2-2-2zM9 17H7v-7h2v7zm4 0h-2V7h2v10zm4 0h-2v-4h2v4z\"/>\n",
              "    </g>\n",
              "</svg>\n",
              "  </button>\n",
              "\n",
              "<style>\n",
              "  .colab-df-quickchart {\n",
              "      --bg-color: #E8F0FE;\n",
              "      --fill-color: #1967D2;\n",
              "      --hover-bg-color: #E2EBFA;\n",
              "      --hover-fill-color: #174EA6;\n",
              "      --disabled-fill-color: #AAA;\n",
              "      --disabled-bg-color: #DDD;\n",
              "  }\n",
              "\n",
              "  [theme=dark] .colab-df-quickchart {\n",
              "      --bg-color: #3B4455;\n",
              "      --fill-color: #D2E3FC;\n",
              "      --hover-bg-color: #434B5C;\n",
              "      --hover-fill-color: #FFFFFF;\n",
              "      --disabled-bg-color: #3B4455;\n",
              "      --disabled-fill-color: #666;\n",
              "  }\n",
              "\n",
              "  .colab-df-quickchart {\n",
              "    background-color: var(--bg-color);\n",
              "    border: none;\n",
              "    border-radius: 50%;\n",
              "    cursor: pointer;\n",
              "    display: none;\n",
              "    fill: var(--fill-color);\n",
              "    height: 32px;\n",
              "    padding: 0;\n",
              "    width: 32px;\n",
              "  }\n",
              "\n",
              "  .colab-df-quickchart:hover {\n",
              "    background-color: var(--hover-bg-color);\n",
              "    box-shadow: 0 1px 2px rgba(60, 64, 67, 0.3), 0 1px 3px 1px rgba(60, 64, 67, 0.15);\n",
              "    fill: var(--button-hover-fill-color);\n",
              "  }\n",
              "\n",
              "  .colab-df-quickchart-complete:disabled,\n",
              "  .colab-df-quickchart-complete:disabled:hover {\n",
              "    background-color: var(--disabled-bg-color);\n",
              "    fill: var(--disabled-fill-color);\n",
              "    box-shadow: none;\n",
              "  }\n",
              "\n",
              "  .colab-df-spinner {\n",
              "    border: 2px solid var(--fill-color);\n",
              "    border-color: transparent;\n",
              "    border-bottom-color: var(--fill-color);\n",
              "    animation:\n",
              "      spin 1s steps(1) infinite;\n",
              "  }\n",
              "\n",
              "  @keyframes spin {\n",
              "    0% {\n",
              "      border-color: transparent;\n",
              "      border-bottom-color: var(--fill-color);\n",
              "      border-left-color: var(--fill-color);\n",
              "    }\n",
              "    20% {\n",
              "      border-color: transparent;\n",
              "      border-left-color: var(--fill-color);\n",
              "      border-top-color: var(--fill-color);\n",
              "    }\n",
              "    30% {\n",
              "      border-color: transparent;\n",
              "      border-left-color: var(--fill-color);\n",
              "      border-top-color: var(--fill-color);\n",
              "      border-right-color: var(--fill-color);\n",
              "    }\n",
              "    40% {\n",
              "      border-color: transparent;\n",
              "      border-right-color: var(--fill-color);\n",
              "      border-top-color: var(--fill-color);\n",
              "    }\n",
              "    60% {\n",
              "      border-color: transparent;\n",
              "      border-right-color: var(--fill-color);\n",
              "    }\n",
              "    80% {\n",
              "      border-color: transparent;\n",
              "      border-right-color: var(--fill-color);\n",
              "      border-bottom-color: var(--fill-color);\n",
              "    }\n",
              "    90% {\n",
              "      border-color: transparent;\n",
              "      border-bottom-color: var(--fill-color);\n",
              "    }\n",
              "  }\n",
              "</style>\n",
              "\n",
              "  <script>\n",
              "    async function quickchart(key) {\n",
              "      const quickchartButtonEl =\n",
              "        document.querySelector('#' + key + ' button');\n",
              "      quickchartButtonEl.disabled = true;  // To prevent multiple clicks.\n",
              "      quickchartButtonEl.classList.add('colab-df-spinner');\n",
              "      try {\n",
              "        const charts = await google.colab.kernel.invokeFunction(\n",
              "            'suggestCharts', [key], {});\n",
              "      } catch (error) {\n",
              "        console.error('Error during call to suggestCharts:', error);\n",
              "      }\n",
              "      quickchartButtonEl.classList.remove('colab-df-spinner');\n",
              "      quickchartButtonEl.classList.add('colab-df-quickchart-complete');\n",
              "    }\n",
              "    (() => {\n",
              "      let quickchartButtonEl =\n",
              "        document.querySelector('#df-b5c5ed1e-80ca-49a5-9acb-b9bdb2e0a3e7 button');\n",
              "      quickchartButtonEl.style.display =\n",
              "        google.colab.kernel.accessAllowed ? 'block' : 'none';\n",
              "    })();\n",
              "  </script>\n",
              "</div>\n",
              "    </div>\n",
              "  </div>\n"
            ],
            "application/vnd.google.colaboratory.intrinsic+json": {
              "type": "dataframe",
              "variable_name": "train_age",
              "summary": "{\n  \"name\": \"train_age\",\n  \"rows\": 14449,\n  \"fields\": [\n    {\n      \"column\": \"city\",\n      \"properties\": {\n        \"dtype\": \"int8\",\n        \"num_unique_values\": 21,\n        \"samples\": [\n          13,\n          9,\n          10\n        ],\n        \"semantic_type\": \"\",\n        \"description\": \"\"\n      }\n    },\n    {\n      \"column\": \"registered_via\",\n      \"properties\": {\n        \"dtype\": \"int8\",\n        \"num_unique_values\": 5,\n        \"samples\": [\n          3,\n          13,\n          4\n        ],\n        \"semantic_type\": \"\",\n        \"description\": \"\"\n      }\n    },\n    {\n      \"column\": \"reg_year\",\n      \"properties\": {\n        \"dtype\": \"number\",\n        \"std\": 3,\n        \"min\": 2004,\n        \"max\": 2017,\n        \"num_unique_values\": 14,\n        \"samples\": [\n          2010,\n          2008,\n          2012\n        ],\n        \"semantic_type\": \"\",\n        \"description\": \"\"\n      }\n    },\n    {\n      \"column\": \"reg_month\",\n      \"properties\": {\n        \"dtype\": \"number\",\n        \"std\": 3,\n        \"min\": 1,\n        \"max\": 12,\n        \"num_unique_values\": 12,\n        \"samples\": [\n          12,\n          10,\n          7\n        ],\n        \"semantic_type\": \"\",\n        \"description\": \"\"\n      }\n    },\n    {\n      \"column\": \"reg_day\",\n      \"properties\": {\n        \"dtype\": \"number\",\n        \"std\": 8,\n        \"min\": 1,\n        \"max\": 31,\n        \"num_unique_values\": 31,\n        \"samples\": [\n          21,\n          6,\n          23\n        ],\n        \"semantic_type\": \"\",\n        \"description\": \"\"\n      }\n    },\n    {\n      \"column\": \"exp_year\",\n      \"properties\": {\n        \"dtype\": \"number\",\n        \"std\": 0,\n        \"min\": 2005,\n        \"max\": 2020,\n        \"num_unique_values\": 16,\n        \"samples\": [\n          2017,\n          2015,\n          2011\n        ],\n        \"semantic_type\": \"\",\n        \"description\": \"\"\n      }\n    },\n    {\n      \"column\": \"exp_month\",\n      \"properties\": {\n        \"dtype\": \"number\",\n        \"std\": 2,\n        \"min\": 1,\n        \"max\": 12,\n        \"num_unique_values\": 12,\n        \"samples\": [\n          1,\n          11,\n          10\n        ],\n        \"semantic_type\": \"\",\n        \"description\": \"\"\n      }\n    },\n    {\n      \"column\": \"exp_day\",\n      \"properties\": {\n        \"dtype\": \"number\",\n        \"std\": 8,\n        \"min\": 1,\n        \"max\": 31,\n        \"num_unique_values\": 31,\n        \"samples\": [\n          3,\n          21,\n          10\n        ],\n        \"semantic_type\": \"\",\n        \"description\": \"\"\n      }\n    }\n  ]\n}"
            }
          },
          "metadata": {},
          "execution_count": 27
        }
      ],
      "source": [
        "train_age.head()"
      ]
    },
    {
      "cell_type": "code",
      "source": [
        "len(train_age)"
      ],
      "metadata": {
        "colab": {
          "base_uri": "https://localhost:8080/"
        },
        "id": "G1atlTudJ-zg",
        "outputId": "d4d94791-3103-4b9a-c7fc-88e47d27ed23"
      },
      "id": "G1atlTudJ-zg",
      "execution_count": 28,
      "outputs": [
        {
          "output_type": "execute_result",
          "data": {
            "text/plain": [
              "14449"
            ]
          },
          "metadata": {},
          "execution_count": 28
        }
      ]
    },
    {
      "cell_type": "markdown",
      "id": "cc8730f5",
      "metadata": {
        "papermill": {
          "duration": 0.032053,
          "end_time": "2023-12-13T19:19:21.485868",
          "exception": false,
          "start_time": "2023-12-13T19:19:21.453815",
          "status": "completed"
        },
        "tags": [],
        "id": "cc8730f5"
      },
      "source": [
        "# Попробуем восстановить пропуски в колонке bd с помощью catboost"
      ]
    },
    {
      "cell_type": "code",
      "source": [
        "!pip install catboost"
      ],
      "metadata": {
        "colab": {
          "base_uri": "https://localhost:8080/"
        },
        "id": "1DW8hCA7G_Qm",
        "outputId": "bfda1666-730f-4cd6-f942-41f6583d9536"
      },
      "id": "1DW8hCA7G_Qm",
      "execution_count": 29,
      "outputs": [
        {
          "output_type": "stream",
          "name": "stdout",
          "text": [
            "Collecting catboost\n",
            "  Downloading catboost-1.2.3-cp310-cp310-manylinux2014_x86_64.whl (98.5 MB)\n",
            "\u001b[2K     \u001b[90m━━━━━━━━━━━━━━━━━━━━━━━━━━━━━━━━━━━━━━━━\u001b[0m \u001b[32m98.5/98.5 MB\u001b[0m \u001b[31m9.9 MB/s\u001b[0m eta \u001b[36m0:00:00\u001b[0m\n",
            "\u001b[?25hRequirement already satisfied: graphviz in /usr/local/lib/python3.10/dist-packages (from catboost) (0.20.3)\n",
            "Requirement already satisfied: matplotlib in /usr/local/lib/python3.10/dist-packages (from catboost) (3.7.1)\n",
            "Requirement already satisfied: numpy>=1.16.0 in /usr/local/lib/python3.10/dist-packages (from catboost) (1.25.2)\n",
            "Requirement already satisfied: pandas>=0.24 in /usr/local/lib/python3.10/dist-packages (from catboost) (1.5.3)\n",
            "Requirement already satisfied: scipy in /usr/local/lib/python3.10/dist-packages (from catboost) (1.11.4)\n",
            "Requirement already satisfied: plotly in /usr/local/lib/python3.10/dist-packages (from catboost) (5.15.0)\n",
            "Requirement already satisfied: six in /usr/local/lib/python3.10/dist-packages (from catboost) (1.16.0)\n",
            "Requirement already satisfied: python-dateutil>=2.8.1 in /usr/local/lib/python3.10/dist-packages (from pandas>=0.24->catboost) (2.8.2)\n",
            "Requirement already satisfied: pytz>=2020.1 in /usr/local/lib/python3.10/dist-packages (from pandas>=0.24->catboost) (2023.4)\n",
            "Requirement already satisfied: contourpy>=1.0.1 in /usr/local/lib/python3.10/dist-packages (from matplotlib->catboost) (1.2.0)\n",
            "Requirement already satisfied: cycler>=0.10 in /usr/local/lib/python3.10/dist-packages (from matplotlib->catboost) (0.12.1)\n",
            "Requirement already satisfied: fonttools>=4.22.0 in /usr/local/lib/python3.10/dist-packages (from matplotlib->catboost) (4.50.0)\n",
            "Requirement already satisfied: kiwisolver>=1.0.1 in /usr/local/lib/python3.10/dist-packages (from matplotlib->catboost) (1.4.5)\n",
            "Requirement already satisfied: packaging>=20.0 in /usr/local/lib/python3.10/dist-packages (from matplotlib->catboost) (24.0)\n",
            "Requirement already satisfied: pillow>=6.2.0 in /usr/local/lib/python3.10/dist-packages (from matplotlib->catboost) (9.4.0)\n",
            "Requirement already satisfied: pyparsing>=2.3.1 in /usr/local/lib/python3.10/dist-packages (from matplotlib->catboost) (3.1.2)\n",
            "Requirement already satisfied: tenacity>=6.2.0 in /usr/local/lib/python3.10/dist-packages (from plotly->catboost) (8.2.3)\n",
            "Installing collected packages: catboost\n",
            "Successfully installed catboost-1.2.3\n"
          ]
        }
      ]
    },
    {
      "cell_type": "code",
      "execution_count": 30,
      "id": "0d1df994",
      "metadata": {
        "execution": {
          "iopub.execute_input": "2023-12-13T19:19:21.551670Z",
          "iopub.status.busy": "2023-12-13T19:19:21.551261Z",
          "iopub.status.idle": "2023-12-13T19:19:26.449337Z",
          "shell.execute_reply": "2023-12-13T19:19:26.446795Z"
        },
        "papermill": {
          "duration": 4.937223,
          "end_time": "2023-12-13T19:19:26.454964",
          "exception": false,
          "start_time": "2023-12-13T19:19:21.517741",
          "status": "completed"
        },
        "tags": [],
        "id": "0d1df994"
      },
      "outputs": [],
      "source": [
        "from lightgbm import LGBMClassifier , LGBMRegressor\n",
        "from catboost import CatBoostClassifier ,CatBoostRegressor\n",
        "\n",
        "from sklearn.model_selection import GridSearchCV , cross_val_score\n",
        "from sklearn.metrics import mean_absolute_error as MAE\n",
        "from sklearn.metrics import mean_squared_error as MSE"
      ]
    },
    {
      "cell_type": "code",
      "execution_count": 31,
      "id": "8443e8c3",
      "metadata": {
        "execution": {
          "iopub.execute_input": "2023-12-13T19:19:26.657766Z",
          "iopub.status.busy": "2023-12-13T19:19:26.655003Z",
          "iopub.status.idle": "2023-12-13T19:19:44.167248Z",
          "shell.execute_reply": "2023-12-13T19:19:44.166222Z"
        },
        "papermill": {
          "duration": 17.617238,
          "end_time": "2023-12-13T19:19:44.171185",
          "exception": false,
          "start_time": "2023-12-13T19:19:26.553947",
          "status": "completed"
        },
        "tags": [],
        "colab": {
          "base_uri": "https://localhost:8080/"
        },
        "id": "8443e8c3",
        "outputId": "e7d2c6db-2e02-4423-d444-0a1735c6e87a"
      },
      "outputs": [
        {
          "output_type": "execute_result",
          "data": {
            "text/plain": [
              "8.873272710866614"
            ]
          },
          "metadata": {},
          "execution_count": 31
        }
      ],
      "source": [
        "model = CatBoostRegressor(verbose = 0)\n",
        "model.fit(train_age.values, y_train_age.values.ravel())\n",
        "cv_score = np.sqrt(- cross_val_score(model, train_age.values,y_train_age.values.ravel(), cv=3 ,scoring='neg_mean_squared_error').mean())\n",
        "cv_score"
      ]
    },
    {
      "cell_type": "code",
      "execution_count": 32,
      "id": "638be998",
      "metadata": {
        "execution": {
          "iopub.execute_input": "2023-12-13T19:19:44.248977Z",
          "iopub.status.busy": "2023-12-13T19:19:44.248430Z",
          "iopub.status.idle": "2023-12-13T19:19:44.289123Z",
          "shell.execute_reply": "2023-12-13T19:19:44.287861Z"
        },
        "papermill": {
          "duration": 0.082828,
          "end_time": "2023-12-13T19:19:44.292009",
          "exception": false,
          "start_time": "2023-12-13T19:19:44.209181",
          "status": "completed"
        },
        "tags": [],
        "colab": {
          "base_uri": "https://localhost:8080/"
        },
        "id": "638be998",
        "outputId": "81952cbc-d7b6-40a9-8c44-d7f2b4c1f52f"
      },
      "outputs": [
        {
          "output_type": "execute_result",
          "data": {
            "text/plain": [
              "array([38., 25., 24., ..., 28., 28., 27.])"
            ]
          },
          "metadata": {},
          "execution_count": 32
        }
      ],
      "source": [
        "preds_age = model.predict(test_age.values)\n",
        "preds_age = preds_age.round()\n",
        "preds_age"
      ]
    },
    {
      "cell_type": "code",
      "source": [
        "len(preds_age)"
      ],
      "metadata": {
        "colab": {
          "base_uri": "https://localhost:8080/"
        },
        "id": "ckGpmkvsJuQZ",
        "outputId": "46499665-8208-4de0-b8d1-9fbb5eea172a"
      },
      "id": "ckGpmkvsJuQZ",
      "execution_count": 33,
      "outputs": [
        {
          "output_type": "execute_result",
          "data": {
            "text/plain": [
              "19954"
            ]
          },
          "metadata": {},
          "execution_count": 33
        }
      ]
    },
    {
      "cell_type": "code",
      "execution_count": 34,
      "id": "f26f8a53",
      "metadata": {
        "execution": {
          "iopub.execute_input": "2023-12-13T19:19:44.358867Z",
          "iopub.status.busy": "2023-12-13T19:19:44.357780Z",
          "iopub.status.idle": "2023-12-13T19:19:44.369858Z",
          "shell.execute_reply": "2023-12-13T19:19:44.368526Z"
        },
        "papermill": {
          "duration": 0.048286,
          "end_time": "2023-12-13T19:19:44.372745",
          "exception": false,
          "start_time": "2023-12-13T19:19:44.324459",
          "status": "completed"
        },
        "tags": [],
        "colab": {
          "base_uri": "https://localhost:8080/"
        },
        "id": "f26f8a53",
        "outputId": "3e9406a9-ce83-4247-886b-2f07d33dfdf8"
      },
      "outputs": [
        {
          "output_type": "execute_result",
          "data": {
            "text/plain": [
              "0     19954\n",
              "22      751\n",
              "27      750\n",
              "24      740\n",
              "26      719\n",
              "      ...  \n",
              "90        1\n",
              "2         1\n",
              "70        1\n",
              "3         1\n",
              "10        1\n",
              "Name: bd, Length: 80, dtype: int64"
            ]
          },
          "metadata": {},
          "execution_count": 34
        }
      ],
      "source": [
        "members_df['bd'].value_counts()"
      ]
    },
    {
      "cell_type": "markdown",
      "source": [
        "# EDA"
      ],
      "metadata": {
        "id": "xpAqyuLigwTO"
      },
      "id": "xpAqyuLigwTO"
    },
    {
      "cell_type": "markdown",
      "source": [
        "Число уникальных песен и проверка на дисбаланс классов"
      ],
      "metadata": {
        "id": "521Fr8cfI3eG"
      },
      "id": "521Fr8cfI3eG"
    },
    {
      "cell_type": "code",
      "source": [
        "print(train_df.target.value_counts()*100/train_df.target.value_counts().sum())\n",
        "print('unique songs ',len(train_df.song_id.unique()))"
      ],
      "metadata": {
        "colab": {
          "base_uri": "https://localhost:8080/"
        },
        "id": "ffEiYSFVHEWZ",
        "outputId": "cb59fced-0f97-460a-f672-5cfd2570f2b0"
      },
      "id": "ffEiYSFVHEWZ",
      "execution_count": 35,
      "outputs": [
        {
          "output_type": "stream",
          "name": "stdout",
          "text": [
            "1.0    50.351708\n",
            "0.0    49.648292\n",
            "Name: target, dtype: float64\n",
            "unique songs  359966\n"
          ]
        }
      ]
    },
    {
      "cell_type": "markdown",
      "source": [
        "Число и медианная длина песен на повторе"
      ],
      "metadata": {
        "id": "pu6rPbxVKjMF"
      },
      "id": "pu6rPbxVKjMF"
    },
    {
      "cell_type": "code",
      "source": [
        "%matplotlib inline\n",
        "from matplotlib import rcParams\n",
        "rcParams['figure.figsize'] = (20, 6)\n",
        "repeats=train_df[train_df.target==1]\n",
        "song_repeats=repeats.groupby('song_id',as_index=False).msno.count()\n",
        "song_repeats.columns=['song_id','count']"
      ],
      "metadata": {
        "id": "dJ9noXQFJaE2"
      },
      "id": "dJ9noXQFJaE2",
      "execution_count": 36,
      "outputs": []
    },
    {
      "cell_type": "code",
      "source": [
        "song_repeats=pd.DataFrame(song_repeats).merge(songs_df,left_on='song_id',right_on='song_id')\n",
        "print('median length of songs repeated',song_repeats.sort_values(by='count',ascending=False)[:2000].song_length.median())\n",
        "print('median length of songs repeated',songs_df.song_length.median())"
      ],
      "metadata": {
        "colab": {
          "base_uri": "https://localhost:8080/"
        },
        "id": "IaZiMrrhJPMC",
        "outputId": "cddf1337-9b43-4d8c-93eb-5a025cadb0ff"
      },
      "id": "IaZiMrrhJPMC",
      "execution_count": 37,
      "outputs": [
        {
          "output_type": "stream",
          "name": "stdout",
          "text": [
            "median length of songs repeated 246491.0\n",
            "median length of songs repeated 226627.0\n"
          ]
        }
      ]
    },
    {
      "cell_type": "code",
      "source": [
        "print(\"Top 20 songs repeated\")\n",
        "repeats.song_id.value_counts()[:20]"
      ],
      "metadata": {
        "colab": {
          "base_uri": "https://localhost:8080/"
        },
        "id": "K4wAbszELNKB",
        "outputId": "dbfe48e2-63b7-47ae-b0e8-b8858cafed4a"
      },
      "id": "K4wAbszELNKB",
      "execution_count": 38,
      "outputs": [
        {
          "output_type": "stream",
          "name": "stdout",
          "text": [
            "Top 20 songs repeated\n"
          ]
        },
        {
          "output_type": "execute_result",
          "data": {
            "text/plain": [
              "reXuGcEWDDCnL0K3Th//3DFG4S1ACSpJMzA+CFipo1g=    10885\n",
              "T86YHdD4C9JSc274b1IlMkLuNdz4BQRB50fWWE7hx9g=    10556\n",
              "FynUyq0+drmIARmK1JZ/qcjNZ7DKkqTY6/0O0lTzNUI=     9808\n",
              "wBTWuHbjdjxnG1lQcbqnK4FddV24rUhuyrYLd9c/hmk=     9411\n",
              "PgRtmmESVNtWjoZHO5a1r21vIz9sVZmcJJpFCbRa1LI=     9004\n",
              "U9kojfZSKaiWOW94PKh1Riyv/zUWxmBRmv0XInQWLGw=     8787\n",
              "YN4T/yvvXtYrBVN8KTnieiQohHL3T9fnzUkbLWcgLro=     8780\n",
              "M9rAajz4dYuRhZ7jLvf9RRayVA3os61X/XXHEuW4giA=     8403\n",
              "43Qm2YzsP99P5wm37B1JIhezUcQ/1CDjYlQx6rBbz2U=     8112\n",
              "J4qKkLIoW7aYACuTupHLAPZYmRp08en1AEux+GSUzdw=     7903\n",
              "cy10N2j2sdY/X4BDUcMu2Iumfz7pV3tqE5iEaup2yGI=     7725\n",
              "750RprmFfLV0bymtDH88g24pLZGVi5VpBAI300P6UOA=     7608\n",
              "IKMFuL0f5Y8c63Hg9BXkeNJjE0z8yf3gMt/tOxF4QNE=     7224\n",
              "+SstqMwhQPBQFTPBhLKPT642IiBDXzZFwlzsLl4cGXo=     7061\n",
              "DLBDZhOoW7zd7GBV99bi92ZXYUS26lzV+jJKbHshP5c=     6901\n",
              "v/3onppBGoSpGsWb8iaCIO8eX5+iacbH5a4ZUhT7N54=     6879\n",
              "p/yR06j/RQ2J6yGCFL0K+1R06OeG+eXcwxRgOHDo/Tk=     6536\n",
              "Xpjwi8UAE2Vv9PZ6cZnhc58MCtl3cKZEO1sdAkqJ4mo=     6399\n",
              "OaEbZ6TJ1NePtNUeEgWsvFLeopkSln9WQu8PBR5B3+A=     6187\n",
              "BITuBuNyXQydJcjDL2BUnCu4/IXaJg5IPOuycc/4dtY=     6160\n",
              "Name: song_id, dtype: int64"
            ]
          },
          "metadata": {},
          "execution_count": 38
        }
      ]
    },
    {
      "cell_type": "markdown",
      "source": [
        "Самые популярные языки и разделы"
      ],
      "metadata": {
        "id": "auRrI3pVMd7K"
      },
      "id": "auRrI3pVMd7K"
    },
    {
      "cell_type": "code",
      "source": [
        "df=pd.DataFrame(song_repeats.sort_values(by='count',ascending=False))\n",
        "df.language.value_counts().plot(kind='bar')\n",
        "plt.title('Language of most common songs')\n",
        "plt.ylabel('Count')\n",
        "plt.xlabel('Language')"
      ],
      "metadata": {
        "colab": {
          "base_uri": "https://localhost:8080/",
          "height": 414
        },
        "id": "ytZqLGw_Lbqi",
        "outputId": "2ddc955b-556f-44c9-f1c1-1e90ca711cd3"
      },
      "id": "ytZqLGw_Lbqi",
      "execution_count": 39,
      "outputs": [
        {
          "output_type": "execute_result",
          "data": {
            "text/plain": [
              "Text(0.5, 0, 'Language')"
            ]
          },
          "metadata": {},
          "execution_count": 39
        },
        {
          "output_type": "display_data",
          "data": {
            "text/plain": [
              "<Figure size 2000x600 with 1 Axes>"
            ],
            "image/png": "[encoded data removed]"
          },
          "metadata": {}
        }
      ]
    },
    {
      "cell_type": "code",
      "source": [
        "repeats.source_system_tab.value_counts().plot(kind='bar')\n",
        "\n",
        "plt.title('Song repeats by system tabs')\n",
        "plt.xlabel('system tabls')\n",
        "plt.ylabel('count')"
      ],
      "metadata": {
        "colab": {
          "base_uri": "https://localhost:8080/",
          "height": 454
        },
        "id": "wafmyJi4L046",
        "outputId": "635c80b5-81a8-4b08-d574-6a43e00893a5"
      },
      "id": "wafmyJi4L046",
      "execution_count": 40,
      "outputs": [
        {
          "output_type": "execute_result",
          "data": {
            "text/plain": [
              "Text(0, 0.5, 'count')"
            ]
          },
          "metadata": {},
          "execution_count": 40
        },
        {
          "output_type": "display_data",
          "data": {
            "text/plain": [
              "<Figure size 2000x600 with 1 Axes>"
            ],
            "image/png": "[encoded data removed]"
          },
          "metadata": {}
        }
      ]
    },
    {
      "cell_type": "markdown",
      "source": [
        "Заменим пропущенные значения дней рождения на пердсказанные ранее"
      ],
      "metadata": {
        "id": "6YztHA0CNWsn"
      },
      "id": "6YztHA0CNWsn"
    },
    {
      "cell_type": "code",
      "execution_count": 41,
      "id": "f96fd290",
      "metadata": {
        "execution": {
          "iopub.execute_input": "2023-12-13T19:19:44.448159Z",
          "iopub.status.busy": "2023-12-13T19:19:44.447635Z",
          "iopub.status.idle": "2023-12-13T19:19:45.235958Z",
          "shell.execute_reply": "2023-12-13T19:19:45.234697Z"
        },
        "papermill": {
          "duration": 0.82905,
          "end_time": "2023-12-13T19:19:45.238750",
          "exception": false,
          "start_time": "2023-12-13T19:19:44.409700",
          "status": "completed"
        },
        "tags": [],
        "colab": {
          "base_uri": "https://localhost:8080/",
          "height": 575
        },
        "id": "f96fd290",
        "outputId": "aa22af53-b72b-403b-caf2-ae28ec6c42ef"
      },
      "outputs": [
        {
          "output_type": "display_data",
          "data": {
            "text/plain": [
              "<Figure size 800x600 with 1 Axes>"
            ],
            "image/png": "[encoded data removed]"
          },
          "metadata": {}
        }
      ],
      "source": [
        "\n",
        "import seaborn as sns\n",
        "\n",
        "\n",
        "sns.set(style=\"whitegrid\")\n",
        "fig, ax = plt.subplots(figsize=(8, 6))\n",
        "\n",
        "\n",
        "sns.histplot(x='bd', data=members_df, bins=10, color='blue', ax=ax)\n",
        "\n",
        "\n",
        "ax.set_title('Histogram of birthdays', fontsize=16)\n",
        "\n",
        "plt.show()\n"
      ]
    },
    {
      "cell_type": "code",
      "execution_count": 42,
      "id": "865a7aaa",
      "metadata": {
        "execution": {
          "iopub.execute_input": "2023-12-13T19:19:45.317220Z",
          "iopub.status.busy": "2023-12-13T19:19:45.316713Z",
          "iopub.status.idle": "2023-12-13T19:19:47.719651Z",
          "shell.execute_reply": "2023-12-13T19:19:47.718407Z"
        },
        "papermill": {
          "duration": 2.445297,
          "end_time": "2023-12-13T19:19:47.722618",
          "exception": false,
          "start_time": "2023-12-13T19:19:45.277321",
          "status": "completed"
        },
        "tags": [],
        "id": "865a7aaa"
      },
      "outputs": [],
      "source": [
        "age_nulls_indexes = members_df[members_df['bd'] == 0].index\n",
        "j = 0\n",
        "for i in age_nulls_indexes :\n",
        "    members_df.loc[i , 'bd'] = preds_age[j]\n",
        "    j += 1"
      ]
    },
    {
      "cell_type": "code",
      "execution_count": 43,
      "id": "84670902",
      "metadata": {
        "execution": {
          "iopub.execute_input": "2023-12-13T19:19:47.799287Z",
          "iopub.status.busy": "2023-12-13T19:19:47.798773Z",
          "iopub.status.idle": "2023-12-13T19:19:47.809963Z",
          "shell.execute_reply": "2023-12-13T19:19:47.808806Z"
        },
        "papermill": {
          "duration": 0.053269,
          "end_time": "2023-12-13T19:19:47.813193",
          "exception": false,
          "start_time": "2023-12-13T19:19:47.759924",
          "status": "completed"
        },
        "tags": [],
        "colab": {
          "base_uri": "https://localhost:8080/"
        },
        "id": "84670902",
        "outputId": "efd0bb2b-aee1-45d9-e148-88ef282b7d69"
      },
      "outputs": [
        {
          "output_type": "execute_result",
          "data": {
            "text/plain": [
              "26    3537\n",
              "27    3410\n",
              "28    2884\n",
              "25    2813\n",
              "29    2671\n",
              "      ... \n",
              "90       1\n",
              "76       1\n",
              "2        1\n",
              "97       1\n",
              "10       1\n",
              "Name: bd, Length: 79, dtype: int64"
            ]
          },
          "metadata": {},
          "execution_count": 43
        }
      ],
      "source": [
        "members_df['bd'].value_counts()"
      ]
    },
    {
      "cell_type": "code",
      "execution_count": 44,
      "id": "611404bc",
      "metadata": {
        "execution": {
          "iopub.execute_input": "2023-12-13T19:19:47.904245Z",
          "iopub.status.busy": "2023-12-13T19:19:47.903769Z",
          "iopub.status.idle": "2023-12-13T19:19:48.349507Z",
          "shell.execute_reply": "2023-12-13T19:19:48.347981Z"
        },
        "papermill": {
          "duration": 0.499897,
          "end_time": "2023-12-13T19:19:48.352913",
          "exception": false,
          "start_time": "2023-12-13T19:19:47.853016",
          "status": "completed"
        },
        "tags": [],
        "colab": {
          "base_uri": "https://localhost:8080/",
          "height": 391
        },
        "id": "611404bc",
        "outputId": "64426029-0d99-481a-fe51-31daebe86d53"
      },
      "outputs": [
        {
          "output_type": "display_data",
          "data": {
            "text/plain": [
              "<Figure size 2000x600 with 1 Axes>"
            ],
            "image/png": "[encoded data removed]"
          },
          "metadata": {}
        }
      ],
      "source": [
        "import seaborn as sns\n",
        "import matplotlib.pyplot as plt\n",
        "\n",
        "# Assuming members_df is your DataFrame and 'bd' is a column in it\n",
        "sns.set(style=\"whitegrid\")  # Optional: Set the style if needed\n",
        "\n",
        "# Create the histogram with red color\n",
        "sns.histplot(x='bd', data=members_df, bins=10, color='red')\n",
        "\n",
        "# Set the title of the figure\n",
        "plt.title('Histogram of bd')\n",
        "\n",
        "# Show the plot\n",
        "plt.show()\n"
      ]
    },
    {
      "cell_type": "markdown",
      "source": [
        "Аналогично с полом"
      ],
      "metadata": {
        "id": "WiqluTjjNpuC"
      },
      "id": "WiqluTjjNpuC"
    },
    {
      "cell_type": "code",
      "execution_count": 45,
      "id": "f369dd89",
      "metadata": {
        "execution": {
          "iopub.execute_input": "2023-12-13T19:19:48.436635Z",
          "iopub.status.busy": "2023-12-13T19:19:48.436222Z",
          "iopub.status.idle": "2023-12-13T19:19:48.455275Z",
          "shell.execute_reply": "2023-12-13T19:19:48.454093Z"
        },
        "papermill": {
          "duration": 0.063762,
          "end_time": "2023-12-13T19:19:48.458742",
          "exception": false,
          "start_time": "2023-12-13T19:19:48.394980",
          "status": "completed"
        },
        "tags": [],
        "id": "f369dd89"
      },
      "outputs": [],
      "source": [
        "train_gender =  members_df[members_df['gender'] != 0].copy()\n",
        "y_train_gender  = train_gender['gender']\n",
        "train_gender.drop(['msno','gender'],axis = 1 , inplace = True )\n",
        "test_gender =  members_df[members_df['gender'] == 0].copy()\n",
        "y_test_gender  = test_gender['gender']\n",
        "test_gender.drop(['msno' ,'gender'],axis = 1 , inplace = True )"
      ]
    },
    {
      "cell_type": "code",
      "execution_count": 46,
      "id": "11278cbf",
      "metadata": {
        "execution": {
          "iopub.execute_input": "2023-12-13T19:19:48.542146Z",
          "iopub.status.busy": "2023-12-13T19:19:48.541643Z",
          "iopub.status.idle": "2023-12-13T19:20:06.440588Z",
          "shell.execute_reply": "2023-12-13T19:20:06.439437Z"
        },
        "papermill": {
          "duration": 17.94394,
          "end_time": "2023-12-13T19:20:06.443653",
          "exception": false,
          "start_time": "2023-12-13T19:19:48.499713",
          "status": "completed"
        },
        "tags": [],
        "colab": {
          "base_uri": "https://localhost:8080/"
        },
        "id": "11278cbf",
        "outputId": "fd2a0ad6-0421-4d43-aa7f-188b5275a130"
      },
      "outputs": [
        {
          "output_type": "execute_result",
          "data": {
            "text/plain": [
              "0.5258948136836681"
            ]
          },
          "metadata": {},
          "execution_count": 46
        }
      ],
      "source": [
        "model = CatBoostClassifier(verbose = 0 )\n",
        "model.fit(train_gender.values, y_train_gender.values.ravel())\n",
        "cv_score = cross_val_score(model, train_gender.values,y_train_gender.values.ravel(), cv=3 ,scoring='accuracy').mean()\n",
        "cv_score"
      ]
    },
    {
      "cell_type": "code",
      "execution_count": 47,
      "id": "1285a79c",
      "metadata": {
        "execution": {
          "iopub.execute_input": "2023-12-13T19:20:06.511647Z",
          "iopub.status.busy": "2023-12-13T19:20:06.511225Z",
          "iopub.status.idle": "2023-12-13T19:20:06.543454Z",
          "shell.execute_reply": "2023-12-13T19:20:06.542161Z"
        },
        "papermill": {
          "duration": 0.069857,
          "end_time": "2023-12-13T19:20:06.546754",
          "exception": false,
          "start_time": "2023-12-13T19:20:06.476897",
          "status": "completed"
        },
        "tags": [],
        "id": "1285a79c"
      },
      "outputs": [],
      "source": [
        "predictions = model.predict(test_gender.values)"
      ]
    },
    {
      "cell_type": "code",
      "execution_count": 48,
      "id": "ec6af558",
      "metadata": {
        "execution": {
          "iopub.execute_input": "2023-12-13T19:20:06.616467Z",
          "iopub.status.busy": "2023-12-13T19:20:06.615702Z",
          "iopub.status.idle": "2023-12-13T19:20:06.627780Z",
          "shell.execute_reply": "2023-12-13T19:20:06.626609Z"
        },
        "papermill": {
          "duration": 0.050085,
          "end_time": "2023-12-13T19:20:06.630450",
          "exception": false,
          "start_time": "2023-12-13T19:20:06.580365",
          "status": "completed"
        },
        "tags": [],
        "colab": {
          "base_uri": "https://localhost:8080/"
        },
        "id": "ec6af558",
        "outputId": "1e8eb380-30e3-4b75-a309-e3e387724cf2"
      },
      "outputs": [
        {
          "output_type": "execute_result",
          "data": {
            "text/plain": [
              "0    19902\n",
              "2     7405\n",
              "1     7096\n",
              "Name: gender, dtype: int64"
            ]
          },
          "metadata": {},
          "execution_count": 48
        }
      ],
      "source": [
        "members_df['gender'].value_counts()"
      ]
    },
    {
      "cell_type": "code",
      "execution_count": 49,
      "id": "791f906c",
      "metadata": {
        "execution": {
          "iopub.execute_input": "2023-12-13T19:20:06.698710Z",
          "iopub.status.busy": "2023-12-13T19:20:06.698256Z",
          "iopub.status.idle": "2023-12-13T19:20:08.661174Z",
          "shell.execute_reply": "2023-12-13T19:20:08.659873Z"
        },
        "papermill": {
          "duration": 2.000557,
          "end_time": "2023-12-13T19:20:08.664049",
          "exception": false,
          "start_time": "2023-12-13T19:20:06.663492",
          "status": "completed"
        },
        "tags": [],
        "id": "791f906c"
      },
      "outputs": [],
      "source": [
        "gender_nulls_indexes = members_df[members_df['gender'] == 0].index\n",
        "j = 0\n",
        "for i in gender_nulls_indexes :\n",
        "    members_df.loc[i , 'gender'] = predictions[j]\n",
        "    j += 1"
      ]
    },
    {
      "cell_type": "code",
      "execution_count": 50,
      "id": "fa84c91f",
      "metadata": {
        "execution": {
          "iopub.execute_input": "2023-12-13T19:20:08.734991Z",
          "iopub.status.busy": "2023-12-13T19:20:08.733659Z",
          "iopub.status.idle": "2023-12-13T19:20:08.743808Z",
          "shell.execute_reply": "2023-12-13T19:20:08.742684Z"
        },
        "papermill": {
          "duration": 0.048629,
          "end_time": "2023-12-13T19:20:08.746344",
          "exception": false,
          "start_time": "2023-12-13T19:20:08.697715",
          "status": "completed"
        },
        "tags": [],
        "colab": {
          "base_uri": "https://localhost:8080/"
        },
        "id": "fa84c91f",
        "outputId": "4e66f4f0-321a-4bf4-84d7-08cdda1b7f53"
      },
      "outputs": [
        {
          "output_type": "execute_result",
          "data": {
            "text/plain": [
              "1    17707\n",
              "2    16696\n",
              "Name: gender, dtype: int64"
            ]
          },
          "metadata": {},
          "execution_count": 50
        }
      ],
      "source": [
        "members_df['gender'].value_counts()"
      ]
    },
    {
      "cell_type": "code",
      "execution_count": 51,
      "id": "fdd69c8d",
      "metadata": {
        "execution": {
          "iopub.execute_input": "2023-12-13T19:20:08.815393Z",
          "iopub.status.busy": "2023-12-13T19:20:08.814838Z",
          "iopub.status.idle": "2023-12-13T19:20:08.831384Z",
          "shell.execute_reply": "2023-12-13T19:20:08.830161Z"
        },
        "papermill": {
          "duration": 0.053511,
          "end_time": "2023-12-13T19:20:08.833777",
          "exception": false,
          "start_time": "2023-12-13T19:20:08.780266",
          "status": "completed"
        },
        "tags": [],
        "colab": {
          "base_uri": "https://localhost:8080/",
          "height": 226
        },
        "id": "fdd69c8d",
        "outputId": "240b98dd-5ec0-4e88-e7b9-8c0c72c2fc65"
      },
      "outputs": [
        {
          "output_type": "execute_result",
          "data": {
            "text/plain": [
              "                                           msno  city  bd  gender  \\\n",
              "0  XQxgAYj3klVKjR3oxPPXYYFp4soD4TuBghkhMTD4oTw=     1  38       1   \n",
              "1  UizsfmJb9mV54qE9hCYyU07Va97c0lCRLEQX3ae+ztM=     1  25       1   \n",
              "2  D8nEhsIOBSoE6VthTaqDX8U6lqjJ7dLdr72mOyLya2A=     1  24       1   \n",
              "3  mCuD+tZ1hERA/o5GPqk38e041J8ZsBaLcu7nGoIIvhI=     1  33       1   \n",
              "4  q4HRBfVSssAFS9iRfxWrohxuk9kCYMKjHOEagUMV6rQ=     1  25       1   \n",
              "\n",
              "   registered_via  reg_year  reg_month  reg_day  exp_year  exp_month  exp_day  \n",
              "0               7      2011          8       20      2017          9       20  \n",
              "1               7      2015          6       28      2017          6       22  \n",
              "2               4      2016          4       11      2017          7       12  \n",
              "3               9      2015          9        6      2015          9        7  \n",
              "4               4      2017          1       26      2017          6       13  "
            ],
            "text/html": [
              "\n",
              "  <div id=\"df-7dc86cbb-dde8-417a-aec8-232ec36c239b\" class=\"colab-df-container\">\n",
              "    <div>\n",
              "<style scoped>\n",
              "    .dataframe tbody tr th:only-of-type {\n",
              "        vertical-align: middle;\n",
              "    }\n",
              "\n",
              "    .dataframe tbody tr th {\n",
              "        vertical-align: top;\n",
              "    }\n",
              "\n",
              "    .dataframe thead th {\n",
              "        text-align: right;\n",
              "    }\n",
              "</style>\n",
              "<table border=\"1\" class=\"dataframe\">\n",
              "  <thead>\n",
              "    <tr style=\"text-align: right;\">\n",
              "      <th></th>\n",
              "      <th>msno</th>\n",
              "      <th>city</th>\n",
              "      <th>bd</th>\n",
              "      <th>gender</th>\n",
              "      <th>registered_via</th>\n",
              "      <th>reg_year</th>\n",
              "      <th>reg_month</th>\n",
              "      <th>reg_day</th>\n",
              "      <th>exp_year</th>\n",
              "      <th>exp_month</th>\n",
              "      <th>exp_day</th>\n",
              "    </tr>\n",
              "  </thead>\n",
              "  <tbody>\n",
              "    <tr>\n",
              "      <th>0</th>\n",
              "      <td>XQxgAYj3klVKjR3oxPPXYYFp4soD4TuBghkhMTD4oTw=</td>\n",
              "      <td>1</td>\n",
              "      <td>38</td>\n",
              "      <td>1</td>\n",
              "      <td>7</td>\n",
              "      <td>2011</td>\n",
              "      <td>8</td>\n",
              "      <td>20</td>\n",
              "      <td>2017</td>\n",
              "      <td>9</td>\n",
              "      <td>20</td>\n",
              "    </tr>\n",
              "    <tr>\n",
              "      <th>1</th>\n",
              "      <td>UizsfmJb9mV54qE9hCYyU07Va97c0lCRLEQX3ae+ztM=</td>\n",
              "      <td>1</td>\n",
              "      <td>25</td>\n",
              "      <td>1</td>\n",
              "      <td>7</td>\n",
              "      <td>2015</td>\n",
              "      <td>6</td>\n",
              "      <td>28</td>\n",
              "      <td>2017</td>\n",
              "      <td>6</td>\n",
              "      <td>22</td>\n",
              "    </tr>\n",
              "    <tr>\n",
              "      <th>2</th>\n",
              "      <td>D8nEhsIOBSoE6VthTaqDX8U6lqjJ7dLdr72mOyLya2A=</td>\n",
              "      <td>1</td>\n",
              "      <td>24</td>\n",
              "      <td>1</td>\n",
              "      <td>4</td>\n",
              "      <td>2016</td>\n",
              "      <td>4</td>\n",
              "      <td>11</td>\n",
              "      <td>2017</td>\n",
              "      <td>7</td>\n",
              "      <td>12</td>\n",
              "    </tr>\n",
              "    <tr>\n",
              "      <th>3</th>\n",
              "      <td>mCuD+tZ1hERA/o5GPqk38e041J8ZsBaLcu7nGoIIvhI=</td>\n",
              "      <td>1</td>\n",
              "      <td>33</td>\n",
              "      <td>1</td>\n",
              "      <td>9</td>\n",
              "      <td>2015</td>\n",
              "      <td>9</td>\n",
              "      <td>6</td>\n",
              "      <td>2015</td>\n",
              "      <td>9</td>\n",
              "      <td>7</td>\n",
              "    </tr>\n",
              "    <tr>\n",
              "      <th>4</th>\n",
              "      <td>q4HRBfVSssAFS9iRfxWrohxuk9kCYMKjHOEagUMV6rQ=</td>\n",
              "      <td>1</td>\n",
              "      <td>25</td>\n",
              "      <td>1</td>\n",
              "      <td>4</td>\n",
              "      <td>2017</td>\n",
              "      <td>1</td>\n",
              "      <td>26</td>\n",
              "      <td>2017</td>\n",
              "      <td>6</td>\n",
              "      <td>13</td>\n",
              "    </tr>\n",
              "  </tbody>\n",
              "</table>\n",
              "</div>\n",
              "    <div class=\"colab-df-buttons\">\n",
              "\n",
              "  <div class=\"colab-df-container\">\n",
              "    <button class=\"colab-df-convert\" onclick=\"convertToInteractive('df-7dc86cbb-dde8-417a-aec8-232ec36c239b')\"\n",
              "            title=\"Convert this dataframe to an interactive table.\"\n",
              "            style=\"display:none;\">\n",
              "\n",
              "  <svg xmlns=\"http://www.w3.org/2000/svg\" height=\"24px\" viewBox=\"0 -960 960 960\">\n",
              "    <path d=\"M120-120v-720h720v720H120Zm60-500h600v-160H180v160Zm220 220h160v-160H400v160Zm0 220h160v-160H400v160ZM180-400h160v-160H180v160Zm440 0h160v-160H620v160ZM180-180h160v-160H180v160Zm440 0h160v-160H620v160Z\"/>\n",
              "  </svg>\n",
              "    </button>\n",
              "\n",
              "  <style>\n",
              "    .colab-df-container {\n",
              "      display:flex;\n",
              "      gap: 12px;\n",
              "    }\n",
              "\n",
              "    .colab-df-convert {\n",
              "      background-color: #E8F0FE;\n",
              "      border: none;\n",
              "      border-radius: 50%;\n",
              "      cursor: pointer;\n",
              "      display: none;\n",
              "      fill: #1967D2;\n",
              "      height: 32px;\n",
              "      padding: 0 0 0 0;\n",
              "      width: 32px;\n",
              "    }\n",
              "\n",
              "    .colab-df-convert:hover {\n",
              "      background-color: #E2EBFA;\n",
              "      box-shadow: 0px 1px 2px rgba(60, 64, 67, 0.3), 0px 1px 3px 1px rgba(60, 64, 67, 0.15);\n",
              "      fill: #174EA6;\n",
              "    }\n",
              "\n",
              "    .colab-df-buttons div {\n",
              "      margin-bottom: 4px;\n",
              "    }\n",
              "\n",
              "    [theme=dark] .colab-df-convert {\n",
              "      background-color: #3B4455;\n",
              "      fill: #D2E3FC;\n",
              "    }\n",
              "\n",
              "    [theme=dark] .colab-df-convert:hover {\n",
              "      background-color: #434B5C;\n",
              "      box-shadow: 0px 1px 3px 1px rgba(0, 0, 0, 0.15);\n",
              "      filter: drop-shadow(0px 1px 2px rgba(0, 0, 0, 0.3));\n",
              "      fill: #FFFFFF;\n",
              "    }\n",
              "  </style>\n",
              "\n",
              "    <script>\n",
              "      const buttonEl =\n",
              "        document.querySelector('#df-7dc86cbb-dde8-417a-aec8-232ec36c239b button.colab-df-convert');\n",
              "      buttonEl.style.display =\n",
              "        google.colab.kernel.accessAllowed ? 'block' : 'none';\n",
              "\n",
              "      async function convertToInteractive(key) {\n",
              "        const element = document.querySelector('#df-7dc86cbb-dde8-417a-aec8-232ec36c239b');\n",
              "        const dataTable =\n",
              "          await google.colab.kernel.invokeFunction('convertToInteractive',\n",
              "                                                    [key], {});\n",
              "        if (!dataTable) return;\n",
              "\n",
              "        const docLinkHtml = 'Like what you see? Visit the ' +\n",
              "          '<a target=\"_blank\" href=https://colab.research.google.com/notebooks/data_table.ipynb>data table notebook</a>'\n",
              "          + ' to learn more about interactive tables.';\n",
              "        element.innerHTML = '';\n",
              "        dataTable['output_type'] = 'display_data';\n",
              "        await google.colab.output.renderOutput(dataTable, element);\n",
              "        const docLink = document.createElement('div');\n",
              "        docLink.innerHTML = docLinkHtml;\n",
              "        element.appendChild(docLink);\n",
              "      }\n",
              "    </script>\n",
              "  </div>\n",
              "\n",
              "\n",
              "<div id=\"df-855df46d-d5be-4667-831b-d74720a3928b\">\n",
              "  <button class=\"colab-df-quickchart\" onclick=\"quickchart('df-855df46d-d5be-4667-831b-d74720a3928b')\"\n",
              "            title=\"Suggest charts\"\n",
              "            style=\"display:none;\">\n",
              "\n",
              "<svg xmlns=\"http://www.w3.org/2000/svg\" height=\"24px\"viewBox=\"0 0 24 24\"\n",
              "     width=\"24px\">\n",
              "    <g>\n",
              "        <path d=\"M19 3H5c-1.1 0-2 .9-2 2v14c0 1.1.9 2 2 2h14c1.1 0 2-.9 2-2V5c0-1.1-.9-2-2-2zM9 17H7v-7h2v7zm4 0h-2V7h2v10zm4 0h-2v-4h2v4z\"/>\n",
              "    </g>\n",
              "</svg>\n",
              "  </button>\n",
              "\n",
              "<style>\n",
              "  .colab-df-quickchart {\n",
              "      --bg-color: #E8F0FE;\n",
              "      --fill-color: #1967D2;\n",
              "      --hover-bg-color: #E2EBFA;\n",
              "      --hover-fill-color: #174EA6;\n",
              "      --disabled-fill-color: #AAA;\n",
              "      --disabled-bg-color: #DDD;\n",
              "  }\n",
              "\n",
              "  [theme=dark] .colab-df-quickchart {\n",
              "      --bg-color: #3B4455;\n",
              "      --fill-color: #D2E3FC;\n",
              "      --hover-bg-color: #434B5C;\n",
              "      --hover-fill-color: #FFFFFF;\n",
              "      --disabled-bg-color: #3B4455;\n",
              "      --disabled-fill-color: #666;\n",
              "  }\n",
              "\n",
              "  .colab-df-quickchart {\n",
              "    background-color: var(--bg-color);\n",
              "    border: none;\n",
              "    border-radius: 50%;\n",
              "    cursor: pointer;\n",
              "    display: none;\n",
              "    fill: var(--fill-color);\n",
              "    height: 32px;\n",
              "    padding: 0;\n",
              "    width: 32px;\n",
              "  }\n",
              "\n",
              "  .colab-df-quickchart:hover {\n",
              "    background-color: var(--hover-bg-color);\n",
              "    box-shadow: 0 1px 2px rgba(60, 64, 67, 0.3), 0 1px 3px 1px rgba(60, 64, 67, 0.15);\n",
              "    fill: var(--button-hover-fill-color);\n",
              "  }\n",
              "\n",
              "  .colab-df-quickchart-complete:disabled,\n",
              "  .colab-df-quickchart-complete:disabled:hover {\n",
              "    background-color: var(--disabled-bg-color);\n",
              "    fill: var(--disabled-fill-color);\n",
              "    box-shadow: none;\n",
              "  }\n",
              "\n",
              "  .colab-df-spinner {\n",
              "    border: 2px solid var(--fill-color);\n",
              "    border-color: transparent;\n",
              "    border-bottom-color: var(--fill-color);\n",
              "    animation:\n",
              "      spin 1s steps(1) infinite;\n",
              "  }\n",
              "\n",
              "  @keyframes spin {\n",
              "    0% {\n",
              "      border-color: transparent;\n",
              "      border-bottom-color: var(--fill-color);\n",
              "      border-left-color: var(--fill-color);\n",
              "    }\n",
              "    20% {\n",
              "      border-color: transparent;\n",
              "      border-left-color: var(--fill-color);\n",
              "      border-top-color: var(--fill-color);\n",
              "    }\n",
              "    30% {\n",
              "      border-color: transparent;\n",
              "      border-left-color: var(--fill-color);\n",
              "      border-top-color: var(--fill-color);\n",
              "      border-right-color: var(--fill-color);\n",
              "    }\n",
              "    40% {\n",
              "      border-color: transparent;\n",
              "      border-right-color: var(--fill-color);\n",
              "      border-top-color: var(--fill-color);\n",
              "    }\n",
              "    60% {\n",
              "      border-color: transparent;\n",
              "      border-right-color: var(--fill-color);\n",
              "    }\n",
              "    80% {\n",
              "      border-color: transparent;\n",
              "      border-right-color: var(--fill-color);\n",
              "      border-bottom-color: var(--fill-color);\n",
              "    }\n",
              "    90% {\n",
              "      border-color: transparent;\n",
              "      border-bottom-color: var(--fill-color);\n",
              "    }\n",
              "  }\n",
              "</style>\n",
              "\n",
              "  <script>\n",
              "    async function quickchart(key) {\n",
              "      const quickchartButtonEl =\n",
              "        document.querySelector('#' + key + ' button');\n",
              "      quickchartButtonEl.disabled = true;  // To prevent multiple clicks.\n",
              "      quickchartButtonEl.classList.add('colab-df-spinner');\n",
              "      try {\n",
              "        const charts = await google.colab.kernel.invokeFunction(\n",
              "            'suggestCharts', [key], {});\n",
              "      } catch (error) {\n",
              "        console.error('Error during call to suggestCharts:', error);\n",
              "      }\n",
              "      quickchartButtonEl.classList.remove('colab-df-spinner');\n",
              "      quickchartButtonEl.classList.add('colab-df-quickchart-complete');\n",
              "    }\n",
              "    (() => {\n",
              "      let quickchartButtonEl =\n",
              "        document.querySelector('#df-855df46d-d5be-4667-831b-d74720a3928b button');\n",
              "      quickchartButtonEl.style.display =\n",
              "        google.colab.kernel.accessAllowed ? 'block' : 'none';\n",
              "    })();\n",
              "  </script>\n",
              "</div>\n",
              "    </div>\n",
              "  </div>\n"
            ],
            "application/vnd.google.colaboratory.intrinsic+json": {
              "type": "dataframe",
              "variable_name": "members_df",
              "summary": "{\n  \"name\": \"members_df\",\n  \"rows\": 34403,\n  \"fields\": [\n    {\n      \"column\": \"msno\",\n      \"properties\": {\n        \"dtype\": \"category\",\n        \"num_unique_values\": 34403,\n        \"samples\": [\n          \"3psgxDUk5MbWBx1OBznTUafduIg3Q+gz5YlDepZfAr4=\",\n          \"eV+rKXB/wmr7MHrRyjEdnvISTFIigPtkcHn49cLB/LY=\",\n          \"sjzL4a6H0xqrqc/81AoGFqwElcyAM9nOkPjob/hjuSY=\"\n        ],\n        \"semantic_type\": \"\",\n        \"description\": \"\"\n      }\n    },\n    {\n      \"column\": \"city\",\n      \"properties\": {\n        \"dtype\": \"int8\",\n        \"num_unique_values\": 21,\n        \"samples\": [\n          1,\n          9,\n          10\n        ],\n        \"semantic_type\": \"\",\n        \"description\": \"\"\n      }\n    },\n    {\n      \"column\": \"bd\",\n      \"properties\": {\n        \"dtype\": \"number\",\n        \"std\": 6,\n        \"min\": 2,\n        \"max\": 97,\n        \"num_unique_values\": 79,\n        \"samples\": [\n          47,\n          38,\n          17\n        ],\n        \"semantic_type\": \"\",\n        \"description\": \"\"\n      }\n    },\n    {\n      \"column\": \"gender\",\n      \"properties\": {\n        \"dtype\": \"int8\",\n        \"num_unique_values\": 2,\n        \"samples\": [\n          2,\n          1\n        ],\n        \"semantic_type\": \"\",\n        \"description\": \"\"\n      }\n    },\n    {\n      \"column\": \"registered_via\",\n      \"properties\": {\n        \"dtype\": \"int8\",\n        \"num_unique_values\": 6,\n        \"samples\": [\n          7,\n          4\n        ],\n        \"semantic_type\": \"\",\n        \"description\": \"\"\n      }\n    },\n    {\n      \"column\": \"reg_year\",\n      \"properties\": {\n        \"dtype\": \"number\",\n        \"std\": 2,\n        \"min\": 2004,\n        \"max\": 2017,\n        \"num_unique_values\": 14,\n        \"samples\": [\n          2005,\n          2008\n        ],\n        \"semantic_type\": \"\",\n        \"description\": \"\"\n      }\n    },\n    {\n      \"column\": \"reg_month\",\n      \"properties\": {\n        \"dtype\": \"number\",\n        \"std\": 3,\n        \"min\": 1,\n        \"max\": 12,\n        \"num_unique_values\": 12,\n        \"samples\": [\n          11,\n          12\n        ],\n        \"semantic_type\": \"\",\n        \"description\": \"\"\n      }\n    },\n    {\n      \"column\": \"reg_day\",\n      \"properties\": {\n        \"dtype\": \"number\",\n        \"std\": 8,\n        \"min\": 1,\n        \"max\": 31,\n        \"num_unique_values\": 31,\n        \"samples\": [\n          19,\n          23\n        ],\n        \"semantic_type\": \"\",\n        \"description\": \"\"\n      }\n    },\n    {\n      \"column\": \"exp_year\",\n      \"properties\": {\n        \"dtype\": \"number\",\n        \"std\": 0,\n        \"min\": 1970,\n        \"max\": 2020,\n        \"num_unique_values\": 18,\n        \"samples\": [\n          2017,\n          2015\n        ],\n        \"semantic_type\": \"\",\n        \"description\": \"\"\n      }\n    },\n    {\n      \"column\": \"exp_month\",\n      \"properties\": {\n        \"dtype\": \"number\",\n        \"std\": 3,\n        \"min\": 1,\n        \"max\": 12,\n        \"num_unique_values\": 12,\n        \"samples\": [\n          5,\n          11\n        ],\n        \"semantic_type\": \"\",\n        \"description\": \"\"\n      }\n    },\n    {\n      \"column\": \"exp_day\",\n      \"properties\": {\n        \"dtype\": \"number\",\n        \"std\": 8,\n        \"min\": 1,\n        \"max\": 31,\n        \"num_unique_values\": 31,\n        \"samples\": [\n          10,\n          25\n        ],\n        \"semantic_type\": \"\",\n        \"description\": \"\"\n      }\n    }\n  ]\n}"
            }
          },
          "metadata": {},
          "execution_count": 51
        }
      ],
      "source": [
        "members_df.head()"
      ]
    },
    {
      "cell_type": "markdown",
      "id": "b3b74fbe",
      "metadata": {
        "papermill": {
          "duration": 0.033415,
          "end_time": "2023-12-13T19:20:08.901016",
          "exception": false,
          "start_time": "2023-12-13T19:20:08.867601",
          "status": "completed"
        },
        "tags": [],
        "id": "b3b74fbe"
      },
      "source": [
        "# Создаем объединенный датасет и готовим данные"
      ]
    },
    {
      "cell_type": "code",
      "execution_count": 52,
      "id": "9582bfe0",
      "metadata": {
        "execution": {
          "iopub.execute_input": "2023-12-13T19:20:08.970956Z",
          "iopub.status.busy": "2023-12-13T19:20:08.970541Z",
          "iopub.status.idle": "2023-12-13T19:20:14.012203Z",
          "shell.execute_reply": "2023-12-13T19:20:14.010375Z"
        },
        "papermill": {
          "duration": 5.080036,
          "end_time": "2023-12-13T19:20:14.014808",
          "exception": false,
          "start_time": "2023-12-13T19:20:08.934772",
          "status": "completed"
        },
        "tags": [],
        "colab": {
          "base_uri": "https://localhost:8080/"
        },
        "id": "9582bfe0",
        "outputId": "5a5f2faa-ea40-4baf-b769-3b8ee0868f3a"
      },
      "outputs": [
        {
          "output_type": "stream",
          "name": "stdout",
          "text": [
            "all_data size is : (9934208, 6)\n"
          ]
        }
      ],
      "source": [
        "ntrain = train_df.shape[0]\n",
        "ntest = test_df.shape[0]\n",
        "y_train = train_df['target'].values\n",
        "test_IDs = test_df['msno'].copy()\n",
        "all_data = pd.concat((train_df.drop('target',axis =1), test_df)).reset_index(drop=True)\n",
        "print(\"all_data size is : {}\".format(all_data.shape))"
      ]
    },
    {
      "cell_type": "code",
      "execution_count": 53,
      "id": "8c4590fb",
      "metadata": {
        "execution": {
          "iopub.execute_input": "2023-12-13T19:20:14.085047Z",
          "iopub.status.busy": "2023-12-13T19:20:14.084610Z",
          "iopub.status.idle": "2023-12-13T19:20:14.770638Z",
          "shell.execute_reply": "2023-12-13T19:20:14.769411Z"
        },
        "papermill": {
          "duration": 0.724984,
          "end_time": "2023-12-13T19:20:14.773559",
          "exception": false,
          "start_time": "2023-12-13T19:20:14.048575",
          "status": "completed"
        },
        "tags": [],
        "id": "8c4590fb"
      },
      "outputs": [],
      "source": [
        "all_data.drop('id', axis =1 , inplace = True)"
      ]
    },
    {
      "cell_type": "code",
      "execution_count": 54,
      "id": "1a1549ee",
      "metadata": {
        "execution": {
          "iopub.execute_input": "2023-12-13T19:20:14.843664Z",
          "iopub.status.busy": "2023-12-13T19:20:14.842687Z",
          "iopub.status.idle": "2023-12-13T19:20:36.661260Z",
          "shell.execute_reply": "2023-12-13T19:20:36.660064Z"
        },
        "papermill": {
          "duration": 21.856932,
          "end_time": "2023-12-13T19:20:36.664184",
          "exception": false,
          "start_time": "2023-12-13T19:20:14.807252",
          "status": "completed"
        },
        "tags": [],
        "id": "1a1549ee"
      },
      "outputs": [],
      "source": [
        "all_data = all_data.merge(members_df, on='msno', how='left')\n",
        "\n",
        "all_data = all_data.merge(songs_df, on = 'song_id', how = 'left')"
      ]
    },
    {
      "cell_type": "code",
      "execution_count": 55,
      "id": "eb1849e2",
      "metadata": {
        "execution": {
          "iopub.execute_input": "2023-12-13T19:20:36.734784Z",
          "iopub.status.busy": "2023-12-13T19:20:36.733938Z",
          "iopub.status.idle": "2023-12-13T19:20:36.941349Z",
          "shell.execute_reply": "2023-12-13T19:20:36.940503Z"
        },
        "papermill": {
          "duration": 0.24527,
          "end_time": "2023-12-13T19:20:36.943942",
          "exception": false,
          "start_time": "2023-12-13T19:20:36.698672",
          "status": "completed"
        },
        "tags": [],
        "colab": {
          "base_uri": "https://localhost:8080/"
        },
        "id": "eb1849e2",
        "outputId": "e038a075-9831-4277-df8a-b554b0be780a"
      },
      "outputs": [
        {
          "output_type": "execute_result",
          "data": {
            "text/plain": [
              "255"
            ]
          },
          "metadata": {},
          "execution_count": 55
        }
      ],
      "source": [
        "del [[members_df,songs_df]]\n",
        "import gc\n",
        "gc.collect()"
      ]
    },
    {
      "cell_type": "markdown",
      "source": [
        "Заменяем оставшиеся пропуски"
      ],
      "metadata": {
        "id": "e9fC4n8KOiZd"
      },
      "id": "e9fC4n8KOiZd"
    },
    {
      "cell_type": "code",
      "execution_count": 56,
      "id": "e296eed7",
      "metadata": {
        "execution": {
          "iopub.execute_input": "2023-12-13T19:20:37.014387Z",
          "iopub.status.busy": "2023-12-13T19:20:37.013592Z",
          "iopub.status.idle": "2023-12-13T19:20:44.162040Z",
          "shell.execute_reply": "2023-12-13T19:20:44.160490Z"
        },
        "papermill": {
          "duration": 7.187345,
          "end_time": "2023-12-13T19:20:44.165119",
          "exception": false,
          "start_time": "2023-12-13T19:20:36.977774",
          "status": "completed"
        },
        "tags": [],
        "id": "e296eed7"
      },
      "outputs": [],
      "source": [
        "for i in range(0,8):\n",
        "    all_data[i] = all_data[i].fillna(0)"
      ]
    },
    {
      "cell_type": "code",
      "execution_count": 57,
      "id": "e938fb62",
      "metadata": {
        "execution": {
          "iopub.execute_input": "2023-12-13T19:20:44.234992Z",
          "iopub.status.busy": "2023-12-13T19:20:44.234586Z",
          "iopub.status.idle": "2023-12-13T19:20:45.512215Z",
          "shell.execute_reply": "2023-12-13T19:20:45.510968Z"
        },
        "papermill": {
          "duration": 1.315389,
          "end_time": "2023-12-13T19:20:45.514861",
          "exception": false,
          "start_time": "2023-12-13T19:20:44.199472",
          "status": "completed"
        },
        "tags": [],
        "colab": {
          "base_uri": "https://localhost:8080/"
        },
        "id": "e938fb62",
        "outputId": "fafcd517-76f6-4632-bf1e-7534d8d767fa"
      },
      "outputs": [
        {
          "output_type": "execute_result",
          "data": {
            "text/plain": [
              "465     5062629\n",
              "458     1651779\n",
              "921      610930\n",
              "1609     450948\n",
              "444      378968\n",
              "         ...   \n",
              "87            1\n",
              "2015          1\n",
              "1579          1\n",
              "751           1\n",
              "303           1\n",
              "Name: 0, Length: 166, dtype: int64"
            ]
          },
          "metadata": {},
          "execution_count": 57
        }
      ],
      "source": [
        "all_data[0].value_counts()"
      ]
    },
    {
      "cell_type": "code",
      "execution_count": 58,
      "id": "fff867ae",
      "metadata": {
        "execution": {
          "iopub.execute_input": "2023-12-13T19:20:45.585639Z",
          "iopub.status.busy": "2023-12-13T19:20:45.585238Z",
          "iopub.status.idle": "2023-12-13T19:20:57.436021Z",
          "shell.execute_reply": "2023-12-13T19:20:57.434902Z"
        },
        "papermill": {
          "duration": 11.889991,
          "end_time": "2023-12-13T19:20:57.438981",
          "exception": false,
          "start_time": "2023-12-13T19:20:45.548990",
          "status": "completed"
        },
        "tags": [],
        "id": "fff867ae"
      },
      "outputs": [],
      "source": [
        "for i in range(0,8):\n",
        "    all_data[i] = all_data[i].astype('category').cat.codes"
      ]
    },
    {
      "cell_type": "code",
      "execution_count": 59,
      "id": "333b796f",
      "metadata": {
        "execution": {
          "iopub.execute_input": "2023-12-13T19:20:57.511038Z",
          "iopub.status.busy": "2023-12-13T19:20:57.510573Z",
          "iopub.status.idle": "2023-12-13T19:20:57.594796Z",
          "shell.execute_reply": "2023-12-13T19:20:57.593363Z"
        },
        "papermill": {
          "duration": 0.122287,
          "end_time": "2023-12-13T19:20:57.597356",
          "exception": false,
          "start_time": "2023-12-13T19:20:57.475069",
          "status": "completed"
        },
        "tags": [],
        "colab": {
          "base_uri": "https://localhost:8080/"
        },
        "id": "333b796f",
        "outputId": "bb8ebe64-69ce-48b8-bd03-28dbaccf2870"
      },
      "outputs": [
        {
          "output_type": "execute_result",
          "data": {
            "text/plain": [
              "119    5062629\n",
              "118    1651779\n",
              "155     610930\n",
              "47      450948\n",
              "116     378968\n",
              "        ...   \n",
              "149          1\n",
              "65           1\n",
              "44           1\n",
              "138          1\n",
              "102          1\n",
              "Name: 0, Length: 166, dtype: int64"
            ]
          },
          "metadata": {},
          "execution_count": 59
        }
      ],
      "source": [
        "all_data[0].value_counts()"
      ]
    },
    {
      "cell_type": "code",
      "execution_count": 60,
      "id": "afcd60b5",
      "metadata": {
        "execution": {
          "iopub.execute_input": "2023-12-13T19:20:57.667769Z",
          "iopub.status.busy": "2023-12-13T19:20:57.667280Z",
          "iopub.status.idle": "2023-12-13T19:21:01.409942Z",
          "shell.execute_reply": "2023-12-13T19:21:01.409007Z"
        },
        "papermill": {
          "duration": 3.780904,
          "end_time": "2023-12-13T19:21:01.412558",
          "exception": false,
          "start_time": "2023-12-13T19:20:57.631654",
          "status": "completed"
        },
        "tags": [],
        "colab": {
          "base_uri": "https://localhost:8080/"
        },
        "id": "afcd60b5",
        "outputId": "431284db-6204-49b7-cbd2-7d289965303b"
      },
      "outputs": [
        {
          "output_type": "execute_result",
          "data": {
            "text/plain": [
              "['song_length', 'artist_name', 'composer', 'lyricist', 'language']"
            ]
          },
          "metadata": {},
          "execution_count": 60
        }
      ],
      "source": [
        "nulls_cols = all_data.isnull().sum()\n",
        "nulls_cols = nulls_cols[nulls_cols != 0]\n",
        "list(nulls_cols.keys())"
      ]
    },
    {
      "cell_type": "code",
      "execution_count": 61,
      "id": "bd757237",
      "metadata": {
        "execution": {
          "iopub.execute_input": "2023-12-13T19:21:01.485923Z",
          "iopub.status.busy": "2023-12-13T19:21:01.485136Z",
          "iopub.status.idle": "2023-12-13T19:21:02.944938Z",
          "shell.execute_reply": "2023-12-13T19:21:02.943588Z"
        },
        "papermill": {
          "duration": 1.50052,
          "end_time": "2023-12-13T19:21:02.948138",
          "exception": false,
          "start_time": "2023-12-13T19:21:01.447618",
          "status": "completed"
        },
        "tags": [],
        "id": "bd757237"
      },
      "outputs": [],
      "source": [
        "for col in list(nulls_cols.keys()):\n",
        "    all_data[col] = all_data[col].fillna(all_data[col].mode()[0])"
      ]
    },
    {
      "cell_type": "code",
      "execution_count": 62,
      "id": "b0f777c9",
      "metadata": {
        "execution": {
          "iopub.execute_input": "2023-12-13T19:21:03.023447Z",
          "iopub.status.busy": "2023-12-13T19:21:03.023017Z",
          "iopub.status.idle": "2023-12-13T19:21:06.732619Z",
          "shell.execute_reply": "2023-12-13T19:21:06.731441Z"
        },
        "papermill": {
          "duration": 3.751135,
          "end_time": "2023-12-13T19:21:06.735312",
          "exception": false,
          "start_time": "2023-12-13T19:21:02.984177",
          "status": "completed"
        },
        "tags": [],
        "colab": {
          "base_uri": "https://localhost:8080/"
        },
        "id": "b0f777c9",
        "outputId": "1f858070-45ed-44b4-f706-0a296ce37e36"
      },
      "outputs": [
        {
          "output_type": "execute_result",
          "data": {
            "text/plain": [
              "msno                  0\n",
              "song_id               0\n",
              "source_system_tab     0\n",
              "source_screen_name    0\n",
              "source_type           0\n",
              "city                  0\n",
              "bd                    0\n",
              "gender                0\n",
              "registered_via        0\n",
              "reg_year              0\n",
              "reg_month             0\n",
              "reg_day               0\n",
              "exp_year              0\n",
              "exp_month             0\n",
              "exp_day               0\n",
              "song_length           0\n",
              "artist_name           0\n",
              "composer              0\n",
              "lyricist              0\n",
              "language              0\n",
              "0                     0\n",
              "1                     0\n",
              "2                     0\n",
              "3                     0\n",
              "4                     0\n",
              "5                     0\n",
              "6                     0\n",
              "7                     0\n",
              "dtype: int64"
            ]
          },
          "metadata": {},
          "execution_count": 62
        }
      ],
      "source": [
        "all_data.isnull().sum()"
      ]
    },
    {
      "cell_type": "markdown",
      "source": [
        "Обработка категориальных данных и скалирование"
      ],
      "metadata": {
        "id": "DkikhSFxPPLy"
      },
      "id": "DkikhSFxPPLy"
    },
    {
      "cell_type": "code",
      "execution_count": 63,
      "id": "705036cd",
      "metadata": {
        "execution": {
          "iopub.execute_input": "2023-12-13T19:21:06.807572Z",
          "iopub.status.busy": "2023-12-13T19:21:06.806609Z",
          "iopub.status.idle": "2023-12-13T19:21:06.832325Z",
          "shell.execute_reply": "2023-12-13T19:21:06.831175Z"
        },
        "papermill": {
          "duration": 0.064275,
          "end_time": "2023-12-13T19:21:06.834820",
          "exception": false,
          "start_time": "2023-12-13T19:21:06.770545",
          "status": "completed"
        },
        "tags": [],
        "colab": {
          "base_uri": "https://localhost:8080/",
          "height": 290
        },
        "id": "705036cd",
        "outputId": "55a7cd2c-7bde-481f-900e-d57985c2f41c"
      },
      "outputs": [
        {
          "output_type": "execute_result",
          "data": {
            "text/plain": [
              "                                           msno  \\\n",
              "0  FGtllVqz18RPiwJj/edr2gV78zirAiY/9SmYvia+kCg=   \n",
              "1  Xumu+NIjS6QYVxDS4/t3SawvJ7viT9hPKXmf0RtLNx8=   \n",
              "2  Xumu+NIjS6QYVxDS4/t3SawvJ7viT9hPKXmf0RtLNx8=   \n",
              "3  Xumu+NIjS6QYVxDS4/t3SawvJ7viT9hPKXmf0RtLNx8=   \n",
              "4  FGtllVqz18RPiwJj/edr2gV78zirAiY/9SmYvia+kCg=   \n",
              "\n",
              "                                        song_id source_system_tab  \\\n",
              "0  BBzumQNXUHKdEBOB7mAJuzok+IJA1c2Ryg/yzTF6tik=           explore   \n",
              "1  bhp/MpSNoqoxOIB+/l8WPqu6jldth4DIpCm3ayXnJqM=        my library   \n",
              "2  JNWfrrC7zNN7BdMpsISKa4Mw+xVJYNnxXh3/Epw7QgY=        my library   \n",
              "3  2A87tzfnJTSWqD7gIZHisolhe4DMdzkbd6LzO1KHjNs=        my library   \n",
              "4  3qm6XTZ6MOCU11x8FIVbAGH5l5uMkT3/ZalWG1oo2Gc=           explore   \n",
              "\n",
              "    source_screen_name      source_type  city  bd  gender  registered_via  \\\n",
              "0              Explore  online-playlist     1  30       2               7   \n",
              "1  Local playlist more   local-playlist    13  24       1               9   \n",
              "2  Local playlist more   local-playlist    13  24       1               9   \n",
              "3  Local playlist more   local-playlist    13  24       1               9   \n",
              "4              Explore  online-playlist     1  30       2               7   \n",
              "\n",
              "   reg_year  ...  lyricist  language    0  1  2  3  4  5  6  7  \n",
              "0      2012  ...                52.0  106  0  0  0  0  0  0  0  \n",
              "1      2011  ...                52.0   35  0  0  0  0  0  0  0  \n",
              "2      2011  ...                52.0   35  0  0  0  0  0  0  0  \n",
              "3      2011  ...                -1.0    5  0  0  0  0  0  0  0  \n",
              "4      2012  ...                52.0    4  0  0  0  0  0  0  0  \n",
              "\n",
              "[5 rows x 28 columns]"
            ],
            "text/html": [
              "\n",
              "  <div id=\"df-4071ef75-9806-421d-b5fc-04182c85873e\" class=\"colab-df-container\">\n",
              "    <div>\n",
              "<style scoped>\n",
              "    .dataframe tbody tr th:only-of-type {\n",
              "        vertical-align: middle;\n",
              "    }\n",
              "\n",
              "    .dataframe tbody tr th {\n",
              "        vertical-align: top;\n",
              "    }\n",
              "\n",
              "    .dataframe thead th {\n",
              "        text-align: right;\n",
              "    }\n",
              "</style>\n",
              "<table border=\"1\" class=\"dataframe\">\n",
              "  <thead>\n",
              "    <tr style=\"text-align: right;\">\n",
              "      <th></th>\n",
              "      <th>msno</th>\n",
              "      <th>song_id</th>\n",
              "      <th>source_system_tab</th>\n",
              "      <th>source_screen_name</th>\n",
              "      <th>source_type</th>\n",
              "      <th>city</th>\n",
              "      <th>bd</th>\n",
              "      <th>gender</th>\n",
              "      <th>registered_via</th>\n",
              "      <th>reg_year</th>\n",
              "      <th>...</th>\n",
              "      <th>lyricist</th>\n",
              "      <th>language</th>\n",
              "      <th>0</th>\n",
              "      <th>1</th>\n",
              "      <th>2</th>\n",
              "      <th>3</th>\n",
              "      <th>4</th>\n",
              "      <th>5</th>\n",
              "      <th>6</th>\n",
              "      <th>7</th>\n",
              "    </tr>\n",
              "  </thead>\n",
              "  <tbody>\n",
              "    <tr>\n",
              "      <th>0</th>\n",
              "      <td>FGtllVqz18RPiwJj/edr2gV78zirAiY/9SmYvia+kCg=</td>\n",
              "      <td>BBzumQNXUHKdEBOB7mAJuzok+IJA1c2Ryg/yzTF6tik=</td>\n",
              "      <td>explore</td>\n",
              "      <td>Explore</td>\n",
              "      <td>online-playlist</td>\n",
              "      <td>1</td>\n",
              "      <td>30</td>\n",
              "      <td>2</td>\n",
              "      <td>7</td>\n",
              "      <td>2012</td>\n",
              "      <td>...</td>\n",
              "      <td></td>\n",
              "      <td>52.0</td>\n",
              "      <td>106</td>\n",
              "      <td>0</td>\n",
              "      <td>0</td>\n",
              "      <td>0</td>\n",
              "      <td>0</td>\n",
              "      <td>0</td>\n",
              "      <td>0</td>\n",
              "      <td>0</td>\n",
              "    </tr>\n",
              "    <tr>\n",
              "      <th>1</th>\n",
              "      <td>Xumu+NIjS6QYVxDS4/t3SawvJ7viT9hPKXmf0RtLNx8=</td>\n",
              "      <td>bhp/MpSNoqoxOIB+/l8WPqu6jldth4DIpCm3ayXnJqM=</td>\n",
              "      <td>my library</td>\n",
              "      <td>Local playlist more</td>\n",
              "      <td>local-playlist</td>\n",
              "      <td>13</td>\n",
              "      <td>24</td>\n",
              "      <td>1</td>\n",
              "      <td>9</td>\n",
              "      <td>2011</td>\n",
              "      <td>...</td>\n",
              "      <td></td>\n",
              "      <td>52.0</td>\n",
              "      <td>35</td>\n",
              "      <td>0</td>\n",
              "      <td>0</td>\n",
              "      <td>0</td>\n",
              "      <td>0</td>\n",
              "      <td>0</td>\n",
              "      <td>0</td>\n",
              "      <td>0</td>\n",
              "    </tr>\n",
              "    <tr>\n",
              "      <th>2</th>\n",
              "      <td>Xumu+NIjS6QYVxDS4/t3SawvJ7viT9hPKXmf0RtLNx8=</td>\n",
              "      <td>JNWfrrC7zNN7BdMpsISKa4Mw+xVJYNnxXh3/Epw7QgY=</td>\n",
              "      <td>my library</td>\n",
              "      <td>Local playlist more</td>\n",
              "      <td>local-playlist</td>\n",
              "      <td>13</td>\n",
              "      <td>24</td>\n",
              "      <td>1</td>\n",
              "      <td>9</td>\n",
              "      <td>2011</td>\n",
              "      <td>...</td>\n",
              "      <td></td>\n",
              "      <td>52.0</td>\n",
              "      <td>35</td>\n",
              "      <td>0</td>\n",
              "      <td>0</td>\n",
              "      <td>0</td>\n",
              "      <td>0</td>\n",
              "      <td>0</td>\n",
              "      <td>0</td>\n",
              "      <td>0</td>\n",
              "    </tr>\n",
              "    <tr>\n",
              "      <th>3</th>\n",
              "      <td>Xumu+NIjS6QYVxDS4/t3SawvJ7viT9hPKXmf0RtLNx8=</td>\n",
              "      <td>2A87tzfnJTSWqD7gIZHisolhe4DMdzkbd6LzO1KHjNs=</td>\n",
              "      <td>my library</td>\n",
              "      <td>Local playlist more</td>\n",
              "      <td>local-playlist</td>\n",
              "      <td>13</td>\n",
              "      <td>24</td>\n",
              "      <td>1</td>\n",
              "      <td>9</td>\n",
              "      <td>2011</td>\n",
              "      <td>...</td>\n",
              "      <td></td>\n",
              "      <td>-1.0</td>\n",
              "      <td>5</td>\n",
              "      <td>0</td>\n",
              "      <td>0</td>\n",
              "      <td>0</td>\n",
              "      <td>0</td>\n",
              "      <td>0</td>\n",
              "      <td>0</td>\n",
              "      <td>0</td>\n",
              "    </tr>\n",
              "    <tr>\n",
              "      <th>4</th>\n",
              "      <td>FGtllVqz18RPiwJj/edr2gV78zirAiY/9SmYvia+kCg=</td>\n",
              "      <td>3qm6XTZ6MOCU11x8FIVbAGH5l5uMkT3/ZalWG1oo2Gc=</td>\n",
              "      <td>explore</td>\n",
              "      <td>Explore</td>\n",
              "      <td>online-playlist</td>\n",
              "      <td>1</td>\n",
              "      <td>30</td>\n",
              "      <td>2</td>\n",
              "      <td>7</td>\n",
              "      <td>2012</td>\n",
              "      <td>...</td>\n",
              "      <td></td>\n",
              "      <td>52.0</td>\n",
              "      <td>4</td>\n",
              "      <td>0</td>\n",
              "      <td>0</td>\n",
              "      <td>0</td>\n",
              "      <td>0</td>\n",
              "      <td>0</td>\n",
              "      <td>0</td>\n",
              "      <td>0</td>\n",
              "    </tr>\n",
              "  </tbody>\n",
              "</table>\n",
              "<p>5 rows × 28 columns</p>\n",
              "</div>\n",
              "    <div class=\"colab-df-buttons\">\n",
              "\n",
              "  <div class=\"colab-df-container\">\n",
              "    <button class=\"colab-df-convert\" onclick=\"convertToInteractive('df-4071ef75-9806-421d-b5fc-04182c85873e')\"\n",
              "            title=\"Convert this dataframe to an interactive table.\"\n",
              "            style=\"display:none;\">\n",
              "\n",
              "  <svg xmlns=\"http://www.w3.org/2000/svg\" height=\"24px\" viewBox=\"0 -960 960 960\">\n",
              "    <path d=\"M120-120v-720h720v720H120Zm60-500h600v-160H180v160Zm220 220h160v-160H400v160Zm0 220h160v-160H400v160ZM180-400h160v-160H180v160Zm440 0h160v-160H620v160ZM180-180h160v-160H180v160Zm440 0h160v-160H620v160Z\"/>\n",
              "  </svg>\n",
              "    </button>\n",
              "\n",
              "  <style>\n",
              "    .colab-df-container {\n",
              "      display:flex;\n",
              "      gap: 12px;\n",
              "    }\n",
              "\n",
              "    .colab-df-convert {\n",
              "      background-color: #E8F0FE;\n",
              "      border: none;\n",
              "      border-radius: 50%;\n",
              "      cursor: pointer;\n",
              "      display: none;\n",
              "      fill: #1967D2;\n",
              "      height: 32px;\n",
              "      padding: 0 0 0 0;\n",
              "      width: 32px;\n",
              "    }\n",
              "\n",
              "    .colab-df-convert:hover {\n",
              "      background-color: #E2EBFA;\n",
              "      box-shadow: 0px 1px 2px rgba(60, 64, 67, 0.3), 0px 1px 3px 1px rgba(60, 64, 67, 0.15);\n",
              "      fill: #174EA6;\n",
              "    }\n",
              "\n",
              "    .colab-df-buttons div {\n",
              "      margin-bottom: 4px;\n",
              "    }\n",
              "\n",
              "    [theme=dark] .colab-df-convert {\n",
              "      background-color: #3B4455;\n",
              "      fill: #D2E3FC;\n",
              "    }\n",
              "\n",
              "    [theme=dark] .colab-df-convert:hover {\n",
              "      background-color: #434B5C;\n",
              "      box-shadow: 0px 1px 3px 1px rgba(0, 0, 0, 0.15);\n",
              "      filter: drop-shadow(0px 1px 2px rgba(0, 0, 0, 0.3));\n",
              "      fill: #FFFFFF;\n",
              "    }\n",
              "  </style>\n",
              "\n",
              "    <script>\n",
              "      const buttonEl =\n",
              "        document.querySelector('#df-4071ef75-9806-421d-b5fc-04182c85873e button.colab-df-convert');\n",
              "      buttonEl.style.display =\n",
              "        google.colab.kernel.accessAllowed ? 'block' : 'none';\n",
              "\n",
              "      async function convertToInteractive(key) {\n",
              "        const element = document.querySelector('#df-4071ef75-9806-421d-b5fc-04182c85873e');\n",
              "        const dataTable =\n",
              "          await google.colab.kernel.invokeFunction('convertToInteractive',\n",
              "                                                    [key], {});\n",
              "        if (!dataTable) return;\n",
              "\n",
              "        const docLinkHtml = 'Like what you see? Visit the ' +\n",
              "          '<a target=\"_blank\" href=https://colab.research.google.com/notebooks/data_table.ipynb>data table notebook</a>'\n",
              "          + ' to learn more about interactive tables.';\n",
              "        element.innerHTML = '';\n",
              "        dataTable['output_type'] = 'display_data';\n",
              "        await google.colab.output.renderOutput(dataTable, element);\n",
              "        const docLink = document.createElement('div');\n",
              "        docLink.innerHTML = docLinkHtml;\n",
              "        element.appendChild(docLink);\n",
              "      }\n",
              "    </script>\n",
              "  </div>\n",
              "\n",
              "\n",
              "<div id=\"df-294dc719-ff52-47ac-acc8-fc405f336981\">\n",
              "  <button class=\"colab-df-quickchart\" onclick=\"quickchart('df-294dc719-ff52-47ac-acc8-fc405f336981')\"\n",
              "            title=\"Suggest charts\"\n",
              "            style=\"display:none;\">\n",
              "\n",
              "<svg xmlns=\"http://www.w3.org/2000/svg\" height=\"24px\"viewBox=\"0 0 24 24\"\n",
              "     width=\"24px\">\n",
              "    <g>\n",
              "        <path d=\"M19 3H5c-1.1 0-2 .9-2 2v14c0 1.1.9 2 2 2h14c1.1 0 2-.9 2-2V5c0-1.1-.9-2-2-2zM9 17H7v-7h2v7zm4 0h-2V7h2v10zm4 0h-2v-4h2v4z\"/>\n",
              "    </g>\n",
              "</svg>\n",
              "  </button>\n",
              "\n",
              "<style>\n",
              "  .colab-df-quickchart {\n",
              "      --bg-color: #E8F0FE;\n",
              "      --fill-color: #1967D2;\n",
              "      --hover-bg-color: #E2EBFA;\n",
              "      --hover-fill-color: #174EA6;\n",
              "      --disabled-fill-color: #AAA;\n",
              "      --disabled-bg-color: #DDD;\n",
              "  }\n",
              "\n",
              "  [theme=dark] .colab-df-quickchart {\n",
              "      --bg-color: #3B4455;\n",
              "      --fill-color: #D2E3FC;\n",
              "      --hover-bg-color: #434B5C;\n",
              "      --hover-fill-color: #FFFFFF;\n",
              "      --disabled-bg-color: #3B4455;\n",
              "      --disabled-fill-color: #666;\n",
              "  }\n",
              "\n",
              "  .colab-df-quickchart {\n",
              "    background-color: var(--bg-color);\n",
              "    border: none;\n",
              "    border-radius: 50%;\n",
              "    cursor: pointer;\n",
              "    display: none;\n",
              "    fill: var(--fill-color);\n",
              "    height: 32px;\n",
              "    padding: 0;\n",
              "    width: 32px;\n",
              "  }\n",
              "\n",
              "  .colab-df-quickchart:hover {\n",
              "    background-color: var(--hover-bg-color);\n",
              "    box-shadow: 0 1px 2px rgba(60, 64, 67, 0.3), 0 1px 3px 1px rgba(60, 64, 67, 0.15);\n",
              "    fill: var(--button-hover-fill-color);\n",
              "  }\n",
              "\n",
              "  .colab-df-quickchart-complete:disabled,\n",
              "  .colab-df-quickchart-complete:disabled:hover {\n",
              "    background-color: var(--disabled-bg-color);\n",
              "    fill: var(--disabled-fill-color);\n",
              "    box-shadow: none;\n",
              "  }\n",
              "\n",
              "  .colab-df-spinner {\n",
              "    border: 2px solid var(--fill-color);\n",
              "    border-color: transparent;\n",
              "    border-bottom-color: var(--fill-color);\n",
              "    animation:\n",
              "      spin 1s steps(1) infinite;\n",
              "  }\n",
              "\n",
              "  @keyframes spin {\n",
              "    0% {\n",
              "      border-color: transparent;\n",
              "      border-bottom-color: var(--fill-color);\n",
              "      border-left-color: var(--fill-color);\n",
              "    }\n",
              "    20% {\n",
              "      border-color: transparent;\n",
              "      border-left-color: var(--fill-color);\n",
              "      border-top-color: var(--fill-color);\n",
              "    }\n",
              "    30% {\n",
              "      border-color: transparent;\n",
              "      border-left-color: var(--fill-color);\n",
              "      border-top-color: var(--fill-color);\n",
              "      border-right-color: var(--fill-color);\n",
              "    }\n",
              "    40% {\n",
              "      border-color: transparent;\n",
              "      border-right-color: var(--fill-color);\n",
              "      border-top-color: var(--fill-color);\n",
              "    }\n",
              "    60% {\n",
              "      border-color: transparent;\n",
              "      border-right-color: var(--fill-color);\n",
              "    }\n",
              "    80% {\n",
              "      border-color: transparent;\n",
              "      border-right-color: var(--fill-color);\n",
              "      border-bottom-color: var(--fill-color);\n",
              "    }\n",
              "    90% {\n",
              "      border-color: transparent;\n",
              "      border-bottom-color: var(--fill-color);\n",
              "    }\n",
              "  }\n",
              "</style>\n",
              "\n",
              "  <script>\n",
              "    async function quickchart(key) {\n",
              "      const quickchartButtonEl =\n",
              "        document.querySelector('#' + key + ' button');\n",
              "      quickchartButtonEl.disabled = true;  // To prevent multiple clicks.\n",
              "      quickchartButtonEl.classList.add('colab-df-spinner');\n",
              "      try {\n",
              "        const charts = await google.colab.kernel.invokeFunction(\n",
              "            'suggestCharts', [key], {});\n",
              "      } catch (error) {\n",
              "        console.error('Error during call to suggestCharts:', error);\n",
              "      }\n",
              "      quickchartButtonEl.classList.remove('colab-df-spinner');\n",
              "      quickchartButtonEl.classList.add('colab-df-quickchart-complete');\n",
              "    }\n",
              "    (() => {\n",
              "      let quickchartButtonEl =\n",
              "        document.querySelector('#df-294dc719-ff52-47ac-acc8-fc405f336981 button');\n",
              "      quickchartButtonEl.style.display =\n",
              "        google.colab.kernel.accessAllowed ? 'block' : 'none';\n",
              "    })();\n",
              "  </script>\n",
              "</div>\n",
              "    </div>\n",
              "  </div>\n"
            ],
            "application/vnd.google.colaboratory.intrinsic+json": {
              "type": "dataframe",
              "variable_name": "all_data"
            }
          },
          "metadata": {},
          "execution_count": 63
        }
      ],
      "source": [
        "all_data.head()"
      ]
    },
    {
      "cell_type": "code",
      "execution_count": 64,
      "id": "c24430f1",
      "metadata": {
        "execution": {
          "iopub.execute_input": "2023-12-13T19:21:06.907484Z",
          "iopub.status.busy": "2023-12-13T19:21:06.906425Z",
          "iopub.status.idle": "2023-12-13T19:21:06.993425Z",
          "shell.execute_reply": "2023-12-13T19:21:06.992227Z"
        },
        "papermill": {
          "duration": 0.126473,
          "end_time": "2023-12-13T19:21:06.996136",
          "exception": false,
          "start_time": "2023-12-13T19:21:06.869663",
          "status": "completed"
        },
        "tags": [],
        "colab": {
          "base_uri": "https://localhost:8080/"
        },
        "id": "c24430f1",
        "outputId": "5c977271-28e9-4995-e9ea-fc47b26ce3b8"
      },
      "outputs": [
        {
          "output_type": "execute_result",
          "data": {
            "text/plain": [
              "composer    86203\n",
              "dtype: int64"
            ]
          },
          "metadata": {},
          "execution_count": 64
        }
      ],
      "source": [
        "all_data[['composer']].nunique()"
      ]
    },
    {
      "cell_type": "code",
      "execution_count": 65,
      "id": "98932c13",
      "metadata": {
        "execution": {
          "iopub.execute_input": "2023-12-13T19:21:07.070231Z",
          "iopub.status.busy": "2023-12-13T19:21:07.068926Z",
          "iopub.status.idle": "2023-12-13T19:21:12.828485Z",
          "shell.execute_reply": "2023-12-13T19:21:12.827319Z"
        },
        "papermill": {
          "duration": 5.799481,
          "end_time": "2023-12-13T19:21:12.831778",
          "exception": false,
          "start_time": "2023-12-13T19:21:07.032297",
          "status": "completed"
        },
        "tags": [],
        "id": "98932c13"
      },
      "outputs": [],
      "source": [
        "categorical_col = ['city','gender','registered_via','language','artist_name','composer','lyricist']\n",
        "for col in all_data.columns:\n",
        "    if all_data[col].dtype in [bool ,object, 'category'] and len(all_data[col].unique()) <= 50:\n",
        "        categorical_col.append(col)"
      ]
    },
    {
      "cell_type": "code",
      "execution_count": 66,
      "id": "d6553f6c",
      "metadata": {
        "execution": {
          "iopub.execute_input": "2023-12-13T19:21:12.912615Z",
          "iopub.status.busy": "2023-12-13T19:21:12.912057Z",
          "iopub.status.idle": "2023-12-13T19:21:12.920253Z",
          "shell.execute_reply": "2023-12-13T19:21:12.919053Z"
        },
        "papermill": {
          "duration": 0.048487,
          "end_time": "2023-12-13T19:21:12.922851",
          "exception": false,
          "start_time": "2023-12-13T19:21:12.874364",
          "status": "completed"
        },
        "tags": [],
        "colab": {
          "base_uri": "https://localhost:8080/"
        },
        "id": "d6553f6c",
        "outputId": "01a6e4a8-1f68-4813-997d-6e803ea15eb9"
      },
      "outputs": [
        {
          "output_type": "execute_result",
          "data": {
            "text/plain": [
              "['city',\n",
              " 'gender',\n",
              " 'registered_via',\n",
              " 'language',\n",
              " 'artist_name',\n",
              " 'composer',\n",
              " 'lyricist',\n",
              " 'source_system_tab',\n",
              " 'source_screen_name',\n",
              " 'source_type']"
            ]
          },
          "metadata": {},
          "execution_count": 66
        }
      ],
      "source": [
        "categorical_col"
      ]
    },
    {
      "cell_type": "code",
      "execution_count": 67,
      "id": "4e6aaaba",
      "metadata": {
        "execution": {
          "iopub.execute_input": "2023-12-13T19:21:13.004764Z",
          "iopub.status.busy": "2023-12-13T19:21:13.003910Z",
          "iopub.status.idle": "2023-12-13T19:21:14.657184Z",
          "shell.execute_reply": "2023-12-13T19:21:14.655899Z"
        },
        "papermill": {
          "duration": 1.696172,
          "end_time": "2023-12-13T19:21:14.660209",
          "exception": false,
          "start_time": "2023-12-13T19:21:12.964037",
          "status": "completed"
        },
        "tags": [],
        "id": "4e6aaaba"
      },
      "outputs": [],
      "source": [
        "for col in categorical_col:\n",
        "    # Ensure the column is not of float16 type\n",
        "    if all_data[col].dtype == 'float16':\n",
        "        all_data[col] = all_data[col].astype('float32')  # or 'float64'\n",
        "\n",
        "    all_data[col] = all_data[col].astype('category').cat.codes\n"
      ]
    },
    {
      "cell_type": "code",
      "execution_count": 68,
      "id": "a6735d88",
      "metadata": {
        "execution": {
          "iopub.execute_input": "2023-12-13T19:21:14.732990Z",
          "iopub.status.busy": "2023-12-13T19:21:14.732594Z",
          "iopub.status.idle": "2023-12-13T19:21:14.756457Z",
          "shell.execute_reply": "2023-12-13T19:21:14.754983Z"
        },
        "papermill": {
          "duration": 0.063576,
          "end_time": "2023-12-13T19:21:14.759047",
          "exception": false,
          "start_time": "2023-12-13T19:21:14.695471",
          "status": "completed"
        },
        "tags": [],
        "colab": {
          "base_uri": "https://localhost:8080/",
          "height": 255
        },
        "id": "a6735d88",
        "outputId": "644bd99f-cc29-4dfa-e597-5c04cfbb6a9c"
      },
      "outputs": [
        {
          "output_type": "execute_result",
          "data": {
            "text/plain": [
              "                                           msno  \\\n",
              "0  FGtllVqz18RPiwJj/edr2gV78zirAiY/9SmYvia+kCg=   \n",
              "1  Xumu+NIjS6QYVxDS4/t3SawvJ7viT9hPKXmf0RtLNx8=   \n",
              "2  Xumu+NIjS6QYVxDS4/t3SawvJ7viT9hPKXmf0RtLNx8=   \n",
              "3  Xumu+NIjS6QYVxDS4/t3SawvJ7viT9hPKXmf0RtLNx8=   \n",
              "4  FGtllVqz18RPiwJj/edr2gV78zirAiY/9SmYvia+kCg=   \n",
              "\n",
              "                                        song_id  source_system_tab  \\\n",
              "0  BBzumQNXUHKdEBOB7mAJuzok+IJA1c2Ryg/yzTF6tik=                  2   \n",
              "1  bhp/MpSNoqoxOIB+/l8WPqu6jldth4DIpCm3ayXnJqM=                  4   \n",
              "2  JNWfrrC7zNN7BdMpsISKa4Mw+xVJYNnxXh3/Epw7QgY=                  4   \n",
              "3  2A87tzfnJTSWqD7gIZHisolhe4DMdzkbd6LzO1KHjNs=                  4   \n",
              "4  3qm6XTZ6MOCU11x8FIVbAGH5l5uMkT3/ZalWG1oo2Gc=                  2   \n",
              "\n",
              "   source_screen_name  source_type  city  bd  gender  registered_via  \\\n",
              "0                   8            7     0  30       1               2   \n",
              "1                   9            5    11  24       0               3   \n",
              "2                   9            5    11  24       0               3   \n",
              "3                   9            5    11  24       0               3   \n",
              "4                   8            7     0  30       1               2   \n",
              "\n",
              "   reg_year  ...  lyricist  language    0  1  2  3  4  5  6  7  \n",
              "0      2012  ...         0         8  106  0  0  0  0  0  0  0  \n",
              "1      2011  ...         0         8   35  0  0  0  0  0  0  0  \n",
              "2      2011  ...         0         8   35  0  0  0  0  0  0  0  \n",
              "3      2011  ...         0         0    5  0  0  0  0  0  0  0  \n",
              "4      2012  ...         0         8    4  0  0  0  0  0  0  0  \n",
              "\n",
              "[5 rows x 28 columns]"
            ],
            "text/html": [
              "\n",
              "  <div id=\"df-f5346f32-4e94-46a7-b509-3d4a8f18d6b9\" class=\"colab-df-container\">\n",
              "    <div>\n",
              "<style scoped>\n",
              "    .dataframe tbody tr th:only-of-type {\n",
              "        vertical-align: middle;\n",
              "    }\n",
              "\n",
              "    .dataframe tbody tr th {\n",
              "        vertical-align: top;\n",
              "    }\n",
              "\n",
              "    .dataframe thead th {\n",
              "        text-align: right;\n",
              "    }\n",
              "</style>\n",
              "<table border=\"1\" class=\"dataframe\">\n",
              "  <thead>\n",
              "    <tr style=\"text-align: right;\">\n",
              "      <th></th>\n",
              "      <th>msno</th>\n",
              "      <th>song_id</th>\n",
              "      <th>source_system_tab</th>\n",
              "      <th>source_screen_name</th>\n",
              "      <th>source_type</th>\n",
              "      <th>city</th>\n",
              "      <th>bd</th>\n",
              "      <th>gender</th>\n",
              "      <th>registered_via</th>\n",
              "      <th>reg_year</th>\n",
              "      <th>...</th>\n",
              "      <th>lyricist</th>\n",
              "      <th>language</th>\n",
              "      <th>0</th>\n",
              "      <th>1</th>\n",
              "      <th>2</th>\n",
              "      <th>3</th>\n",
              "      <th>4</th>\n",
              "      <th>5</th>\n",
              "      <th>6</th>\n",
              "      <th>7</th>\n",
              "    </tr>\n",
              "  </thead>\n",
              "  <tbody>\n",
              "    <tr>\n",
              "      <th>0</th>\n",
              "      <td>FGtllVqz18RPiwJj/edr2gV78zirAiY/9SmYvia+kCg=</td>\n",
              "      <td>BBzumQNXUHKdEBOB7mAJuzok+IJA1c2Ryg/yzTF6tik=</td>\n",
              "      <td>2</td>\n",
              "      <td>8</td>\n",
              "      <td>7</td>\n",
              "      <td>0</td>\n",
              "      <td>30</td>\n",
              "      <td>1</td>\n",
              "      <td>2</td>\n",
              "      <td>2012</td>\n",
              "      <td>...</td>\n",
              "      <td>0</td>\n",
              "      <td>8</td>\n",
              "      <td>106</td>\n",
              "      <td>0</td>\n",
              "      <td>0</td>\n",
              "      <td>0</td>\n",
              "      <td>0</td>\n",
              "      <td>0</td>\n",
              "      <td>0</td>\n",
              "      <td>0</td>\n",
              "    </tr>\n",
              "    <tr>\n",
              "      <th>1</th>\n",
              "      <td>Xumu+NIjS6QYVxDS4/t3SawvJ7viT9hPKXmf0RtLNx8=</td>\n",
              "      <td>bhp/MpSNoqoxOIB+/l8WPqu6jldth4DIpCm3ayXnJqM=</td>\n",
              "      <td>4</td>\n",
              "      <td>9</td>\n",
              "      <td>5</td>\n",
              "      <td>11</td>\n",
              "      <td>24</td>\n",
              "      <td>0</td>\n",
              "      <td>3</td>\n",
              "      <td>2011</td>\n",
              "      <td>...</td>\n",
              "      <td>0</td>\n",
              "      <td>8</td>\n",
              "      <td>35</td>\n",
              "      <td>0</td>\n",
              "      <td>0</td>\n",
              "      <td>0</td>\n",
              "      <td>0</td>\n",
              "      <td>0</td>\n",
              "      <td>0</td>\n",
              "      <td>0</td>\n",
              "    </tr>\n",
              "    <tr>\n",
              "      <th>2</th>\n",
              "      <td>Xumu+NIjS6QYVxDS4/t3SawvJ7viT9hPKXmf0RtLNx8=</td>\n",
              "      <td>JNWfrrC7zNN7BdMpsISKa4Mw+xVJYNnxXh3/Epw7QgY=</td>\n",
              "      <td>4</td>\n",
              "      <td>9</td>\n",
              "      <td>5</td>\n",
              "      <td>11</td>\n",
              "      <td>24</td>\n",
              "      <td>0</td>\n",
              "      <td>3</td>\n",
              "      <td>2011</td>\n",
              "      <td>...</td>\n",
              "      <td>0</td>\n",
              "      <td>8</td>\n",
              "      <td>35</td>\n",
              "      <td>0</td>\n",
              "      <td>0</td>\n",
              "      <td>0</td>\n",
              "      <td>0</td>\n",
              "      <td>0</td>\n",
              "      <td>0</td>\n",
              "      <td>0</td>\n",
              "    </tr>\n",
              "    <tr>\n",
              "      <th>3</th>\n",
              "      <td>Xumu+NIjS6QYVxDS4/t3SawvJ7viT9hPKXmf0RtLNx8=</td>\n",
              "      <td>2A87tzfnJTSWqD7gIZHisolhe4DMdzkbd6LzO1KHjNs=</td>\n",
              "      <td>4</td>\n",
              "      <td>9</td>\n",
              "      <td>5</td>\n",
              "      <td>11</td>\n",
              "      <td>24</td>\n",
              "      <td>0</td>\n",
              "      <td>3</td>\n",
              "      <td>2011</td>\n",
              "      <td>...</td>\n",
              "      <td>0</td>\n",
              "      <td>0</td>\n",
              "      <td>5</td>\n",
              "      <td>0</td>\n",
              "      <td>0</td>\n",
              "      <td>0</td>\n",
              "      <td>0</td>\n",
              "      <td>0</td>\n",
              "      <td>0</td>\n",
              "      <td>0</td>\n",
              "    </tr>\n",
              "    <tr>\n",
              "      <th>4</th>\n",
              "      <td>FGtllVqz18RPiwJj/edr2gV78zirAiY/9SmYvia+kCg=</td>\n",
              "      <td>3qm6XTZ6MOCU11x8FIVbAGH5l5uMkT3/ZalWG1oo2Gc=</td>\n",
              "      <td>2</td>\n",
              "      <td>8</td>\n",
              "      <td>7</td>\n",
              "      <td>0</td>\n",
              "      <td>30</td>\n",
              "      <td>1</td>\n",
              "      <td>2</td>\n",
              "      <td>2012</td>\n",
              "      <td>...</td>\n",
              "      <td>0</td>\n",
              "      <td>8</td>\n",
              "      <td>4</td>\n",
              "      <td>0</td>\n",
              "      <td>0</td>\n",
              "      <td>0</td>\n",
              "      <td>0</td>\n",
              "      <td>0</td>\n",
              "      <td>0</td>\n",
              "      <td>0</td>\n",
              "    </tr>\n",
              "  </tbody>\n",
              "</table>\n",
              "<p>5 rows × 28 columns</p>\n",
              "</div>\n",
              "    <div class=\"colab-df-buttons\">\n",
              "\n",
              "  <div class=\"colab-df-container\">\n",
              "    <button class=\"colab-df-convert\" onclick=\"convertToInteractive('df-f5346f32-4e94-46a7-b509-3d4a8f18d6b9')\"\n",
              "            title=\"Convert this dataframe to an interactive table.\"\n",
              "            style=\"display:none;\">\n",
              "\n",
              "  <svg xmlns=\"http://www.w3.org/2000/svg\" height=\"24px\" viewBox=\"0 -960 960 960\">\n",
              "    <path d=\"M120-120v-720h720v720H120Zm60-500h600v-160H180v160Zm220 220h160v-160H400v160Zm0 220h160v-160H400v160ZM180-400h160v-160H180v160Zm440 0h160v-160H620v160ZM180-180h160v-160H180v160Zm440 0h160v-160H620v160Z\"/>\n",
              "  </svg>\n",
              "    </button>\n",
              "\n",
              "  <style>\n",
              "    .colab-df-container {\n",
              "      display:flex;\n",
              "      gap: 12px;\n",
              "    }\n",
              "\n",
              "    .colab-df-convert {\n",
              "      background-color: #E8F0FE;\n",
              "      border: none;\n",
              "      border-radius: 50%;\n",
              "      cursor: pointer;\n",
              "      display: none;\n",
              "      fill: #1967D2;\n",
              "      height: 32px;\n",
              "      padding: 0 0 0 0;\n",
              "      width: 32px;\n",
              "    }\n",
              "\n",
              "    .colab-df-convert:hover {\n",
              "      background-color: #E2EBFA;\n",
              "      box-shadow: 0px 1px 2px rgba(60, 64, 67, 0.3), 0px 1px 3px 1px rgba(60, 64, 67, 0.15);\n",
              "      fill: #174EA6;\n",
              "    }\n",
              "\n",
              "    .colab-df-buttons div {\n",
              "      margin-bottom: 4px;\n",
              "    }\n",
              "\n",
              "    [theme=dark] .colab-df-convert {\n",
              "      background-color: #3B4455;\n",
              "      fill: #D2E3FC;\n",
              "    }\n",
              "\n",
              "    [theme=dark] .colab-df-convert:hover {\n",
              "      background-color: #434B5C;\n",
              "      box-shadow: 0px 1px 3px 1px rgba(0, 0, 0, 0.15);\n",
              "      filter: drop-shadow(0px 1px 2px rgba(0, 0, 0, 0.3));\n",
              "      fill: #FFFFFF;\n",
              "    }\n",
              "  </style>\n",
              "\n",
              "    <script>\n",
              "      const buttonEl =\n",
              "        document.querySelector('#df-f5346f32-4e94-46a7-b509-3d4a8f18d6b9 button.colab-df-convert');\n",
              "      buttonEl.style.display =\n",
              "        google.colab.kernel.accessAllowed ? 'block' : 'none';\n",
              "\n",
              "      async function convertToInteractive(key) {\n",
              "        const element = document.querySelector('#df-f5346f32-4e94-46a7-b509-3d4a8f18d6b9');\n",
              "        const dataTable =\n",
              "          await google.colab.kernel.invokeFunction('convertToInteractive',\n",
              "                                                    [key], {});\n",
              "        if (!dataTable) return;\n",
              "\n",
              "        const docLinkHtml = 'Like what you see? Visit the ' +\n",
              "          '<a target=\"_blank\" href=https://colab.research.google.com/notebooks/data_table.ipynb>data table notebook</a>'\n",
              "          + ' to learn more about interactive tables.';\n",
              "        element.innerHTML = '';\n",
              "        dataTable['output_type'] = 'display_data';\n",
              "        await google.colab.output.renderOutput(dataTable, element);\n",
              "        const docLink = document.createElement('div');\n",
              "        docLink.innerHTML = docLinkHtml;\n",
              "        element.appendChild(docLink);\n",
              "      }\n",
              "    </script>\n",
              "  </div>\n",
              "\n",
              "\n",
              "<div id=\"df-c95117c9-dc59-4f5f-a0f8-0764102db17c\">\n",
              "  <button class=\"colab-df-quickchart\" onclick=\"quickchart('df-c95117c9-dc59-4f5f-a0f8-0764102db17c')\"\n",
              "            title=\"Suggest charts\"\n",
              "            style=\"display:none;\">\n",
              "\n",
              "<svg xmlns=\"http://www.w3.org/2000/svg\" height=\"24px\"viewBox=\"0 0 24 24\"\n",
              "     width=\"24px\">\n",
              "    <g>\n",
              "        <path d=\"M19 3H5c-1.1 0-2 .9-2 2v14c0 1.1.9 2 2 2h14c1.1 0 2-.9 2-2V5c0-1.1-.9-2-2-2zM9 17H7v-7h2v7zm4 0h-2V7h2v10zm4 0h-2v-4h2v4z\"/>\n",
              "    </g>\n",
              "</svg>\n",
              "  </button>\n",
              "\n",
              "<style>\n",
              "  .colab-df-quickchart {\n",
              "      --bg-color: #E8F0FE;\n",
              "      --fill-color: #1967D2;\n",
              "      --hover-bg-color: #E2EBFA;\n",
              "      --hover-fill-color: #174EA6;\n",
              "      --disabled-fill-color: #AAA;\n",
              "      --disabled-bg-color: #DDD;\n",
              "  }\n",
              "\n",
              "  [theme=dark] .colab-df-quickchart {\n",
              "      --bg-color: #3B4455;\n",
              "      --fill-color: #D2E3FC;\n",
              "      --hover-bg-color: #434B5C;\n",
              "      --hover-fill-color: #FFFFFF;\n",
              "      --disabled-bg-color: #3B4455;\n",
              "      --disabled-fill-color: #666;\n",
              "  }\n",
              "\n",
              "  .colab-df-quickchart {\n",
              "    background-color: var(--bg-color);\n",
              "    border: none;\n",
              "    border-radius: 50%;\n",
              "    cursor: pointer;\n",
              "    display: none;\n",
              "    fill: var(--fill-color);\n",
              "    height: 32px;\n",
              "    padding: 0;\n",
              "    width: 32px;\n",
              "  }\n",
              "\n",
              "  .colab-df-quickchart:hover {\n",
              "    background-color: var(--hover-bg-color);\n",
              "    box-shadow: 0 1px 2px rgba(60, 64, 67, 0.3), 0 1px 3px 1px rgba(60, 64, 67, 0.15);\n",
              "    fill: var(--button-hover-fill-color);\n",
              "  }\n",
              "\n",
              "  .colab-df-quickchart-complete:disabled,\n",
              "  .colab-df-quickchart-complete:disabled:hover {\n",
              "    background-color: var(--disabled-bg-color);\n",
              "    fill: var(--disabled-fill-color);\n",
              "    box-shadow: none;\n",
              "  }\n",
              "\n",
              "  .colab-df-spinner {\n",
              "    border: 2px solid var(--fill-color);\n",
              "    border-color: transparent;\n",
              "    border-bottom-color: var(--fill-color);\n",
              "    animation:\n",
              "      spin 1s steps(1) infinite;\n",
              "  }\n",
              "\n",
              "  @keyframes spin {\n",
              "    0% {\n",
              "      border-color: transparent;\n",
              "      border-bottom-color: var(--fill-color);\n",
              "      border-left-color: var(--fill-color);\n",
              "    }\n",
              "    20% {\n",
              "      border-color: transparent;\n",
              "      border-left-color: var(--fill-color);\n",
              "      border-top-color: var(--fill-color);\n",
              "    }\n",
              "    30% {\n",
              "      border-color: transparent;\n",
              "      border-left-color: var(--fill-color);\n",
              "      border-top-color: var(--fill-color);\n",
              "      border-right-color: var(--fill-color);\n",
              "    }\n",
              "    40% {\n",
              "      border-color: transparent;\n",
              "      border-right-color: var(--fill-color);\n",
              "      border-top-color: var(--fill-color);\n",
              "    }\n",
              "    60% {\n",
              "      border-color: transparent;\n",
              "      border-right-color: var(--fill-color);\n",
              "    }\n",
              "    80% {\n",
              "      border-color: transparent;\n",
              "      border-right-color: var(--fill-color);\n",
              "      border-bottom-color: var(--fill-color);\n",
              "    }\n",
              "    90% {\n",
              "      border-color: transparent;\n",
              "      border-bottom-color: var(--fill-color);\n",
              "    }\n",
              "  }\n",
              "</style>\n",
              "\n",
              "  <script>\n",
              "    async function quickchart(key) {\n",
              "      const quickchartButtonEl =\n",
              "        document.querySelector('#' + key + ' button');\n",
              "      quickchartButtonEl.disabled = true;  // To prevent multiple clicks.\n",
              "      quickchartButtonEl.classList.add('colab-df-spinner');\n",
              "      try {\n",
              "        const charts = await google.colab.kernel.invokeFunction(\n",
              "            'suggestCharts', [key], {});\n",
              "      } catch (error) {\n",
              "        console.error('Error during call to suggestCharts:', error);\n",
              "      }\n",
              "      quickchartButtonEl.classList.remove('colab-df-spinner');\n",
              "      quickchartButtonEl.classList.add('colab-df-quickchart-complete');\n",
              "    }\n",
              "    (() => {\n",
              "      let quickchartButtonEl =\n",
              "        document.querySelector('#df-c95117c9-dc59-4f5f-a0f8-0764102db17c button');\n",
              "      quickchartButtonEl.style.display =\n",
              "        google.colab.kernel.accessAllowed ? 'block' : 'none';\n",
              "    })();\n",
              "  </script>\n",
              "</div>\n",
              "    </div>\n",
              "  </div>\n"
            ],
            "application/vnd.google.colaboratory.intrinsic+json": {
              "type": "dataframe",
              "variable_name": "all_data"
            }
          },
          "metadata": {},
          "execution_count": 68
        }
      ],
      "source": [
        "all_data.head()"
      ]
    },
    {
      "cell_type": "code",
      "execution_count": 69,
      "id": "c3d77086",
      "metadata": {
        "execution": {
          "iopub.execute_input": "2023-12-13T19:21:14.832958Z",
          "iopub.status.busy": "2023-12-13T19:21:14.832522Z",
          "iopub.status.idle": "2023-12-13T19:21:16.586622Z",
          "shell.execute_reply": "2023-12-13T19:21:16.585483Z"
        },
        "papermill": {
          "duration": 1.793968,
          "end_time": "2023-12-13T19:21:16.589126",
          "exception": false,
          "start_time": "2023-12-13T19:21:14.795158",
          "status": "completed"
        },
        "tags": [],
        "colab": {
          "base_uri": "https://localhost:8080/"
        },
        "id": "c3d77086",
        "outputId": "f98f9f6d-89a5-420d-b8e8-333e84592f06"
      },
      "outputs": [
        {
          "output_type": "execute_result",
          "data": {
            "text/plain": [
              "MXIMDXO0j3UpaT7FvOSGW6Y5zfhlh+xYjTqGoUdMzEE=    7894\n",
              "o+5RNlSWrzvrphgBNGIo1FLkGxBgyICns6qXj3nS7Pk=    7318\n",
              "FGtllVqz18RPiwJj/edr2gV78zirAiY/9SmYvia+kCg=    7075\n",
              "KGXNZ/H3VxvET/+rGxlrAe7Gpz2eKMXyuSg3xh8Ij1M=    6706\n",
              "cqjRBV/jWN2ujhc+z/4tz+Mj6xEfflAAt6qBXCqxKvw=    5446\n",
              "                                                ... \n",
              "U8+k0YmjY2aDIM7Wd9ejIF/XqZkoWbBlv+2booso86A=       1\n",
              "0Yby35OBCWJyG0HOTIx003npPQ8mMY51ZI+Q6JulBqI=       1\n",
              "YBw/FWdyTgpVStJFzPn0aVf3/dtQwxAiHmvAu3pxyoI=       1\n",
              "g0cf2zdSgmLeBAHJZJZc85VD4l6f6xKkNegrh8VEAms=       1\n",
              "q9mrx9lx8969hkkTf4h96PqKeeG0DTC5iMLuc/6VDSI=       1\n",
              "Name: msno, Length: 34403, dtype: int64"
            ]
          },
          "metadata": {},
          "execution_count": 69
        }
      ],
      "source": [
        "all_data['msno'].value_counts()"
      ]
    },
    {
      "cell_type": "code",
      "execution_count": 70,
      "id": "9dc86ddd",
      "metadata": {
        "execution": {
          "iopub.execute_input": "2023-12-13T19:21:16.662999Z",
          "iopub.status.busy": "2023-12-13T19:21:16.662567Z",
          "iopub.status.idle": "2023-12-13T19:21:16.670471Z",
          "shell.execute_reply": "2023-12-13T19:21:16.669262Z"
        },
        "papermill": {
          "duration": 0.047843,
          "end_time": "2023-12-13T19:21:16.672997",
          "exception": false,
          "start_time": "2023-12-13T19:21:16.625154",
          "status": "completed"
        },
        "tags": [],
        "colab": {
          "base_uri": "https://localhost:8080/"
        },
        "id": "9dc86ddd",
        "outputId": "22b8ba4d-39c2-4192-fa37-7de50522a486"
      },
      "outputs": [
        {
          "output_type": "stream",
          "name": "stdout",
          "text": [
            "in Index([<class 'str'>, <class 'str'>, <class 'str'>, <class 'str'>,\n",
            "       <class 'str'>, <class 'str'>, <class 'str'>, <class 'str'>,\n",
            "       <class 'str'>, <class 'str'>, <class 'str'>, <class 'str'>,\n",
            "       <class 'str'>, <class 'str'>, <class 'str'>, <class 'str'>,\n",
            "       <class 'str'>, <class 'str'>, <class 'str'>, <class 'str'>,\n",
            "       <class 'int'>, <class 'int'>, <class 'int'>, <class 'int'>,\n",
            "       <class 'int'>, <class 'int'>, <class 'int'>, <class 'int'>],\n",
            "      dtype='object')\n",
            "out Index([<class 'str'>, <class 'str'>, <class 'str'>, <class 'str'>,\n",
            "       <class 'str'>, <class 'str'>, <class 'str'>, <class 'str'>,\n",
            "       <class 'str'>, <class 'str'>, <class 'str'>, <class 'str'>,\n",
            "       <class 'str'>, <class 'str'>, <class 'str'>, <class 'str'>,\n",
            "       <class 'str'>, <class 'str'>, <class 'str'>, <class 'str'>,\n",
            "       <class 'str'>, <class 'str'>, <class 'str'>, <class 'str'>,\n",
            "       <class 'str'>, <class 'str'>, <class 'str'>, <class 'str'>],\n",
            "      dtype='object')\n"
          ]
        }
      ],
      "source": [
        "print('in',all_data.columns.map(type))\n",
        "all_data.columns = all_data.columns.astype(str)\n",
        "print('out',all_data.columns.map(type))"
      ]
    },
    {
      "cell_type": "code",
      "execution_count": 71,
      "id": "eb7bc1f0",
      "metadata": {
        "execution": {
          "iopub.execute_input": "2023-12-13T19:21:16.746661Z",
          "iopub.status.busy": "2023-12-13T19:21:16.746218Z",
          "iopub.status.idle": "2023-12-13T19:21:18.314579Z",
          "shell.execute_reply": "2023-12-13T19:21:18.313418Z"
        },
        "papermill": {
          "duration": 1.608584,
          "end_time": "2023-12-13T19:21:18.317425",
          "exception": false,
          "start_time": "2023-12-13T19:21:16.708841",
          "status": "completed"
        },
        "tags": [],
        "colab": {
          "base_uri": "https://localhost:8080/"
        },
        "id": "eb7bc1f0",
        "outputId": "76afa85c-08d3-49f2-f8a6-c5f77a01b528"
      },
      "outputs": [
        {
          "output_type": "execute_result",
          "data": {
            "text/plain": [
              "((7377418, 29), (2556790, 28))"
            ]
          },
          "metadata": {},
          "execution_count": 71
        }
      ],
      "source": [
        "train_data = all_data[:ntrain].copy()\n",
        "test_data = all_data[ntrain:]\n",
        "train_data['target'] = y_train\n",
        "\n",
        "train_data.shape , test_data.shape"
      ]
    },
    {
      "cell_type": "code",
      "execution_count": 72,
      "id": "a488d6c8",
      "metadata": {
        "execution": {
          "iopub.execute_input": "2023-12-13T19:21:18.391495Z",
          "iopub.status.busy": "2023-12-13T19:21:18.391058Z",
          "iopub.status.idle": "2023-12-13T19:21:18.400433Z",
          "shell.execute_reply": "2023-12-13T19:21:18.399340Z"
        },
        "papermill": {
          "duration": 0.049297,
          "end_time": "2023-12-13T19:21:18.402951",
          "exception": false,
          "start_time": "2023-12-13T19:21:18.353654",
          "status": "completed"
        },
        "tags": [],
        "colab": {
          "base_uri": "https://localhost:8080/"
        },
        "id": "a488d6c8",
        "outputId": "155d1057-3ca4-4d92-e343-d2af51a8cfdc"
      },
      "outputs": [
        {
          "output_type": "execute_result",
          "data": {
            "text/plain": [
              "0    1.0\n",
              "1    1.0\n",
              "2    1.0\n",
              "3    1.0\n",
              "4    1.0\n",
              "Name: target, dtype: float16"
            ]
          },
          "metadata": {},
          "execution_count": 72
        }
      ],
      "source": [
        "train_data['target'].head()"
      ]
    },
    {
      "cell_type": "code",
      "execution_count": 73,
      "id": "34300bc3",
      "metadata": {
        "execution": {
          "iopub.execute_input": "2023-12-13T19:21:18.477940Z",
          "iopub.status.busy": "2023-12-13T19:21:18.477493Z",
          "iopub.status.idle": "2023-12-13T19:21:18.655325Z",
          "shell.execute_reply": "2023-12-13T19:21:18.654091Z"
        },
        "papermill": {
          "duration": 0.21834,
          "end_time": "2023-12-13T19:21:18.657866",
          "exception": false,
          "start_time": "2023-12-13T19:21:18.439526",
          "status": "completed"
        },
        "tags": [],
        "colab": {
          "base_uri": "https://localhost:8080/"
        },
        "id": "34300bc3",
        "outputId": "89359eb4-6531-4577-d6c4-8b8307868c1f"
      },
      "outputs": [
        {
          "output_type": "stream",
          "name": "stdout",
          "text": [
            "float16\n"
          ]
        }
      ],
      "source": [
        "\n",
        "print(train_data['target'].dtype)\n",
        "\n",
        "\n",
        "train_data['target'] = train_data['target'].astype(int)\n",
        "\n",
        "\n",
        "train_data['target'] = train_data['target'].astype(\"category\").cat.codes\n"
      ]
    },
    {
      "cell_type": "code",
      "execution_count": 74,
      "id": "df294920",
      "metadata": {
        "execution": {
          "iopub.execute_input": "2023-12-13T19:21:18.733782Z",
          "iopub.status.busy": "2023-12-13T19:21:18.733364Z",
          "iopub.status.idle": "2023-12-13T19:21:18.741886Z",
          "shell.execute_reply": "2023-12-13T19:21:18.740687Z"
        },
        "papermill": {
          "duration": 0.050197,
          "end_time": "2023-12-13T19:21:18.744501",
          "exception": false,
          "start_time": "2023-12-13T19:21:18.694304",
          "status": "completed"
        },
        "tags": [],
        "colab": {
          "base_uri": "https://localhost:8080/"
        },
        "id": "df294920",
        "outputId": "9c51da0a-dd16-44b3-ccac-82eab330b4f3"
      },
      "outputs": [
        {
          "output_type": "execute_result",
          "data": {
            "text/plain": [
              "0    1\n",
              "1    1\n",
              "2    1\n",
              "3    1\n",
              "4    1\n",
              "Name: target, dtype: int8"
            ]
          },
          "metadata": {},
          "execution_count": 74
        }
      ],
      "source": [
        "train_data['target'].head()"
      ]
    },
    {
      "cell_type": "code",
      "execution_count": 75,
      "id": "b44d6b2c",
      "metadata": {
        "execution": {
          "iopub.execute_input": "2023-12-13T19:21:18.820875Z",
          "iopub.status.busy": "2023-12-13T19:21:18.820459Z",
          "iopub.status.idle": "2023-12-13T19:21:19.313135Z",
          "shell.execute_reply": "2023-12-13T19:21:19.311931Z"
        },
        "papermill": {
          "duration": 0.533917,
          "end_time": "2023-12-13T19:21:19.315793",
          "exception": false,
          "start_time": "2023-12-13T19:21:18.781876",
          "status": "completed"
        },
        "tags": [],
        "colab": {
          "base_uri": "https://localhost:8080/"
        },
        "id": "b44d6b2c",
        "outputId": "8db1bd1f-08bb-4314-cf6d-00577b17540e"
      },
      "outputs": [
        {
          "output_type": "execute_result",
          "data": {
            "text/plain": [
              "((7377418, 26), (7377418,))"
            ]
          },
          "metadata": {},
          "execution_count": 75
        }
      ],
      "source": [
        "X_train = train_data.drop(['target','msno','song_id'], axis = 1)\n",
        "test_data = test_data.drop(['msno','song_id'],axis = 1)\n",
        "y_train = train_data.target\n",
        "X_train.shape , y_train.shape"
      ]
    },
    {
      "cell_type": "code",
      "source": [
        "from sklearn.model_selection import train_test_split\n",
        "X_train, X_val, y_train, y_val = train_test_split(X_train, y_train, test_size=0.2)"
      ],
      "metadata": {
        "id": "FYqnfuWJS8aI"
      },
      "id": "FYqnfuWJS8aI",
      "execution_count": 76,
      "outputs": []
    },
    {
      "cell_type": "code",
      "execution_count": 94,
      "id": "526834e6",
      "metadata": {
        "execution": {
          "iopub.execute_input": "2023-12-13T19:21:19.393062Z",
          "iopub.status.busy": "2023-12-13T19:21:19.392665Z",
          "iopub.status.idle": "2023-12-13T19:21:23.484270Z",
          "shell.execute_reply": "2023-12-13T19:21:23.482994Z"
        },
        "papermill": {
          "duration": 4.134009,
          "end_time": "2023-12-13T19:21:23.487292",
          "exception": false,
          "start_time": "2023-12-13T19:21:19.353283",
          "status": "completed"
        },
        "tags": [],
        "id": "526834e6"
      },
      "outputs": [],
      "source": [
        "from sklearn.model_selection import train_test_split, GridSearchCV, KFold, StratifiedKFold, RepeatedStratifiedKFold\n",
        "from sklearn.preprocessing import MinMaxScaler, StandardScaler, RobustScaler, Normalizer, PowerTransformer\n",
        "scaler = StandardScaler().fit(X_train)\n",
        "X_train_scaled = scaler.transform(X_train)\n",
        "test_data_scaled = scaler.transform(test_data)"
      ]
    },
    {
      "cell_type": "code",
      "execution_count": 95,
      "id": "8368095f",
      "metadata": {
        "execution": {
          "iopub.execute_input": "2023-12-13T19:21:23.564609Z",
          "iopub.status.busy": "2023-12-13T19:21:23.564196Z",
          "iopub.status.idle": "2023-12-13T19:21:23.571702Z",
          "shell.execute_reply": "2023-12-13T19:21:23.570313Z"
        },
        "papermill": {
          "duration": 0.049861,
          "end_time": "2023-12-13T19:21:23.574403",
          "exception": false,
          "start_time": "2023-12-13T19:21:23.524542",
          "status": "completed"
        },
        "tags": [],
        "id": "8368095f"
      },
      "outputs": [],
      "source": [
        "X_train = X_train_scaled\n",
        "test_data = test_data_scaled"
      ]
    },
    {
      "cell_type": "code",
      "execution_count": 104,
      "id": "d4fa1d51",
      "metadata": {
        "execution": {
          "iopub.execute_input": "2023-12-13T19:21:23.650687Z",
          "iopub.status.busy": "2023-12-13T19:21:23.650279Z",
          "iopub.status.idle": "2023-12-13T19:36:08.184252Z",
          "shell.execute_reply": "2023-12-13T19:36:08.182917Z"
        },
        "papermill": {
          "duration": 884.575517,
          "end_time": "2023-12-13T19:36:08.186936",
          "exception": false,
          "start_time": "2023-12-13T19:21:23.611419",
          "status": "completed"
        },
        "tags": [],
        "colab": {
          "base_uri": "https://localhost:8080/"
        },
        "id": "d4fa1d51",
        "outputId": "59833951-7537-4c3a-a4bb-f3313ced1cad"
      },
      "outputs": [
        {
          "output_type": "stream",
          "name": "stderr",
          "text": [
            "/usr/local/lib/python3.10/dist-packages/lightgbm/engine.py:172: UserWarning: Found `num_rounds` in params. Will use it instead of argument\n",
            "  _log_warning(f\"Found `{alias}` in params. Will use it instead of argument\")\n"
          ]
        }
      ],
      "source": [
        "import lightgbm as lgb\n",
        "\n",
        "train_set = lgb.Dataset(X_train , y_train)\n",
        "val_set = lgb.Dataset(X_val, y_val)\n",
        "params = {\n",
        "        'objective': 'binary',\n",
        "        'metric': 'binary_logloss',\n",
        "        'boosting': 'gbdt',\n",
        "        'learning_rate': 0.3 ,\n",
        "        'verbose': 0,\n",
        "        'num_leaves': 216,\n",
        "        'bagging_fraction': 0.95,\n",
        "        'bagging_freq': 1,\n",
        "        'bagging_seed': 1,\n",
        "        'feature_fraction': 0.9,\n",
        "        'feature_fraction_seed': 1,\n",
        "        'max_bin': 510,\n",
        "        'max_depth': 20,\n",
        "        'num_rounds': 500,\n",
        "        'metric' : 'ndcg@20',\n",
        "    }\n",
        "\n",
        "model_f1 = lgb.train(params, train_set=train_set,  valid_sets=train_set)\n"
      ]
    },
    {
      "cell_type": "code",
      "execution_count": 105,
      "id": "690615d7",
      "metadata": {
        "execution": {
          "iopub.execute_input": "2023-12-13T19:36:08.281600Z",
          "iopub.status.busy": "2023-12-13T19:36:08.281181Z",
          "iopub.status.idle": "2023-12-13T19:36:53.351553Z",
          "shell.execute_reply": "2023-12-13T19:36:53.350409Z"
        },
        "papermill": {
          "duration": 45.167164,
          "end_time": "2023-12-13T19:36:53.400299",
          "exception": false,
          "start_time": "2023-12-13T19:36:08.233135",
          "status": "completed"
        },
        "tags": [],
        "colab": {
          "base_uri": "https://localhost:8080/",
          "height": 206
        },
        "id": "690615d7",
        "outputId": "a7cd08cb-d82a-4e14-edb8-bb3318f474ed"
      },
      "outputs": [
        {
          "output_type": "execute_result",
          "data": {
            "text/plain": [
              "   id    target\n",
              "0   0  0.569649\n",
              "1   1  0.657603\n",
              "2   2  0.084143\n",
              "3   3  0.116330\n",
              "4   4  0.083474"
            ],
            "text/html": [
              "\n",
              "  <div id=\"df-abab5597-84d4-469b-88da-ad193d056cbe\" class=\"colab-df-container\">\n",
              "    <div>\n",
              "<style scoped>\n",
              "    .dataframe tbody tr th:only-of-type {\n",
              "        vertical-align: middle;\n",
              "    }\n",
              "\n",
              "    .dataframe tbody tr th {\n",
              "        vertical-align: top;\n",
              "    }\n",
              "\n",
              "    .dataframe thead th {\n",
              "        text-align: right;\n",
              "    }\n",
              "</style>\n",
              "<table border=\"1\" class=\"dataframe\">\n",
              "  <thead>\n",
              "    <tr style=\"text-align: right;\">\n",
              "      <th></th>\n",
              "      <th>id</th>\n",
              "      <th>target</th>\n",
              "    </tr>\n",
              "  </thead>\n",
              "  <tbody>\n",
              "    <tr>\n",
              "      <th>0</th>\n",
              "      <td>0</td>\n",
              "      <td>0.569649</td>\n",
              "    </tr>\n",
              "    <tr>\n",
              "      <th>1</th>\n",
              "      <td>1</td>\n",
              "      <td>0.657603</td>\n",
              "    </tr>\n",
              "    <tr>\n",
              "      <th>2</th>\n",
              "      <td>2</td>\n",
              "      <td>0.084143</td>\n",
              "    </tr>\n",
              "    <tr>\n",
              "      <th>3</th>\n",
              "      <td>3</td>\n",
              "      <td>0.116330</td>\n",
              "    </tr>\n",
              "    <tr>\n",
              "      <th>4</th>\n",
              "      <td>4</td>\n",
              "      <td>0.083474</td>\n",
              "    </tr>\n",
              "  </tbody>\n",
              "</table>\n",
              "</div>\n",
              "    <div class=\"colab-df-buttons\">\n",
              "\n",
              "  <div class=\"colab-df-container\">\n",
              "    <button class=\"colab-df-convert\" onclick=\"convertToInteractive('df-abab5597-84d4-469b-88da-ad193d056cbe')\"\n",
              "            title=\"Convert this dataframe to an interactive table.\"\n",
              "            style=\"display:none;\">\n",
              "\n",
              "  <svg xmlns=\"http://www.w3.org/2000/svg\" height=\"24px\" viewBox=\"0 -960 960 960\">\n",
              "    <path d=\"M120-120v-720h720v720H120Zm60-500h600v-160H180v160Zm220 220h160v-160H400v160Zm0 220h160v-160H400v160ZM180-400h160v-160H180v160Zm440 0h160v-160H620v160ZM180-180h160v-160H180v160Zm440 0h160v-160H620v160Z\"/>\n",
              "  </svg>\n",
              "    </button>\n",
              "\n",
              "  <style>\n",
              "    .colab-df-container {\n",
              "      display:flex;\n",
              "      gap: 12px;\n",
              "    }\n",
              "\n",
              "    .colab-df-convert {\n",
              "      background-color: #E8F0FE;\n",
              "      border: none;\n",
              "      border-radius: 50%;\n",
              "      cursor: pointer;\n",
              "      display: none;\n",
              "      fill: #1967D2;\n",
              "      height: 32px;\n",
              "      padding: 0 0 0 0;\n",
              "      width: 32px;\n",
              "    }\n",
              "\n",
              "    .colab-df-convert:hover {\n",
              "      background-color: #E2EBFA;\n",
              "      box-shadow: 0px 1px 2px rgba(60, 64, 67, 0.3), 0px 1px 3px 1px rgba(60, 64, 67, 0.15);\n",
              "      fill: #174EA6;\n",
              "    }\n",
              "\n",
              "    .colab-df-buttons div {\n",
              "      margin-bottom: 4px;\n",
              "    }\n",
              "\n",
              "    [theme=dark] .colab-df-convert {\n",
              "      background-color: #3B4455;\n",
              "      fill: #D2E3FC;\n",
              "    }\n",
              "\n",
              "    [theme=dark] .colab-df-convert:hover {\n",
              "      background-color: #434B5C;\n",
              "      box-shadow: 0px 1px 3px 1px rgba(0, 0, 0, 0.15);\n",
              "      filter: drop-shadow(0px 1px 2px rgba(0, 0, 0, 0.3));\n",
              "      fill: #FFFFFF;\n",
              "    }\n",
              "  </style>\n",
              "\n",
              "    <script>\n",
              "      const buttonEl =\n",
              "        document.querySelector('#df-abab5597-84d4-469b-88da-ad193d056cbe button.colab-df-convert');\n",
              "      buttonEl.style.display =\n",
              "        google.colab.kernel.accessAllowed ? 'block' : 'none';\n",
              "\n",
              "      async function convertToInteractive(key) {\n",
              "        const element = document.querySelector('#df-abab5597-84d4-469b-88da-ad193d056cbe');\n",
              "        const dataTable =\n",
              "          await google.colab.kernel.invokeFunction('convertToInteractive',\n",
              "                                                    [key], {});\n",
              "        if (!dataTable) return;\n",
              "\n",
              "        const docLinkHtml = 'Like what you see? Visit the ' +\n",
              "          '<a target=\"_blank\" href=https://colab.research.google.com/notebooks/data_table.ipynb>data table notebook</a>'\n",
              "          + ' to learn more about interactive tables.';\n",
              "        element.innerHTML = '';\n",
              "        dataTable['output_type'] = 'display_data';\n",
              "        await google.colab.output.renderOutput(dataTable, element);\n",
              "        const docLink = document.createElement('div');\n",
              "        docLink.innerHTML = docLinkHtml;\n",
              "        element.appendChild(docLink);\n",
              "      }\n",
              "    </script>\n",
              "  </div>\n",
              "\n",
              "\n",
              "<div id=\"df-ee7bc875-b7e1-4da3-bc33-8bed5545af10\">\n",
              "  <button class=\"colab-df-quickchart\" onclick=\"quickchart('df-ee7bc875-b7e1-4da3-bc33-8bed5545af10')\"\n",
              "            title=\"Suggest charts\"\n",
              "            style=\"display:none;\">\n",
              "\n",
              "<svg xmlns=\"http://www.w3.org/2000/svg\" height=\"24px\"viewBox=\"0 0 24 24\"\n",
              "     width=\"24px\">\n",
              "    <g>\n",
              "        <path d=\"M19 3H5c-1.1 0-2 .9-2 2v14c0 1.1.9 2 2 2h14c1.1 0 2-.9 2-2V5c0-1.1-.9-2-2-2zM9 17H7v-7h2v7zm4 0h-2V7h2v10zm4 0h-2v-4h2v4z\"/>\n",
              "    </g>\n",
              "</svg>\n",
              "  </button>\n",
              "\n",
              "<style>\n",
              "  .colab-df-quickchart {\n",
              "      --bg-color: #E8F0FE;\n",
              "      --fill-color: #1967D2;\n",
              "      --hover-bg-color: #E2EBFA;\n",
              "      --hover-fill-color: #174EA6;\n",
              "      --disabled-fill-color: #AAA;\n",
              "      --disabled-bg-color: #DDD;\n",
              "  }\n",
              "\n",
              "  [theme=dark] .colab-df-quickchart {\n",
              "      --bg-color: #3B4455;\n",
              "      --fill-color: #D2E3FC;\n",
              "      --hover-bg-color: #434B5C;\n",
              "      --hover-fill-color: #FFFFFF;\n",
              "      --disabled-bg-color: #3B4455;\n",
              "      --disabled-fill-color: #666;\n",
              "  }\n",
              "\n",
              "  .colab-df-quickchart {\n",
              "    background-color: var(--bg-color);\n",
              "    border: none;\n",
              "    border-radius: 50%;\n",
              "    cursor: pointer;\n",
              "    display: none;\n",
              "    fill: var(--fill-color);\n",
              "    height: 32px;\n",
              "    padding: 0;\n",
              "    width: 32px;\n",
              "  }\n",
              "\n",
              "  .colab-df-quickchart:hover {\n",
              "    background-color: var(--hover-bg-color);\n",
              "    box-shadow: 0 1px 2px rgba(60, 64, 67, 0.3), 0 1px 3px 1px rgba(60, 64, 67, 0.15);\n",
              "    fill: var(--button-hover-fill-color);\n",
              "  }\n",
              "\n",
              "  .colab-df-quickchart-complete:disabled,\n",
              "  .colab-df-quickchart-complete:disabled:hover {\n",
              "    background-color: var(--disabled-bg-color);\n",
              "    fill: var(--disabled-fill-color);\n",
              "    box-shadow: none;\n",
              "  }\n",
              "\n",
              "  .colab-df-spinner {\n",
              "    border: 2px solid var(--fill-color);\n",
              "    border-color: transparent;\n",
              "    border-bottom-color: var(--fill-color);\n",
              "    animation:\n",
              "      spin 1s steps(1) infinite;\n",
              "  }\n",
              "\n",
              "  @keyframes spin {\n",
              "    0% {\n",
              "      border-color: transparent;\n",
              "      border-bottom-color: var(--fill-color);\n",
              "      border-left-color: var(--fill-color);\n",
              "    }\n",
              "    20% {\n",
              "      border-color: transparent;\n",
              "      border-left-color: var(--fill-color);\n",
              "      border-top-color: var(--fill-color);\n",
              "    }\n",
              "    30% {\n",
              "      border-color: transparent;\n",
              "      border-left-color: var(--fill-color);\n",
              "      border-top-color: var(--fill-color);\n",
              "      border-right-color: var(--fill-color);\n",
              "    }\n",
              "    40% {\n",
              "      border-color: transparent;\n",
              "      border-right-color: var(--fill-color);\n",
              "      border-top-color: var(--fill-color);\n",
              "    }\n",
              "    60% {\n",
              "      border-color: transparent;\n",
              "      border-right-color: var(--fill-color);\n",
              "    }\n",
              "    80% {\n",
              "      border-color: transparent;\n",
              "      border-right-color: var(--fill-color);\n",
              "      border-bottom-color: var(--fill-color);\n",
              "    }\n",
              "    90% {\n",
              "      border-color: transparent;\n",
              "      border-bottom-color: var(--fill-color);\n",
              "    }\n",
              "  }\n",
              "</style>\n",
              "\n",
              "  <script>\n",
              "    async function quickchart(key) {\n",
              "      const quickchartButtonEl =\n",
              "        document.querySelector('#' + key + ' button');\n",
              "      quickchartButtonEl.disabled = true;  // To prevent multiple clicks.\n",
              "      quickchartButtonEl.classList.add('colab-df-spinner');\n",
              "      try {\n",
              "        const charts = await google.colab.kernel.invokeFunction(\n",
              "            'suggestCharts', [key], {});\n",
              "      } catch (error) {\n",
              "        console.error('Error during call to suggestCharts:', error);\n",
              "      }\n",
              "      quickchartButtonEl.classList.remove('colab-df-spinner');\n",
              "      quickchartButtonEl.classList.add('colab-df-quickchart-complete');\n",
              "    }\n",
              "    (() => {\n",
              "      let quickchartButtonEl =\n",
              "        document.querySelector('#df-ee7bc875-b7e1-4da3-bc33-8bed5545af10 button');\n",
              "      quickchartButtonEl.style.display =\n",
              "        google.colab.kernel.accessAllowed ? 'block' : 'none';\n",
              "    })();\n",
              "  </script>\n",
              "</div>\n",
              "    </div>\n",
              "  </div>\n"
            ],
            "application/vnd.google.colaboratory.intrinsic+json": {
              "type": "dataframe",
              "variable_name": "sub"
            }
          },
          "metadata": {},
          "execution_count": 105
        }
      ],
      "source": [
        "predictions = model_f1.predict(pd.DataFrame(test_data).values)\n",
        "sub = pd.DataFrame()\n",
        "sub['id'] = test_df['id']\n",
        "sub['target'] = predictions\n",
        "sub.to_csv('submission.csv',index=False)\n",
        "sub.head()"
      ]
    },
    {
      "cell_type": "code",
      "source": [],
      "metadata": {
        "id": "_67mAkELV7XT"
      },
      "id": "_67mAkELV7XT",
      "execution_count": null,
      "outputs": []
    }
  ],
  "metadata": {
    "kaggle": {
      "accelerator": "none",
      "dataSources": [
        {
          "databundleVersionId": 44320,
          "sourceId": 7162,
          "sourceType": "competition"
        }
      ],
      "dockerImageVersionId": 30615,
      "isGpuEnabled": false,
      "isInternetEnabled": true,
      "language": "python",
      "sourceType": "notebook"
    },
    "kernelspec": {
      "display_name": "Python 3",
      "language": "python",
      "name": "python3"
    },
    "language_info": {
      "codemirror_mode": {
        "name": "ipython",
        "version": 3
      },
      "file_extension": ".py",
      "mimetype": "text/x-python",
      "name": "python",
      "nbconvert_exporter": "python",
      "pygments_lexer": "ipython3",
      "version": "3.10.12"
    },
    "papermill": {
      "default_parameters": {},
      "duration": 2052.609369,
      "end_time": "2023-12-13T19:36:55.180389",
      "environment_variables": {},
      "exception": null,
      "input_path": "__notebook__.ipynb",
      "output_path": "__notebook__.ipynb",
      "parameters": {},
      "start_time": "2023-12-13T19:02:42.571020",
      "version": "2.4.0"
    },
    "colab": {
      "provenance": []
    }
  },
  "nbformat": 4,
  "nbformat_minor": 5
}